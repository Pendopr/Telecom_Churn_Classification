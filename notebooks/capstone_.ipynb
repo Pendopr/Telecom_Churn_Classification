{
 "cells": [
  {
   "cell_type": "code",
   "execution_count": 1,
   "id": "978df26f",
   "metadata": {
    "colab": {
     "base_uri": "https://localhost:8080/"
    },
    "executionInfo": {
     "elapsed": 14404,
     "status": "ok",
     "timestamp": 1687290139346,
     "user": {
      "displayName": "Penina Randu",
      "userId": "09001762240323440784"
     },
     "user_tz": -180
    },
    "id": "978df26f",
    "outputId": "dd183819-6f67-4c24-dc6a-c571004ac34a",
    "scrolled": false
   },
   "outputs": [
    {
     "name": "stdout",
     "output_type": "stream",
     "text": [
      "Looking in indexes: https://pypi.org/simple, https://us-python.pkg.dev/colab-wheels/public/simple/\n",
      "Collecting catboost\n",
      "  Downloading catboost-1.2-cp310-cp310-manylinux2014_x86_64.whl (98.6 MB)\n",
      "\u001b[2K     \u001b[90m━━━━━━━━━━━━━━━━━━━━━━━━━━━━━━━━━━━━━━━━\u001b[0m \u001b[32m98.6/98.6 MB\u001b[0m \u001b[31m8.2 MB/s\u001b[0m eta \u001b[36m0:00:00\u001b[0m\n",
      "\u001b[?25hRequirement already satisfied: graphviz in /usr/local/lib/python3.10/dist-packages (from catboost) (0.20.1)\n",
      "Requirement already satisfied: matplotlib in /usr/local/lib/python3.10/dist-packages (from catboost) (3.7.1)\n",
      "Requirement already satisfied: numpy>=1.16.0 in /usr/local/lib/python3.10/dist-packages (from catboost) (1.22.4)\n",
      "Requirement already satisfied: pandas>=0.24 in /usr/local/lib/python3.10/dist-packages (from catboost) (1.5.3)\n",
      "Requirement already satisfied: scipy in /usr/local/lib/python3.10/dist-packages (from catboost) (1.10.1)\n",
      "Requirement already satisfied: plotly in /usr/local/lib/python3.10/dist-packages (from catboost) (5.13.1)\n",
      "Requirement already satisfied: six in /usr/local/lib/python3.10/dist-packages (from catboost) (1.16.0)\n",
      "Requirement already satisfied: python-dateutil>=2.8.1 in /usr/local/lib/python3.10/dist-packages (from pandas>=0.24->catboost) (2.8.2)\n",
      "Requirement already satisfied: pytz>=2020.1 in /usr/local/lib/python3.10/dist-packages (from pandas>=0.24->catboost) (2022.7.1)\n",
      "Requirement already satisfied: contourpy>=1.0.1 in /usr/local/lib/python3.10/dist-packages (from matplotlib->catboost) (1.0.7)\n",
      "Requirement already satisfied: cycler>=0.10 in /usr/local/lib/python3.10/dist-packages (from matplotlib->catboost) (0.11.0)\n",
      "Requirement already satisfied: fonttools>=4.22.0 in /usr/local/lib/python3.10/dist-packages (from matplotlib->catboost) (4.39.3)\n",
      "Requirement already satisfied: kiwisolver>=1.0.1 in /usr/local/lib/python3.10/dist-packages (from matplotlib->catboost) (1.4.4)\n",
      "Requirement already satisfied: packaging>=20.0 in /usr/local/lib/python3.10/dist-packages (from matplotlib->catboost) (23.1)\n",
      "Requirement already satisfied: pillow>=6.2.0 in /usr/local/lib/python3.10/dist-packages (from matplotlib->catboost) (8.4.0)\n",
      "Requirement already satisfied: pyparsing>=2.3.1 in /usr/local/lib/python3.10/dist-packages (from matplotlib->catboost) (3.0.9)\n",
      "Requirement already satisfied: tenacity>=6.2.0 in /usr/local/lib/python3.10/dist-packages (from plotly->catboost) (8.2.2)\n",
      "Installing collected packages: catboost\n",
      "Successfully installed catboost-1.2\n"
     ]
    }
   ],
   "source": [
    "#pip install catboost"
   ]
  },
  {
   "cell_type": "code",
   "execution_count": 2,
   "id": "jgyQKbFdU79x",
   "metadata": {
    "colab": {
     "base_uri": "https://localhost:8080/"
    },
    "executionInfo": {
     "elapsed": 25537,
     "status": "ok",
     "timestamp": 1687290181199,
     "user": {
      "displayName": "Penina Randu",
      "userId": "09001762240323440784"
     },
     "user_tz": -180
    },
    "id": "jgyQKbFdU79x",
    "outputId": "ea67af4e-aa6b-41f9-bede-07eb5115003c"
   },
   "outputs": [
    {
     "name": "stdout",
     "output_type": "stream",
     "text": [
      "Mounted at /content/drive\n"
     ]
    }
   ],
   "source": [
    "from google.colab import drive\n",
    "drive.mount('/content/drive')"
   ]
  },
  {
   "cell_type": "code",
   "execution_count": 2,
   "id": "cdaaf448",
   "metadata": {
    "executionInfo": {
     "elapsed": 3649,
     "status": "ok",
     "timestamp": 1687297915065,
     "user": {
      "displayName": "Penina Randu",
      "userId": "09001762240323440784"
     },
     "user_tz": -180
    },
    "id": "cdaaf448"
   },
   "outputs": [],
   "source": [
    "#importing packages\n",
    "import pandas as pd\n",
    "import numpy as np\n",
    "import seaborn as sns\n",
    "from matplotlib import pyplot as plt\n",
    "\n",
    "#data processing\n",
    "from sklearn.model_selection import train_test_split, GridSearchCV, StratifiedKFold, cross_val_score\n",
    "from sklearn.impute import SimpleImputer\n",
    "from sklearn.preprocessing import OneHotEncoder,MinMaxScaler\n",
    "from imblearn.over_sampling import SMOTE\n",
    "from statsmodels.stats.outliers_influence import variance_inflation_factor\n",
    "\n",
    "# importing models\n",
    "from sklearn.linear_model import LogisticRegression\n",
    "from sklearn.ensemble import RandomForestClassifier, GradientBoostingClassifier\n",
    "from sklearn.tree import DecisionTreeClassifier\n",
    "from sklearn.naive_bayes import GaussianNB, ComplementNB\n",
    "import xgboost as xgb\n",
    "from catboost import CatBoostClassifier\n",
    "\n",
    "\n",
    "#Evaluation metrics\n",
    "from sklearn.metrics import roc_auc_score,log_loss\n",
    "\n",
    "\n",
    "import warnings\n",
    "warnings.filterwarnings('ignore')\n",
    "\n",
    "# Other packages\n",
    "from joblib import dump\n",
    "import os"
   ]
  },
  {
   "attachments": {},
   "cell_type": "markdown",
   "id": "1eceb37b",
   "metadata": {
    "id": "1eceb37b"
   },
   "source": [
    "## Feature Processing & Engineering\n",
    "Here is the section to clean, process the dataset and create new features."
   ]
  },
  {
   "cell_type": "code",
   "execution_count": 5,
   "id": "a76aeb0a",
   "metadata": {
    "colab": {
     "base_uri": "https://localhost:8080/",
     "height": 374
    },
    "executionInfo": {
     "elapsed": 5123,
     "status": "ok",
     "timestamp": 1687290342254,
     "user": {
      "displayName": "Penina Randu",
      "userId": "09001762240323440784"
     },
     "user_tz": -180
    },
    "id": "a76aeb0a",
    "outputId": "b65cbcab-4551-43eb-8cc2-50a1ecc71dd2"
   },
   "outputs": [
    {
     "data": {
      "text/html": [
       "\n",
       "  <div id=\"df-565a1f70-8420-4e72-9086-6fcf13e15d27\">\n",
       "    <div class=\"colab-df-container\">\n",
       "      <div>\n",
       "<style scoped>\n",
       "    .dataframe tbody tr th:only-of-type {\n",
       "        vertical-align: middle;\n",
       "    }\n",
       "\n",
       "    .dataframe tbody tr th {\n",
       "        vertical-align: top;\n",
       "    }\n",
       "\n",
       "    .dataframe thead th {\n",
       "        text-align: right;\n",
       "    }\n",
       "</style>\n",
       "<table border=\"1\" class=\"dataframe\">\n",
       "  <thead>\n",
       "    <tr style=\"text-align: right;\">\n",
       "      <th></th>\n",
       "      <th>user_id</th>\n",
       "      <th>REGION</th>\n",
       "      <th>TENURE</th>\n",
       "      <th>MONTANT</th>\n",
       "      <th>FREQUENCE_RECH</th>\n",
       "      <th>REVENUE</th>\n",
       "      <th>ARPU_SEGMENT</th>\n",
       "      <th>FREQUENCE</th>\n",
       "      <th>DATA_VOLUME</th>\n",
       "      <th>ON_NET</th>\n",
       "      <th>ORANGE</th>\n",
       "      <th>TIGO</th>\n",
       "      <th>ZONE1</th>\n",
       "      <th>ZONE2</th>\n",
       "      <th>MRG</th>\n",
       "      <th>REGULARITY</th>\n",
       "      <th>TOP_PACK</th>\n",
       "      <th>FREQ_TOP_PACK</th>\n",
       "      <th>CHURN</th>\n",
       "    </tr>\n",
       "  </thead>\n",
       "  <tbody>\n",
       "    <tr>\n",
       "      <th>0</th>\n",
       "      <td>7ee9e11e342e27c70455960acc80d3f91c1286d1</td>\n",
       "      <td>DAKAR</td>\n",
       "      <td>K &gt; 24 month</td>\n",
       "      <td>20000.0</td>\n",
       "      <td>47.0</td>\n",
       "      <td>21602.0</td>\n",
       "      <td>7201.0</td>\n",
       "      <td>52.0</td>\n",
       "      <td>8835.0</td>\n",
       "      <td>3391.0</td>\n",
       "      <td>396.0</td>\n",
       "      <td>185.0</td>\n",
       "      <td>NaN</td>\n",
       "      <td>NaN</td>\n",
       "      <td>NO</td>\n",
       "      <td>62</td>\n",
       "      <td>On net 200F=Unlimited _call24H</td>\n",
       "      <td>30.0</td>\n",
       "      <td>0</td>\n",
       "    </tr>\n",
       "    <tr>\n",
       "      <th>1</th>\n",
       "      <td>50443f42bdc92b10388fc56e520e4421a5fa655c</td>\n",
       "      <td>NaN</td>\n",
       "      <td>K &gt; 24 month</td>\n",
       "      <td>NaN</td>\n",
       "      <td>NaN</td>\n",
       "      <td>NaN</td>\n",
       "      <td>NaN</td>\n",
       "      <td>NaN</td>\n",
       "      <td>NaN</td>\n",
       "      <td>NaN</td>\n",
       "      <td>NaN</td>\n",
       "      <td>NaN</td>\n",
       "      <td>NaN</td>\n",
       "      <td>NaN</td>\n",
       "      <td>NO</td>\n",
       "      <td>3</td>\n",
       "      <td>NaN</td>\n",
       "      <td>NaN</td>\n",
       "      <td>0</td>\n",
       "    </tr>\n",
       "    <tr>\n",
       "      <th>2</th>\n",
       "      <td>da90b5c1a9b204c186079f89969aa01cb03c91b2</td>\n",
       "      <td>NaN</td>\n",
       "      <td>K &gt; 24 month</td>\n",
       "      <td>NaN</td>\n",
       "      <td>NaN</td>\n",
       "      <td>NaN</td>\n",
       "      <td>NaN</td>\n",
       "      <td>NaN</td>\n",
       "      <td>NaN</td>\n",
       "      <td>NaN</td>\n",
       "      <td>NaN</td>\n",
       "      <td>NaN</td>\n",
       "      <td>NaN</td>\n",
       "      <td>NaN</td>\n",
       "      <td>NO</td>\n",
       "      <td>1</td>\n",
       "      <td>NaN</td>\n",
       "      <td>NaN</td>\n",
       "      <td>0</td>\n",
       "    </tr>\n",
       "    <tr>\n",
       "      <th>3</th>\n",
       "      <td>364ec1b424cdc64c25441a444a16930289a0051e</td>\n",
       "      <td>SAINT-LOUIS</td>\n",
       "      <td>K &gt; 24 month</td>\n",
       "      <td>7900.0</td>\n",
       "      <td>19.0</td>\n",
       "      <td>7896.0</td>\n",
       "      <td>2632.0</td>\n",
       "      <td>25.0</td>\n",
       "      <td>9385.0</td>\n",
       "      <td>27.0</td>\n",
       "      <td>46.0</td>\n",
       "      <td>20.0</td>\n",
       "      <td>NaN</td>\n",
       "      <td>2.0</td>\n",
       "      <td>NO</td>\n",
       "      <td>61</td>\n",
       "      <td>Data:490F=1GB,7d</td>\n",
       "      <td>7.0</td>\n",
       "      <td>0</td>\n",
       "    </tr>\n",
       "    <tr>\n",
       "      <th>4</th>\n",
       "      <td>d5a5247005bc6d41d3d99f4ef312ebb5f640f2cb</td>\n",
       "      <td>DAKAR</td>\n",
       "      <td>K &gt; 24 month</td>\n",
       "      <td>12350.0</td>\n",
       "      <td>21.0</td>\n",
       "      <td>12351.0</td>\n",
       "      <td>4117.0</td>\n",
       "      <td>29.0</td>\n",
       "      <td>9360.0</td>\n",
       "      <td>66.0</td>\n",
       "      <td>102.0</td>\n",
       "      <td>34.0</td>\n",
       "      <td>NaN</td>\n",
       "      <td>NaN</td>\n",
       "      <td>NO</td>\n",
       "      <td>56</td>\n",
       "      <td>All-net 500F=2000F;5d</td>\n",
       "      <td>11.0</td>\n",
       "      <td>0</td>\n",
       "    </tr>\n",
       "  </tbody>\n",
       "</table>\n",
       "</div>\n",
       "      <button class=\"colab-df-convert\" onclick=\"convertToInteractive('df-565a1f70-8420-4e72-9086-6fcf13e15d27')\"\n",
       "              title=\"Convert this dataframe to an interactive table.\"\n",
       "              style=\"display:none;\">\n",
       "        \n",
       "  <svg xmlns=\"http://www.w3.org/2000/svg\" height=\"24px\"viewBox=\"0 0 24 24\"\n",
       "       width=\"24px\">\n",
       "    <path d=\"M0 0h24v24H0V0z\" fill=\"none\"/>\n",
       "    <path d=\"M18.56 5.44l.94 2.06.94-2.06 2.06-.94-2.06-.94-.94-2.06-.94 2.06-2.06.94zm-11 1L8.5 8.5l.94-2.06 2.06-.94-2.06-.94L8.5 2.5l-.94 2.06-2.06.94zm10 10l.94 2.06.94-2.06 2.06-.94-2.06-.94-.94-2.06-.94 2.06-2.06.94z\"/><path d=\"M17.41 7.96l-1.37-1.37c-.4-.4-.92-.59-1.43-.59-.52 0-1.04.2-1.43.59L10.3 9.45l-7.72 7.72c-.78.78-.78 2.05 0 2.83L4 21.41c.39.39.9.59 1.41.59.51 0 1.02-.2 1.41-.59l7.78-7.78 2.81-2.81c.8-.78.8-2.07 0-2.86zM5.41 20L4 18.59l7.72-7.72 1.47 1.35L5.41 20z\"/>\n",
       "  </svg>\n",
       "      </button>\n",
       "      \n",
       "  <style>\n",
       "    .colab-df-container {\n",
       "      display:flex;\n",
       "      flex-wrap:wrap;\n",
       "      gap: 12px;\n",
       "    }\n",
       "\n",
       "    .colab-df-convert {\n",
       "      background-color: #E8F0FE;\n",
       "      border: none;\n",
       "      border-radius: 50%;\n",
       "      cursor: pointer;\n",
       "      display: none;\n",
       "      fill: #1967D2;\n",
       "      height: 32px;\n",
       "      padding: 0 0 0 0;\n",
       "      width: 32px;\n",
       "    }\n",
       "\n",
       "    .colab-df-convert:hover {\n",
       "      background-color: #E2EBFA;\n",
       "      box-shadow: 0px 1px 2px rgba(60, 64, 67, 0.3), 0px 1px 3px 1px rgba(60, 64, 67, 0.15);\n",
       "      fill: #174EA6;\n",
       "    }\n",
       "\n",
       "    [theme=dark] .colab-df-convert {\n",
       "      background-color: #3B4455;\n",
       "      fill: #D2E3FC;\n",
       "    }\n",
       "\n",
       "    [theme=dark] .colab-df-convert:hover {\n",
       "      background-color: #434B5C;\n",
       "      box-shadow: 0px 1px 3px 1px rgba(0, 0, 0, 0.15);\n",
       "      filter: drop-shadow(0px 1px 2px rgba(0, 0, 0, 0.3));\n",
       "      fill: #FFFFFF;\n",
       "    }\n",
       "  </style>\n",
       "\n",
       "      <script>\n",
       "        const buttonEl =\n",
       "          document.querySelector('#df-565a1f70-8420-4e72-9086-6fcf13e15d27 button.colab-df-convert');\n",
       "        buttonEl.style.display =\n",
       "          google.colab.kernel.accessAllowed ? 'block' : 'none';\n",
       "\n",
       "        async function convertToInteractive(key) {\n",
       "          const element = document.querySelector('#df-565a1f70-8420-4e72-9086-6fcf13e15d27');\n",
       "          const dataTable =\n",
       "            await google.colab.kernel.invokeFunction('convertToInteractive',\n",
       "                                                     [key], {});\n",
       "          if (!dataTable) return;\n",
       "\n",
       "          const docLinkHtml = 'Like what you see? Visit the ' +\n",
       "            '<a target=\"_blank\" href=https://colab.research.google.com/notebooks/data_table.ipynb>data table notebook</a>'\n",
       "            + ' to learn more about interactive tables.';\n",
       "          element.innerHTML = '';\n",
       "          dataTable['output_type'] = 'display_data';\n",
       "          await google.colab.output.renderOutput(dataTable, element);\n",
       "          const docLink = document.createElement('div');\n",
       "          docLink.innerHTML = docLinkHtml;\n",
       "          element.appendChild(docLink);\n",
       "        }\n",
       "      </script>\n",
       "    </div>\n",
       "  </div>\n",
       "  "
      ],
      "text/plain": [
       "                                    user_id       REGION        TENURE  \\\n",
       "0  7ee9e11e342e27c70455960acc80d3f91c1286d1        DAKAR  K > 24 month   \n",
       "1  50443f42bdc92b10388fc56e520e4421a5fa655c          NaN  K > 24 month   \n",
       "2  da90b5c1a9b204c186079f89969aa01cb03c91b2          NaN  K > 24 month   \n",
       "3  364ec1b424cdc64c25441a444a16930289a0051e  SAINT-LOUIS  K > 24 month   \n",
       "4  d5a5247005bc6d41d3d99f4ef312ebb5f640f2cb        DAKAR  K > 24 month   \n",
       "\n",
       "   MONTANT  FREQUENCE_RECH  REVENUE  ARPU_SEGMENT  FREQUENCE  DATA_VOLUME  \\\n",
       "0  20000.0            47.0  21602.0        7201.0       52.0       8835.0   \n",
       "1      NaN             NaN      NaN           NaN        NaN          NaN   \n",
       "2      NaN             NaN      NaN           NaN        NaN          NaN   \n",
       "3   7900.0            19.0   7896.0        2632.0       25.0       9385.0   \n",
       "4  12350.0            21.0  12351.0        4117.0       29.0       9360.0   \n",
       "\n",
       "   ON_NET  ORANGE   TIGO  ZONE1  ZONE2 MRG  REGULARITY  \\\n",
       "0  3391.0   396.0  185.0    NaN    NaN  NO          62   \n",
       "1     NaN     NaN    NaN    NaN    NaN  NO           3   \n",
       "2     NaN     NaN    NaN    NaN    NaN  NO           1   \n",
       "3    27.0    46.0   20.0    NaN    2.0  NO          61   \n",
       "4    66.0   102.0   34.0    NaN    NaN  NO          56   \n",
       "\n",
       "                         TOP_PACK  FREQ_TOP_PACK  CHURN  \n",
       "0  On net 200F=Unlimited _call24H           30.0      0  \n",
       "1                             NaN            NaN      0  \n",
       "2                             NaN            NaN      0  \n",
       "3                Data:490F=1GB,7d            7.0      0  \n",
       "4           All-net 500F=2000F;5d           11.0      0  "
      ]
     },
     "execution_count": 5,
     "metadata": {},
     "output_type": "execute_result"
    }
   ],
   "source": [
    "# Now you can use the data_file_path variable to access the data file\n",
    "\n",
    "# Load the data file using the data_file_path\n",
    "customer_data = pd.read_csv('/content/drive/MyDrive/Capstone/Data/Train.csv')\n",
    "\n",
    "pd.set_option('display.max_columns',None)\n",
    "\n",
    "# Now you can work with the loaded data\n",
    "# For example, you can print the first few rows\n",
    "customer_data.head()\n"
   ]
  },
  {
   "attachments": {},
   "cell_type": "markdown",
   "id": "e2ab05a1",
   "metadata": {
    "id": "e2ab05a1"
   },
   "source": [
    "Long-term: Includes tenures greater than 24 months.\\\n",
    "Medium-term: Includes tenures ranging from 18 to 24 months.\\\n",
    "Mid-term: Includes tenures ranging from 12 to 18 months.\\\n",
    "Short-term: Includes tenures ranging from 6 to 12 months.\\\n",
    "Very short-term: Includes tenures less than 6 months.\n"
   ]
  },
  {
   "cell_type": "code",
   "execution_count": 6,
   "id": "b5b6debd",
   "metadata": {
    "executionInfo": {
     "elapsed": 386,
     "status": "ok",
     "timestamp": 1687290348116,
     "user": {
      "displayName": "Penina Randu",
      "userId": "09001762240323440784"
     },
     "user_tz": -180
    },
    "id": "b5b6debd"
   },
   "outputs": [],
   "source": [
    "tenure_mapping_cat = {\n",
    "    'K > 24 month': 'Long-term',\n",
    "    'E 6-9 month': 'Short-term',\n",
    "    'H 15-18 month': 'Mid-term',\n",
    "    'G 12-15 month': 'Mid-term',\n",
    "    'I 18-21 month': 'Medium-term',\n",
    "    'J 21-24 month': 'Medium-term',\n",
    "    'F 9-12 month': 'Short-term',\n",
    "    'D 3-6 month': 'Very short-term'\n",
    "}\n",
    "# Map the values using the dictionary\n",
    "customer_data['TENURE'] = customer_data['TENURE'].map(tenure_mapping_cat)"
   ]
  },
  {
   "attachments": {},
   "cell_type": "markdown",
   "id": "5a572f1b",
   "metadata": {
    "id": "5a572f1b"
   },
   "source": [
    "The reasoning behind the mapping is as follows:\n",
    "\n",
    "Voice: Categories such as 'On net', 'All-net', 'IVR', 'Mixt', 'CVM', 'Pilot', 'YMGX', 'Incoming', 'EVC', 'Staff', '305155009', 'pack', 'Postpaid', '301765007' primarily involve voice-related services, including voice calls and voice-based interactions.\n",
    "\n",
    "Data: Categories starting with 'Data' indicate data-related services, which involve data usage, data packages, or data allowances.\n",
    "\n",
    "Social Media: Categories like 'Twter' and 'Facebook' are associated with specific social media platforms.\n",
    "\n",
    "Value Added Service: Categories such as 'VAS', 'MROMO', 'Jokko', 'FIFA', 'APANews' represent various value-added services provided by the telecom company. These services can include entertainment, news, promotions, and other additional features.\n",
    "\n",
    "International: Categories starting with 'Internat' indicate international services or packages.\n",
    "\n",
    "Messaging: The category 'SMS Max' represents messaging services or SMS-related packages.\n",
    "\n",
    "By mapping the categories to these supercategories, you can simplify the analysis and grouping of services based on broader categories. This can help in identifying patterns, analyzing service usage, and making data-driven decisions related to specific service categories.\n"
   ]
  },
  {
   "cell_type": "code",
   "execution_count": 7,
   "id": "a69c3266",
   "metadata": {
    "executionInfo": {
     "elapsed": 840,
     "status": "ok",
     "timestamp": 1687290353613,
     "user": {
      "displayName": "Penina Randu",
      "userId": "09001762240323440784"
     },
     "user_tz": -180
    },
    "id": "a69c3266"
   },
   "outputs": [],
   "source": [
    "voice =['On net 200F=Unlimited _call24H','All-net 500F=2000F;5d','On-net 500=4000,10d','On-net 500F_FNF;3d','On-net 300F=1800F;3d'\n",
    "         'On-net 200F=60mn;1d','On net 200F= 3000F_10Mo ;24H','On-net 1000F=10MilF;10d','MIXT:500F= 2500F on net _2500F off net;2d',\n",
    "         'MIXT: 390F=04HOn-net_400SMS_400 Mo;4h\\t','MIXT: 200mnoff net _unl on net _5Go;30d','MIXT: 590F=02H_On-net_200SMS_200 Mo;24h\\t\\t',\n",
    "         'MIXT:10000F=10hAllnet_3Go_1h_Zone3;30d\\t\\t','MIXT: 5000F=80Konnet_20Koffnet_250Mo;30d\\t\\t','Mixt : 500F=2500Fonnet_2500Foffnet ;5d','200F=10mnOnNetValid1H',\n",
    "         '500=Unlimited3Day','150=unlimited pilot auto','CVM_100F_unlimited','CVM_100f=200 MB','CVM_100f=500 onNet','CVM_150F_unlimited',\n",
    "         'CVM_200f=400MB','CVM_500f=2GB','CVM_On-net 400f=2200F','CVM_On-net 1300f=12500','EVC_100Mo','EVC_1Go','EVC_4900=12000F','EVC_500=2000F','EVC_700Mo',\n",
    "         'EVC_JOKKO30','EVC_Jokko_Weekly','FNF2 ( JAPPANTE)','GPRS_3000Equal10GPORTAL','GPRS_PKG_5GO_ILLIMITE''NEW_CLIR_PERMANENT_LIBERTE_MOBILE',\n",
    "         'NEW_CLIR_TEMPALLOWED_LIBERTE_MOBILE','Pilot_Youth1_290','Pilot_Youth4_490','Postpaid FORFAIT 10H Package','Staff_CPE_Rent','SUPERMAGIK_1000','SUPERMAGIK_5000',\n",
    "         'WIFI_ Family _10MBPS','WIFI_ Family _4MBPS','YMGX 100=1 hour FNF, 24H/1 month','YMGX on-net 100=700F, 24H','Yewouleen_PKG','301765007','305155009',\n",
    "        'Mixt 250F=Unlimited_call24H','All-net 500F =2000F_AllNet_Unlimited','All-net 600F= 3000F ;5d','On-net 200F=60mn;1d','200=Unlimited1Day',\n",
    "        'All-net 1000=5000;5d', 'All-net 1000F=(3000F On+3000F Off);5d','All-net 500F=1250F_AllNet_1250_Onnet;48h','On-net 300F=1800F;3d',\n",
    "        'MIXT:1000F=4250 Off net _ 4250F On net _100Mo; 5d','CVM_on-net bundle 500=5000', 'All-net 300=600;2d','IVR Echat_Weekly_200F',\n",
    "        'MIXT: 500F=75(SMS, ONNET, Mo)_1000FAllNet;24h\\t\\t','On-net 2000f_One_Month_100H; 30d','TelmunCRBT_daily','pilot_offer6',\n",
    "        'All-net 5000= 20000off+20000on;30d', 'All-net 500F=4000F ; 5d','Incoming_Bonus_woma', '1000=Unlimited7Day','MIXT: 4900F= 10H on net_1,5Go ;30d',\n",
    "       'pilot_offer4','All-net 500= 4000off+4000on;24H','1500=Unlimited7Day','200=unlimited pilot auto']\n",
    "customer_data['TOP_PACK'] = np.where(customer_data['TOP_PACK'].isin(voice), 'voice', customer_data['TOP_PACK'])\n",
    "\n",
    "\n",
    "data_services = ['Data','DataPack_Incoming','Data_EVC_2Go24H','Data_Mifi_20Go','Data_Mifi_10Go_Monthly','Data:490F=1GB,7d','Data: 100 F=40MB,24H',\n",
    "                'Data:3000F=10GB,30d','Data:200F=Unlimited,24H','Data:1000F=2GB,30d','Data:200 F=100MB,24H','Data:700F=1.5GB,7d','Data:1000F=5GB,7d','Data:700F=1.5GB,7d',\n",
    "                'Data:150F=SPPackage1,24H','Data:1500F=3GB,30D','Data:300F=100MB,2d','Data:500F=2GB,24H','Data: 490F=Night,00H-08H',\n",
    "                'Data:DailyCycle_Pilot_1.5GB','Data:50F=30MB_24H','Data:700F=SPPackage1,7d','Data: 200F=1GB,24H','Data:OneTime_Pilot_1.5GB''Data:1500F=3GB,30D',\n",
    "                'Data:300F=100MB,2d','Data:500F=2GB,24H','Data: 490F=Night,00H-08H','Data: 200 F=100MB,24H','Data:1500F=SPPackage1,30d',\n",
    "                'WIFI_Family_2MBPS','Data:OneTime_Pilot_1.5GB']\n",
    "customer_data['TOP_PACK'] = np.where(customer_data['TOP_PACK'].isin(data_services), 'data', customer_data['TOP_PACK'])\n",
    "\n",
    "\n",
    "vas_services = ['IVR Echat_Daily_50F','IVR Echat_Monthly_500F','VAS(IVR_Radio_Daily)','VAS(IVR_Radio_Monthly)','VAS(IVR_Radio_Weekly)',\n",
    "                'MROMO_TIMWES_RENEW','MROMO_TIMWES_OneDAY', 'Jokko_Daily','Jokko_Monthly','Jokko_promo','FIFA_TS_daily',\n",
    "                'FIFA_TS_weekly','APANews_weekly','APANews_monthly','Jokko_Weekly','Data:30Go_V 30_Days']\n",
    "customer_data['TOP_PACK'] = np.where(customer_data['TOP_PACK'].isin(vas_services), 'value_added_services', customer_data['TOP_PACK'])\n",
    "\n",
    "\n",
    "social_media_services =['Twter_U2opia_Daily','Twter_U2opia_Weekly','Twter_U2opia_Monthly','Facebook_MIX_2D']\n",
    "customer_data['TOP_PACK'] = np.where(customer_data['TOP_PACK'].isin(social_media_services), 'social_media', customer_data['TOP_PACK'])\n",
    "\n",
    "\n",
    "international_services = ['Internat: 1000F_Zone_1;24H','Internat: 1000F_Zone_3;24h','Internat: 2000F_Zone_2;24H','Internat: 1000F_Zone_1;24H\\t\\t',\n",
    "                          'Internat: 1000F_Zone_3;24h\\t\\t','Internat: 2000F_Zone_2;24H\\t\\t']\n",
    "customer_data['TOP_PACK'] = np.where(customer_data['TOP_PACK'].isin(international_services), 'international', customer_data['TOP_PACK'])\n",
    "\n",
    "\n",
    "messaging_services = ['SMS Max','messaging']\n",
    "customer_data['TOP_PACK'] = np.where(customer_data['TOP_PACK'].isin(messaging_services), 'messaging', customer_data['TOP_PACK'])\n",
    "\n",
    "\n",
    "other_services =[ 'New_YAKALMA_4_ALL','FNF_Youth_ESN','GPRS_PKG_5GO_ILLIMITE','NEW_CLIR_PERMANENT_LIBERTE_MOBILE','pack_chinguitel_24h']\n",
    "customer_data['TOP_PACK'] = np.where(customer_data['TOP_PACK'].isin(other_services), 'other_services', customer_data['TOP_PACK'])\n"
   ]
  },
  {
   "cell_type": "code",
   "execution_count": 8,
   "id": "Li7SdvXYV7hk",
   "metadata": {
    "colab": {
     "base_uri": "https://localhost:8080/"
    },
    "executionInfo": {
     "elapsed": 396,
     "status": "ok",
     "timestamp": 1687290407567,
     "user": {
      "displayName": "Penina Randu",
      "userId": "09001762240323440784"
     },
     "user_tz": -180
    },
    "id": "Li7SdvXYV7hk",
    "outputId": "c09ea442-1282-48a6-9772-6332c7d996d3"
   },
   "outputs": [
    {
     "data": {
      "text/plain": [
       "array(['voice', nan, 'data', 'value_added_services', 'social_media',\n",
       "       'other_services', 'international', 'messaging'], dtype=object)"
      ]
     },
     "execution_count": 8,
     "metadata": {},
     "output_type": "execute_result"
    }
   ],
   "source": [
    "customer_data['TOP_PACK'].unique()"
   ]
  },
  {
   "cell_type": "code",
   "execution_count": 9,
   "id": "a47a02e4",
   "metadata": {
    "colab": {
     "base_uri": "https://localhost:8080/"
    },
    "executionInfo": {
     "elapsed": 648,
     "status": "ok",
     "timestamp": 1687290424989,
     "user": {
      "displayName": "Penina Randu",
      "userId": "09001762240323440784"
     },
     "user_tz": -180
    },
    "id": "a47a02e4",
    "outputId": "2d07acf2-c2ae-43ab-e5c8-bfa510c21665"
   },
   "outputs": [
    {
     "name": "stdout",
     "output_type": "stream",
     "text": [
      "Number of rows  1077024\n",
      "Number of columns  19\n"
     ]
    }
   ],
   "source": [
    "#checking the shape of the dataset\n",
    "print('Number of rows ',customer_data.shape[0])\n",
    "print('Number of columns ',customer_data.shape[1])"
   ]
  },
  {
   "cell_type": "code",
   "execution_count": 10,
   "id": "306bb5a7",
   "metadata": {
    "colab": {
     "base_uri": "https://localhost:8080/"
    },
    "executionInfo": {
     "elapsed": 403,
     "status": "ok",
     "timestamp": 1687290429653,
     "user": {
      "displayName": "Penina Randu",
      "userId": "09001762240323440784"
     },
     "user_tz": -180
    },
    "id": "306bb5a7",
    "outputId": "ada19d0a-2fce-47c9-bc9d-29852433e7a9"
   },
   "outputs": [
    {
     "data": {
      "text/plain": [
       "user_id            object\n",
       "REGION             object\n",
       "TENURE             object\n",
       "MONTANT           float64\n",
       "FREQUENCE_RECH    float64\n",
       "REVENUE           float64\n",
       "ARPU_SEGMENT      float64\n",
       "FREQUENCE         float64\n",
       "DATA_VOLUME       float64\n",
       "ON_NET            float64\n",
       "ORANGE            float64\n",
       "TIGO              float64\n",
       "ZONE1             float64\n",
       "ZONE2             float64\n",
       "MRG                object\n",
       "REGULARITY          int64\n",
       "TOP_PACK           object\n",
       "FREQ_TOP_PACK     float64\n",
       "CHURN               int64\n",
       "dtype: object"
      ]
     },
     "execution_count": 10,
     "metadata": {},
     "output_type": "execute_result"
    }
   ],
   "source": [
    "#checking the data-types of all features\n",
    "customer_data.dtypes"
   ]
  },
  {
   "cell_type": "code",
   "execution_count": 12,
   "id": "f325a31e",
   "metadata": {
    "executionInfo": {
     "elapsed": 660,
     "status": "ok",
     "timestamp": 1687290440393,
     "user": {
      "displayName": "Penina Randu",
      "userId": "09001762240323440784"
     },
     "user_tz": -180
    },
    "id": "f325a31e"
   },
   "outputs": [],
   "source": [
    "customer_data.drop([\"user_id\",\"MRG\"],axis=1, inplace=True)"
   ]
  },
  {
   "cell_type": "code",
   "execution_count": 13,
   "id": "4fd9d286",
   "metadata": {
    "executionInfo": {
     "elapsed": 9569,
     "status": "ok",
     "timestamp": 1687290453882,
     "user": {
      "displayName": "Penina Randu",
      "userId": "09001762240323440784"
     },
     "user_tz": -180
    },
    "id": "4fd9d286"
   },
   "outputs": [],
   "source": [
    "#splitting data into train and validation data\n",
    "X_train,X_validation,y_train,y_validation = train_test_split(customer_data.iloc[:, :-1], customer_data.iloc[:, -1:],\n",
    "                                                    test_size=0.2, random_state=42, stratify=customer_data.iloc[:, -1:])"
   ]
  },
  {
   "cell_type": "code",
   "execution_count": 14,
   "id": "2d6609b4",
   "metadata": {
    "colab": {
     "base_uri": "https://localhost:8080/"
    },
    "executionInfo": {
     "elapsed": 384,
     "status": "ok",
     "timestamp": 1687290459392,
     "user": {
      "displayName": "Penina Randu",
      "userId": "09001762240323440784"
     },
     "user_tz": -180
    },
    "id": "2d6609b4",
    "outputId": "f4c4977e-c920-4f2c-8925-a17daf87525b"
   },
   "outputs": [
    {
     "data": {
      "text/plain": [
       "((861619, 16), (215405, 16), (861619, 1), (215405, 1))"
      ]
     },
     "execution_count": 14,
     "metadata": {},
     "output_type": "execute_result"
    }
   ],
   "source": [
    "X_train.shape,X_validation.shape,y_train.shape,y_validation.shape"
   ]
  },
  {
   "cell_type": "code",
   "execution_count": 15,
   "id": "1c868a91",
   "metadata": {
    "colab": {
     "base_uri": "https://localhost:8080/"
    },
    "executionInfo": {
     "elapsed": 1437,
     "status": "ok",
     "timestamp": 1687290464565,
     "user": {
      "displayName": "Penina Randu",
      "userId": "09001762240323440784"
     },
     "user_tz": -180
    },
    "id": "1c868a91",
    "outputId": "65486682-35a3-425b-fca6-c7490d21aa44",
    "scrolled": true
   },
   "outputs": [
    {
     "name": "stdout",
     "output_type": "stream",
     "text": [
      "Number of train duplicates:  252811\n",
      "Number of validation duplicate:  59667\n"
     ]
    }
   ],
   "source": [
    "#Checking for duplicates in the dataset\n",
    "train_duplicate = X_train.duplicated()\n",
    "validation_duplicate =X_validation.duplicated()\n",
    "print(\"Number of train duplicates: \", train_duplicate.sum())\n",
    "print(\"Number of validation duplicate: \",validation_duplicate.sum())"
   ]
  },
  {
   "cell_type": "code",
   "execution_count": 16,
   "id": "ab827262",
   "metadata": {
    "colab": {
     "base_uri": "https://localhost:8080/"
    },
    "executionInfo": {
     "elapsed": 2037,
     "status": "ok",
     "timestamp": 1687290469595,
     "user": {
      "displayName": "Penina Randu",
      "userId": "09001762240323440784"
     },
     "user_tz": -180
    },
    "id": "ab827262",
    "outputId": "b362c1b7-9c5a-4133-e625-43f20d69aecc"
   },
   "outputs": [
    {
     "name": "stdout",
     "output_type": "stream",
     "text": [
      "Number of train duplicates remaining:  0\n",
      "Number of validation duplicates remaining:  0\n"
     ]
    }
   ],
   "source": [
    "# Removing duplicates and keeping the first instance\n",
    "X_train = X_train.drop_duplicates(keep='first')\n",
    "y_train = y_train[train_duplicate == False]\n",
    "\n",
    "X_validation = X_validation.drop_duplicates(keep='first')\n",
    "y_validation = y_validation[validation_duplicate == False]\n",
    "# Checking for duplicates in the filtered datasets\n",
    "train_duplicates_remaining = X_train.duplicated().sum()\n",
    "validation_duplicates_remaining = X_validation.duplicated().sum()\n",
    "\n",
    "print(\"Number of train duplicates remaining: \", train_duplicates_remaining)\n",
    "print(\"Number of validation duplicates remaining: \", validation_duplicates_remaining)\n"
   ]
  },
  {
   "cell_type": "code",
   "execution_count": 17,
   "id": "b6c4e038",
   "metadata": {
    "colab": {
     "base_uri": "https://localhost:8080/"
    },
    "executionInfo": {
     "elapsed": 623,
     "status": "ok",
     "timestamp": 1687290474375,
     "user": {
      "displayName": "Penina Randu",
      "userId": "09001762240323440784"
     },
     "user_tz": -180
    },
    "id": "b6c4e038",
    "outputId": "24ba2136-dbdc-4517-8691-9b08c5373f73"
   },
   "outputs": [
    {
     "name": "stdout",
     "output_type": "stream",
     "text": [
      "missing values in train data: REGION            138748\n",
      "TENURE                 0\n",
      "MONTANT            56410\n",
      "FREQUENCE_RECH     56410\n",
      "REVENUE            43545\n",
      "ARPU_SEGMENT       43545\n",
      "FREQUENCE          43545\n",
      "DATA_VOLUME       197540\n",
      "ON_NET             78663\n",
      "ORANGE            105748\n",
      "TIGO              263026\n",
      "ZONE1             541221\n",
      "ZONE2             553916\n",
      "REGULARITY             0\n",
      "TOP_PACK          108543\n",
      "FREQ_TOP_PACK     108543\n",
      "dtype: int64\n"
     ]
    }
   ],
   "source": [
    "# Check for missing values in data\n",
    "train_missing_values = X_train.isnull().sum()\n",
    "print(\"missing values in train data:\",train_missing_values)"
   ]
  },
  {
   "cell_type": "code",
   "execution_count": 18,
   "id": "28ee6697",
   "metadata": {
    "colab": {
     "base_uri": "https://localhost:8080/"
    },
    "executionInfo": {
     "elapsed": 10,
     "status": "ok",
     "timestamp": 1687290479224,
     "user": {
      "displayName": "Penina Randu",
      "userId": "09001762240323440784"
     },
     "user_tz": -180
    },
    "id": "28ee6697",
    "outputId": "46dac03d-c0cd-454a-fd8c-2c2e1d85747d",
    "scrolled": true
   },
   "outputs": [
    {
     "name": "stdout",
     "output_type": "stream",
     "text": [
      "missing values un validation data: REGION             36531\n",
      "TENURE                 0\n",
      "MONTANT            17418\n",
      "FREQUENCE_RECH     17418\n",
      "REVENUE            13994\n",
      "ARPU_SEGMENT       13994\n",
      "FREQUENCE          13994\n",
      "DATA_VOLUME        51856\n",
      "ON_NET             21763\n",
      "ORANGE             30116\n",
      "TIGO               69388\n",
      "ZONE1             138832\n",
      "ZONE2             141854\n",
      "REGULARITY             0\n",
      "TOP_PACK           30584\n",
      "FREQ_TOP_PACK      30584\n",
      "dtype: int64\n"
     ]
    }
   ],
   "source": [
    "validation_missing_values = X_validation.isnull().sum()\n",
    "print(\"missing values un validation data:\",validation_missing_values)"
   ]
  },
  {
   "attachments": {},
   "cell_type": "markdown",
   "id": "a65acb99",
   "metadata": {
    "id": "a65acb99"
   },
   "source": [
    "## Imputting Missing Values"
   ]
  },
  {
   "cell_type": "code",
   "execution_count": 19,
   "id": "15ca8e03",
   "metadata": {
    "executionInfo": {
     "elapsed": 5,
     "status": "ok",
     "timestamp": 1687290486198,
     "user": {
      "displayName": "Penina Randu",
      "userId": "09001762240323440784"
     },
     "user_tz": -180
    },
    "id": "15ca8e03"
   },
   "outputs": [],
   "source": [
    "#making a list of the numerical features\n",
    "num_columns = [col for col in X_train.columns if X_train[col].dtype != 'object']"
   ]
  },
  {
   "cell_type": "code",
   "execution_count": 20,
   "id": "c3229458",
   "metadata": {
    "executionInfo": {
     "elapsed": 650,
     "status": "ok",
     "timestamp": 1687290490988,
     "user": {
      "displayName": "Penina Randu",
      "userId": "09001762240323440784"
     },
     "user_tz": -180
    },
    "id": "c3229458"
   },
   "outputs": [],
   "source": [
    "#imputing missing values.\n",
    "numerical_imputer= SimpleImputer(strategy= \"median\")"
   ]
  },
  {
   "cell_type": "code",
   "execution_count": 21,
   "id": "83b3c1b7",
   "metadata": {
    "executionInfo": {
     "elapsed": 3152,
     "status": "ok",
     "timestamp": 1687290500425,
     "user": {
      "displayName": "Penina Randu",
      "userId": "09001762240323440784"
     },
     "user_tz": -180
    },
    "id": "83b3c1b7",
    "scrolled": true
   },
   "outputs": [],
   "source": [
    "#transforming\n",
    "X_train_imputed = numerical_imputer.fit_transform(X_train[num_columns])\n",
    "X_eval_imputed = numerical_imputer.transform(X_validation[num_columns])"
   ]
  },
  {
   "cell_type": "code",
   "execution_count": 22,
   "id": "a0a89e44",
   "metadata": {
    "executionInfo": {
     "elapsed": 5,
     "status": "ok",
     "timestamp": 1687290506678,
     "user": {
      "displayName": "Penina Randu",
      "userId": "09001762240323440784"
     },
     "user_tz": -180
    },
    "id": "a0a89e44"
   },
   "outputs": [],
   "source": [
    "#list of the catehorical features\n",
    "cat_columns = [col for col in X_train.columns if X_train[col].dtype == 'object']"
   ]
  },
  {
   "cell_type": "code",
   "execution_count": 23,
   "id": "69061a74",
   "metadata": {
    "executionInfo": {
     "elapsed": 6,
     "status": "ok",
     "timestamp": 1687290512305,
     "user": {
      "displayName": "Penina Randu",
      "userId": "09001762240323440784"
     },
     "user_tz": -180
    },
    "id": "69061a74"
   },
   "outputs": [],
   "source": [
    "cat_imputer = SimpleImputer(strategy= \"most_frequent\")"
   ]
  },
  {
   "cell_type": "code",
   "execution_count": 24,
   "id": "9025e0e5",
   "metadata": {
    "executionInfo": {
     "elapsed": 7,
     "status": "ok",
     "timestamp": 1687290518507,
     "user": {
      "displayName": "Penina Randu",
      "userId": "09001762240323440784"
     },
     "user_tz": -180
    },
    "id": "9025e0e5"
   },
   "outputs": [],
   "source": [
    "#transform\n",
    "X_train_cat_imputed = cat_imputer.fit_transform(X_train[cat_columns])\n",
    "X_eval_cat_imputed = cat_imputer.transform(X_validation[cat_columns])"
   ]
  },
  {
   "attachments": {},
   "cell_type": "markdown",
   "id": "8d65814d",
   "metadata": {
    "id": "8d65814d"
   },
   "source": [
    "## Encoding"
   ]
  },
  {
   "cell_type": "code",
   "execution_count": 25,
   "id": "a391297f",
   "metadata": {
    "executionInfo": {
     "elapsed": 1455,
     "status": "ok",
     "timestamp": 1687290529615,
     "user": {
      "displayName": "Penina Randu",
      "userId": "09001762240323440784"
     },
     "user_tz": -180
    },
    "id": "a391297f"
   },
   "outputs": [],
   "source": [
    "#instanciating the onehotencoder\n",
    "encoder = OneHotEncoder(handle_unknown='ignore')\n",
    "\n",
    "X_train_encoded =pd.DataFrame(encoder.fit_transform(X_train_cat_imputed).toarray(),\n",
    "                                   columns=encoder.get_feature_names_out(cat_columns))\n",
    "\n",
    "X_validation_encoded =pd.DataFrame(encoder.transform(X_eval_cat_imputed).toarray(),\n",
    "                                   columns=encoder.get_feature_names_out(cat_columns))"
   ]
  },
  {
   "attachments": {},
   "cell_type": "markdown",
   "id": "580261e8",
   "metadata": {
    "id": "580261e8"
   },
   "source": [
    "## Feature scalling"
   ]
  },
  {
   "cell_type": "code",
   "execution_count": 26,
   "id": "e30e0987",
   "metadata": {
    "executionInfo": {
     "elapsed": 347,
     "status": "ok",
     "timestamp": 1687290533102,
     "user": {
      "displayName": "Penina Randu",
      "userId": "09001762240323440784"
     },
     "user_tz": -180
    },
    "id": "e30e0987"
   },
   "outputs": [],
   "source": [
    "# instanciating the scaler\n",
    "scaler = MinMaxScaler()\n",
    "\n",
    "X_train_scaled = pd.DataFrame(scaler.fit_transform(X_train_imputed),columns =num_columns)\n",
    "X_validation_scaled = pd.DataFrame(scaler.transform(X_eval_imputed),columns =num_columns)"
   ]
  },
  {
   "attachments": {},
   "cell_type": "markdown",
   "id": "7dc69034",
   "metadata": {
    "id": "7dc69034"
   },
   "source": [
    "## Combining dataframe"
   ]
  },
  {
   "cell_type": "code",
   "execution_count": 27,
   "id": "1d93fdcb",
   "metadata": {
    "executionInfo": {
     "elapsed": 992,
     "status": "ok",
     "timestamp": 1687290538873,
     "user": {
      "displayName": "Penina Randu",
      "userId": "09001762240323440784"
     },
     "user_tz": -180
    },
    "id": "1d93fdcb"
   },
   "outputs": [],
   "source": [
    "Xtrain = pd.concat([X_train_scaled, X_train_encoded], axis=1)\n",
    "\n",
    "Xeval = pd.concat([X_validation_scaled, X_validation_encoded], axis=1)"
   ]
  },
  {
   "cell_type": "code",
   "execution_count": 29,
   "id": "hnYr68-vWrMv",
   "metadata": {
    "colab": {
     "base_uri": "https://localhost:8080/",
     "height": 288
    },
    "executionInfo": {
     "elapsed": 431,
     "status": "ok",
     "timestamp": 1687290573516,
     "user": {
      "displayName": "Penina Randu",
      "userId": "09001762240323440784"
     },
     "user_tz": -180
    },
    "id": "hnYr68-vWrMv",
    "outputId": "fca6c3c2-a28f-4744-92e5-fd1485069971"
   },
   "outputs": [
    {
     "data": {
      "text/html": [
       "\n",
       "  <div id=\"df-16333a5a-b503-4282-85d1-fe058befe41d\">\n",
       "    <div class=\"colab-df-container\">\n",
       "      <div>\n",
       "<style scoped>\n",
       "    .dataframe tbody tr th:only-of-type {\n",
       "        vertical-align: middle;\n",
       "    }\n",
       "\n",
       "    .dataframe tbody tr th {\n",
       "        vertical-align: top;\n",
       "    }\n",
       "\n",
       "    .dataframe thead th {\n",
       "        text-align: right;\n",
       "    }\n",
       "</style>\n",
       "<table border=\"1\" class=\"dataframe\">\n",
       "  <thead>\n",
       "    <tr style=\"text-align: right;\">\n",
       "      <th></th>\n",
       "      <th>MONTANT</th>\n",
       "      <th>FREQUENCE_RECH</th>\n",
       "      <th>REVENUE</th>\n",
       "      <th>ARPU_SEGMENT</th>\n",
       "      <th>FREQUENCE</th>\n",
       "      <th>DATA_VOLUME</th>\n",
       "      <th>ON_NET</th>\n",
       "      <th>ORANGE</th>\n",
       "      <th>TIGO</th>\n",
       "      <th>ZONE1</th>\n",
       "      <th>ZONE2</th>\n",
       "      <th>REGULARITY</th>\n",
       "      <th>FREQ_TOP_PACK</th>\n",
       "      <th>REGION_DAKAR</th>\n",
       "      <th>REGION_DIOURBEL</th>\n",
       "      <th>REGION_FATICK</th>\n",
       "      <th>REGION_KAFFRINE</th>\n",
       "      <th>REGION_KAOLACK</th>\n",
       "      <th>REGION_KEDOUGOU</th>\n",
       "      <th>REGION_KOLDA</th>\n",
       "      <th>REGION_LOUGA</th>\n",
       "      <th>REGION_MATAM</th>\n",
       "      <th>REGION_SAINT-LOUIS</th>\n",
       "      <th>REGION_SEDHIOU</th>\n",
       "      <th>REGION_TAMBACOUNDA</th>\n",
       "      <th>REGION_THIES</th>\n",
       "      <th>REGION_ZIGUINCHOR</th>\n",
       "      <th>TENURE_Long-term</th>\n",
       "      <th>TENURE_Medium-term</th>\n",
       "      <th>TENURE_Mid-term</th>\n",
       "      <th>TENURE_Short-term</th>\n",
       "      <th>TENURE_Very short-term</th>\n",
       "      <th>TOP_PACK_data</th>\n",
       "      <th>TOP_PACK_international</th>\n",
       "      <th>TOP_PACK_messaging</th>\n",
       "      <th>TOP_PACK_other_services</th>\n",
       "      <th>TOP_PACK_social_media</th>\n",
       "      <th>TOP_PACK_value_added_services</th>\n",
       "      <th>TOP_PACK_voice</th>\n",
       "    </tr>\n",
       "  </thead>\n",
       "  <tbody>\n",
       "    <tr>\n",
       "      <th>0</th>\n",
       "      <td>0.006553</td>\n",
       "      <td>0.046154</td>\n",
       "      <td>0.005673</td>\n",
       "      <td>0.005677</td>\n",
       "      <td>0.088889</td>\n",
       "      <td>0.000282</td>\n",
       "      <td>0.000590</td>\n",
       "      <td>0.002409</td>\n",
       "      <td>0.001437</td>\n",
       "      <td>0.000399</td>\n",
       "      <td>0.000541</td>\n",
       "      <td>0.032787</td>\n",
       "      <td>0.006421</td>\n",
       "      <td>1.0</td>\n",
       "      <td>0.0</td>\n",
       "      <td>0.0</td>\n",
       "      <td>0.0</td>\n",
       "      <td>0.0</td>\n",
       "      <td>0.0</td>\n",
       "      <td>0.0</td>\n",
       "      <td>0.0</td>\n",
       "      <td>0.0</td>\n",
       "      <td>0.0</td>\n",
       "      <td>0.0</td>\n",
       "      <td>0.0</td>\n",
       "      <td>0.0</td>\n",
       "      <td>0.0</td>\n",
       "      <td>1.0</td>\n",
       "      <td>0.0</td>\n",
       "      <td>0.0</td>\n",
       "      <td>0.0</td>\n",
       "      <td>0.0</td>\n",
       "      <td>0.0</td>\n",
       "      <td>0.0</td>\n",
       "      <td>0.0</td>\n",
       "      <td>0.0</td>\n",
       "      <td>0.0</td>\n",
       "      <td>0.0</td>\n",
       "      <td>1.0</td>\n",
       "    </tr>\n",
       "    <tr>\n",
       "      <th>1</th>\n",
       "      <td>0.011235</td>\n",
       "      <td>0.092308</td>\n",
       "      <td>0.009961</td>\n",
       "      <td>0.009961</td>\n",
       "      <td>0.177778</td>\n",
       "      <td>0.006189</td>\n",
       "      <td>0.000590</td>\n",
       "      <td>0.000332</td>\n",
       "      <td>0.000000</td>\n",
       "      <td>0.000399</td>\n",
       "      <td>0.000541</td>\n",
       "      <td>0.032787</td>\n",
       "      <td>0.009631</td>\n",
       "      <td>1.0</td>\n",
       "      <td>0.0</td>\n",
       "      <td>0.0</td>\n",
       "      <td>0.0</td>\n",
       "      <td>0.0</td>\n",
       "      <td>0.0</td>\n",
       "      <td>0.0</td>\n",
       "      <td>0.0</td>\n",
       "      <td>0.0</td>\n",
       "      <td>0.0</td>\n",
       "      <td>0.0</td>\n",
       "      <td>0.0</td>\n",
       "      <td>0.0</td>\n",
       "      <td>0.0</td>\n",
       "      <td>1.0</td>\n",
       "      <td>0.0</td>\n",
       "      <td>0.0</td>\n",
       "      <td>0.0</td>\n",
       "      <td>0.0</td>\n",
       "      <td>1.0</td>\n",
       "      <td>0.0</td>\n",
       "      <td>0.0</td>\n",
       "      <td>0.0</td>\n",
       "      <td>0.0</td>\n",
       "      <td>0.0</td>\n",
       "      <td>0.0</td>\n",
       "    </tr>\n",
       "    <tr>\n",
       "      <th>2</th>\n",
       "      <td>0.001021</td>\n",
       "      <td>0.000000</td>\n",
       "      <td>0.000938</td>\n",
       "      <td>0.000941</td>\n",
       "      <td>0.000000</td>\n",
       "      <td>0.000101</td>\n",
       "      <td>0.000197</td>\n",
       "      <td>0.000581</td>\n",
       "      <td>0.001437</td>\n",
       "      <td>0.000399</td>\n",
       "      <td>0.000541</td>\n",
       "      <td>0.213115</td>\n",
       "      <td>0.000000</td>\n",
       "      <td>0.0</td>\n",
       "      <td>0.0</td>\n",
       "      <td>0.0</td>\n",
       "      <td>0.0</td>\n",
       "      <td>0.0</td>\n",
       "      <td>0.0</td>\n",
       "      <td>0.0</td>\n",
       "      <td>1.0</td>\n",
       "      <td>0.0</td>\n",
       "      <td>0.0</td>\n",
       "      <td>0.0</td>\n",
       "      <td>0.0</td>\n",
       "      <td>0.0</td>\n",
       "      <td>0.0</td>\n",
       "      <td>1.0</td>\n",
       "      <td>0.0</td>\n",
       "      <td>0.0</td>\n",
       "      <td>0.0</td>\n",
       "      <td>0.0</td>\n",
       "      <td>0.0</td>\n",
       "      <td>0.0</td>\n",
       "      <td>0.0</td>\n",
       "      <td>0.0</td>\n",
       "      <td>0.0</td>\n",
       "      <td>0.0</td>\n",
       "      <td>1.0</td>\n",
       "    </tr>\n",
       "    <tr>\n",
       "      <th>3</th>\n",
       "      <td>0.010596</td>\n",
       "      <td>0.061538</td>\n",
       "      <td>0.009394</td>\n",
       "      <td>0.009397</td>\n",
       "      <td>0.088889</td>\n",
       "      <td>0.000282</td>\n",
       "      <td>0.005491</td>\n",
       "      <td>0.002907</td>\n",
       "      <td>0.003594</td>\n",
       "      <td>0.000399</td>\n",
       "      <td>0.000541</td>\n",
       "      <td>0.770492</td>\n",
       "      <td>0.009631</td>\n",
       "      <td>0.0</td>\n",
       "      <td>0.0</td>\n",
       "      <td>0.0</td>\n",
       "      <td>0.0</td>\n",
       "      <td>1.0</td>\n",
       "      <td>0.0</td>\n",
       "      <td>0.0</td>\n",
       "      <td>0.0</td>\n",
       "      <td>0.0</td>\n",
       "      <td>0.0</td>\n",
       "      <td>0.0</td>\n",
       "      <td>0.0</td>\n",
       "      <td>0.0</td>\n",
       "      <td>0.0</td>\n",
       "      <td>1.0</td>\n",
       "      <td>0.0</td>\n",
       "      <td>0.0</td>\n",
       "      <td>0.0</td>\n",
       "      <td>0.0</td>\n",
       "      <td>0.0</td>\n",
       "      <td>0.0</td>\n",
       "      <td>0.0</td>\n",
       "      <td>0.0</td>\n",
       "      <td>0.0</td>\n",
       "      <td>0.0</td>\n",
       "      <td>1.0</td>\n",
       "    </tr>\n",
       "    <tr>\n",
       "      <th>4</th>\n",
       "      <td>0.006553</td>\n",
       "      <td>0.046154</td>\n",
       "      <td>0.000036</td>\n",
       "      <td>0.000039</td>\n",
       "      <td>0.000000</td>\n",
       "      <td>0.000282</td>\n",
       "      <td>0.000590</td>\n",
       "      <td>0.000000</td>\n",
       "      <td>0.001437</td>\n",
       "      <td>0.000399</td>\n",
       "      <td>0.000541</td>\n",
       "      <td>0.000000</td>\n",
       "      <td>0.006421</td>\n",
       "      <td>1.0</td>\n",
       "      <td>0.0</td>\n",
       "      <td>0.0</td>\n",
       "      <td>0.0</td>\n",
       "      <td>0.0</td>\n",
       "      <td>0.0</td>\n",
       "      <td>0.0</td>\n",
       "      <td>0.0</td>\n",
       "      <td>0.0</td>\n",
       "      <td>0.0</td>\n",
       "      <td>0.0</td>\n",
       "      <td>0.0</td>\n",
       "      <td>0.0</td>\n",
       "      <td>0.0</td>\n",
       "      <td>1.0</td>\n",
       "      <td>0.0</td>\n",
       "      <td>0.0</td>\n",
       "      <td>0.0</td>\n",
       "      <td>0.0</td>\n",
       "      <td>0.0</td>\n",
       "      <td>0.0</td>\n",
       "      <td>0.0</td>\n",
       "      <td>0.0</td>\n",
       "      <td>0.0</td>\n",
       "      <td>0.0</td>\n",
       "      <td>1.0</td>\n",
       "    </tr>\n",
       "  </tbody>\n",
       "</table>\n",
       "</div>\n",
       "      <button class=\"colab-df-convert\" onclick=\"convertToInteractive('df-16333a5a-b503-4282-85d1-fe058befe41d')\"\n",
       "              title=\"Convert this dataframe to an interactive table.\"\n",
       "              style=\"display:none;\">\n",
       "        \n",
       "  <svg xmlns=\"http://www.w3.org/2000/svg\" height=\"24px\"viewBox=\"0 0 24 24\"\n",
       "       width=\"24px\">\n",
       "    <path d=\"M0 0h24v24H0V0z\" fill=\"none\"/>\n",
       "    <path d=\"M18.56 5.44l.94 2.06.94-2.06 2.06-.94-2.06-.94-.94-2.06-.94 2.06-2.06.94zm-11 1L8.5 8.5l.94-2.06 2.06-.94-2.06-.94L8.5 2.5l-.94 2.06-2.06.94zm10 10l.94 2.06.94-2.06 2.06-.94-2.06-.94-.94-2.06-.94 2.06-2.06.94z\"/><path d=\"M17.41 7.96l-1.37-1.37c-.4-.4-.92-.59-1.43-.59-.52 0-1.04.2-1.43.59L10.3 9.45l-7.72 7.72c-.78.78-.78 2.05 0 2.83L4 21.41c.39.39.9.59 1.41.59.51 0 1.02-.2 1.41-.59l7.78-7.78 2.81-2.81c.8-.78.8-2.07 0-2.86zM5.41 20L4 18.59l7.72-7.72 1.47 1.35L5.41 20z\"/>\n",
       "  </svg>\n",
       "      </button>\n",
       "      \n",
       "  <style>\n",
       "    .colab-df-container {\n",
       "      display:flex;\n",
       "      flex-wrap:wrap;\n",
       "      gap: 12px;\n",
       "    }\n",
       "\n",
       "    .colab-df-convert {\n",
       "      background-color: #E8F0FE;\n",
       "      border: none;\n",
       "      border-radius: 50%;\n",
       "      cursor: pointer;\n",
       "      display: none;\n",
       "      fill: #1967D2;\n",
       "      height: 32px;\n",
       "      padding: 0 0 0 0;\n",
       "      width: 32px;\n",
       "    }\n",
       "\n",
       "    .colab-df-convert:hover {\n",
       "      background-color: #E2EBFA;\n",
       "      box-shadow: 0px 1px 2px rgba(60, 64, 67, 0.3), 0px 1px 3px 1px rgba(60, 64, 67, 0.15);\n",
       "      fill: #174EA6;\n",
       "    }\n",
       "\n",
       "    [theme=dark] .colab-df-convert {\n",
       "      background-color: #3B4455;\n",
       "      fill: #D2E3FC;\n",
       "    }\n",
       "\n",
       "    [theme=dark] .colab-df-convert:hover {\n",
       "      background-color: #434B5C;\n",
       "      box-shadow: 0px 1px 3px 1px rgba(0, 0, 0, 0.15);\n",
       "      filter: drop-shadow(0px 1px 2px rgba(0, 0, 0, 0.3));\n",
       "      fill: #FFFFFF;\n",
       "    }\n",
       "  </style>\n",
       "\n",
       "      <script>\n",
       "        const buttonEl =\n",
       "          document.querySelector('#df-16333a5a-b503-4282-85d1-fe058befe41d button.colab-df-convert');\n",
       "        buttonEl.style.display =\n",
       "          google.colab.kernel.accessAllowed ? 'block' : 'none';\n",
       "\n",
       "        async function convertToInteractive(key) {\n",
       "          const element = document.querySelector('#df-16333a5a-b503-4282-85d1-fe058befe41d');\n",
       "          const dataTable =\n",
       "            await google.colab.kernel.invokeFunction('convertToInteractive',\n",
       "                                                     [key], {});\n",
       "          if (!dataTable) return;\n",
       "\n",
       "          const docLinkHtml = 'Like what you see? Visit the ' +\n",
       "            '<a target=\"_blank\" href=https://colab.research.google.com/notebooks/data_table.ipynb>data table notebook</a>'\n",
       "            + ' to learn more about interactive tables.';\n",
       "          element.innerHTML = '';\n",
       "          dataTable['output_type'] = 'display_data';\n",
       "          await google.colab.output.renderOutput(dataTable, element);\n",
       "          const docLink = document.createElement('div');\n",
       "          docLink.innerHTML = docLinkHtml;\n",
       "          element.appendChild(docLink);\n",
       "        }\n",
       "      </script>\n",
       "    </div>\n",
       "  </div>\n",
       "  "
      ],
      "text/plain": [
       "    MONTANT  FREQUENCE_RECH   REVENUE  ARPU_SEGMENT  FREQUENCE  DATA_VOLUME  \\\n",
       "0  0.006553        0.046154  0.005673      0.005677   0.088889     0.000282   \n",
       "1  0.011235        0.092308  0.009961      0.009961   0.177778     0.006189   \n",
       "2  0.001021        0.000000  0.000938      0.000941   0.000000     0.000101   \n",
       "3  0.010596        0.061538  0.009394      0.009397   0.088889     0.000282   \n",
       "4  0.006553        0.046154  0.000036      0.000039   0.000000     0.000282   \n",
       "\n",
       "     ON_NET    ORANGE      TIGO     ZONE1     ZONE2  REGULARITY  \\\n",
       "0  0.000590  0.002409  0.001437  0.000399  0.000541    0.032787   \n",
       "1  0.000590  0.000332  0.000000  0.000399  0.000541    0.032787   \n",
       "2  0.000197  0.000581  0.001437  0.000399  0.000541    0.213115   \n",
       "3  0.005491  0.002907  0.003594  0.000399  0.000541    0.770492   \n",
       "4  0.000590  0.000000  0.001437  0.000399  0.000541    0.000000   \n",
       "\n",
       "   FREQ_TOP_PACK  REGION_DAKAR  REGION_DIOURBEL  REGION_FATICK  \\\n",
       "0       0.006421           1.0              0.0            0.0   \n",
       "1       0.009631           1.0              0.0            0.0   \n",
       "2       0.000000           0.0              0.0            0.0   \n",
       "3       0.009631           0.0              0.0            0.0   \n",
       "4       0.006421           1.0              0.0            0.0   \n",
       "\n",
       "   REGION_KAFFRINE  REGION_KAOLACK  REGION_KEDOUGOU  REGION_KOLDA  \\\n",
       "0              0.0             0.0              0.0           0.0   \n",
       "1              0.0             0.0              0.0           0.0   \n",
       "2              0.0             0.0              0.0           0.0   \n",
       "3              0.0             1.0              0.0           0.0   \n",
       "4              0.0             0.0              0.0           0.0   \n",
       "\n",
       "   REGION_LOUGA  REGION_MATAM  REGION_SAINT-LOUIS  REGION_SEDHIOU  \\\n",
       "0           0.0           0.0                 0.0             0.0   \n",
       "1           0.0           0.0                 0.0             0.0   \n",
       "2           1.0           0.0                 0.0             0.0   \n",
       "3           0.0           0.0                 0.0             0.0   \n",
       "4           0.0           0.0                 0.0             0.0   \n",
       "\n",
       "   REGION_TAMBACOUNDA  REGION_THIES  REGION_ZIGUINCHOR  TENURE_Long-term  \\\n",
       "0                 0.0           0.0                0.0               1.0   \n",
       "1                 0.0           0.0                0.0               1.0   \n",
       "2                 0.0           0.0                0.0               1.0   \n",
       "3                 0.0           0.0                0.0               1.0   \n",
       "4                 0.0           0.0                0.0               1.0   \n",
       "\n",
       "   TENURE_Medium-term  TENURE_Mid-term  TENURE_Short-term  \\\n",
       "0                 0.0              0.0                0.0   \n",
       "1                 0.0              0.0                0.0   \n",
       "2                 0.0              0.0                0.0   \n",
       "3                 0.0              0.0                0.0   \n",
       "4                 0.0              0.0                0.0   \n",
       "\n",
       "   TENURE_Very short-term  TOP_PACK_data  TOP_PACK_international  \\\n",
       "0                     0.0            0.0                     0.0   \n",
       "1                     0.0            1.0                     0.0   \n",
       "2                     0.0            0.0                     0.0   \n",
       "3                     0.0            0.0                     0.0   \n",
       "4                     0.0            0.0                     0.0   \n",
       "\n",
       "   TOP_PACK_messaging  TOP_PACK_other_services  TOP_PACK_social_media  \\\n",
       "0                 0.0                      0.0                    0.0   \n",
       "1                 0.0                      0.0                    0.0   \n",
       "2                 0.0                      0.0                    0.0   \n",
       "3                 0.0                      0.0                    0.0   \n",
       "4                 0.0                      0.0                    0.0   \n",
       "\n",
       "   TOP_PACK_value_added_services  TOP_PACK_voice  \n",
       "0                            0.0             1.0  \n",
       "1                            0.0             0.0  \n",
       "2                            0.0             1.0  \n",
       "3                            0.0             1.0  \n",
       "4                            0.0             1.0  "
      ]
     },
     "execution_count": 29,
     "metadata": {},
     "output_type": "execute_result"
    }
   ],
   "source": [
    "Xtrain.head()"
   ]
  },
  {
   "cell_type": "code",
   "execution_count": 28,
   "id": "8c936dc6",
   "metadata": {
    "colab": {
     "base_uri": "https://localhost:8080/",
     "height": 288
    },
    "executionInfo": {
     "elapsed": 381,
     "status": "ok",
     "timestamp": 1687290547868,
     "user": {
      "displayName": "Penina Randu",
      "userId": "09001762240323440784"
     },
     "user_tz": -180
    },
    "id": "8c936dc6",
    "outputId": "f7d7120f-5f3d-4d9c-d543-2f80c3554367"
   },
   "outputs": [
    {
     "data": {
      "text/html": [
       "\n",
       "  <div id=\"df-ea2f4376-fbb5-4409-aeef-7eabcbc5ed68\">\n",
       "    <div class=\"colab-df-container\">\n",
       "      <div>\n",
       "<style scoped>\n",
       "    .dataframe tbody tr th:only-of-type {\n",
       "        vertical-align: middle;\n",
       "    }\n",
       "\n",
       "    .dataframe tbody tr th {\n",
       "        vertical-align: top;\n",
       "    }\n",
       "\n",
       "    .dataframe thead th {\n",
       "        text-align: right;\n",
       "    }\n",
       "</style>\n",
       "<table border=\"1\" class=\"dataframe\">\n",
       "  <thead>\n",
       "    <tr style=\"text-align: right;\">\n",
       "      <th></th>\n",
       "      <th>MONTANT</th>\n",
       "      <th>FREQUENCE_RECH</th>\n",
       "      <th>REVENUE</th>\n",
       "      <th>ARPU_SEGMENT</th>\n",
       "      <th>FREQUENCE</th>\n",
       "      <th>DATA_VOLUME</th>\n",
       "      <th>ON_NET</th>\n",
       "      <th>ORANGE</th>\n",
       "      <th>TIGO</th>\n",
       "      <th>ZONE1</th>\n",
       "      <th>ZONE2</th>\n",
       "      <th>REGULARITY</th>\n",
       "      <th>FREQ_TOP_PACK</th>\n",
       "      <th>REGION_DAKAR</th>\n",
       "      <th>REGION_DIOURBEL</th>\n",
       "      <th>REGION_FATICK</th>\n",
       "      <th>REGION_KAFFRINE</th>\n",
       "      <th>REGION_KAOLACK</th>\n",
       "      <th>REGION_KEDOUGOU</th>\n",
       "      <th>REGION_KOLDA</th>\n",
       "      <th>REGION_LOUGA</th>\n",
       "      <th>REGION_MATAM</th>\n",
       "      <th>REGION_SAINT-LOUIS</th>\n",
       "      <th>REGION_SEDHIOU</th>\n",
       "      <th>REGION_TAMBACOUNDA</th>\n",
       "      <th>REGION_THIES</th>\n",
       "      <th>REGION_ZIGUINCHOR</th>\n",
       "      <th>TENURE_Long-term</th>\n",
       "      <th>TENURE_Medium-term</th>\n",
       "      <th>TENURE_Mid-term</th>\n",
       "      <th>TENURE_Short-term</th>\n",
       "      <th>TENURE_Very short-term</th>\n",
       "      <th>TOP_PACK_data</th>\n",
       "      <th>TOP_PACK_international</th>\n",
       "      <th>TOP_PACK_messaging</th>\n",
       "      <th>TOP_PACK_other_services</th>\n",
       "      <th>TOP_PACK_social_media</th>\n",
       "      <th>TOP_PACK_value_added_services</th>\n",
       "      <th>TOP_PACK_voice</th>\n",
       "    </tr>\n",
       "  </thead>\n",
       "  <tbody>\n",
       "    <tr>\n",
       "      <th>0</th>\n",
       "      <td>0.000383</td>\n",
       "      <td>0.000000</td>\n",
       "      <td>0.005673</td>\n",
       "      <td>0.005677</td>\n",
       "      <td>0.088889</td>\n",
       "      <td>0.000282</td>\n",
       "      <td>0.000590</td>\n",
       "      <td>0.002409</td>\n",
       "      <td>0.001437</td>\n",
       "      <td>0.000399</td>\n",
       "      <td>0.000541</td>\n",
       "      <td>0.000000</td>\n",
       "      <td>0.006421</td>\n",
       "      <td>1.0</td>\n",
       "      <td>0.0</td>\n",
       "      <td>0.0</td>\n",
       "      <td>0.0</td>\n",
       "      <td>0.0</td>\n",
       "      <td>0.0</td>\n",
       "      <td>0.0</td>\n",
       "      <td>0.0</td>\n",
       "      <td>0.0</td>\n",
       "      <td>0.0</td>\n",
       "      <td>0.0</td>\n",
       "      <td>0.0</td>\n",
       "      <td>0.0</td>\n",
       "      <td>0.0</td>\n",
       "      <td>1.0</td>\n",
       "      <td>0.0</td>\n",
       "      <td>0.0</td>\n",
       "      <td>0.0</td>\n",
       "      <td>0.0</td>\n",
       "      <td>0.0</td>\n",
       "      <td>0.0</td>\n",
       "      <td>0.0</td>\n",
       "      <td>0.0</td>\n",
       "      <td>0.0</td>\n",
       "      <td>0.0</td>\n",
       "      <td>1.0</td>\n",
       "    </tr>\n",
       "    <tr>\n",
       "      <th>1</th>\n",
       "      <td>0.006553</td>\n",
       "      <td>0.046154</td>\n",
       "      <td>0.005673</td>\n",
       "      <td>0.005677</td>\n",
       "      <td>0.088889</td>\n",
       "      <td>0.000282</td>\n",
       "      <td>0.000590</td>\n",
       "      <td>0.002409</td>\n",
       "      <td>0.001437</td>\n",
       "      <td>0.000399</td>\n",
       "      <td>0.000541</td>\n",
       "      <td>0.016393</td>\n",
       "      <td>0.006421</td>\n",
       "      <td>1.0</td>\n",
       "      <td>0.0</td>\n",
       "      <td>0.0</td>\n",
       "      <td>0.0</td>\n",
       "      <td>0.0</td>\n",
       "      <td>0.0</td>\n",
       "      <td>0.0</td>\n",
       "      <td>0.0</td>\n",
       "      <td>0.0</td>\n",
       "      <td>0.0</td>\n",
       "      <td>0.0</td>\n",
       "      <td>0.0</td>\n",
       "      <td>0.0</td>\n",
       "      <td>0.0</td>\n",
       "      <td>1.0</td>\n",
       "      <td>0.0</td>\n",
       "      <td>0.0</td>\n",
       "      <td>0.0</td>\n",
       "      <td>0.0</td>\n",
       "      <td>0.0</td>\n",
       "      <td>0.0</td>\n",
       "      <td>0.0</td>\n",
       "      <td>0.0</td>\n",
       "      <td>0.0</td>\n",
       "      <td>0.0</td>\n",
       "      <td>1.0</td>\n",
       "    </tr>\n",
       "    <tr>\n",
       "      <th>2</th>\n",
       "      <td>0.032938</td>\n",
       "      <td>0.146154</td>\n",
       "      <td>0.027241</td>\n",
       "      <td>0.027245</td>\n",
       "      <td>0.311111</td>\n",
       "      <td>0.000282</td>\n",
       "      <td>0.006141</td>\n",
       "      <td>0.008970</td>\n",
       "      <td>0.015812</td>\n",
       "      <td>0.000399</td>\n",
       "      <td>0.000541</td>\n",
       "      <td>0.983607</td>\n",
       "      <td>0.035313</td>\n",
       "      <td>0.0</td>\n",
       "      <td>1.0</td>\n",
       "      <td>0.0</td>\n",
       "      <td>0.0</td>\n",
       "      <td>0.0</td>\n",
       "      <td>0.0</td>\n",
       "      <td>0.0</td>\n",
       "      <td>0.0</td>\n",
       "      <td>0.0</td>\n",
       "      <td>0.0</td>\n",
       "      <td>0.0</td>\n",
       "      <td>0.0</td>\n",
       "      <td>0.0</td>\n",
       "      <td>0.0</td>\n",
       "      <td>1.0</td>\n",
       "      <td>0.0</td>\n",
       "      <td>0.0</td>\n",
       "      <td>0.0</td>\n",
       "      <td>0.0</td>\n",
       "      <td>0.0</td>\n",
       "      <td>0.0</td>\n",
       "      <td>0.0</td>\n",
       "      <td>0.0</td>\n",
       "      <td>0.0</td>\n",
       "      <td>0.0</td>\n",
       "      <td>1.0</td>\n",
       "    </tr>\n",
       "    <tr>\n",
       "      <th>3</th>\n",
       "      <td>0.002511</td>\n",
       "      <td>0.038462</td>\n",
       "      <td>0.002255</td>\n",
       "      <td>0.002255</td>\n",
       "      <td>0.177778</td>\n",
       "      <td>0.000282</td>\n",
       "      <td>0.000236</td>\n",
       "      <td>0.000332</td>\n",
       "      <td>0.000000</td>\n",
       "      <td>0.000399</td>\n",
       "      <td>0.000541</td>\n",
       "      <td>0.688525</td>\n",
       "      <td>0.000000</td>\n",
       "      <td>0.0</td>\n",
       "      <td>0.0</td>\n",
       "      <td>0.0</td>\n",
       "      <td>0.0</td>\n",
       "      <td>0.0</td>\n",
       "      <td>0.0</td>\n",
       "      <td>0.0</td>\n",
       "      <td>1.0</td>\n",
       "      <td>0.0</td>\n",
       "      <td>0.0</td>\n",
       "      <td>0.0</td>\n",
       "      <td>0.0</td>\n",
       "      <td>0.0</td>\n",
       "      <td>0.0</td>\n",
       "      <td>1.0</td>\n",
       "      <td>0.0</td>\n",
       "      <td>0.0</td>\n",
       "      <td>0.0</td>\n",
       "      <td>0.0</td>\n",
       "      <td>0.0</td>\n",
       "      <td>0.0</td>\n",
       "      <td>0.0</td>\n",
       "      <td>0.0</td>\n",
       "      <td>0.0</td>\n",
       "      <td>0.0</td>\n",
       "      <td>1.0</td>\n",
       "    </tr>\n",
       "    <tr>\n",
       "      <th>4</th>\n",
       "      <td>0.006553</td>\n",
       "      <td>0.061538</td>\n",
       "      <td>0.005820</td>\n",
       "      <td>0.005823</td>\n",
       "      <td>0.100000</td>\n",
       "      <td>0.000282</td>\n",
       "      <td>0.001397</td>\n",
       "      <td>0.004070</td>\n",
       "      <td>0.003594</td>\n",
       "      <td>0.000399</td>\n",
       "      <td>0.000541</td>\n",
       "      <td>0.721311</td>\n",
       "      <td>0.004815</td>\n",
       "      <td>1.0</td>\n",
       "      <td>0.0</td>\n",
       "      <td>0.0</td>\n",
       "      <td>0.0</td>\n",
       "      <td>0.0</td>\n",
       "      <td>0.0</td>\n",
       "      <td>0.0</td>\n",
       "      <td>0.0</td>\n",
       "      <td>0.0</td>\n",
       "      <td>0.0</td>\n",
       "      <td>0.0</td>\n",
       "      <td>0.0</td>\n",
       "      <td>0.0</td>\n",
       "      <td>0.0</td>\n",
       "      <td>1.0</td>\n",
       "      <td>0.0</td>\n",
       "      <td>0.0</td>\n",
       "      <td>0.0</td>\n",
       "      <td>0.0</td>\n",
       "      <td>0.0</td>\n",
       "      <td>0.0</td>\n",
       "      <td>0.0</td>\n",
       "      <td>0.0</td>\n",
       "      <td>0.0</td>\n",
       "      <td>0.0</td>\n",
       "      <td>1.0</td>\n",
       "    </tr>\n",
       "  </tbody>\n",
       "</table>\n",
       "</div>\n",
       "      <button class=\"colab-df-convert\" onclick=\"convertToInteractive('df-ea2f4376-fbb5-4409-aeef-7eabcbc5ed68')\"\n",
       "              title=\"Convert this dataframe to an interactive table.\"\n",
       "              style=\"display:none;\">\n",
       "        \n",
       "  <svg xmlns=\"http://www.w3.org/2000/svg\" height=\"24px\"viewBox=\"0 0 24 24\"\n",
       "       width=\"24px\">\n",
       "    <path d=\"M0 0h24v24H0V0z\" fill=\"none\"/>\n",
       "    <path d=\"M18.56 5.44l.94 2.06.94-2.06 2.06-.94-2.06-.94-.94-2.06-.94 2.06-2.06.94zm-11 1L8.5 8.5l.94-2.06 2.06-.94-2.06-.94L8.5 2.5l-.94 2.06-2.06.94zm10 10l.94 2.06.94-2.06 2.06-.94-2.06-.94-.94-2.06-.94 2.06-2.06.94z\"/><path d=\"M17.41 7.96l-1.37-1.37c-.4-.4-.92-.59-1.43-.59-.52 0-1.04.2-1.43.59L10.3 9.45l-7.72 7.72c-.78.78-.78 2.05 0 2.83L4 21.41c.39.39.9.59 1.41.59.51 0 1.02-.2 1.41-.59l7.78-7.78 2.81-2.81c.8-.78.8-2.07 0-2.86zM5.41 20L4 18.59l7.72-7.72 1.47 1.35L5.41 20z\"/>\n",
       "  </svg>\n",
       "      </button>\n",
       "      \n",
       "  <style>\n",
       "    .colab-df-container {\n",
       "      display:flex;\n",
       "      flex-wrap:wrap;\n",
       "      gap: 12px;\n",
       "    }\n",
       "\n",
       "    .colab-df-convert {\n",
       "      background-color: #E8F0FE;\n",
       "      border: none;\n",
       "      border-radius: 50%;\n",
       "      cursor: pointer;\n",
       "      display: none;\n",
       "      fill: #1967D2;\n",
       "      height: 32px;\n",
       "      padding: 0 0 0 0;\n",
       "      width: 32px;\n",
       "    }\n",
       "\n",
       "    .colab-df-convert:hover {\n",
       "      background-color: #E2EBFA;\n",
       "      box-shadow: 0px 1px 2px rgba(60, 64, 67, 0.3), 0px 1px 3px 1px rgba(60, 64, 67, 0.15);\n",
       "      fill: #174EA6;\n",
       "    }\n",
       "\n",
       "    [theme=dark] .colab-df-convert {\n",
       "      background-color: #3B4455;\n",
       "      fill: #D2E3FC;\n",
       "    }\n",
       "\n",
       "    [theme=dark] .colab-df-convert:hover {\n",
       "      background-color: #434B5C;\n",
       "      box-shadow: 0px 1px 3px 1px rgba(0, 0, 0, 0.15);\n",
       "      filter: drop-shadow(0px 1px 2px rgba(0, 0, 0, 0.3));\n",
       "      fill: #FFFFFF;\n",
       "    }\n",
       "  </style>\n",
       "\n",
       "      <script>\n",
       "        const buttonEl =\n",
       "          document.querySelector('#df-ea2f4376-fbb5-4409-aeef-7eabcbc5ed68 button.colab-df-convert');\n",
       "        buttonEl.style.display =\n",
       "          google.colab.kernel.accessAllowed ? 'block' : 'none';\n",
       "\n",
       "        async function convertToInteractive(key) {\n",
       "          const element = document.querySelector('#df-ea2f4376-fbb5-4409-aeef-7eabcbc5ed68');\n",
       "          const dataTable =\n",
       "            await google.colab.kernel.invokeFunction('convertToInteractive',\n",
       "                                                     [key], {});\n",
       "          if (!dataTable) return;\n",
       "\n",
       "          const docLinkHtml = 'Like what you see? Visit the ' +\n",
       "            '<a target=\"_blank\" href=https://colab.research.google.com/notebooks/data_table.ipynb>data table notebook</a>'\n",
       "            + ' to learn more about interactive tables.';\n",
       "          element.innerHTML = '';\n",
       "          dataTable['output_type'] = 'display_data';\n",
       "          await google.colab.output.renderOutput(dataTable, element);\n",
       "          const docLink = document.createElement('div');\n",
       "          docLink.innerHTML = docLinkHtml;\n",
       "          element.appendChild(docLink);\n",
       "        }\n",
       "      </script>\n",
       "    </div>\n",
       "  </div>\n",
       "  "
      ],
      "text/plain": [
       "    MONTANT  FREQUENCE_RECH   REVENUE  ARPU_SEGMENT  FREQUENCE  DATA_VOLUME  \\\n",
       "0  0.000383        0.000000  0.005673      0.005677   0.088889     0.000282   \n",
       "1  0.006553        0.046154  0.005673      0.005677   0.088889     0.000282   \n",
       "2  0.032938        0.146154  0.027241      0.027245   0.311111     0.000282   \n",
       "3  0.002511        0.038462  0.002255      0.002255   0.177778     0.000282   \n",
       "4  0.006553        0.061538  0.005820      0.005823   0.100000     0.000282   \n",
       "\n",
       "     ON_NET    ORANGE      TIGO     ZONE1     ZONE2  REGULARITY  \\\n",
       "0  0.000590  0.002409  0.001437  0.000399  0.000541    0.000000   \n",
       "1  0.000590  0.002409  0.001437  0.000399  0.000541    0.016393   \n",
       "2  0.006141  0.008970  0.015812  0.000399  0.000541    0.983607   \n",
       "3  0.000236  0.000332  0.000000  0.000399  0.000541    0.688525   \n",
       "4  0.001397  0.004070  0.003594  0.000399  0.000541    0.721311   \n",
       "\n",
       "   FREQ_TOP_PACK  REGION_DAKAR  REGION_DIOURBEL  REGION_FATICK  \\\n",
       "0       0.006421           1.0              0.0            0.0   \n",
       "1       0.006421           1.0              0.0            0.0   \n",
       "2       0.035313           0.0              1.0            0.0   \n",
       "3       0.000000           0.0              0.0            0.0   \n",
       "4       0.004815           1.0              0.0            0.0   \n",
       "\n",
       "   REGION_KAFFRINE  REGION_KAOLACK  REGION_KEDOUGOU  REGION_KOLDA  \\\n",
       "0              0.0             0.0              0.0           0.0   \n",
       "1              0.0             0.0              0.0           0.0   \n",
       "2              0.0             0.0              0.0           0.0   \n",
       "3              0.0             0.0              0.0           0.0   \n",
       "4              0.0             0.0              0.0           0.0   \n",
       "\n",
       "   REGION_LOUGA  REGION_MATAM  REGION_SAINT-LOUIS  REGION_SEDHIOU  \\\n",
       "0           0.0           0.0                 0.0             0.0   \n",
       "1           0.0           0.0                 0.0             0.0   \n",
       "2           0.0           0.0                 0.0             0.0   \n",
       "3           1.0           0.0                 0.0             0.0   \n",
       "4           0.0           0.0                 0.0             0.0   \n",
       "\n",
       "   REGION_TAMBACOUNDA  REGION_THIES  REGION_ZIGUINCHOR  TENURE_Long-term  \\\n",
       "0                 0.0           0.0                0.0               1.0   \n",
       "1                 0.0           0.0                0.0               1.0   \n",
       "2                 0.0           0.0                0.0               1.0   \n",
       "3                 0.0           0.0                0.0               1.0   \n",
       "4                 0.0           0.0                0.0               1.0   \n",
       "\n",
       "   TENURE_Medium-term  TENURE_Mid-term  TENURE_Short-term  \\\n",
       "0                 0.0              0.0                0.0   \n",
       "1                 0.0              0.0                0.0   \n",
       "2                 0.0              0.0                0.0   \n",
       "3                 0.0              0.0                0.0   \n",
       "4                 0.0              0.0                0.0   \n",
       "\n",
       "   TENURE_Very short-term  TOP_PACK_data  TOP_PACK_international  \\\n",
       "0                     0.0            0.0                     0.0   \n",
       "1                     0.0            0.0                     0.0   \n",
       "2                     0.0            0.0                     0.0   \n",
       "3                     0.0            0.0                     0.0   \n",
       "4                     0.0            0.0                     0.0   \n",
       "\n",
       "   TOP_PACK_messaging  TOP_PACK_other_services  TOP_PACK_social_media  \\\n",
       "0                 0.0                      0.0                    0.0   \n",
       "1                 0.0                      0.0                    0.0   \n",
       "2                 0.0                      0.0                    0.0   \n",
       "3                 0.0                      0.0                    0.0   \n",
       "4                 0.0                      0.0                    0.0   \n",
       "\n",
       "   TOP_PACK_value_added_services  TOP_PACK_voice  \n",
       "0                            0.0             1.0  \n",
       "1                            0.0             1.0  \n",
       "2                            0.0             1.0  \n",
       "3                            0.0             1.0  \n",
       "4                            0.0             1.0  "
      ]
     },
     "execution_count": 28,
     "metadata": {},
     "output_type": "execute_result"
    }
   ],
   "source": [
    "Xeval.head()"
   ]
  },
  {
   "cell_type": "code",
   "execution_count": 30,
   "id": "3fd0eb98",
   "metadata": {
    "colab": {
     "base_uri": "https://localhost:8080/"
    },
    "executionInfo": {
     "elapsed": 370,
     "status": "ok",
     "timestamp": 1687290580201,
     "user": {
      "displayName": "Penina Randu",
      "userId": "09001762240323440784"
     },
     "user_tz": -180
    },
    "id": "3fd0eb98",
    "outputId": "d2d5b696-af91-4a3f-83a7-bc50f1bc2014"
   },
   "outputs": [
    {
     "data": {
      "text/plain": [
       "((608808, 39), (155738, 39))"
      ]
     },
     "execution_count": 30,
     "metadata": {},
     "output_type": "execute_result"
    }
   ],
   "source": [
    "Xtrain.shape,Xeval.shape"
   ]
  },
  {
   "attachments": {},
   "cell_type": "markdown",
   "id": "5bcd9664",
   "metadata": {
    "id": "5bcd9664"
   },
   "source": [
    "## Machine Learning Modeling\n",
    "Here is a section to build,train,evaluate and compare models with each other."
   ]
  },
  {
   "attachments": {},
   "cell_type": "markdown",
   "id": "a5a7077e",
   "metadata": {
    "id": "a5a7077e"
   },
   "source": [
    "#### Evaluation Matrics\n",
    "LOG-LOSS\n",
    "Log-loss is indicative of how close the prediction probability is to the corresponding actual/true value (0 or 1 in case of binary classification), penalizing inaccurate predictions with higher values. Lower log-loss indicates better model performance.\n",
    "Log Loss is the most important classification metric based on probabilities\n",
    "\n",
    "AUC_SCORE\n",
    "The AUC score, short for Area Under the Curve, is a widely used metric for evaluating binary classification models. It measures the model's ability to distinguish between positive and negative samples by calculating the area under the Receiver Operating Characteristic (ROC) curve."
   ]
  },
  {
   "attachments": {},
   "cell_type": "markdown",
   "id": "WseHwe3wQw4M",
   "metadata": {
    "id": "WseHwe3wQw4M"
   },
   "source": [
    "## Training with Imbalanced dataset"
   ]
  },
  {
   "attachments": {},
   "cell_type": "markdown",
   "id": "ba082fe6",
   "metadata": {
    "id": "ba082fe6"
   },
   "source": [
    "## Simple Model #1"
   ]
  },
  {
   "cell_type": "code",
   "execution_count": 31,
   "id": "bc3e3dc6",
   "metadata": {
    "colab": {
     "base_uri": "https://localhost:8080/",
     "height": 52
    },
    "executionInfo": {
     "elapsed": 13732,
     "status": "ok",
     "timestamp": 1687290605123,
     "user": {
      "displayName": "Penina Randu",
      "userId": "09001762240323440784"
     },
     "user_tz": -180
    },
    "id": "bc3e3dc6",
    "outputId": "826b644f-157c-4430-f6e8-b4ee17216740"
   },
   "outputs": [
    {
     "data": {
      "text/html": [
       "<style>#sk-container-id-1 {color: black;background-color: white;}#sk-container-id-1 pre{padding: 0;}#sk-container-id-1 div.sk-toggleable {background-color: white;}#sk-container-id-1 label.sk-toggleable__label {cursor: pointer;display: block;width: 100%;margin-bottom: 0;padding: 0.3em;box-sizing: border-box;text-align: center;}#sk-container-id-1 label.sk-toggleable__label-arrow:before {content: \"▸\";float: left;margin-right: 0.25em;color: #696969;}#sk-container-id-1 label.sk-toggleable__label-arrow:hover:before {color: black;}#sk-container-id-1 div.sk-estimator:hover label.sk-toggleable__label-arrow:before {color: black;}#sk-container-id-1 div.sk-toggleable__content {max-height: 0;max-width: 0;overflow: hidden;text-align: left;background-color: #f0f8ff;}#sk-container-id-1 div.sk-toggleable__content pre {margin: 0.2em;color: black;border-radius: 0.25em;background-color: #f0f8ff;}#sk-container-id-1 input.sk-toggleable__control:checked~div.sk-toggleable__content {max-height: 200px;max-width: 100%;overflow: auto;}#sk-container-id-1 input.sk-toggleable__control:checked~label.sk-toggleable__label-arrow:before {content: \"▾\";}#sk-container-id-1 div.sk-estimator input.sk-toggleable__control:checked~label.sk-toggleable__label {background-color: #d4ebff;}#sk-container-id-1 div.sk-label input.sk-toggleable__control:checked~label.sk-toggleable__label {background-color: #d4ebff;}#sk-container-id-1 input.sk-hidden--visually {border: 0;clip: rect(1px 1px 1px 1px);clip: rect(1px, 1px, 1px, 1px);height: 1px;margin: -1px;overflow: hidden;padding: 0;position: absolute;width: 1px;}#sk-container-id-1 div.sk-estimator {font-family: monospace;background-color: #f0f8ff;border: 1px dotted black;border-radius: 0.25em;box-sizing: border-box;margin-bottom: 0.5em;}#sk-container-id-1 div.sk-estimator:hover {background-color: #d4ebff;}#sk-container-id-1 div.sk-parallel-item::after {content: \"\";width: 100%;border-bottom: 1px solid gray;flex-grow: 1;}#sk-container-id-1 div.sk-label:hover label.sk-toggleable__label {background-color: #d4ebff;}#sk-container-id-1 div.sk-serial::before {content: \"\";position: absolute;border-left: 1px solid gray;box-sizing: border-box;top: 0;bottom: 0;left: 50%;z-index: 0;}#sk-container-id-1 div.sk-serial {display: flex;flex-direction: column;align-items: center;background-color: white;padding-right: 0.2em;padding-left: 0.2em;position: relative;}#sk-container-id-1 div.sk-item {position: relative;z-index: 1;}#sk-container-id-1 div.sk-parallel {display: flex;align-items: stretch;justify-content: center;background-color: white;position: relative;}#sk-container-id-1 div.sk-item::before, #sk-container-id-1 div.sk-parallel-item::before {content: \"\";position: absolute;border-left: 1px solid gray;box-sizing: border-box;top: 0;bottom: 0;left: 50%;z-index: -1;}#sk-container-id-1 div.sk-parallel-item {display: flex;flex-direction: column;z-index: 1;position: relative;background-color: white;}#sk-container-id-1 div.sk-parallel-item:first-child::after {align-self: flex-end;width: 50%;}#sk-container-id-1 div.sk-parallel-item:last-child::after {align-self: flex-start;width: 50%;}#sk-container-id-1 div.sk-parallel-item:only-child::after {width: 0;}#sk-container-id-1 div.sk-dashed-wrapped {border: 1px dashed gray;margin: 0 0.4em 0.5em 0.4em;box-sizing: border-box;padding-bottom: 0.4em;background-color: white;}#sk-container-id-1 div.sk-label label {font-family: monospace;font-weight: bold;display: inline-block;line-height: 1.2em;}#sk-container-id-1 div.sk-label-container {text-align: center;}#sk-container-id-1 div.sk-container {/* jupyter's `normalize.less` sets `[hidden] { display: none; }` but bootstrap.min.css set `[hidden] { display: none !important; }` so we also need the `!important` here to be able to override the default hidden behavior on the sphinx rendered scikit-learn.org. See: https://github.com/scikit-learn/scikit-learn/issues/21755 */display: inline-block !important;position: relative;}#sk-container-id-1 div.sk-text-repr-fallback {display: none;}</style><div id=\"sk-container-id-1\" class=\"sk-top-container\"><div class=\"sk-text-repr-fallback\"><pre>LogisticRegression()</pre><b>In a Jupyter environment, please rerun this cell to show the HTML representation or trust the notebook. <br />On GitHub, the HTML representation is unable to render, please try loading this page with nbviewer.org.</b></div><div class=\"sk-container\" hidden><div class=\"sk-item\"><div class=\"sk-estimator sk-toggleable\"><input class=\"sk-toggleable__control sk-hidden--visually\" id=\"sk-estimator-id-1\" type=\"checkbox\" checked><label for=\"sk-estimator-id-1\" class=\"sk-toggleable__label sk-toggleable__label-arrow\">LogisticRegression</label><div class=\"sk-toggleable__content\"><pre>LogisticRegression()</pre></div></div></div></div></div>"
      ],
      "text/plain": [
       "LogisticRegression()"
      ]
     },
     "execution_count": 31,
     "metadata": {},
     "output_type": "execute_result"
    }
   ],
   "source": [
    "#defining and fitting the model\n",
    "lr_model = LogisticRegression()\n",
    "lr_model.fit(Xtrain,y_train)"
   ]
  },
  {
   "cell_type": "code",
   "execution_count": 32,
   "id": "9c81eb47",
   "metadata": {
    "executionInfo": {
     "elapsed": 371,
     "status": "ok",
     "timestamp": 1687290612340,
     "user": {
      "displayName": "Penina Randu",
      "userId": "09001762240323440784"
     },
     "user_tz": -180
    },
    "id": "9c81eb47"
   },
   "outputs": [],
   "source": [
    "# Make predictions\n",
    "lr_probabilities =lr_model.predict_proba(Xeval)\n",
    "lr_preds = lr_model.predict(Xeval)"
   ]
  },
  {
   "cell_type": "code",
   "execution_count": 33,
   "id": "f2e1eb5f",
   "metadata": {
    "colab": {
     "base_uri": "https://localhost:8080/"
    },
    "executionInfo": {
     "elapsed": 406,
     "status": "ok",
     "timestamp": 1687290622974,
     "user": {
      "displayName": "Penina Randu",
      "userId": "09001762240323440784"
     },
     "user_tz": -180
    },
    "id": "f2e1eb5f",
    "outputId": "969e9374-baf4-4b2a-ca51-c4d428552df9"
   },
   "outputs": [
    {
     "name": "stdout",
     "output_type": "stream",
     "text": [
      "The models AUC_score is:  0.5019502974994821\n",
      "The models probability is:  0.16615878804102432\n"
     ]
    }
   ],
   "source": [
    "#Evaluating the models performance\n",
    "# Calculate the ROC AUC score\n",
    "auc_score = roc_auc_score(y_validation,lr_preds)\n",
    "\n",
    "# Calculate the log loss\n",
    "logloss = log_loss(y_validation,lr_probabilities)\n",
    "\n",
    "print('The models AUC_score is: ',auc_score)\n",
    "print('The models probability is: ',logloss)"
   ]
  },
  {
   "attachments": {},
   "cell_type": "markdown",
   "id": "2e00da94",
   "metadata": {
    "id": "2e00da94"
   },
   "source": [
    "## Simple model #2"
   ]
  },
  {
   "cell_type": "code",
   "execution_count": 34,
   "id": "063c3dea",
   "metadata": {
    "colab": {
     "base_uri": "https://localhost:8080/",
     "height": 52
    },
    "executionInfo": {
     "elapsed": 197162,
     "status": "ok",
     "timestamp": 1687290826503,
     "user": {
      "displayName": "Penina Randu",
      "userId": "09001762240323440784"
     },
     "user_tz": -180
    },
    "id": "063c3dea",
    "outputId": "3611ca78-a46d-44b6-c875-6f8a07582c2e"
   },
   "outputs": [
    {
     "data": {
      "text/html": [
       "<style>#sk-container-id-2 {color: black;background-color: white;}#sk-container-id-2 pre{padding: 0;}#sk-container-id-2 div.sk-toggleable {background-color: white;}#sk-container-id-2 label.sk-toggleable__label {cursor: pointer;display: block;width: 100%;margin-bottom: 0;padding: 0.3em;box-sizing: border-box;text-align: center;}#sk-container-id-2 label.sk-toggleable__label-arrow:before {content: \"▸\";float: left;margin-right: 0.25em;color: #696969;}#sk-container-id-2 label.sk-toggleable__label-arrow:hover:before {color: black;}#sk-container-id-2 div.sk-estimator:hover label.sk-toggleable__label-arrow:before {color: black;}#sk-container-id-2 div.sk-toggleable__content {max-height: 0;max-width: 0;overflow: hidden;text-align: left;background-color: #f0f8ff;}#sk-container-id-2 div.sk-toggleable__content pre {margin: 0.2em;color: black;border-radius: 0.25em;background-color: #f0f8ff;}#sk-container-id-2 input.sk-toggleable__control:checked~div.sk-toggleable__content {max-height: 200px;max-width: 100%;overflow: auto;}#sk-container-id-2 input.sk-toggleable__control:checked~label.sk-toggleable__label-arrow:before {content: \"▾\";}#sk-container-id-2 div.sk-estimator input.sk-toggleable__control:checked~label.sk-toggleable__label {background-color: #d4ebff;}#sk-container-id-2 div.sk-label input.sk-toggleable__control:checked~label.sk-toggleable__label {background-color: #d4ebff;}#sk-container-id-2 input.sk-hidden--visually {border: 0;clip: rect(1px 1px 1px 1px);clip: rect(1px, 1px, 1px, 1px);height: 1px;margin: -1px;overflow: hidden;padding: 0;position: absolute;width: 1px;}#sk-container-id-2 div.sk-estimator {font-family: monospace;background-color: #f0f8ff;border: 1px dotted black;border-radius: 0.25em;box-sizing: border-box;margin-bottom: 0.5em;}#sk-container-id-2 div.sk-estimator:hover {background-color: #d4ebff;}#sk-container-id-2 div.sk-parallel-item::after {content: \"\";width: 100%;border-bottom: 1px solid gray;flex-grow: 1;}#sk-container-id-2 div.sk-label:hover label.sk-toggleable__label {background-color: #d4ebff;}#sk-container-id-2 div.sk-serial::before {content: \"\";position: absolute;border-left: 1px solid gray;box-sizing: border-box;top: 0;bottom: 0;left: 50%;z-index: 0;}#sk-container-id-2 div.sk-serial {display: flex;flex-direction: column;align-items: center;background-color: white;padding-right: 0.2em;padding-left: 0.2em;position: relative;}#sk-container-id-2 div.sk-item {position: relative;z-index: 1;}#sk-container-id-2 div.sk-parallel {display: flex;align-items: stretch;justify-content: center;background-color: white;position: relative;}#sk-container-id-2 div.sk-item::before, #sk-container-id-2 div.sk-parallel-item::before {content: \"\";position: absolute;border-left: 1px solid gray;box-sizing: border-box;top: 0;bottom: 0;left: 50%;z-index: -1;}#sk-container-id-2 div.sk-parallel-item {display: flex;flex-direction: column;z-index: 1;position: relative;background-color: white;}#sk-container-id-2 div.sk-parallel-item:first-child::after {align-self: flex-end;width: 50%;}#sk-container-id-2 div.sk-parallel-item:last-child::after {align-self: flex-start;width: 50%;}#sk-container-id-2 div.sk-parallel-item:only-child::after {width: 0;}#sk-container-id-2 div.sk-dashed-wrapped {border: 1px dashed gray;margin: 0 0.4em 0.5em 0.4em;box-sizing: border-box;padding-bottom: 0.4em;background-color: white;}#sk-container-id-2 div.sk-label label {font-family: monospace;font-weight: bold;display: inline-block;line-height: 1.2em;}#sk-container-id-2 div.sk-label-container {text-align: center;}#sk-container-id-2 div.sk-container {/* jupyter's `normalize.less` sets `[hidden] { display: none; }` but bootstrap.min.css set `[hidden] { display: none !important; }` so we also need the `!important` here to be able to override the default hidden behavior on the sphinx rendered scikit-learn.org. See: https://github.com/scikit-learn/scikit-learn/issues/21755 */display: inline-block !important;position: relative;}#sk-container-id-2 div.sk-text-repr-fallback {display: none;}</style><div id=\"sk-container-id-2\" class=\"sk-top-container\"><div class=\"sk-text-repr-fallback\"><pre>RandomForestClassifier(random_state=42)</pre><b>In a Jupyter environment, please rerun this cell to show the HTML representation or trust the notebook. <br />On GitHub, the HTML representation is unable to render, please try loading this page with nbviewer.org.</b></div><div class=\"sk-container\" hidden><div class=\"sk-item\"><div class=\"sk-estimator sk-toggleable\"><input class=\"sk-toggleable__control sk-hidden--visually\" id=\"sk-estimator-id-2\" type=\"checkbox\" checked><label for=\"sk-estimator-id-2\" class=\"sk-toggleable__label sk-toggleable__label-arrow\">RandomForestClassifier</label><div class=\"sk-toggleable__content\"><pre>RandomForestClassifier(random_state=42)</pre></div></div></div></div></div>"
      ],
      "text/plain": [
       "RandomForestClassifier(random_state=42)"
      ]
     },
     "execution_count": 34,
     "metadata": {},
     "output_type": "execute_result"
    }
   ],
   "source": [
    "rf_model =  RandomForestClassifier(random_state =42)\n",
    "rf_model.fit(Xtrain,y_train)"
   ]
  },
  {
   "cell_type": "code",
   "execution_count": 35,
   "id": "83511815",
   "metadata": {
    "executionInfo": {
     "elapsed": 15091,
     "status": "ok",
     "timestamp": 1687290854052,
     "user": {
      "displayName": "Penina Randu",
      "userId": "09001762240323440784"
     },
     "user_tz": -180
    },
    "id": "83511815"
   },
   "outputs": [],
   "source": [
    "# making prediction\n",
    "rf_probabilities = rf_model.predict_proba(Xeval)\n",
    "rf_preds = rf_model.predict(Xeval)"
   ]
  },
  {
   "cell_type": "code",
   "execution_count": 36,
   "id": "4a2458e9",
   "metadata": {
    "colab": {
     "base_uri": "https://localhost:8080/"
    },
    "executionInfo": {
     "elapsed": 382,
     "status": "ok",
     "timestamp": 1687290861071,
     "user": {
      "displayName": "Penina Randu",
      "userId": "09001762240323440784"
     },
     "user_tz": -180
    },
    "id": "4a2458e9",
    "outputId": "1f0ba3e5-2afd-468f-a378-f4c27589b06d"
   },
   "outputs": [
    {
     "name": "stdout",
     "output_type": "stream",
     "text": [
      "The models AUC_score is:  0.5740564292834717\n",
      "The models probability is:  0.25672761707713304\n"
     ]
    }
   ],
   "source": [
    "#Evaluating model performance\n",
    "# Calculate the ROC AUC score\n",
    "rf_auc_score = roc_auc_score(y_validation,rf_preds)\n",
    "\n",
    "# Calculate the log loss\n",
    "rf_logloss = log_loss(y_validation,rf_probabilities)\n",
    "\n",
    "print('The models AUC_score is: ',rf_auc_score)\n",
    "print('The models probability is: ',rf_logloss)"
   ]
  },
  {
   "attachments": {},
   "cell_type": "markdown",
   "id": "76f4f26b",
   "metadata": {
    "id": "76f4f26b"
   },
   "source": [
    "## Simple model #3"
   ]
  },
  {
   "cell_type": "code",
   "execution_count": 37,
   "id": "eecc6b39",
   "metadata": {
    "colab": {
     "base_uri": "https://localhost:8080/",
     "height": 52
    },
    "executionInfo": {
     "elapsed": 14494,
     "status": "ok",
     "timestamp": 1687290880496,
     "user": {
      "displayName": "Penina Randu",
      "userId": "09001762240323440784"
     },
     "user_tz": -180
    },
    "id": "eecc6b39",
    "outputId": "bc9596fc-3903-4fcf-e773-b29ec9aa28ae"
   },
   "outputs": [
    {
     "data": {
      "text/html": [
       "<style>#sk-container-id-3 {color: black;background-color: white;}#sk-container-id-3 pre{padding: 0;}#sk-container-id-3 div.sk-toggleable {background-color: white;}#sk-container-id-3 label.sk-toggleable__label {cursor: pointer;display: block;width: 100%;margin-bottom: 0;padding: 0.3em;box-sizing: border-box;text-align: center;}#sk-container-id-3 label.sk-toggleable__label-arrow:before {content: \"▸\";float: left;margin-right: 0.25em;color: #696969;}#sk-container-id-3 label.sk-toggleable__label-arrow:hover:before {color: black;}#sk-container-id-3 div.sk-estimator:hover label.sk-toggleable__label-arrow:before {color: black;}#sk-container-id-3 div.sk-toggleable__content {max-height: 0;max-width: 0;overflow: hidden;text-align: left;background-color: #f0f8ff;}#sk-container-id-3 div.sk-toggleable__content pre {margin: 0.2em;color: black;border-radius: 0.25em;background-color: #f0f8ff;}#sk-container-id-3 input.sk-toggleable__control:checked~div.sk-toggleable__content {max-height: 200px;max-width: 100%;overflow: auto;}#sk-container-id-3 input.sk-toggleable__control:checked~label.sk-toggleable__label-arrow:before {content: \"▾\";}#sk-container-id-3 div.sk-estimator input.sk-toggleable__control:checked~label.sk-toggleable__label {background-color: #d4ebff;}#sk-container-id-3 div.sk-label input.sk-toggleable__control:checked~label.sk-toggleable__label {background-color: #d4ebff;}#sk-container-id-3 input.sk-hidden--visually {border: 0;clip: rect(1px 1px 1px 1px);clip: rect(1px, 1px, 1px, 1px);height: 1px;margin: -1px;overflow: hidden;padding: 0;position: absolute;width: 1px;}#sk-container-id-3 div.sk-estimator {font-family: monospace;background-color: #f0f8ff;border: 1px dotted black;border-radius: 0.25em;box-sizing: border-box;margin-bottom: 0.5em;}#sk-container-id-3 div.sk-estimator:hover {background-color: #d4ebff;}#sk-container-id-3 div.sk-parallel-item::after {content: \"\";width: 100%;border-bottom: 1px solid gray;flex-grow: 1;}#sk-container-id-3 div.sk-label:hover label.sk-toggleable__label {background-color: #d4ebff;}#sk-container-id-3 div.sk-serial::before {content: \"\";position: absolute;border-left: 1px solid gray;box-sizing: border-box;top: 0;bottom: 0;left: 50%;z-index: 0;}#sk-container-id-3 div.sk-serial {display: flex;flex-direction: column;align-items: center;background-color: white;padding-right: 0.2em;padding-left: 0.2em;position: relative;}#sk-container-id-3 div.sk-item {position: relative;z-index: 1;}#sk-container-id-3 div.sk-parallel {display: flex;align-items: stretch;justify-content: center;background-color: white;position: relative;}#sk-container-id-3 div.sk-item::before, #sk-container-id-3 div.sk-parallel-item::before {content: \"\";position: absolute;border-left: 1px solid gray;box-sizing: border-box;top: 0;bottom: 0;left: 50%;z-index: -1;}#sk-container-id-3 div.sk-parallel-item {display: flex;flex-direction: column;z-index: 1;position: relative;background-color: white;}#sk-container-id-3 div.sk-parallel-item:first-child::after {align-self: flex-end;width: 50%;}#sk-container-id-3 div.sk-parallel-item:last-child::after {align-self: flex-start;width: 50%;}#sk-container-id-3 div.sk-parallel-item:only-child::after {width: 0;}#sk-container-id-3 div.sk-dashed-wrapped {border: 1px dashed gray;margin: 0 0.4em 0.5em 0.4em;box-sizing: border-box;padding-bottom: 0.4em;background-color: white;}#sk-container-id-3 div.sk-label label {font-family: monospace;font-weight: bold;display: inline-block;line-height: 1.2em;}#sk-container-id-3 div.sk-label-container {text-align: center;}#sk-container-id-3 div.sk-container {/* jupyter's `normalize.less` sets `[hidden] { display: none; }` but bootstrap.min.css set `[hidden] { display: none !important; }` so we also need the `!important` here to be able to override the default hidden behavior on the sphinx rendered scikit-learn.org. See: https://github.com/scikit-learn/scikit-learn/issues/21755 */display: inline-block !important;position: relative;}#sk-container-id-3 div.sk-text-repr-fallback {display: none;}</style><div id=\"sk-container-id-3\" class=\"sk-top-container\"><div class=\"sk-text-repr-fallback\"><pre>DecisionTreeClassifier()</pre><b>In a Jupyter environment, please rerun this cell to show the HTML representation or trust the notebook. <br />On GitHub, the HTML representation is unable to render, please try loading this page with nbviewer.org.</b></div><div class=\"sk-container\" hidden><div class=\"sk-item\"><div class=\"sk-estimator sk-toggleable\"><input class=\"sk-toggleable__control sk-hidden--visually\" id=\"sk-estimator-id-3\" type=\"checkbox\" checked><label for=\"sk-estimator-id-3\" class=\"sk-toggleable__label sk-toggleable__label-arrow\">DecisionTreeClassifier</label><div class=\"sk-toggleable__content\"><pre>DecisionTreeClassifier()</pre></div></div></div></div></div>"
      ],
      "text/plain": [
       "DecisionTreeClassifier()"
      ]
     },
     "execution_count": 37,
     "metadata": {},
     "output_type": "execute_result"
    }
   ],
   "source": [
    "dt_model = DecisionTreeClassifier()\n",
    "dt_model.fit(Xtrain,y_train)"
   ]
  },
  {
   "cell_type": "code",
   "execution_count": 38,
   "id": "8dba5e9e",
   "metadata": {
    "executionInfo": {
     "elapsed": 388,
     "status": "ok",
     "timestamp": 1687290889110,
     "user": {
      "displayName": "Penina Randu",
      "userId": "09001762240323440784"
     },
     "user_tz": -180
    },
    "id": "8dba5e9e"
   },
   "outputs": [],
   "source": [
    "# making prediction\n",
    "dt_probabilities = dt_model.predict_proba(Xeval)\n",
    "dt_preds = dt_model.predict(Xeval)"
   ]
  },
  {
   "cell_type": "code",
   "execution_count": 39,
   "id": "2243f052",
   "metadata": {
    "colab": {
     "base_uri": "https://localhost:8080/"
    },
    "executionInfo": {
     "elapsed": 374,
     "status": "ok",
     "timestamp": 1687290892457,
     "user": {
      "displayName": "Penina Randu",
      "userId": "09001762240323440784"
     },
     "user_tz": -180
    },
    "id": "2243f052",
    "outputId": "b399796c-1ff2-4ea3-c59f-69db83ccba15"
   },
   "outputs": [
    {
     "name": "stdout",
     "output_type": "stream",
     "text": [
      "The models AUC_score is:  0.6047292356527029\n",
      "The models probability is:  3.33614804368746\n"
     ]
    }
   ],
   "source": [
    "#Evaluationg model performance\n",
    "# Calculate the ROC AUC score\n",
    "dt_auc_score = roc_auc_score(y_validation,dt_preds)\n",
    "\n",
    "# Calculate the log loss\n",
    "dt_logloss = log_loss(y_validation,dt_probabilities)\n",
    "\n",
    "print('The models AUC_score is: ',dt_auc_score)\n",
    "print('The models probability is: ',dt_logloss)"
   ]
  },
  {
   "attachments": {},
   "cell_type": "markdown",
   "id": "3ca97ac7",
   "metadata": {
    "id": "3ca97ac7"
   },
   "source": [
    "## Simple model #4"
   ]
  },
  {
   "cell_type": "code",
   "execution_count": 40,
   "id": "2dd6c418",
   "metadata": {
    "colab": {
     "base_uri": "https://localhost:8080/",
     "height": 52
    },
    "executionInfo": {
     "elapsed": 228111,
     "status": "ok",
     "timestamp": 1687291124145,
     "user": {
      "displayName": "Penina Randu",
      "userId": "09001762240323440784"
     },
     "user_tz": -180
    },
    "id": "2dd6c418",
    "outputId": "05ea972d-54e2-4f47-f7a3-5572eb597975"
   },
   "outputs": [
    {
     "data": {
      "text/html": [
       "<style>#sk-container-id-4 {color: black;background-color: white;}#sk-container-id-4 pre{padding: 0;}#sk-container-id-4 div.sk-toggleable {background-color: white;}#sk-container-id-4 label.sk-toggleable__label {cursor: pointer;display: block;width: 100%;margin-bottom: 0;padding: 0.3em;box-sizing: border-box;text-align: center;}#sk-container-id-4 label.sk-toggleable__label-arrow:before {content: \"▸\";float: left;margin-right: 0.25em;color: #696969;}#sk-container-id-4 label.sk-toggleable__label-arrow:hover:before {color: black;}#sk-container-id-4 div.sk-estimator:hover label.sk-toggleable__label-arrow:before {color: black;}#sk-container-id-4 div.sk-toggleable__content {max-height: 0;max-width: 0;overflow: hidden;text-align: left;background-color: #f0f8ff;}#sk-container-id-4 div.sk-toggleable__content pre {margin: 0.2em;color: black;border-radius: 0.25em;background-color: #f0f8ff;}#sk-container-id-4 input.sk-toggleable__control:checked~div.sk-toggleable__content {max-height: 200px;max-width: 100%;overflow: auto;}#sk-container-id-4 input.sk-toggleable__control:checked~label.sk-toggleable__label-arrow:before {content: \"▾\";}#sk-container-id-4 div.sk-estimator input.sk-toggleable__control:checked~label.sk-toggleable__label {background-color: #d4ebff;}#sk-container-id-4 div.sk-label input.sk-toggleable__control:checked~label.sk-toggleable__label {background-color: #d4ebff;}#sk-container-id-4 input.sk-hidden--visually {border: 0;clip: rect(1px 1px 1px 1px);clip: rect(1px, 1px, 1px, 1px);height: 1px;margin: -1px;overflow: hidden;padding: 0;position: absolute;width: 1px;}#sk-container-id-4 div.sk-estimator {font-family: monospace;background-color: #f0f8ff;border: 1px dotted black;border-radius: 0.25em;box-sizing: border-box;margin-bottom: 0.5em;}#sk-container-id-4 div.sk-estimator:hover {background-color: #d4ebff;}#sk-container-id-4 div.sk-parallel-item::after {content: \"\";width: 100%;border-bottom: 1px solid gray;flex-grow: 1;}#sk-container-id-4 div.sk-label:hover label.sk-toggleable__label {background-color: #d4ebff;}#sk-container-id-4 div.sk-serial::before {content: \"\";position: absolute;border-left: 1px solid gray;box-sizing: border-box;top: 0;bottom: 0;left: 50%;z-index: 0;}#sk-container-id-4 div.sk-serial {display: flex;flex-direction: column;align-items: center;background-color: white;padding-right: 0.2em;padding-left: 0.2em;position: relative;}#sk-container-id-4 div.sk-item {position: relative;z-index: 1;}#sk-container-id-4 div.sk-parallel {display: flex;align-items: stretch;justify-content: center;background-color: white;position: relative;}#sk-container-id-4 div.sk-item::before, #sk-container-id-4 div.sk-parallel-item::before {content: \"\";position: absolute;border-left: 1px solid gray;box-sizing: border-box;top: 0;bottom: 0;left: 50%;z-index: -1;}#sk-container-id-4 div.sk-parallel-item {display: flex;flex-direction: column;z-index: 1;position: relative;background-color: white;}#sk-container-id-4 div.sk-parallel-item:first-child::after {align-self: flex-end;width: 50%;}#sk-container-id-4 div.sk-parallel-item:last-child::after {align-self: flex-start;width: 50%;}#sk-container-id-4 div.sk-parallel-item:only-child::after {width: 0;}#sk-container-id-4 div.sk-dashed-wrapped {border: 1px dashed gray;margin: 0 0.4em 0.5em 0.4em;box-sizing: border-box;padding-bottom: 0.4em;background-color: white;}#sk-container-id-4 div.sk-label label {font-family: monospace;font-weight: bold;display: inline-block;line-height: 1.2em;}#sk-container-id-4 div.sk-label-container {text-align: center;}#sk-container-id-4 div.sk-container {/* jupyter's `normalize.less` sets `[hidden] { display: none; }` but bootstrap.min.css set `[hidden] { display: none !important; }` so we also need the `!important` here to be able to override the default hidden behavior on the sphinx rendered scikit-learn.org. See: https://github.com/scikit-learn/scikit-learn/issues/21755 */display: inline-block !important;position: relative;}#sk-container-id-4 div.sk-text-repr-fallback {display: none;}</style><div id=\"sk-container-id-4\" class=\"sk-top-container\"><div class=\"sk-text-repr-fallback\"><pre>GradientBoostingClassifier()</pre><b>In a Jupyter environment, please rerun this cell to show the HTML representation or trust the notebook. <br />On GitHub, the HTML representation is unable to render, please try loading this page with nbviewer.org.</b></div><div class=\"sk-container\" hidden><div class=\"sk-item\"><div class=\"sk-estimator sk-toggleable\"><input class=\"sk-toggleable__control sk-hidden--visually\" id=\"sk-estimator-id-4\" type=\"checkbox\" checked><label for=\"sk-estimator-id-4\" class=\"sk-toggleable__label sk-toggleable__label-arrow\">GradientBoostingClassifier</label><div class=\"sk-toggleable__content\"><pre>GradientBoostingClassifier()</pre></div></div></div></div></div>"
      ],
      "text/plain": [
       "GradientBoostingClassifier()"
      ]
     },
     "execution_count": 40,
     "metadata": {},
     "output_type": "execute_result"
    }
   ],
   "source": [
    "gb_model =  GradientBoostingClassifier()\n",
    "gb_model.fit(Xtrain,y_train)"
   ]
  },
  {
   "cell_type": "code",
   "execution_count": 41,
   "id": "eb0cbc1e",
   "metadata": {
    "executionInfo": {
     "elapsed": 1344,
     "status": "ok",
     "timestamp": 1687291133678,
     "user": {
      "displayName": "Penina Randu",
      "userId": "09001762240323440784"
     },
     "user_tz": -180
    },
    "id": "eb0cbc1e"
   },
   "outputs": [],
   "source": [
    "# making prediction\n",
    "gb_probabilities = gb_model.predict_proba(Xeval)\n",
    "gb_preds = gb_model.predict(Xeval)"
   ]
  },
  {
   "cell_type": "code",
   "execution_count": 42,
   "id": "526d3ee1",
   "metadata": {
    "colab": {
     "base_uri": "https://localhost:8080/"
    },
    "executionInfo": {
     "elapsed": 394,
     "status": "ok",
     "timestamp": 1687291137373,
     "user": {
      "displayName": "Penina Randu",
      "userId": "09001762240323440784"
     },
     "user_tz": -180
    },
    "id": "526d3ee1",
    "outputId": "2aac7d59-ea22-4195-fa40-e7a76f10dadb"
   },
   "outputs": [
    {
     "name": "stdout",
     "output_type": "stream",
     "text": [
      "The models AUC_score is:  0.5416567014488735\n",
      "The models probability is:  0.16095585591059336\n"
     ]
    }
   ],
   "source": [
    "#Evaluationg model performance\n",
    "# Calculate the ROC AUC score\n",
    "gb_auc_score = roc_auc_score(y_validation,gb_preds)\n",
    "\n",
    "# Calculate the log loss\n",
    "gb_logloss = log_loss(y_validation,gb_probabilities)\n",
    "\n",
    "print('The models AUC_score is: ',gb_auc_score)\n",
    "print('The models probability is: ',gb_logloss)"
   ]
  },
  {
   "attachments": {},
   "cell_type": "markdown",
   "id": "a292ed75",
   "metadata": {
    "id": "a292ed75"
   },
   "source": [
    "## Simple model #5"
   ]
  },
  {
   "cell_type": "code",
   "execution_count": 43,
   "id": "d6cfd967",
   "metadata": {
    "colab": {
     "base_uri": "https://localhost:8080/",
     "height": 52
    },
    "executionInfo": {
     "elapsed": 641,
     "status": "ok",
     "timestamp": 1687291144317,
     "user": {
      "displayName": "Penina Randu",
      "userId": "09001762240323440784"
     },
     "user_tz": -180
    },
    "id": "d6cfd967",
    "outputId": "cc254b48-6e90-4b35-b889-ac1c436d1f44"
   },
   "outputs": [
    {
     "data": {
      "text/html": [
       "<style>#sk-container-id-5 {color: black;background-color: white;}#sk-container-id-5 pre{padding: 0;}#sk-container-id-5 div.sk-toggleable {background-color: white;}#sk-container-id-5 label.sk-toggleable__label {cursor: pointer;display: block;width: 100%;margin-bottom: 0;padding: 0.3em;box-sizing: border-box;text-align: center;}#sk-container-id-5 label.sk-toggleable__label-arrow:before {content: \"▸\";float: left;margin-right: 0.25em;color: #696969;}#sk-container-id-5 label.sk-toggleable__label-arrow:hover:before {color: black;}#sk-container-id-5 div.sk-estimator:hover label.sk-toggleable__label-arrow:before {color: black;}#sk-container-id-5 div.sk-toggleable__content {max-height: 0;max-width: 0;overflow: hidden;text-align: left;background-color: #f0f8ff;}#sk-container-id-5 div.sk-toggleable__content pre {margin: 0.2em;color: black;border-radius: 0.25em;background-color: #f0f8ff;}#sk-container-id-5 input.sk-toggleable__control:checked~div.sk-toggleable__content {max-height: 200px;max-width: 100%;overflow: auto;}#sk-container-id-5 input.sk-toggleable__control:checked~label.sk-toggleable__label-arrow:before {content: \"▾\";}#sk-container-id-5 div.sk-estimator input.sk-toggleable__control:checked~label.sk-toggleable__label {background-color: #d4ebff;}#sk-container-id-5 div.sk-label input.sk-toggleable__control:checked~label.sk-toggleable__label {background-color: #d4ebff;}#sk-container-id-5 input.sk-hidden--visually {border: 0;clip: rect(1px 1px 1px 1px);clip: rect(1px, 1px, 1px, 1px);height: 1px;margin: -1px;overflow: hidden;padding: 0;position: absolute;width: 1px;}#sk-container-id-5 div.sk-estimator {font-family: monospace;background-color: #f0f8ff;border: 1px dotted black;border-radius: 0.25em;box-sizing: border-box;margin-bottom: 0.5em;}#sk-container-id-5 div.sk-estimator:hover {background-color: #d4ebff;}#sk-container-id-5 div.sk-parallel-item::after {content: \"\";width: 100%;border-bottom: 1px solid gray;flex-grow: 1;}#sk-container-id-5 div.sk-label:hover label.sk-toggleable__label {background-color: #d4ebff;}#sk-container-id-5 div.sk-serial::before {content: \"\";position: absolute;border-left: 1px solid gray;box-sizing: border-box;top: 0;bottom: 0;left: 50%;z-index: 0;}#sk-container-id-5 div.sk-serial {display: flex;flex-direction: column;align-items: center;background-color: white;padding-right: 0.2em;padding-left: 0.2em;position: relative;}#sk-container-id-5 div.sk-item {position: relative;z-index: 1;}#sk-container-id-5 div.sk-parallel {display: flex;align-items: stretch;justify-content: center;background-color: white;position: relative;}#sk-container-id-5 div.sk-item::before, #sk-container-id-5 div.sk-parallel-item::before {content: \"\";position: absolute;border-left: 1px solid gray;box-sizing: border-box;top: 0;bottom: 0;left: 50%;z-index: -1;}#sk-container-id-5 div.sk-parallel-item {display: flex;flex-direction: column;z-index: 1;position: relative;background-color: white;}#sk-container-id-5 div.sk-parallel-item:first-child::after {align-self: flex-end;width: 50%;}#sk-container-id-5 div.sk-parallel-item:last-child::after {align-self: flex-start;width: 50%;}#sk-container-id-5 div.sk-parallel-item:only-child::after {width: 0;}#sk-container-id-5 div.sk-dashed-wrapped {border: 1px dashed gray;margin: 0 0.4em 0.5em 0.4em;box-sizing: border-box;padding-bottom: 0.4em;background-color: white;}#sk-container-id-5 div.sk-label label {font-family: monospace;font-weight: bold;display: inline-block;line-height: 1.2em;}#sk-container-id-5 div.sk-label-container {text-align: center;}#sk-container-id-5 div.sk-container {/* jupyter's `normalize.less` sets `[hidden] { display: none; }` but bootstrap.min.css set `[hidden] { display: none !important; }` so we also need the `!important` here to be able to override the default hidden behavior on the sphinx rendered scikit-learn.org. See: https://github.com/scikit-learn/scikit-learn/issues/21755 */display: inline-block !important;position: relative;}#sk-container-id-5 div.sk-text-repr-fallback {display: none;}</style><div id=\"sk-container-id-5\" class=\"sk-top-container\"><div class=\"sk-text-repr-fallback\"><pre>GaussianNB()</pre><b>In a Jupyter environment, please rerun this cell to show the HTML representation or trust the notebook. <br />On GitHub, the HTML representation is unable to render, please try loading this page with nbviewer.org.</b></div><div class=\"sk-container\" hidden><div class=\"sk-item\"><div class=\"sk-estimator sk-toggleable\"><input class=\"sk-toggleable__control sk-hidden--visually\" id=\"sk-estimator-id-5\" type=\"checkbox\" checked><label for=\"sk-estimator-id-5\" class=\"sk-toggleable__label sk-toggleable__label-arrow\">GaussianNB</label><div class=\"sk-toggleable__content\"><pre>GaussianNB()</pre></div></div></div></div></div>"
      ],
      "text/plain": [
       "GaussianNB()"
      ]
     },
     "execution_count": 43,
     "metadata": {},
     "output_type": "execute_result"
    }
   ],
   "source": [
    "gaussian_model = GaussianNB()\n",
    "gaussian_model.fit(Xtrain,y_train)"
   ]
  },
  {
   "cell_type": "code",
   "execution_count": 46,
   "id": "G8lSAhLSSlRd",
   "metadata": {
    "executionInfo": {
     "elapsed": 364,
     "status": "ok",
     "timestamp": 1687291192878,
     "user": {
      "displayName": "Penina Randu",
      "userId": "09001762240323440784"
     },
     "user_tz": -180
    },
    "id": "G8lSAhLSSlRd"
   },
   "outputs": [],
   "source": [
    "# making prediction\n",
    "gaussian_probabilities = gaussian_model.predict_proba(Xeval)\n",
    "gaussian_preds = gaussian_model.predict(Xeval)"
   ]
  },
  {
   "cell_type": "code",
   "execution_count": 47,
   "id": "0176dd28",
   "metadata": {
    "colab": {
     "base_uri": "https://localhost:8080/"
    },
    "executionInfo": {
     "elapsed": 381,
     "status": "ok",
     "timestamp": 1687291195549,
     "user": {
      "displayName": "Penina Randu",
      "userId": "09001762240323440784"
     },
     "user_tz": -180
    },
    "id": "0176dd28",
    "outputId": "bdf5f6e6-3181-4193-f263-87d7de346144"
   },
   "outputs": [
    {
     "name": "stdout",
     "output_type": "stream",
     "text": [
      "The models AUC_score is:  0.7467992023707091\n",
      "The models probability is:  6.206523436210097\n"
     ]
    }
   ],
   "source": [
    "#Evaluationg model performance\n",
    "# Calculate the ROC AUC score\n",
    "gaussian_auc_score = roc_auc_score(y_validation,gaussian_preds)\n",
    "\n",
    "# Calculate the log loss\n",
    "gaussian_logloss = log_loss(y_validation,gaussian_probabilities)\n",
    "\n",
    "print('The models AUC_score is: ',gaussian_auc_score)\n",
    "print('The models probability is: ',gaussian_logloss)"
   ]
  },
  {
   "attachments": {},
   "cell_type": "markdown",
   "id": "55aaa2df",
   "metadata": {
    "id": "55aaa2df"
   },
   "source": [
    "## Simple Model #6"
   ]
  },
  {
   "cell_type": "code",
   "execution_count": 48,
   "id": "d4a2fd57",
   "metadata": {
    "colab": {
     "base_uri": "https://localhost:8080/",
     "height": 52
    },
    "executionInfo": {
     "elapsed": 175776,
     "status": "ok",
     "timestamp": 1687291377344,
     "user": {
      "displayName": "Penina Randu",
      "userId": "09001762240323440784"
     },
     "user_tz": -180
    },
    "id": "d4a2fd57",
    "outputId": "51fdf1a0-9286-4555-c37c-084fed0a2e85"
   },
   "outputs": [
    {
     "data": {
      "text/html": [
       "<style>#sk-container-id-6 {color: black;background-color: white;}#sk-container-id-6 pre{padding: 0;}#sk-container-id-6 div.sk-toggleable {background-color: white;}#sk-container-id-6 label.sk-toggleable__label {cursor: pointer;display: block;width: 100%;margin-bottom: 0;padding: 0.3em;box-sizing: border-box;text-align: center;}#sk-container-id-6 label.sk-toggleable__label-arrow:before {content: \"▸\";float: left;margin-right: 0.25em;color: #696969;}#sk-container-id-6 label.sk-toggleable__label-arrow:hover:before {color: black;}#sk-container-id-6 div.sk-estimator:hover label.sk-toggleable__label-arrow:before {color: black;}#sk-container-id-6 div.sk-toggleable__content {max-height: 0;max-width: 0;overflow: hidden;text-align: left;background-color: #f0f8ff;}#sk-container-id-6 div.sk-toggleable__content pre {margin: 0.2em;color: black;border-radius: 0.25em;background-color: #f0f8ff;}#sk-container-id-6 input.sk-toggleable__control:checked~div.sk-toggleable__content {max-height: 200px;max-width: 100%;overflow: auto;}#sk-container-id-6 input.sk-toggleable__control:checked~label.sk-toggleable__label-arrow:before {content: \"▾\";}#sk-container-id-6 div.sk-estimator input.sk-toggleable__control:checked~label.sk-toggleable__label {background-color: #d4ebff;}#sk-container-id-6 div.sk-label input.sk-toggleable__control:checked~label.sk-toggleable__label {background-color: #d4ebff;}#sk-container-id-6 input.sk-hidden--visually {border: 0;clip: rect(1px 1px 1px 1px);clip: rect(1px, 1px, 1px, 1px);height: 1px;margin: -1px;overflow: hidden;padding: 0;position: absolute;width: 1px;}#sk-container-id-6 div.sk-estimator {font-family: monospace;background-color: #f0f8ff;border: 1px dotted black;border-radius: 0.25em;box-sizing: border-box;margin-bottom: 0.5em;}#sk-container-id-6 div.sk-estimator:hover {background-color: #d4ebff;}#sk-container-id-6 div.sk-parallel-item::after {content: \"\";width: 100%;border-bottom: 1px solid gray;flex-grow: 1;}#sk-container-id-6 div.sk-label:hover label.sk-toggleable__label {background-color: #d4ebff;}#sk-container-id-6 div.sk-serial::before {content: \"\";position: absolute;border-left: 1px solid gray;box-sizing: border-box;top: 0;bottom: 0;left: 50%;z-index: 0;}#sk-container-id-6 div.sk-serial {display: flex;flex-direction: column;align-items: center;background-color: white;padding-right: 0.2em;padding-left: 0.2em;position: relative;}#sk-container-id-6 div.sk-item {position: relative;z-index: 1;}#sk-container-id-6 div.sk-parallel {display: flex;align-items: stretch;justify-content: center;background-color: white;position: relative;}#sk-container-id-6 div.sk-item::before, #sk-container-id-6 div.sk-parallel-item::before {content: \"\";position: absolute;border-left: 1px solid gray;box-sizing: border-box;top: 0;bottom: 0;left: 50%;z-index: -1;}#sk-container-id-6 div.sk-parallel-item {display: flex;flex-direction: column;z-index: 1;position: relative;background-color: white;}#sk-container-id-6 div.sk-parallel-item:first-child::after {align-self: flex-end;width: 50%;}#sk-container-id-6 div.sk-parallel-item:last-child::after {align-self: flex-start;width: 50%;}#sk-container-id-6 div.sk-parallel-item:only-child::after {width: 0;}#sk-container-id-6 div.sk-dashed-wrapped {border: 1px dashed gray;margin: 0 0.4em 0.5em 0.4em;box-sizing: border-box;padding-bottom: 0.4em;background-color: white;}#sk-container-id-6 div.sk-label label {font-family: monospace;font-weight: bold;display: inline-block;line-height: 1.2em;}#sk-container-id-6 div.sk-label-container {text-align: center;}#sk-container-id-6 div.sk-container {/* jupyter's `normalize.less` sets `[hidden] { display: none; }` but bootstrap.min.css set `[hidden] { display: none !important; }` so we also need the `!important` here to be able to override the default hidden behavior on the sphinx rendered scikit-learn.org. See: https://github.com/scikit-learn/scikit-learn/issues/21755 */display: inline-block !important;position: relative;}#sk-container-id-6 div.sk-text-repr-fallback {display: none;}</style><div id=\"sk-container-id-6\" class=\"sk-top-container\"><div class=\"sk-text-repr-fallback\"><pre>XGBClassifier(base_score=None, booster=None, callbacks=None,\n",
       "              colsample_bylevel=None, colsample_bynode=None,\n",
       "              colsample_bytree=None, early_stopping_rounds=None,\n",
       "              enable_categorical=False, eval_metric=None, feature_types=None,\n",
       "              gamma=None, gpu_id=None, grow_policy=None, importance_type=None,\n",
       "              interaction_constraints=None, learning_rate=None, max_bin=None,\n",
       "              max_cat_threshold=None, max_cat_to_onehot=None,\n",
       "              max_delta_step=None, max_depth=None, max_leaves=None,\n",
       "              min_child_weight=None, missing=nan, monotone_constraints=None,\n",
       "              n_estimators=100, n_jobs=None, num_parallel_tree=None,\n",
       "              predictor=None, random_state=None, ...)</pre><b>In a Jupyter environment, please rerun this cell to show the HTML representation or trust the notebook. <br />On GitHub, the HTML representation is unable to render, please try loading this page with nbviewer.org.</b></div><div class=\"sk-container\" hidden><div class=\"sk-item\"><div class=\"sk-estimator sk-toggleable\"><input class=\"sk-toggleable__control sk-hidden--visually\" id=\"sk-estimator-id-6\" type=\"checkbox\" checked><label for=\"sk-estimator-id-6\" class=\"sk-toggleable__label sk-toggleable__label-arrow\">XGBClassifier</label><div class=\"sk-toggleable__content\"><pre>XGBClassifier(base_score=None, booster=None, callbacks=None,\n",
       "              colsample_bylevel=None, colsample_bynode=None,\n",
       "              colsample_bytree=None, early_stopping_rounds=None,\n",
       "              enable_categorical=False, eval_metric=None, feature_types=None,\n",
       "              gamma=None, gpu_id=None, grow_policy=None, importance_type=None,\n",
       "              interaction_constraints=None, learning_rate=None, max_bin=None,\n",
       "              max_cat_threshold=None, max_cat_to_onehot=None,\n",
       "              max_delta_step=None, max_depth=None, max_leaves=None,\n",
       "              min_child_weight=None, missing=nan, monotone_constraints=None,\n",
       "              n_estimators=100, n_jobs=None, num_parallel_tree=None,\n",
       "              predictor=None, random_state=None, ...)</pre></div></div></div></div></div>"
      ],
      "text/plain": [
       "XGBClassifier(base_score=None, booster=None, callbacks=None,\n",
       "              colsample_bylevel=None, colsample_bynode=None,\n",
       "              colsample_bytree=None, early_stopping_rounds=None,\n",
       "              enable_categorical=False, eval_metric=None, feature_types=None,\n",
       "              gamma=None, gpu_id=None, grow_policy=None, importance_type=None,\n",
       "              interaction_constraints=None, learning_rate=None, max_bin=None,\n",
       "              max_cat_threshold=None, max_cat_to_onehot=None,\n",
       "              max_delta_step=None, max_depth=None, max_leaves=None,\n",
       "              min_child_weight=None, missing=nan, monotone_constraints=None,\n",
       "              n_estimators=100, n_jobs=None, num_parallel_tree=None,\n",
       "              predictor=None, random_state=None, ...)"
      ]
     },
     "execution_count": 48,
     "metadata": {},
     "output_type": "execute_result"
    }
   ],
   "source": [
    "xgb_model = xgb.XGBClassifier()\n",
    "xgb_model.fit(Xtrain,y_train)"
   ]
  },
  {
   "cell_type": "code",
   "execution_count": 49,
   "id": "d7ec812b",
   "metadata": {
    "executionInfo": {
     "elapsed": 979,
     "status": "ok",
     "timestamp": 1687291389578,
     "user": {
      "displayName": "Penina Randu",
      "userId": "09001762240323440784"
     },
     "user_tz": -180
    },
    "id": "d7ec812b"
   },
   "outputs": [],
   "source": [
    "# making prediction\n",
    "xgb_probabilities = xgb_model.predict_proba(Xeval)\n",
    "xgb_preds = xgb_model.predict(Xeval)"
   ]
  },
  {
   "cell_type": "code",
   "execution_count": 50,
   "id": "cd07d7a4",
   "metadata": {
    "colab": {
     "base_uri": "https://localhost:8080/"
    },
    "executionInfo": {
     "elapsed": 378,
     "status": "ok",
     "timestamp": 1687291393634,
     "user": {
      "displayName": "Penina Randu",
      "userId": "09001762240323440784"
     },
     "user_tz": -180
    },
    "id": "cd07d7a4",
    "outputId": "1cba0b5e-419a-4d7b-b288-dd74b61dd5be"
   },
   "outputs": [
    {
     "name": "stdout",
     "output_type": "stream",
     "text": [
      "The models AUC_score is:  0.5468647732216868\n",
      "The models probability is:  0.16018894724156185\n"
     ]
    }
   ],
   "source": [
    "#Evaluationg model performance\n",
    "# Calculate the ROC AUC score\n",
    "xgb_auc_score = roc_auc_score(y_validation,xgb_preds)\n",
    "\n",
    "# Calculate the log loss\n",
    "xgb_logloss = log_loss(y_validation,xgb_probabilities)\n",
    "\n",
    "print('The models AUC_score is: ',xgb_auc_score)\n",
    "print('The models probability is: ',xgb_logloss)"
   ]
  },
  {
   "attachments": {},
   "cell_type": "markdown",
   "id": "a5eb2c37",
   "metadata": {
    "id": "a5eb2c37"
   },
   "source": [
    "## Simple model #7"
   ]
  },
  {
   "cell_type": "code",
   "execution_count": 51,
   "id": "be589595",
   "metadata": {
    "colab": {
     "base_uri": "https://localhost:8080/"
    },
    "executionInfo": {
     "elapsed": 236959,
     "status": "ok",
     "timestamp": 1687291633805,
     "user": {
      "displayName": "Penina Randu",
      "userId": "09001762240323440784"
     },
     "user_tz": -180
    },
    "id": "be589595",
    "outputId": "1a32f4ec-2942-4e3d-b067-e409172165e9"
   },
   "outputs": [
    {
     "name": "stdout",
     "output_type": "stream",
     "text": [
      "Learning rate set to 0.159187\n",
      "0:\tlearn: 0.4409889\ttotal: 252ms\tremaining: 4m 11s\n",
      "1:\tlearn: 0.3163747\ttotal: 414ms\tremaining: 3m 26s\n",
      "2:\tlearn: 0.2513298\ttotal: 579ms\tremaining: 3m 12s\n",
      "3:\tlearn: 0.2167631\ttotal: 725ms\tremaining: 3m\n",
      "4:\tlearn: 0.1950798\ttotal: 870ms\tremaining: 2m 53s\n",
      "5:\tlearn: 0.1808120\ttotal: 1.03s\tremaining: 2m 50s\n",
      "6:\tlearn: 0.1734381\ttotal: 1.18s\tremaining: 2m 47s\n",
      "7:\tlearn: 0.1677562\ttotal: 1.32s\tremaining: 2m 43s\n",
      "8:\tlearn: 0.1638441\ttotal: 1.48s\tremaining: 2m 43s\n",
      "9:\tlearn: 0.1615662\ttotal: 1.62s\tremaining: 2m 40s\n",
      "10:\tlearn: 0.1600812\ttotal: 1.78s\tremaining: 2m 40s\n",
      "11:\tlearn: 0.1588094\ttotal: 1.94s\tremaining: 2m 39s\n",
      "12:\tlearn: 0.1578122\ttotal: 2.09s\tremaining: 2m 39s\n",
      "13:\tlearn: 0.1571558\ttotal: 2.24s\tremaining: 2m 37s\n",
      "14:\tlearn: 0.1565114\ttotal: 2.39s\tremaining: 2m 37s\n",
      "15:\tlearn: 0.1562919\ttotal: 2.53s\tremaining: 2m 35s\n",
      "16:\tlearn: 0.1558231\ttotal: 2.69s\tremaining: 2m 35s\n",
      "17:\tlearn: 0.1554710\ttotal: 2.85s\tremaining: 2m 35s\n",
      "18:\tlearn: 0.1552802\ttotal: 3.01s\tremaining: 2m 35s\n",
      "19:\tlearn: 0.1551886\ttotal: 3.15s\tremaining: 2m 34s\n",
      "20:\tlearn: 0.1550020\ttotal: 3.29s\tremaining: 2m 33s\n",
      "21:\tlearn: 0.1548336\ttotal: 3.45s\tremaining: 2m 33s\n",
      "22:\tlearn: 0.1547466\ttotal: 3.58s\tremaining: 2m 32s\n",
      "23:\tlearn: 0.1546834\ttotal: 3.73s\tremaining: 2m 31s\n",
      "24:\tlearn: 0.1544845\ttotal: 3.88s\tremaining: 2m 31s\n",
      "25:\tlearn: 0.1543794\ttotal: 4.03s\tremaining: 2m 31s\n",
      "26:\tlearn: 0.1543406\ttotal: 4.18s\tremaining: 2m 30s\n",
      "27:\tlearn: 0.1542076\ttotal: 4.32s\tremaining: 2m 30s\n",
      "28:\tlearn: 0.1541406\ttotal: 4.48s\tremaining: 2m 29s\n",
      "29:\tlearn: 0.1540882\ttotal: 4.61s\tremaining: 2m 29s\n",
      "30:\tlearn: 0.1539989\ttotal: 4.84s\tremaining: 2m 31s\n",
      "31:\tlearn: 0.1539507\ttotal: 5.08s\tremaining: 2m 33s\n",
      "32:\tlearn: 0.1538829\ttotal: 5.37s\tremaining: 2m 37s\n",
      "33:\tlearn: 0.1537901\ttotal: 5.68s\tremaining: 2m 41s\n",
      "34:\tlearn: 0.1537212\ttotal: 5.99s\tremaining: 2m 45s\n",
      "35:\tlearn: 0.1536418\ttotal: 6.28s\tremaining: 2m 48s\n",
      "36:\tlearn: 0.1536040\ttotal: 6.57s\tremaining: 2m 51s\n",
      "37:\tlearn: 0.1535275\ttotal: 7.01s\tremaining: 2m 57s\n",
      "38:\tlearn: 0.1534974\ttotal: 7.4s\tremaining: 3m 2s\n",
      "39:\tlearn: 0.1534518\ttotal: 7.76s\tremaining: 3m 6s\n",
      "40:\tlearn: 0.1534126\ttotal: 8.14s\tremaining: 3m 10s\n",
      "41:\tlearn: 0.1533742\ttotal: 8.6s\tremaining: 3m 16s\n",
      "42:\tlearn: 0.1533708\ttotal: 8.98s\tremaining: 3m 19s\n",
      "43:\tlearn: 0.1533543\ttotal: 9.36s\tremaining: 3m 23s\n",
      "44:\tlearn: 0.1533126\ttotal: 9.66s\tremaining: 3m 25s\n",
      "45:\tlearn: 0.1532835\ttotal: 9.91s\tremaining: 3m 25s\n",
      "46:\tlearn: 0.1532314\ttotal: 10.1s\tremaining: 3m 25s\n",
      "47:\tlearn: 0.1532018\ttotal: 10.3s\tremaining: 3m 23s\n",
      "48:\tlearn: 0.1531678\ttotal: 10.4s\tremaining: 3m 22s\n",
      "49:\tlearn: 0.1531465\ttotal: 10.6s\tremaining: 3m 20s\n",
      "50:\tlearn: 0.1530900\ttotal: 10.7s\tremaining: 3m 19s\n",
      "51:\tlearn: 0.1530720\ttotal: 10.9s\tremaining: 3m 17s\n",
      "52:\tlearn: 0.1530577\ttotal: 11s\tremaining: 3m 16s\n",
      "53:\tlearn: 0.1530254\ttotal: 11.1s\tremaining: 3m 14s\n",
      "54:\tlearn: 0.1530000\ttotal: 11.3s\tremaining: 3m 13s\n",
      "55:\tlearn: 0.1529762\ttotal: 11.4s\tremaining: 3m 12s\n",
      "56:\tlearn: 0.1529638\ttotal: 11.6s\tremaining: 3m 11s\n",
      "57:\tlearn: 0.1529273\ttotal: 11.7s\tremaining: 3m 10s\n",
      "58:\tlearn: 0.1529091\ttotal: 11.9s\tremaining: 3m 9s\n",
      "59:\tlearn: 0.1528781\ttotal: 12s\tremaining: 3m 7s\n",
      "60:\tlearn: 0.1528438\ttotal: 12.1s\tremaining: 3m 6s\n",
      "61:\tlearn: 0.1528227\ttotal: 12.3s\tremaining: 3m 5s\n",
      "62:\tlearn: 0.1527958\ttotal: 12.4s\tremaining: 3m 4s\n",
      "63:\tlearn: 0.1527585\ttotal: 12.5s\tremaining: 3m 3s\n",
      "64:\tlearn: 0.1527428\ttotal: 12.7s\tremaining: 3m 2s\n",
      "65:\tlearn: 0.1526999\ttotal: 12.8s\tremaining: 3m 1s\n",
      "66:\tlearn: 0.1526714\ttotal: 13s\tremaining: 3m\n",
      "67:\tlearn: 0.1526472\ttotal: 13.1s\tremaining: 2m 59s\n",
      "68:\tlearn: 0.1526234\ttotal: 13.2s\tremaining: 2m 58s\n",
      "69:\tlearn: 0.1525717\ttotal: 13.4s\tremaining: 2m 58s\n",
      "70:\tlearn: 0.1525498\ttotal: 13.6s\tremaining: 2m 57s\n",
      "71:\tlearn: 0.1525212\ttotal: 13.7s\tremaining: 2m 56s\n",
      "72:\tlearn: 0.1525000\ttotal: 13.8s\tremaining: 2m 55s\n",
      "73:\tlearn: 0.1524787\ttotal: 14s\tremaining: 2m 55s\n",
      "74:\tlearn: 0.1524382\ttotal: 14.2s\tremaining: 2m 54s\n",
      "75:\tlearn: 0.1524150\ttotal: 14.3s\tremaining: 2m 53s\n",
      "76:\tlearn: 0.1523963\ttotal: 14.4s\tremaining: 2m 53s\n",
      "77:\tlearn: 0.1523619\ttotal: 14.6s\tremaining: 2m 52s\n",
      "78:\tlearn: 0.1523321\ttotal: 14.7s\tremaining: 2m 51s\n",
      "79:\tlearn: 0.1523121\ttotal: 14.9s\tremaining: 2m 51s\n",
      "80:\tlearn: 0.1522889\ttotal: 15s\tremaining: 2m 50s\n",
      "81:\tlearn: 0.1522622\ttotal: 15.2s\tremaining: 2m 49s\n",
      "82:\tlearn: 0.1522409\ttotal: 15.3s\tremaining: 2m 48s\n",
      "83:\tlearn: 0.1522041\ttotal: 15.5s\tremaining: 2m 48s\n",
      "84:\tlearn: 0.1521755\ttotal: 15.6s\tremaining: 2m 47s\n",
      "85:\tlearn: 0.1521284\ttotal: 15.7s\tremaining: 2m 47s\n",
      "86:\tlearn: 0.1520974\ttotal: 15.9s\tremaining: 2m 46s\n",
      "87:\tlearn: 0.1520738\ttotal: 16.1s\tremaining: 2m 47s\n",
      "88:\tlearn: 0.1520621\ttotal: 16.4s\tremaining: 2m 47s\n",
      "89:\tlearn: 0.1520290\ttotal: 16.9s\tremaining: 2m 50s\n",
      "90:\tlearn: 0.1520030\ttotal: 17.3s\tremaining: 2m 52s\n",
      "91:\tlearn: 0.1519819\ttotal: 17.5s\tremaining: 2m 53s\n",
      "92:\tlearn: 0.1519391\ttotal: 17.9s\tremaining: 2m 54s\n",
      "93:\tlearn: 0.1519160\ttotal: 18.3s\tremaining: 2m 56s\n",
      "94:\tlearn: 0.1518997\ttotal: 18.8s\tremaining: 2m 59s\n",
      "95:\tlearn: 0.1518788\ttotal: 19.2s\tremaining: 3m\n",
      "96:\tlearn: 0.1518639\ttotal: 19.6s\tremaining: 3m 2s\n",
      "97:\tlearn: 0.1518467\ttotal: 20.2s\tremaining: 3m 6s\n",
      "98:\tlearn: 0.1518272\ttotal: 21s\tremaining: 3m 11s\n",
      "99:\tlearn: 0.1518060\ttotal: 21.7s\tremaining: 3m 15s\n",
      "100:\tlearn: 0.1517899\ttotal: 22.4s\tremaining: 3m 19s\n",
      "101:\tlearn: 0.1517613\ttotal: 22.9s\tremaining: 3m 21s\n",
      "102:\tlearn: 0.1517470\ttotal: 23.2s\tremaining: 3m 22s\n",
      "103:\tlearn: 0.1517190\ttotal: 23.7s\tremaining: 3m 24s\n",
      "104:\tlearn: 0.1516923\ttotal: 24.2s\tremaining: 3m 26s\n",
      "105:\tlearn: 0.1516793\ttotal: 24.5s\tremaining: 3m 26s\n",
      "106:\tlearn: 0.1516374\ttotal: 24.9s\tremaining: 3m 27s\n",
      "107:\tlearn: 0.1516146\ttotal: 25.2s\tremaining: 3m 28s\n",
      "108:\tlearn: 0.1515947\ttotal: 25.5s\tremaining: 3m 28s\n",
      "109:\tlearn: 0.1515781\ttotal: 25.8s\tremaining: 3m 28s\n",
      "110:\tlearn: 0.1515635\ttotal: 26s\tremaining: 3m 28s\n",
      "111:\tlearn: 0.1515523\ttotal: 26.3s\tremaining: 3m 28s\n",
      "112:\tlearn: 0.1515294\ttotal: 26.6s\tremaining: 3m 28s\n",
      "113:\tlearn: 0.1515102\ttotal: 27.1s\tremaining: 3m 30s\n",
      "114:\tlearn: 0.1514937\ttotal: 27.5s\tremaining: 3m 31s\n",
      "115:\tlearn: 0.1514829\ttotal: 27.7s\tremaining: 3m 30s\n",
      "116:\tlearn: 0.1514661\ttotal: 27.8s\tremaining: 3m 29s\n",
      "117:\tlearn: 0.1514427\ttotal: 28s\tremaining: 3m 28s\n",
      "118:\tlearn: 0.1514161\ttotal: 28.1s\tremaining: 3m 28s\n",
      "119:\tlearn: 0.1513928\ttotal: 28.2s\tremaining: 3m 27s\n",
      "120:\tlearn: 0.1513812\ttotal: 28.4s\tremaining: 3m 26s\n",
      "121:\tlearn: 0.1513645\ttotal: 28.5s\tremaining: 3m 25s\n",
      "122:\tlearn: 0.1513451\ttotal: 28.7s\tremaining: 3m 24s\n",
      "123:\tlearn: 0.1513299\ttotal: 28.8s\tremaining: 3m 23s\n",
      "124:\tlearn: 0.1513150\ttotal: 28.9s\tremaining: 3m 22s\n",
      "125:\tlearn: 0.1512950\ttotal: 29.1s\tremaining: 3m 21s\n",
      "126:\tlearn: 0.1512803\ttotal: 29.2s\tremaining: 3m 20s\n",
      "127:\tlearn: 0.1512620\ttotal: 29.4s\tremaining: 3m 20s\n",
      "128:\tlearn: 0.1512500\ttotal: 29.5s\tremaining: 3m 19s\n",
      "129:\tlearn: 0.1512341\ttotal: 29.6s\tremaining: 3m 18s\n",
      "130:\tlearn: 0.1512184\ttotal: 29.8s\tremaining: 3m 17s\n",
      "131:\tlearn: 0.1511995\ttotal: 29.9s\tremaining: 3m 16s\n",
      "132:\tlearn: 0.1511873\ttotal: 30.1s\tremaining: 3m 16s\n",
      "133:\tlearn: 0.1511696\ttotal: 30.2s\tremaining: 3m 15s\n",
      "134:\tlearn: 0.1511476\ttotal: 30.4s\tremaining: 3m 14s\n",
      "135:\tlearn: 0.1511402\ttotal: 30.5s\tremaining: 3m 13s\n",
      "136:\tlearn: 0.1511259\ttotal: 30.7s\tremaining: 3m 13s\n",
      "137:\tlearn: 0.1511024\ttotal: 30.8s\tremaining: 3m 12s\n",
      "138:\tlearn: 0.1510864\ttotal: 31s\tremaining: 3m 11s\n",
      "139:\tlearn: 0.1510756\ttotal: 31.1s\tremaining: 3m 11s\n",
      "140:\tlearn: 0.1510587\ttotal: 31.3s\tremaining: 3m 10s\n",
      "141:\tlearn: 0.1510405\ttotal: 31.4s\tremaining: 3m 9s\n",
      "142:\tlearn: 0.1510217\ttotal: 31.6s\tremaining: 3m 9s\n",
      "143:\tlearn: 0.1510024\ttotal: 31.7s\tremaining: 3m 8s\n",
      "144:\tlearn: 0.1509834\ttotal: 31.8s\tremaining: 3m 7s\n",
      "145:\tlearn: 0.1509598\ttotal: 32s\tremaining: 3m 7s\n",
      "146:\tlearn: 0.1509427\ttotal: 32.1s\tremaining: 3m 6s\n",
      "147:\tlearn: 0.1509280\ttotal: 32.3s\tremaining: 3m 5s\n",
      "148:\tlearn: 0.1509183\ttotal: 32.4s\tremaining: 3m 4s\n",
      "149:\tlearn: 0.1508905\ttotal: 32.5s\tremaining: 3m 4s\n",
      "150:\tlearn: 0.1508771\ttotal: 32.7s\tremaining: 3m 3s\n",
      "151:\tlearn: 0.1508593\ttotal: 32.8s\tremaining: 3m 3s\n",
      "152:\tlearn: 0.1508429\ttotal: 33s\tremaining: 3m 2s\n",
      "153:\tlearn: 0.1508272\ttotal: 33.1s\tremaining: 3m 1s\n",
      "154:\tlearn: 0.1508128\ttotal: 33.2s\tremaining: 3m 1s\n",
      "155:\tlearn: 0.1508030\ttotal: 33.4s\tremaining: 3m\n",
      "156:\tlearn: 0.1507846\ttotal: 33.5s\tremaining: 2m 59s\n",
      "157:\tlearn: 0.1507669\ttotal: 33.6s\tremaining: 2m 59s\n",
      "158:\tlearn: 0.1507476\ttotal: 33.8s\tremaining: 2m 58s\n",
      "159:\tlearn: 0.1507446\ttotal: 34.1s\tremaining: 2m 59s\n",
      "160:\tlearn: 0.1507305\ttotal: 34.5s\tremaining: 2m 59s\n",
      "161:\tlearn: 0.1507148\ttotal: 34.9s\tremaining: 3m\n",
      "162:\tlearn: 0.1507024\ttotal: 35.4s\tremaining: 3m 1s\n",
      "163:\tlearn: 0.1506938\ttotal: 35.8s\tremaining: 3m 2s\n",
      "164:\tlearn: 0.1506799\ttotal: 36.3s\tremaining: 3m 3s\n",
      "165:\tlearn: 0.1506708\ttotal: 36.8s\tremaining: 3m 4s\n",
      "166:\tlearn: 0.1506498\ttotal: 37.3s\tremaining: 3m 5s\n",
      "167:\tlearn: 0.1506373\ttotal: 37.7s\tremaining: 3m 6s\n",
      "168:\tlearn: 0.1506197\ttotal: 38.2s\tremaining: 3m 7s\n",
      "169:\tlearn: 0.1506011\ttotal: 38.6s\tremaining: 3m 8s\n",
      "170:\tlearn: 0.1505861\ttotal: 39s\tremaining: 3m 9s\n",
      "171:\tlearn: 0.1505765\ttotal: 39.4s\tremaining: 3m 9s\n",
      "172:\tlearn: 0.1505628\ttotal: 39.7s\tremaining: 3m 9s\n",
      "173:\tlearn: 0.1505363\ttotal: 40s\tremaining: 3m 9s\n",
      "174:\tlearn: 0.1505284\ttotal: 40.2s\tremaining: 3m 9s\n",
      "175:\tlearn: 0.1504996\ttotal: 40.5s\tremaining: 3m 9s\n",
      "176:\tlearn: 0.1504784\ttotal: 40.8s\tremaining: 3m 9s\n",
      "177:\tlearn: 0.1504592\ttotal: 41s\tremaining: 3m 9s\n",
      "178:\tlearn: 0.1504315\ttotal: 41.3s\tremaining: 3m 9s\n",
      "179:\tlearn: 0.1504152\ttotal: 41.5s\tremaining: 3m 9s\n",
      "180:\tlearn: 0.1503912\ttotal: 41.8s\tremaining: 3m 8s\n",
      "181:\tlearn: 0.1503767\ttotal: 42s\tremaining: 3m 8s\n",
      "182:\tlearn: 0.1503653\ttotal: 42.2s\tremaining: 3m 8s\n",
      "183:\tlearn: 0.1503518\ttotal: 42.4s\tremaining: 3m 8s\n",
      "184:\tlearn: 0.1503441\ttotal: 42.8s\tremaining: 3m 8s\n",
      "185:\tlearn: 0.1503325\ttotal: 43s\tremaining: 3m 8s\n",
      "186:\tlearn: 0.1503180\ttotal: 43.3s\tremaining: 3m 8s\n",
      "187:\tlearn: 0.1503086\ttotal: 43.5s\tremaining: 3m 7s\n",
      "188:\tlearn: 0.1502956\ttotal: 43.6s\tremaining: 3m 7s\n",
      "189:\tlearn: 0.1502821\ttotal: 43.7s\tremaining: 3m 6s\n",
      "190:\tlearn: 0.1502676\ttotal: 43.9s\tremaining: 3m 6s\n",
      "191:\tlearn: 0.1502559\ttotal: 44.2s\tremaining: 3m 6s\n",
      "192:\tlearn: 0.1502404\ttotal: 44.4s\tremaining: 3m 5s\n",
      "193:\tlearn: 0.1502324\ttotal: 44.8s\tremaining: 3m 5s\n",
      "194:\tlearn: 0.1502158\ttotal: 45.1s\tremaining: 3m 6s\n",
      "195:\tlearn: 0.1502017\ttotal: 45.3s\tremaining: 3m 5s\n",
      "196:\tlearn: 0.1501904\ttotal: 45.5s\tremaining: 3m 5s\n",
      "197:\tlearn: 0.1501721\ttotal: 45.8s\tremaining: 3m 5s\n",
      "198:\tlearn: 0.1501485\ttotal: 46.2s\tremaining: 3m 6s\n",
      "199:\tlearn: 0.1501335\ttotal: 46.7s\tremaining: 3m 6s\n",
      "200:\tlearn: 0.1501193\ttotal: 47s\tremaining: 3m 6s\n",
      "201:\tlearn: 0.1501088\ttotal: 47.1s\tremaining: 3m 6s\n",
      "202:\tlearn: 0.1500986\ttotal: 47.2s\tremaining: 3m 5s\n",
      "203:\tlearn: 0.1500835\ttotal: 47.4s\tremaining: 3m 4s\n",
      "204:\tlearn: 0.1500616\ttotal: 47.5s\tremaining: 3m 4s\n",
      "205:\tlearn: 0.1500452\ttotal: 47.7s\tremaining: 3m 3s\n",
      "206:\tlearn: 0.1500301\ttotal: 47.8s\tremaining: 3m 3s\n",
      "207:\tlearn: 0.1500071\ttotal: 48s\tremaining: 3m 2s\n",
      "208:\tlearn: 0.1499963\ttotal: 48.1s\tremaining: 3m 2s\n",
      "209:\tlearn: 0.1499825\ttotal: 48.3s\tremaining: 3m 1s\n",
      "210:\tlearn: 0.1499609\ttotal: 48.4s\tremaining: 3m 1s\n",
      "211:\tlearn: 0.1499500\ttotal: 48.6s\tremaining: 3m\n",
      "212:\tlearn: 0.1499356\ttotal: 48.7s\tremaining: 2m 59s\n",
      "213:\tlearn: 0.1499203\ttotal: 48.8s\tremaining: 2m 59s\n",
      "214:\tlearn: 0.1499093\ttotal: 49s\tremaining: 2m 58s\n",
      "215:\tlearn: 0.1498960\ttotal: 49.1s\tremaining: 2m 58s\n",
      "216:\tlearn: 0.1498724\ttotal: 49.3s\tremaining: 2m 57s\n",
      "217:\tlearn: 0.1498666\ttotal: 49.4s\tremaining: 2m 57s\n",
      "218:\tlearn: 0.1498555\ttotal: 49.7s\tremaining: 2m 57s\n",
      "219:\tlearn: 0.1498429\ttotal: 50s\tremaining: 2m 57s\n",
      "220:\tlearn: 0.1498253\ttotal: 50.2s\tremaining: 2m 57s\n",
      "221:\tlearn: 0.1498186\ttotal: 50.5s\tremaining: 2m 57s\n",
      "222:\tlearn: 0.1498091\ttotal: 50.8s\tremaining: 2m 57s\n",
      "223:\tlearn: 0.1497966\ttotal: 51.1s\tremaining: 2m 57s\n",
      "224:\tlearn: 0.1497855\ttotal: 51.4s\tremaining: 2m 57s\n",
      "225:\tlearn: 0.1497625\ttotal: 51.7s\tremaining: 2m 57s\n",
      "226:\tlearn: 0.1497491\ttotal: 52s\tremaining: 2m 57s\n",
      "227:\tlearn: 0.1497351\ttotal: 52.3s\tremaining: 2m 57s\n",
      "228:\tlearn: 0.1497216\ttotal: 52.6s\tremaining: 2m 57s\n",
      "229:\tlearn: 0.1497070\ttotal: 52.9s\tremaining: 2m 57s\n",
      "230:\tlearn: 0.1496879\ttotal: 53.2s\tremaining: 2m 57s\n",
      "231:\tlearn: 0.1496787\ttotal: 53.4s\tremaining: 2m 56s\n",
      "232:\tlearn: 0.1496651\ttotal: 53.7s\tremaining: 2m 56s\n",
      "233:\tlearn: 0.1496464\ttotal: 54s\tremaining: 2m 56s\n",
      "234:\tlearn: 0.1496300\ttotal: 54.2s\tremaining: 2m 56s\n",
      "235:\tlearn: 0.1496160\ttotal: 54.3s\tremaining: 2m 55s\n",
      "236:\tlearn: 0.1496128\ttotal: 54.4s\tremaining: 2m 55s\n",
      "237:\tlearn: 0.1495929\ttotal: 54.6s\tremaining: 2m 54s\n",
      "238:\tlearn: 0.1495762\ttotal: 54.8s\tremaining: 2m 54s\n",
      "239:\tlearn: 0.1495627\ttotal: 54.9s\tremaining: 2m 53s\n",
      "240:\tlearn: 0.1495502\ttotal: 55s\tremaining: 2m 53s\n",
      "241:\tlearn: 0.1495462\ttotal: 55.2s\tremaining: 2m 52s\n",
      "242:\tlearn: 0.1495226\ttotal: 55.3s\tremaining: 2m 52s\n",
      "243:\tlearn: 0.1495098\ttotal: 55.5s\tremaining: 2m 51s\n",
      "244:\tlearn: 0.1494959\ttotal: 55.6s\tremaining: 2m 51s\n",
      "245:\tlearn: 0.1494768\ttotal: 55.8s\tremaining: 2m 50s\n",
      "246:\tlearn: 0.1494655\ttotal: 55.9s\tremaining: 2m 50s\n",
      "247:\tlearn: 0.1494558\ttotal: 56s\tremaining: 2m 49s\n",
      "248:\tlearn: 0.1494386\ttotal: 56.2s\tremaining: 2m 49s\n",
      "249:\tlearn: 0.1494248\ttotal: 56.4s\tremaining: 2m 49s\n",
      "250:\tlearn: 0.1494217\ttotal: 56.5s\tremaining: 2m 48s\n",
      "251:\tlearn: 0.1494026\ttotal: 56.6s\tremaining: 2m 48s\n",
      "252:\tlearn: 0.1493895\ttotal: 56.8s\tremaining: 2m 47s\n",
      "253:\tlearn: 0.1493765\ttotal: 56.9s\tremaining: 2m 47s\n",
      "254:\tlearn: 0.1493664\ttotal: 57.1s\tremaining: 2m 46s\n",
      "255:\tlearn: 0.1493556\ttotal: 57.2s\tremaining: 2m 46s\n",
      "256:\tlearn: 0.1493387\ttotal: 57.3s\tremaining: 2m 45s\n",
      "257:\tlearn: 0.1493276\ttotal: 57.5s\tremaining: 2m 45s\n",
      "258:\tlearn: 0.1493148\ttotal: 57.6s\tremaining: 2m 44s\n",
      "259:\tlearn: 0.1492986\ttotal: 57.8s\tremaining: 2m 44s\n",
      "260:\tlearn: 0.1492798\ttotal: 57.9s\tremaining: 2m 44s\n",
      "261:\tlearn: 0.1492778\ttotal: 58.1s\tremaining: 2m 43s\n",
      "262:\tlearn: 0.1492620\ttotal: 58.2s\tremaining: 2m 43s\n",
      "263:\tlearn: 0.1492450\ttotal: 58.4s\tremaining: 2m 42s\n",
      "264:\tlearn: 0.1492371\ttotal: 58.5s\tremaining: 2m 42s\n",
      "265:\tlearn: 0.1492248\ttotal: 58.6s\tremaining: 2m 41s\n",
      "266:\tlearn: 0.1492144\ttotal: 58.8s\tremaining: 2m 41s\n",
      "267:\tlearn: 0.1492041\ttotal: 58.9s\tremaining: 2m 40s\n",
      "268:\tlearn: 0.1491934\ttotal: 59.1s\tremaining: 2m 40s\n",
      "269:\tlearn: 0.1491885\ttotal: 59.2s\tremaining: 2m 40s\n",
      "270:\tlearn: 0.1491765\ttotal: 59.3s\tremaining: 2m 39s\n",
      "271:\tlearn: 0.1491733\ttotal: 59.4s\tremaining: 2m 39s\n",
      "272:\tlearn: 0.1491641\ttotal: 59.6s\tremaining: 2m 38s\n",
      "273:\tlearn: 0.1491482\ttotal: 59.7s\tremaining: 2m 38s\n",
      "274:\tlearn: 0.1491361\ttotal: 59.9s\tremaining: 2m 37s\n",
      "275:\tlearn: 0.1491206\ttotal: 1m\tremaining: 2m 37s\n",
      "276:\tlearn: 0.1491062\ttotal: 1m\tremaining: 2m 37s\n",
      "277:\tlearn: 0.1490975\ttotal: 1m\tremaining: 2m 36s\n",
      "278:\tlearn: 0.1490883\ttotal: 1m\tremaining: 2m 36s\n",
      "279:\tlearn: 0.1490763\ttotal: 1m\tremaining: 2m 35s\n",
      "280:\tlearn: 0.1490648\ttotal: 1m\tremaining: 2m 35s\n",
      "281:\tlearn: 0.1490551\ttotal: 1m\tremaining: 2m 35s\n",
      "282:\tlearn: 0.1490398\ttotal: 1m 1s\tremaining: 2m 34s\n",
      "283:\tlearn: 0.1490379\ttotal: 1m 1s\tremaining: 2m 34s\n",
      "284:\tlearn: 0.1490320\ttotal: 1m 1s\tremaining: 2m 33s\n",
      "285:\tlearn: 0.1490150\ttotal: 1m 1s\tremaining: 2m 33s\n",
      "286:\tlearn: 0.1490051\ttotal: 1m 1s\tremaining: 2m 33s\n",
      "287:\tlearn: 0.1489967\ttotal: 1m 1s\tremaining: 2m 32s\n",
      "288:\tlearn: 0.1489831\ttotal: 1m 1s\tremaining: 2m 32s\n",
      "289:\tlearn: 0.1489684\ttotal: 1m 2s\tremaining: 2m 31s\n",
      "290:\tlearn: 0.1489519\ttotal: 1m 2s\tremaining: 2m 31s\n",
      "291:\tlearn: 0.1489340\ttotal: 1m 2s\tremaining: 2m 31s\n",
      "292:\tlearn: 0.1489251\ttotal: 1m 2s\tremaining: 2m 30s\n",
      "293:\tlearn: 0.1489174\ttotal: 1m 2s\tremaining: 2m 30s\n",
      "294:\tlearn: 0.1489045\ttotal: 1m 3s\tremaining: 2m 30s\n",
      "295:\tlearn: 0.1488916\ttotal: 1m 3s\tremaining: 2m 30s\n",
      "296:\tlearn: 0.1488892\ttotal: 1m 3s\tremaining: 2m 30s\n",
      "297:\tlearn: 0.1488768\ttotal: 1m 3s\tremaining: 2m 30s\n",
      "298:\tlearn: 0.1488626\ttotal: 1m 4s\tremaining: 2m 30s\n",
      "299:\tlearn: 0.1488463\ttotal: 1m 4s\tremaining: 2m 31s\n",
      "300:\tlearn: 0.1488299\ttotal: 1m 5s\tremaining: 2m 31s\n",
      "301:\tlearn: 0.1488208\ttotal: 1m 5s\tremaining: 2m 31s\n",
      "302:\tlearn: 0.1488124\ttotal: 1m 6s\tremaining: 2m 32s\n",
      "303:\tlearn: 0.1488051\ttotal: 1m 6s\tremaining: 2m 32s\n",
      "304:\tlearn: 0.1487878\ttotal: 1m 6s\tremaining: 2m 32s\n",
      "305:\tlearn: 0.1487682\ttotal: 1m 7s\tremaining: 2m 32s\n",
      "306:\tlearn: 0.1487525\ttotal: 1m 7s\tremaining: 2m 33s\n",
      "307:\tlearn: 0.1487450\ttotal: 1m 8s\tremaining: 2m 33s\n",
      "308:\tlearn: 0.1487372\ttotal: 1m 8s\tremaining: 2m 33s\n",
      "309:\tlearn: 0.1487256\ttotal: 1m 9s\tremaining: 2m 33s\n",
      "310:\tlearn: 0.1487140\ttotal: 1m 9s\tremaining: 2m 33s\n",
      "311:\tlearn: 0.1487101\ttotal: 1m 9s\tremaining: 2m 33s\n",
      "312:\tlearn: 0.1486994\ttotal: 1m 10s\tremaining: 2m 33s\n",
      "313:\tlearn: 0.1486847\ttotal: 1m 10s\tremaining: 2m 33s\n",
      "314:\tlearn: 0.1486790\ttotal: 1m 10s\tremaining: 2m 32s\n",
      "315:\tlearn: 0.1486769\ttotal: 1m 10s\tremaining: 2m 32s\n",
      "316:\tlearn: 0.1486701\ttotal: 1m 10s\tremaining: 2m 32s\n",
      "317:\tlearn: 0.1486600\ttotal: 1m 10s\tremaining: 2m 31s\n",
      "318:\tlearn: 0.1486425\ttotal: 1m 10s\tremaining: 2m 31s\n",
      "319:\tlearn: 0.1486303\ttotal: 1m 11s\tremaining: 2m 30s\n",
      "320:\tlearn: 0.1486183\ttotal: 1m 11s\tremaining: 2m 30s\n",
      "321:\tlearn: 0.1486080\ttotal: 1m 11s\tremaining: 2m 30s\n",
      "322:\tlearn: 0.1485936\ttotal: 1m 11s\tremaining: 2m 29s\n",
      "323:\tlearn: 0.1485869\ttotal: 1m 11s\tremaining: 2m 29s\n",
      "324:\tlearn: 0.1485744\ttotal: 1m 11s\tremaining: 2m 29s\n",
      "325:\tlearn: 0.1485591\ttotal: 1m 11s\tremaining: 2m 28s\n",
      "326:\tlearn: 0.1485528\ttotal: 1m 12s\tremaining: 2m 28s\n",
      "327:\tlearn: 0.1485378\ttotal: 1m 12s\tremaining: 2m 27s\n",
      "328:\tlearn: 0.1485247\ttotal: 1m 12s\tremaining: 2m 27s\n",
      "329:\tlearn: 0.1485145\ttotal: 1m 12s\tremaining: 2m 27s\n",
      "330:\tlearn: 0.1484989\ttotal: 1m 12s\tremaining: 2m 26s\n",
      "331:\tlearn: 0.1484915\ttotal: 1m 12s\tremaining: 2m 26s\n",
      "332:\tlearn: 0.1484851\ttotal: 1m 12s\tremaining: 2m 26s\n",
      "333:\tlearn: 0.1484748\ttotal: 1m 13s\tremaining: 2m 25s\n",
      "334:\tlearn: 0.1484601\ttotal: 1m 13s\tremaining: 2m 25s\n",
      "335:\tlearn: 0.1484493\ttotal: 1m 13s\tremaining: 2m 25s\n",
      "336:\tlearn: 0.1484314\ttotal: 1m 13s\tremaining: 2m 25s\n",
      "337:\tlearn: 0.1484182\ttotal: 1m 14s\tremaining: 2m 24s\n",
      "338:\tlearn: 0.1484045\ttotal: 1m 14s\tremaining: 2m 24s\n",
      "339:\tlearn: 0.1483912\ttotal: 1m 14s\tremaining: 2m 24s\n",
      "340:\tlearn: 0.1483781\ttotal: 1m 14s\tremaining: 2m 24s\n",
      "341:\tlearn: 0.1483709\ttotal: 1m 14s\tremaining: 2m 24s\n",
      "342:\tlearn: 0.1483641\ttotal: 1m 15s\tremaining: 2m 23s\n",
      "343:\tlearn: 0.1483519\ttotal: 1m 15s\tremaining: 2m 23s\n",
      "344:\tlearn: 0.1483485\ttotal: 1m 15s\tremaining: 2m 23s\n",
      "345:\tlearn: 0.1483379\ttotal: 1m 15s\tremaining: 2m 23s\n",
      "346:\tlearn: 0.1483264\ttotal: 1m 15s\tremaining: 2m 22s\n",
      "347:\tlearn: 0.1483125\ttotal: 1m 16s\tremaining: 2m 22s\n",
      "348:\tlearn: 0.1483041\ttotal: 1m 16s\tremaining: 2m 22s\n",
      "349:\tlearn: 0.1482933\ttotal: 1m 16s\tremaining: 2m 22s\n",
      "350:\tlearn: 0.1482845\ttotal: 1m 16s\tremaining: 2m 22s\n",
      "351:\tlearn: 0.1482740\ttotal: 1m 17s\tremaining: 2m 21s\n",
      "352:\tlearn: 0.1482654\ttotal: 1m 17s\tremaining: 2m 21s\n",
      "353:\tlearn: 0.1482575\ttotal: 1m 17s\tremaining: 2m 21s\n",
      "354:\tlearn: 0.1482439\ttotal: 1m 17s\tremaining: 2m 21s\n",
      "355:\tlearn: 0.1482274\ttotal: 1m 18s\tremaining: 2m 21s\n",
      "356:\tlearn: 0.1482199\ttotal: 1m 18s\tremaining: 2m 21s\n",
      "357:\tlearn: 0.1481942\ttotal: 1m 18s\tremaining: 2m 21s\n",
      "358:\tlearn: 0.1481830\ttotal: 1m 19s\tremaining: 2m 21s\n",
      "359:\tlearn: 0.1481715\ttotal: 1m 19s\tremaining: 2m 21s\n",
      "360:\tlearn: 0.1481656\ttotal: 1m 19s\tremaining: 2m 21s\n",
      "361:\tlearn: 0.1481528\ttotal: 1m 20s\tremaining: 2m 21s\n",
      "362:\tlearn: 0.1481412\ttotal: 1m 20s\tremaining: 2m 21s\n",
      "363:\tlearn: 0.1481284\ttotal: 1m 21s\tremaining: 2m 21s\n",
      "364:\tlearn: 0.1481158\ttotal: 1m 21s\tremaining: 2m 21s\n",
      "365:\tlearn: 0.1481009\ttotal: 1m 21s\tremaining: 2m 22s\n",
      "366:\tlearn: 0.1480900\ttotal: 1m 22s\tremaining: 2m 22s\n",
      "367:\tlearn: 0.1480777\ttotal: 1m 22s\tremaining: 2m 22s\n",
      "368:\tlearn: 0.1480741\ttotal: 1m 23s\tremaining: 2m 22s\n",
      "369:\tlearn: 0.1480525\ttotal: 1m 23s\tremaining: 2m 22s\n",
      "370:\tlearn: 0.1480407\ttotal: 1m 24s\tremaining: 2m 22s\n",
      "371:\tlearn: 0.1480290\ttotal: 1m 24s\tremaining: 2m 22s\n",
      "372:\tlearn: 0.1480233\ttotal: 1m 24s\tremaining: 2m 22s\n",
      "373:\tlearn: 0.1480127\ttotal: 1m 24s\tremaining: 2m 22s\n",
      "374:\tlearn: 0.1479968\ttotal: 1m 25s\tremaining: 2m 21s\n",
      "375:\tlearn: 0.1479911\ttotal: 1m 25s\tremaining: 2m 21s\n",
      "376:\tlearn: 0.1479825\ttotal: 1m 25s\tremaining: 2m 21s\n",
      "377:\tlearn: 0.1479691\ttotal: 1m 25s\tremaining: 2m 21s\n",
      "378:\tlearn: 0.1479558\ttotal: 1m 25s\tremaining: 2m 20s\n",
      "379:\tlearn: 0.1479463\ttotal: 1m 26s\tremaining: 2m 20s\n",
      "380:\tlearn: 0.1479282\ttotal: 1m 26s\tremaining: 2m 20s\n",
      "381:\tlearn: 0.1479267\ttotal: 1m 26s\tremaining: 2m 20s\n",
      "382:\tlearn: 0.1479105\ttotal: 1m 26s\tremaining: 2m 19s\n",
      "383:\tlearn: 0.1478989\ttotal: 1m 27s\tremaining: 2m 19s\n",
      "384:\tlearn: 0.1478886\ttotal: 1m 27s\tremaining: 2m 19s\n",
      "385:\tlearn: 0.1478783\ttotal: 1m 27s\tremaining: 2m 19s\n",
      "386:\tlearn: 0.1478701\ttotal: 1m 27s\tremaining: 2m 18s\n",
      "387:\tlearn: 0.1478537\ttotal: 1m 27s\tremaining: 2m 18s\n",
      "388:\tlearn: 0.1478382\ttotal: 1m 27s\tremaining: 2m 18s\n",
      "389:\tlearn: 0.1478288\ttotal: 1m 28s\tremaining: 2m 17s\n",
      "390:\tlearn: 0.1478208\ttotal: 1m 28s\tremaining: 2m 17s\n",
      "391:\tlearn: 0.1478114\ttotal: 1m 28s\tremaining: 2m 17s\n",
      "392:\tlearn: 0.1478051\ttotal: 1m 28s\tremaining: 2m 17s\n",
      "393:\tlearn: 0.1477975\ttotal: 1m 29s\tremaining: 2m 16s\n",
      "394:\tlearn: 0.1477875\ttotal: 1m 29s\tremaining: 2m 16s\n",
      "395:\tlearn: 0.1477853\ttotal: 1m 29s\tremaining: 2m 16s\n",
      "396:\tlearn: 0.1477809\ttotal: 1m 29s\tremaining: 2m 16s\n",
      "397:\tlearn: 0.1477707\ttotal: 1m 30s\tremaining: 2m 16s\n",
      "398:\tlearn: 0.1477631\ttotal: 1m 30s\tremaining: 2m 16s\n",
      "399:\tlearn: 0.1477482\ttotal: 1m 31s\tremaining: 2m 16s\n",
      "400:\tlearn: 0.1477358\ttotal: 1m 31s\tremaining: 2m 16s\n",
      "401:\tlearn: 0.1477249\ttotal: 1m 31s\tremaining: 2m 16s\n",
      "402:\tlearn: 0.1477082\ttotal: 1m 32s\tremaining: 2m 16s\n",
      "403:\tlearn: 0.1477000\ttotal: 1m 32s\tremaining: 2m 16s\n",
      "404:\tlearn: 0.1476919\ttotal: 1m 32s\tremaining: 2m 16s\n",
      "405:\tlearn: 0.1476737\ttotal: 1m 33s\tremaining: 2m 16s\n",
      "406:\tlearn: 0.1476633\ttotal: 1m 33s\tremaining: 2m 16s\n",
      "407:\tlearn: 0.1476418\ttotal: 1m 34s\tremaining: 2m 16s\n",
      "408:\tlearn: 0.1476327\ttotal: 1m 34s\tremaining: 2m 16s\n",
      "409:\tlearn: 0.1476214\ttotal: 1m 34s\tremaining: 2m 16s\n",
      "410:\tlearn: 0.1476146\ttotal: 1m 35s\tremaining: 2m 16s\n",
      "411:\tlearn: 0.1476071\ttotal: 1m 35s\tremaining: 2m 16s\n",
      "412:\tlearn: 0.1476006\ttotal: 1m 36s\tremaining: 2m 16s\n",
      "413:\tlearn: 0.1475942\ttotal: 1m 36s\tremaining: 2m 16s\n",
      "414:\tlearn: 0.1475762\ttotal: 1m 36s\tremaining: 2m 16s\n",
      "415:\tlearn: 0.1475663\ttotal: 1m 37s\tremaining: 2m 16s\n",
      "416:\tlearn: 0.1475547\ttotal: 1m 37s\tremaining: 2m 16s\n",
      "417:\tlearn: 0.1475505\ttotal: 1m 38s\tremaining: 2m 16s\n",
      "418:\tlearn: 0.1475429\ttotal: 1m 38s\tremaining: 2m 17s\n",
      "419:\tlearn: 0.1475259\ttotal: 1m 39s\tremaining: 2m 17s\n",
      "420:\tlearn: 0.1475163\ttotal: 1m 39s\tremaining: 2m 17s\n",
      "421:\tlearn: 0.1475086\ttotal: 1m 40s\tremaining: 2m 17s\n",
      "422:\tlearn: 0.1474958\ttotal: 1m 40s\tremaining: 2m 16s\n",
      "423:\tlearn: 0.1474907\ttotal: 1m 40s\tremaining: 2m 16s\n",
      "424:\tlearn: 0.1474752\ttotal: 1m 41s\tremaining: 2m 16s\n",
      "425:\tlearn: 0.1474707\ttotal: 1m 41s\tremaining: 2m 16s\n",
      "426:\tlearn: 0.1474596\ttotal: 1m 41s\tremaining: 2m 16s\n",
      "427:\tlearn: 0.1474511\ttotal: 1m 42s\tremaining: 2m 16s\n",
      "428:\tlearn: 0.1474403\ttotal: 1m 42s\tremaining: 2m 16s\n",
      "429:\tlearn: 0.1474380\ttotal: 1m 42s\tremaining: 2m 16s\n",
      "430:\tlearn: 0.1474300\ttotal: 1m 42s\tremaining: 2m 15s\n",
      "431:\tlearn: 0.1474129\ttotal: 1m 43s\tremaining: 2m 15s\n",
      "432:\tlearn: 0.1474104\ttotal: 1m 43s\tremaining: 2m 15s\n",
      "433:\tlearn: 0.1474028\ttotal: 1m 43s\tremaining: 2m 15s\n",
      "434:\tlearn: 0.1473931\ttotal: 1m 43s\tremaining: 2m 15s\n",
      "435:\tlearn: 0.1473849\ttotal: 1m 44s\tremaining: 2m 14s\n",
      "436:\tlearn: 0.1473671\ttotal: 1m 44s\tremaining: 2m 14s\n",
      "437:\tlearn: 0.1473603\ttotal: 1m 44s\tremaining: 2m 14s\n",
      "438:\tlearn: 0.1473480\ttotal: 1m 45s\tremaining: 2m 14s\n",
      "439:\tlearn: 0.1473359\ttotal: 1m 45s\tremaining: 2m 13s\n",
      "440:\tlearn: 0.1473290\ttotal: 1m 45s\tremaining: 2m 13s\n",
      "441:\tlearn: 0.1473164\ttotal: 1m 45s\tremaining: 2m 13s\n",
      "442:\tlearn: 0.1473058\ttotal: 1m 45s\tremaining: 2m 12s\n",
      "443:\tlearn: 0.1473042\ttotal: 1m 45s\tremaining: 2m 12s\n",
      "444:\tlearn: 0.1472839\ttotal: 1m 46s\tremaining: 2m 12s\n",
      "445:\tlearn: 0.1472811\ttotal: 1m 46s\tremaining: 2m 12s\n",
      "446:\tlearn: 0.1472661\ttotal: 1m 46s\tremaining: 2m 11s\n",
      "447:\tlearn: 0.1472642\ttotal: 1m 46s\tremaining: 2m 11s\n",
      "448:\tlearn: 0.1472506\ttotal: 1m 47s\tremaining: 2m 11s\n",
      "449:\tlearn: 0.1472465\ttotal: 1m 47s\tremaining: 2m 11s\n",
      "450:\tlearn: 0.1472349\ttotal: 1m 47s\tremaining: 2m 10s\n",
      "451:\tlearn: 0.1472260\ttotal: 1m 47s\tremaining: 2m 10s\n",
      "452:\tlearn: 0.1472217\ttotal: 1m 48s\tremaining: 2m 10s\n",
      "453:\tlearn: 0.1472118\ttotal: 1m 48s\tremaining: 2m 10s\n",
      "454:\tlearn: 0.1472022\ttotal: 1m 48s\tremaining: 2m 10s\n",
      "455:\tlearn: 0.1471888\ttotal: 1m 48s\tremaining: 2m 10s\n",
      "456:\tlearn: 0.1471792\ttotal: 1m 49s\tremaining: 2m 9s\n",
      "457:\tlearn: 0.1471741\ttotal: 1m 49s\tremaining: 2m 10s\n",
      "458:\tlearn: 0.1471681\ttotal: 1m 50s\tremaining: 2m 10s\n",
      "459:\tlearn: 0.1471620\ttotal: 1m 50s\tremaining: 2m 10s\n",
      "460:\tlearn: 0.1471508\ttotal: 1m 51s\tremaining: 2m 10s\n",
      "461:\tlearn: 0.1471355\ttotal: 1m 52s\tremaining: 2m 10s\n",
      "462:\tlearn: 0.1471228\ttotal: 1m 52s\tremaining: 2m 10s\n",
      "463:\tlearn: 0.1471197\ttotal: 1m 53s\tremaining: 2m 10s\n",
      "464:\tlearn: 0.1471131\ttotal: 1m 53s\tremaining: 2m 10s\n",
      "465:\tlearn: 0.1471066\ttotal: 1m 54s\tremaining: 2m 10s\n",
      "466:\tlearn: 0.1471043\ttotal: 1m 54s\tremaining: 2m 10s\n",
      "467:\tlearn: 0.1470954\ttotal: 1m 54s\tremaining: 2m 10s\n",
      "468:\tlearn: 0.1470874\ttotal: 1m 55s\tremaining: 2m 10s\n",
      "469:\tlearn: 0.1470748\ttotal: 1m 55s\tremaining: 2m 9s\n",
      "470:\tlearn: 0.1470642\ttotal: 1m 55s\tremaining: 2m 9s\n",
      "471:\tlearn: 0.1470556\ttotal: 1m 55s\tremaining: 2m 9s\n",
      "472:\tlearn: 0.1470469\ttotal: 1m 56s\tremaining: 2m 9s\n",
      "473:\tlearn: 0.1470399\ttotal: 1m 56s\tremaining: 2m 9s\n",
      "474:\tlearn: 0.1470289\ttotal: 1m 56s\tremaining: 2m 8s\n",
      "475:\tlearn: 0.1470184\ttotal: 1m 56s\tremaining: 2m 8s\n",
      "476:\tlearn: 0.1470085\ttotal: 1m 57s\tremaining: 2m 8s\n",
      "477:\tlearn: 0.1469977\ttotal: 1m 57s\tremaining: 2m 8s\n",
      "478:\tlearn: 0.1469906\ttotal: 1m 57s\tremaining: 2m 8s\n",
      "479:\tlearn: 0.1469894\ttotal: 1m 58s\tremaining: 2m 8s\n",
      "480:\tlearn: 0.1469727\ttotal: 1m 58s\tremaining: 2m 7s\n",
      "481:\tlearn: 0.1469594\ttotal: 1m 58s\tremaining: 2m 7s\n",
      "482:\tlearn: 0.1469545\ttotal: 1m 58s\tremaining: 2m 7s\n",
      "483:\tlearn: 0.1469413\ttotal: 1m 59s\tremaining: 2m 7s\n",
      "484:\tlearn: 0.1469311\ttotal: 1m 59s\tremaining: 2m 6s\n",
      "485:\tlearn: 0.1469194\ttotal: 1m 59s\tremaining: 2m 6s\n",
      "486:\tlearn: 0.1469111\ttotal: 2m\tremaining: 2m 6s\n",
      "487:\tlearn: 0.1468999\ttotal: 2m\tremaining: 2m 6s\n",
      "488:\tlearn: 0.1468912\ttotal: 2m\tremaining: 2m 6s\n",
      "489:\tlearn: 0.1468809\ttotal: 2m 1s\tremaining: 2m 6s\n",
      "490:\tlearn: 0.1468714\ttotal: 2m 1s\tremaining: 2m 6s\n",
      "491:\tlearn: 0.1468657\ttotal: 2m 2s\tremaining: 2m 6s\n",
      "492:\tlearn: 0.1468558\ttotal: 2m 2s\tremaining: 2m 5s\n",
      "493:\tlearn: 0.1468501\ttotal: 2m 2s\tremaining: 2m 5s\n",
      "494:\tlearn: 0.1468430\ttotal: 2m 3s\tremaining: 2m 5s\n",
      "495:\tlearn: 0.1468397\ttotal: 2m 3s\tremaining: 2m 5s\n",
      "496:\tlearn: 0.1468318\ttotal: 2m 3s\tremaining: 2m 5s\n",
      "497:\tlearn: 0.1468165\ttotal: 2m 4s\tremaining: 2m 4s\n",
      "498:\tlearn: 0.1468031\ttotal: 2m 4s\tremaining: 2m 4s\n",
      "499:\tlearn: 0.1467924\ttotal: 2m 4s\tremaining: 2m 4s\n",
      "500:\tlearn: 0.1467843\ttotal: 2m 4s\tremaining: 2m 4s\n",
      "501:\tlearn: 0.1467693\ttotal: 2m 5s\tremaining: 2m 4s\n",
      "502:\tlearn: 0.1467668\ttotal: 2m 5s\tremaining: 2m 4s\n",
      "503:\tlearn: 0.1467601\ttotal: 2m 6s\tremaining: 2m 4s\n",
      "504:\tlearn: 0.1467572\ttotal: 2m 6s\tremaining: 2m 3s\n",
      "505:\tlearn: 0.1467538\ttotal: 2m 6s\tremaining: 2m 3s\n",
      "506:\tlearn: 0.1467515\ttotal: 2m 7s\tremaining: 2m 3s\n",
      "507:\tlearn: 0.1467447\ttotal: 2m 7s\tremaining: 2m 3s\n",
      "508:\tlearn: 0.1467394\ttotal: 2m 8s\tremaining: 2m 3s\n",
      "509:\tlearn: 0.1467357\ttotal: 2m 8s\tremaining: 2m 3s\n",
      "510:\tlearn: 0.1467256\ttotal: 2m 8s\tremaining: 2m 3s\n",
      "511:\tlearn: 0.1467151\ttotal: 2m 9s\tremaining: 2m 3s\n",
      "512:\tlearn: 0.1467056\ttotal: 2m 9s\tremaining: 2m 3s\n",
      "513:\tlearn: 0.1467031\ttotal: 2m 9s\tremaining: 2m 2s\n",
      "514:\tlearn: 0.1466903\ttotal: 2m 10s\tremaining: 2m 2s\n",
      "515:\tlearn: 0.1466850\ttotal: 2m 10s\tremaining: 2m 2s\n",
      "516:\tlearn: 0.1466794\ttotal: 2m 10s\tremaining: 2m 2s\n",
      "517:\tlearn: 0.1466780\ttotal: 2m 11s\tremaining: 2m 2s\n",
      "518:\tlearn: 0.1466708\ttotal: 2m 11s\tremaining: 2m 1s\n",
      "519:\tlearn: 0.1466629\ttotal: 2m 11s\tremaining: 2m 1s\n",
      "520:\tlearn: 0.1466587\ttotal: 2m 12s\tremaining: 2m 1s\n",
      "521:\tlearn: 0.1466510\ttotal: 2m 12s\tremaining: 2m 1s\n",
      "522:\tlearn: 0.1466356\ttotal: 2m 12s\tremaining: 2m 1s\n",
      "523:\tlearn: 0.1466245\ttotal: 2m 13s\tremaining: 2m\n",
      "524:\tlearn: 0.1466142\ttotal: 2m 13s\tremaining: 2m 1s\n",
      "525:\tlearn: 0.1466085\ttotal: 2m 14s\tremaining: 2m\n",
      "526:\tlearn: 0.1466045\ttotal: 2m 14s\tremaining: 2m\n",
      "527:\tlearn: 0.1465889\ttotal: 2m 14s\tremaining: 2m\n",
      "528:\tlearn: 0.1465775\ttotal: 2m 14s\tremaining: 2m\n",
      "529:\tlearn: 0.1465650\ttotal: 2m 15s\tremaining: 1m 59s\n",
      "530:\tlearn: 0.1465603\ttotal: 2m 15s\tremaining: 1m 59s\n",
      "531:\tlearn: 0.1465513\ttotal: 2m 15s\tremaining: 1m 59s\n",
      "532:\tlearn: 0.1465328\ttotal: 2m 15s\tremaining: 1m 58s\n",
      "533:\tlearn: 0.1465255\ttotal: 2m 15s\tremaining: 1m 58s\n",
      "534:\tlearn: 0.1465216\ttotal: 2m 15s\tremaining: 1m 58s\n",
      "535:\tlearn: 0.1465104\ttotal: 2m 15s\tremaining: 1m 57s\n",
      "536:\tlearn: 0.1465006\ttotal: 2m 16s\tremaining: 1m 57s\n",
      "537:\tlearn: 0.1464866\ttotal: 2m 16s\tremaining: 1m 57s\n",
      "538:\tlearn: 0.1464812\ttotal: 2m 16s\tremaining: 1m 56s\n",
      "539:\tlearn: 0.1464752\ttotal: 2m 16s\tremaining: 1m 56s\n",
      "540:\tlearn: 0.1464569\ttotal: 2m 16s\tremaining: 1m 55s\n",
      "541:\tlearn: 0.1464443\ttotal: 2m 16s\tremaining: 1m 55s\n",
      "542:\tlearn: 0.1464392\ttotal: 2m 17s\tremaining: 1m 55s\n",
      "543:\tlearn: 0.1464264\ttotal: 2m 17s\tremaining: 1m 54s\n",
      "544:\tlearn: 0.1464097\ttotal: 2m 17s\tremaining: 1m 54s\n",
      "545:\tlearn: 0.1463978\ttotal: 2m 17s\tremaining: 1m 54s\n",
      "546:\tlearn: 0.1463934\ttotal: 2m 17s\tremaining: 1m 53s\n",
      "547:\tlearn: 0.1463841\ttotal: 2m 17s\tremaining: 1m 53s\n",
      "548:\tlearn: 0.1463706\ttotal: 2m 17s\tremaining: 1m 53s\n",
      "549:\tlearn: 0.1463628\ttotal: 2m 18s\tremaining: 1m 52s\n",
      "550:\tlearn: 0.1463512\ttotal: 2m 18s\tremaining: 1m 52s\n",
      "551:\tlearn: 0.1463490\ttotal: 2m 18s\tremaining: 1m 52s\n",
      "552:\tlearn: 0.1463294\ttotal: 2m 18s\tremaining: 1m 51s\n",
      "553:\tlearn: 0.1463169\ttotal: 2m 18s\tremaining: 1m 51s\n",
      "554:\tlearn: 0.1463012\ttotal: 2m 18s\tremaining: 1m 51s\n",
      "555:\tlearn: 0.1462911\ttotal: 2m 18s\tremaining: 1m 50s\n",
      "556:\tlearn: 0.1462758\ttotal: 2m 19s\tremaining: 1m 50s\n",
      "557:\tlearn: 0.1462671\ttotal: 2m 19s\tremaining: 1m 50s\n",
      "558:\tlearn: 0.1462587\ttotal: 2m 19s\tremaining: 1m 50s\n",
      "559:\tlearn: 0.1462503\ttotal: 2m 19s\tremaining: 1m 49s\n",
      "560:\tlearn: 0.1462458\ttotal: 2m 20s\tremaining: 1m 49s\n",
      "561:\tlearn: 0.1462418\ttotal: 2m 20s\tremaining: 1m 49s\n",
      "562:\tlearn: 0.1462376\ttotal: 2m 20s\tremaining: 1m 49s\n",
      "563:\tlearn: 0.1462241\ttotal: 2m 20s\tremaining: 1m 48s\n",
      "564:\tlearn: 0.1462144\ttotal: 2m 21s\tremaining: 1m 48s\n",
      "565:\tlearn: 0.1462034\ttotal: 2m 21s\tremaining: 1m 48s\n",
      "566:\tlearn: 0.1461951\ttotal: 2m 21s\tremaining: 1m 48s\n",
      "567:\tlearn: 0.1461840\ttotal: 2m 22s\tremaining: 1m 48s\n",
      "568:\tlearn: 0.1461701\ttotal: 2m 22s\tremaining: 1m 47s\n",
      "569:\tlearn: 0.1461561\ttotal: 2m 22s\tremaining: 1m 47s\n",
      "570:\tlearn: 0.1461407\ttotal: 2m 22s\tremaining: 1m 47s\n",
      "571:\tlearn: 0.1461333\ttotal: 2m 23s\tremaining: 1m 47s\n",
      "572:\tlearn: 0.1461197\ttotal: 2m 23s\tremaining: 1m 46s\n",
      "573:\tlearn: 0.1461043\ttotal: 2m 23s\tremaining: 1m 46s\n",
      "574:\tlearn: 0.1460979\ttotal: 2m 23s\tremaining: 1m 46s\n",
      "575:\tlearn: 0.1460889\ttotal: 2m 24s\tremaining: 1m 46s\n",
      "576:\tlearn: 0.1460842\ttotal: 2m 24s\tremaining: 1m 45s\n",
      "577:\tlearn: 0.1460729\ttotal: 2m 24s\tremaining: 1m 45s\n",
      "578:\tlearn: 0.1460579\ttotal: 2m 24s\tremaining: 1m 45s\n",
      "579:\tlearn: 0.1460416\ttotal: 2m 24s\tremaining: 1m 44s\n",
      "580:\tlearn: 0.1460313\ttotal: 2m 24s\tremaining: 1m 44s\n",
      "581:\tlearn: 0.1460272\ttotal: 2m 24s\tremaining: 1m 44s\n",
      "582:\tlearn: 0.1460213\ttotal: 2m 25s\tremaining: 1m 43s\n",
      "583:\tlearn: 0.1460122\ttotal: 2m 25s\tremaining: 1m 43s\n",
      "584:\tlearn: 0.1459994\ttotal: 2m 25s\tremaining: 1m 43s\n",
      "585:\tlearn: 0.1459925\ttotal: 2m 25s\tremaining: 1m 42s\n",
      "586:\tlearn: 0.1459756\ttotal: 2m 25s\tremaining: 1m 42s\n",
      "587:\tlearn: 0.1459668\ttotal: 2m 25s\tremaining: 1m 42s\n",
      "588:\tlearn: 0.1459568\ttotal: 2m 26s\tremaining: 1m 41s\n",
      "589:\tlearn: 0.1459390\ttotal: 2m 26s\tremaining: 1m 41s\n",
      "590:\tlearn: 0.1459271\ttotal: 2m 26s\tremaining: 1m 41s\n",
      "591:\tlearn: 0.1459157\ttotal: 2m 26s\tremaining: 1m 40s\n",
      "592:\tlearn: 0.1459067\ttotal: 2m 26s\tremaining: 1m 40s\n",
      "593:\tlearn: 0.1459004\ttotal: 2m 26s\tremaining: 1m 40s\n",
      "594:\tlearn: 0.1458883\ttotal: 2m 27s\tremaining: 1m 40s\n",
      "595:\tlearn: 0.1458753\ttotal: 2m 27s\tremaining: 1m 39s\n",
      "596:\tlearn: 0.1458603\ttotal: 2m 27s\tremaining: 1m 39s\n",
      "597:\tlearn: 0.1458565\ttotal: 2m 28s\tremaining: 1m 39s\n",
      "598:\tlearn: 0.1458505\ttotal: 2m 28s\tremaining: 1m 39s\n",
      "599:\tlearn: 0.1458437\ttotal: 2m 28s\tremaining: 1m 39s\n",
      "600:\tlearn: 0.1458320\ttotal: 2m 28s\tremaining: 1m 38s\n",
      "601:\tlearn: 0.1458271\ttotal: 2m 29s\tremaining: 1m 38s\n",
      "602:\tlearn: 0.1458174\ttotal: 2m 29s\tremaining: 1m 38s\n",
      "603:\tlearn: 0.1458068\ttotal: 2m 29s\tremaining: 1m 37s\n",
      "604:\tlearn: 0.1457968\ttotal: 2m 29s\tremaining: 1m 37s\n",
      "605:\tlearn: 0.1457870\ttotal: 2m 29s\tremaining: 1m 37s\n",
      "606:\tlearn: 0.1457733\ttotal: 2m 29s\tremaining: 1m 37s\n",
      "607:\tlearn: 0.1457690\ttotal: 2m 29s\tremaining: 1m 36s\n",
      "608:\tlearn: 0.1457522\ttotal: 2m 30s\tremaining: 1m 36s\n",
      "609:\tlearn: 0.1457392\ttotal: 2m 30s\tremaining: 1m 36s\n",
      "610:\tlearn: 0.1457282\ttotal: 2m 30s\tremaining: 1m 35s\n",
      "611:\tlearn: 0.1457206\ttotal: 2m 30s\tremaining: 1m 35s\n",
      "612:\tlearn: 0.1457100\ttotal: 2m 30s\tremaining: 1m 35s\n",
      "613:\tlearn: 0.1457023\ttotal: 2m 30s\tremaining: 1m 34s\n",
      "614:\tlearn: 0.1456933\ttotal: 2m 30s\tremaining: 1m 34s\n",
      "615:\tlearn: 0.1456872\ttotal: 2m 31s\tremaining: 1m 34s\n",
      "616:\tlearn: 0.1456794\ttotal: 2m 31s\tremaining: 1m 33s\n",
      "617:\tlearn: 0.1456725\ttotal: 2m 31s\tremaining: 1m 33s\n",
      "618:\tlearn: 0.1456684\ttotal: 2m 31s\tremaining: 1m 33s\n",
      "619:\tlearn: 0.1456622\ttotal: 2m 31s\tremaining: 1m 32s\n",
      "620:\tlearn: 0.1456484\ttotal: 2m 31s\tremaining: 1m 32s\n",
      "621:\tlearn: 0.1456330\ttotal: 2m 31s\tremaining: 1m 32s\n",
      "622:\tlearn: 0.1456279\ttotal: 2m 32s\tremaining: 1m 32s\n",
      "623:\tlearn: 0.1456237\ttotal: 2m 32s\tremaining: 1m 31s\n",
      "624:\tlearn: 0.1456162\ttotal: 2m 32s\tremaining: 1m 31s\n",
      "625:\tlearn: 0.1456049\ttotal: 2m 32s\tremaining: 1m 31s\n",
      "626:\tlearn: 0.1455980\ttotal: 2m 32s\tremaining: 1m 30s\n",
      "627:\tlearn: 0.1455838\ttotal: 2m 32s\tremaining: 1m 30s\n",
      "628:\tlearn: 0.1455652\ttotal: 2m 32s\tremaining: 1m 30s\n",
      "629:\tlearn: 0.1455600\ttotal: 2m 33s\tremaining: 1m 29s\n",
      "630:\tlearn: 0.1455503\ttotal: 2m 33s\tremaining: 1m 29s\n",
      "631:\tlearn: 0.1455478\ttotal: 2m 33s\tremaining: 1m 29s\n",
      "632:\tlearn: 0.1455447\ttotal: 2m 33s\tremaining: 1m 29s\n",
      "633:\tlearn: 0.1455416\ttotal: 2m 33s\tremaining: 1m 28s\n",
      "634:\tlearn: 0.1455373\ttotal: 2m 33s\tremaining: 1m 28s\n",
      "635:\tlearn: 0.1455234\ttotal: 2m 33s\tremaining: 1m 28s\n",
      "636:\tlearn: 0.1455151\ttotal: 2m 34s\tremaining: 1m 27s\n",
      "637:\tlearn: 0.1455085\ttotal: 2m 34s\tremaining: 1m 27s\n",
      "638:\tlearn: 0.1454988\ttotal: 2m 34s\tremaining: 1m 27s\n",
      "639:\tlearn: 0.1454910\ttotal: 2m 35s\tremaining: 1m 27s\n",
      "640:\tlearn: 0.1454817\ttotal: 2m 35s\tremaining: 1m 27s\n",
      "641:\tlearn: 0.1454740\ttotal: 2m 35s\tremaining: 1m 26s\n",
      "642:\tlearn: 0.1454622\ttotal: 2m 35s\tremaining: 1m 26s\n",
      "643:\tlearn: 0.1454510\ttotal: 2m 36s\tremaining: 1m 26s\n",
      "644:\tlearn: 0.1454388\ttotal: 2m 36s\tremaining: 1m 26s\n",
      "645:\tlearn: 0.1454236\ttotal: 2m 36s\tremaining: 1m 25s\n",
      "646:\tlearn: 0.1454110\ttotal: 2m 37s\tremaining: 1m 25s\n",
      "647:\tlearn: 0.1453985\ttotal: 2m 37s\tremaining: 1m 25s\n",
      "648:\tlearn: 0.1453865\ttotal: 2m 37s\tremaining: 1m 25s\n",
      "649:\tlearn: 0.1453824\ttotal: 2m 37s\tremaining: 1m 25s\n",
      "650:\tlearn: 0.1453705\ttotal: 2m 38s\tremaining: 1m 24s\n",
      "651:\tlearn: 0.1453577\ttotal: 2m 38s\tremaining: 1m 24s\n",
      "652:\tlearn: 0.1453464\ttotal: 2m 38s\tremaining: 1m 24s\n",
      "653:\tlearn: 0.1453381\ttotal: 2m 38s\tremaining: 1m 24s\n",
      "654:\tlearn: 0.1453320\ttotal: 2m 38s\tremaining: 1m 23s\n",
      "655:\tlearn: 0.1453234\ttotal: 2m 39s\tremaining: 1m 23s\n",
      "656:\tlearn: 0.1453222\ttotal: 2m 39s\tremaining: 1m 23s\n",
      "657:\tlearn: 0.1453122\ttotal: 2m 39s\tremaining: 1m 22s\n",
      "658:\tlearn: 0.1452968\ttotal: 2m 39s\tremaining: 1m 22s\n",
      "659:\tlearn: 0.1452874\ttotal: 2m 39s\tremaining: 1m 22s\n",
      "660:\tlearn: 0.1452755\ttotal: 2m 39s\tremaining: 1m 21s\n",
      "661:\tlearn: 0.1452595\ttotal: 2m 40s\tremaining: 1m 21s\n",
      "662:\tlearn: 0.1452495\ttotal: 2m 40s\tremaining: 1m 21s\n",
      "663:\tlearn: 0.1452397\ttotal: 2m 40s\tremaining: 1m 21s\n",
      "664:\tlearn: 0.1452295\ttotal: 2m 40s\tremaining: 1m 20s\n",
      "665:\tlearn: 0.1452192\ttotal: 2m 40s\tremaining: 1m 20s\n",
      "666:\tlearn: 0.1452060\ttotal: 2m 40s\tremaining: 1m 20s\n",
      "667:\tlearn: 0.1451989\ttotal: 2m 40s\tremaining: 1m 19s\n",
      "668:\tlearn: 0.1451880\ttotal: 2m 41s\tremaining: 1m 19s\n",
      "669:\tlearn: 0.1451833\ttotal: 2m 41s\tremaining: 1m 19s\n",
      "670:\tlearn: 0.1451808\ttotal: 2m 41s\tremaining: 1m 19s\n",
      "671:\tlearn: 0.1451730\ttotal: 2m 41s\tremaining: 1m 18s\n",
      "672:\tlearn: 0.1451664\ttotal: 2m 41s\tremaining: 1m 18s\n",
      "673:\tlearn: 0.1451626\ttotal: 2m 41s\tremaining: 1m 18s\n",
      "674:\tlearn: 0.1451581\ttotal: 2m 41s\tremaining: 1m 17s\n",
      "675:\tlearn: 0.1451517\ttotal: 2m 42s\tremaining: 1m 17s\n",
      "676:\tlearn: 0.1451427\ttotal: 2m 42s\tremaining: 1m 17s\n",
      "677:\tlearn: 0.1451368\ttotal: 2m 42s\tremaining: 1m 17s\n",
      "678:\tlearn: 0.1451299\ttotal: 2m 42s\tremaining: 1m 16s\n",
      "679:\tlearn: 0.1451234\ttotal: 2m 42s\tremaining: 1m 16s\n",
      "680:\tlearn: 0.1451149\ttotal: 2m 42s\tremaining: 1m 16s\n",
      "681:\tlearn: 0.1451106\ttotal: 2m 42s\tremaining: 1m 15s\n",
      "682:\tlearn: 0.1451096\ttotal: 2m 43s\tremaining: 1m 15s\n",
      "683:\tlearn: 0.1450972\ttotal: 2m 43s\tremaining: 1m 15s\n",
      "684:\tlearn: 0.1450861\ttotal: 2m 43s\tremaining: 1m 15s\n",
      "685:\tlearn: 0.1450734\ttotal: 2m 43s\tremaining: 1m 14s\n",
      "686:\tlearn: 0.1450687\ttotal: 2m 43s\tremaining: 1m 14s\n",
      "687:\tlearn: 0.1450568\ttotal: 2m 43s\tremaining: 1m 14s\n",
      "688:\tlearn: 0.1450403\ttotal: 2m 43s\tremaining: 1m 14s\n",
      "689:\tlearn: 0.1450299\ttotal: 2m 44s\tremaining: 1m 13s\n",
      "690:\tlearn: 0.1450193\ttotal: 2m 44s\tremaining: 1m 13s\n",
      "691:\tlearn: 0.1450137\ttotal: 2m 44s\tremaining: 1m 13s\n",
      "692:\tlearn: 0.1450030\ttotal: 2m 44s\tremaining: 1m 12s\n",
      "693:\tlearn: 0.1449948\ttotal: 2m 44s\tremaining: 1m 12s\n",
      "694:\tlearn: 0.1449834\ttotal: 2m 45s\tremaining: 1m 12s\n",
      "695:\tlearn: 0.1449757\ttotal: 2m 45s\tremaining: 1m 12s\n",
      "696:\tlearn: 0.1449718\ttotal: 2m 45s\tremaining: 1m 11s\n",
      "697:\tlearn: 0.1449640\ttotal: 2m 45s\tremaining: 1m 11s\n",
      "698:\tlearn: 0.1449603\ttotal: 2m 46s\tremaining: 1m 11s\n",
      "699:\tlearn: 0.1449441\ttotal: 2m 46s\tremaining: 1m 11s\n",
      "700:\tlearn: 0.1449338\ttotal: 2m 46s\tremaining: 1m 11s\n",
      "701:\tlearn: 0.1449228\ttotal: 2m 46s\tremaining: 1m 10s\n",
      "702:\tlearn: 0.1449152\ttotal: 2m 47s\tremaining: 1m 10s\n",
      "703:\tlearn: 0.1449081\ttotal: 2m 47s\tremaining: 1m 10s\n",
      "704:\tlearn: 0.1448967\ttotal: 2m 47s\tremaining: 1m 10s\n",
      "705:\tlearn: 0.1448835\ttotal: 2m 47s\tremaining: 1m 9s\n",
      "706:\tlearn: 0.1448688\ttotal: 2m 47s\tremaining: 1m 9s\n",
      "707:\tlearn: 0.1448601\ttotal: 2m 47s\tremaining: 1m 9s\n",
      "708:\tlearn: 0.1448524\ttotal: 2m 48s\tremaining: 1m 9s\n",
      "709:\tlearn: 0.1448441\ttotal: 2m 48s\tremaining: 1m 8s\n",
      "710:\tlearn: 0.1448323\ttotal: 2m 49s\tremaining: 1m 8s\n",
      "711:\tlearn: 0.1448237\ttotal: 2m 49s\tremaining: 1m 8s\n",
      "712:\tlearn: 0.1448167\ttotal: 2m 50s\tremaining: 1m 8s\n",
      "713:\tlearn: 0.1448013\ttotal: 2m 50s\tremaining: 1m 8s\n",
      "714:\tlearn: 0.1447953\ttotal: 2m 51s\tremaining: 1m 8s\n",
      "715:\tlearn: 0.1447916\ttotal: 2m 52s\tremaining: 1m 8s\n",
      "716:\tlearn: 0.1447873\ttotal: 2m 52s\tremaining: 1m 8s\n",
      "717:\tlearn: 0.1447804\ttotal: 2m 53s\tremaining: 1m 7s\n",
      "718:\tlearn: 0.1447680\ttotal: 2m 53s\tremaining: 1m 7s\n",
      "719:\tlearn: 0.1447567\ttotal: 2m 53s\tremaining: 1m 7s\n",
      "720:\tlearn: 0.1447494\ttotal: 2m 54s\tremaining: 1m 7s\n",
      "721:\tlearn: 0.1447335\ttotal: 2m 54s\tremaining: 1m 7s\n",
      "722:\tlearn: 0.1447223\ttotal: 2m 54s\tremaining: 1m 7s\n",
      "723:\tlearn: 0.1447103\ttotal: 2m 55s\tremaining: 1m 6s\n",
      "724:\tlearn: 0.1446999\ttotal: 2m 55s\tremaining: 1m 6s\n",
      "725:\tlearn: 0.1446891\ttotal: 2m 55s\tremaining: 1m 6s\n",
      "726:\tlearn: 0.1446841\ttotal: 2m 56s\tremaining: 1m 6s\n",
      "727:\tlearn: 0.1446794\ttotal: 2m 56s\tremaining: 1m 5s\n",
      "728:\tlearn: 0.1446777\ttotal: 2m 56s\tremaining: 1m 5s\n",
      "729:\tlearn: 0.1446753\ttotal: 2m 57s\tremaining: 1m 5s\n",
      "730:\tlearn: 0.1446658\ttotal: 2m 57s\tremaining: 1m 5s\n",
      "731:\tlearn: 0.1446582\ttotal: 2m 57s\tremaining: 1m 5s\n",
      "732:\tlearn: 0.1446516\ttotal: 2m 57s\tremaining: 1m 4s\n",
      "733:\tlearn: 0.1446434\ttotal: 2m 58s\tremaining: 1m 4s\n",
      "734:\tlearn: 0.1446375\ttotal: 2m 58s\tremaining: 1m 4s\n",
      "735:\tlearn: 0.1446304\ttotal: 2m 58s\tremaining: 1m 4s\n",
      "736:\tlearn: 0.1446195\ttotal: 2m 58s\tremaining: 1m 3s\n",
      "737:\tlearn: 0.1446108\ttotal: 2m 59s\tremaining: 1m 3s\n",
      "738:\tlearn: 0.1446015\ttotal: 2m 59s\tremaining: 1m 3s\n",
      "739:\tlearn: 0.1445978\ttotal: 2m 59s\tremaining: 1m 3s\n",
      "740:\tlearn: 0.1445819\ttotal: 2m 59s\tremaining: 1m 2s\n",
      "741:\tlearn: 0.1445733\ttotal: 3m\tremaining: 1m 2s\n",
      "742:\tlearn: 0.1445601\ttotal: 3m\tremaining: 1m 2s\n",
      "743:\tlearn: 0.1445466\ttotal: 3m\tremaining: 1m 2s\n",
      "744:\tlearn: 0.1445375\ttotal: 3m\tremaining: 1m 1s\n",
      "745:\tlearn: 0.1445272\ttotal: 3m 1s\tremaining: 1m 1s\n",
      "746:\tlearn: 0.1445174\ttotal: 3m 1s\tremaining: 1m 1s\n",
      "747:\tlearn: 0.1445090\ttotal: 3m 1s\tremaining: 1m 1s\n",
      "748:\tlearn: 0.1444995\ttotal: 3m 1s\tremaining: 1m\n",
      "749:\tlearn: 0.1444853\ttotal: 3m 2s\tremaining: 1m\n",
      "750:\tlearn: 0.1444757\ttotal: 3m 2s\tremaining: 1m\n",
      "751:\tlearn: 0.1444736\ttotal: 3m 2s\tremaining: 1m\n",
      "752:\tlearn: 0.1444655\ttotal: 3m 3s\tremaining: 1m\n",
      "753:\tlearn: 0.1444534\ttotal: 3m 3s\tremaining: 59.9s\n",
      "754:\tlearn: 0.1444424\ttotal: 3m 4s\tremaining: 59.7s\n",
      "755:\tlearn: 0.1444320\ttotal: 3m 4s\tremaining: 59.6s\n",
      "756:\tlearn: 0.1444203\ttotal: 3m 5s\tremaining: 59.4s\n",
      "757:\tlearn: 0.1444145\ttotal: 3m 5s\tremaining: 59.3s\n",
      "758:\tlearn: 0.1444103\ttotal: 3m 6s\tremaining: 59.1s\n",
      "759:\tlearn: 0.1444078\ttotal: 3m 6s\tremaining: 59s\n",
      "760:\tlearn: 0.1443991\ttotal: 3m 7s\tremaining: 58.8s\n",
      "761:\tlearn: 0.1443895\ttotal: 3m 7s\tremaining: 58.7s\n",
      "762:\tlearn: 0.1443745\ttotal: 3m 8s\tremaining: 58.5s\n",
      "763:\tlearn: 0.1443640\ttotal: 3m 8s\tremaining: 58.3s\n",
      "764:\tlearn: 0.1443528\ttotal: 3m 9s\tremaining: 58.1s\n",
      "765:\tlearn: 0.1443484\ttotal: 3m 9s\tremaining: 57.8s\n",
      "766:\tlearn: 0.1443330\ttotal: 3m 9s\tremaining: 57.5s\n",
      "767:\tlearn: 0.1443271\ttotal: 3m 9s\tremaining: 57.3s\n",
      "768:\tlearn: 0.1443171\ttotal: 3m 9s\tremaining: 57s\n",
      "769:\tlearn: 0.1443086\ttotal: 3m 9s\tremaining: 56.7s\n",
      "770:\tlearn: 0.1443023\ttotal: 3m 9s\tremaining: 56.4s\n",
      "771:\tlearn: 0.1442963\ttotal: 3m 10s\tremaining: 56.1s\n",
      "772:\tlearn: 0.1442803\ttotal: 3m 10s\tremaining: 55.9s\n",
      "773:\tlearn: 0.1442700\ttotal: 3m 10s\tremaining: 55.6s\n",
      "774:\tlearn: 0.1442656\ttotal: 3m 10s\tremaining: 55.3s\n",
      "775:\tlearn: 0.1442599\ttotal: 3m 10s\tremaining: 55.1s\n",
      "776:\tlearn: 0.1442537\ttotal: 3m 10s\tremaining: 54.8s\n",
      "777:\tlearn: 0.1442435\ttotal: 3m 11s\tremaining: 54.5s\n",
      "778:\tlearn: 0.1442287\ttotal: 3m 11s\tremaining: 54.2s\n",
      "779:\tlearn: 0.1442204\ttotal: 3m 11s\tremaining: 54s\n",
      "780:\tlearn: 0.1442130\ttotal: 3m 11s\tremaining: 53.7s\n",
      "781:\tlearn: 0.1441964\ttotal: 3m 11s\tremaining: 53.4s\n",
      "782:\tlearn: 0.1441866\ttotal: 3m 11s\tremaining: 53.2s\n",
      "783:\tlearn: 0.1441790\ttotal: 3m 11s\tremaining: 52.9s\n",
      "784:\tlearn: 0.1441779\ttotal: 3m 12s\tremaining: 52.6s\n",
      "785:\tlearn: 0.1441717\ttotal: 3m 12s\tremaining: 52.3s\n",
      "786:\tlearn: 0.1441600\ttotal: 3m 12s\tremaining: 52.1s\n",
      "787:\tlearn: 0.1441457\ttotal: 3m 12s\tremaining: 51.8s\n",
      "788:\tlearn: 0.1441393\ttotal: 3m 12s\tremaining: 51.5s\n",
      "789:\tlearn: 0.1441350\ttotal: 3m 12s\tremaining: 51.2s\n",
      "790:\tlearn: 0.1441283\ttotal: 3m 12s\tremaining: 51s\n",
      "791:\tlearn: 0.1441204\ttotal: 3m 13s\tremaining: 50.7s\n",
      "792:\tlearn: 0.1441150\ttotal: 3m 13s\tremaining: 50.4s\n",
      "793:\tlearn: 0.1441103\ttotal: 3m 13s\tremaining: 50.2s\n",
      "794:\tlearn: 0.1440987\ttotal: 3m 13s\tremaining: 49.9s\n",
      "795:\tlearn: 0.1440912\ttotal: 3m 13s\tremaining: 49.6s\n",
      "796:\tlearn: 0.1440810\ttotal: 3m 13s\tremaining: 49.4s\n",
      "797:\tlearn: 0.1440714\ttotal: 3m 13s\tremaining: 49.1s\n",
      "798:\tlearn: 0.1440623\ttotal: 3m 14s\tremaining: 48.8s\n",
      "799:\tlearn: 0.1440574\ttotal: 3m 14s\tremaining: 48.5s\n",
      "800:\tlearn: 0.1440519\ttotal: 3m 14s\tremaining: 48.3s\n",
      "801:\tlearn: 0.1440393\ttotal: 3m 14s\tremaining: 48s\n",
      "802:\tlearn: 0.1440308\ttotal: 3m 14s\tremaining: 47.7s\n",
      "803:\tlearn: 0.1440215\ttotal: 3m 14s\tremaining: 47.5s\n",
      "804:\tlearn: 0.1440203\ttotal: 3m 14s\tremaining: 47.2s\n",
      "805:\tlearn: 0.1440158\ttotal: 3m 15s\tremaining: 46.9s\n",
      "806:\tlearn: 0.1440047\ttotal: 3m 15s\tremaining: 46.7s\n",
      "807:\tlearn: 0.1439916\ttotal: 3m 15s\tremaining: 46.4s\n",
      "808:\tlearn: 0.1439840\ttotal: 3m 15s\tremaining: 46.1s\n",
      "809:\tlearn: 0.1439757\ttotal: 3m 15s\tremaining: 45.9s\n",
      "810:\tlearn: 0.1439691\ttotal: 3m 15s\tremaining: 45.6s\n",
      "811:\tlearn: 0.1439598\ttotal: 3m 15s\tremaining: 45.4s\n",
      "812:\tlearn: 0.1439539\ttotal: 3m 16s\tremaining: 45.1s\n",
      "813:\tlearn: 0.1439443\ttotal: 3m 16s\tremaining: 44.8s\n",
      "814:\tlearn: 0.1439370\ttotal: 3m 16s\tremaining: 44.6s\n",
      "815:\tlearn: 0.1439275\ttotal: 3m 16s\tremaining: 44.3s\n",
      "816:\tlearn: 0.1439241\ttotal: 3m 16s\tremaining: 44s\n",
      "817:\tlearn: 0.1439098\ttotal: 3m 16s\tremaining: 43.8s\n",
      "818:\tlearn: 0.1438989\ttotal: 3m 16s\tremaining: 43.5s\n",
      "819:\tlearn: 0.1438917\ttotal: 3m 17s\tremaining: 43.3s\n",
      "820:\tlearn: 0.1438759\ttotal: 3m 17s\tremaining: 43s\n",
      "821:\tlearn: 0.1438685\ttotal: 3m 17s\tremaining: 42.7s\n",
      "822:\tlearn: 0.1438571\ttotal: 3m 17s\tremaining: 42.5s\n",
      "823:\tlearn: 0.1438487\ttotal: 3m 17s\tremaining: 42.2s\n",
      "824:\tlearn: 0.1438421\ttotal: 3m 17s\tremaining: 41.9s\n",
      "825:\tlearn: 0.1438342\ttotal: 3m 17s\tremaining: 41.7s\n",
      "826:\tlearn: 0.1438263\ttotal: 3m 18s\tremaining: 41.4s\n",
      "827:\tlearn: 0.1438190\ttotal: 3m 18s\tremaining: 41.2s\n",
      "828:\tlearn: 0.1438181\ttotal: 3m 18s\tremaining: 40.9s\n",
      "829:\tlearn: 0.1438120\ttotal: 3m 18s\tremaining: 40.6s\n",
      "830:\tlearn: 0.1438086\ttotal: 3m 18s\tremaining: 40.4s\n",
      "831:\tlearn: 0.1437978\ttotal: 3m 18s\tremaining: 40.2s\n",
      "832:\tlearn: 0.1437910\ttotal: 3m 19s\tremaining: 40s\n",
      "833:\tlearn: 0.1437845\ttotal: 3m 19s\tremaining: 39.7s\n",
      "834:\tlearn: 0.1437751\ttotal: 3m 20s\tremaining: 39.5s\n",
      "835:\tlearn: 0.1437704\ttotal: 3m 20s\tremaining: 39.4s\n",
      "836:\tlearn: 0.1437583\ttotal: 3m 21s\tremaining: 39.2s\n",
      "837:\tlearn: 0.1437540\ttotal: 3m 21s\tremaining: 39s\n",
      "838:\tlearn: 0.1437427\ttotal: 3m 22s\tremaining: 38.8s\n",
      "839:\tlearn: 0.1437348\ttotal: 3m 22s\tremaining: 38.6s\n",
      "840:\tlearn: 0.1437253\ttotal: 3m 23s\tremaining: 38.4s\n",
      "841:\tlearn: 0.1437210\ttotal: 3m 23s\tremaining: 38.2s\n",
      "842:\tlearn: 0.1437073\ttotal: 3m 24s\tremaining: 38s\n",
      "843:\tlearn: 0.1436961\ttotal: 3m 24s\tremaining: 37.8s\n",
      "844:\tlearn: 0.1436917\ttotal: 3m 24s\tremaining: 37.5s\n",
      "845:\tlearn: 0.1436844\ttotal: 3m 24s\tremaining: 37.3s\n",
      "846:\tlearn: 0.1436743\ttotal: 3m 25s\tremaining: 37.1s\n",
      "847:\tlearn: 0.1436673\ttotal: 3m 25s\tremaining: 36.9s\n",
      "848:\tlearn: 0.1436579\ttotal: 3m 25s\tremaining: 36.6s\n",
      "849:\tlearn: 0.1436464\ttotal: 3m 26s\tremaining: 36.4s\n",
      "850:\tlearn: 0.1436338\ttotal: 3m 26s\tremaining: 36.2s\n",
      "851:\tlearn: 0.1436255\ttotal: 3m 26s\tremaining: 36s\n",
      "852:\tlearn: 0.1436170\ttotal: 3m 27s\tremaining: 35.7s\n",
      "853:\tlearn: 0.1436015\ttotal: 3m 27s\tremaining: 35.5s\n",
      "854:\tlearn: 0.1435889\ttotal: 3m 27s\tremaining: 35.2s\n",
      "855:\tlearn: 0.1435800\ttotal: 3m 28s\tremaining: 35s\n",
      "856:\tlearn: 0.1435756\ttotal: 3m 28s\tremaining: 34.8s\n",
      "857:\tlearn: 0.1435715\ttotal: 3m 28s\tremaining: 34.5s\n",
      "858:\tlearn: 0.1435643\ttotal: 3m 28s\tremaining: 34.3s\n",
      "859:\tlearn: 0.1435575\ttotal: 3m 29s\tremaining: 34s\n",
      "860:\tlearn: 0.1435467\ttotal: 3m 29s\tremaining: 33.8s\n",
      "861:\tlearn: 0.1435344\ttotal: 3m 29s\tremaining: 33.5s\n",
      "862:\tlearn: 0.1435228\ttotal: 3m 29s\tremaining: 33.3s\n",
      "863:\tlearn: 0.1435174\ttotal: 3m 29s\tremaining: 33s\n",
      "864:\tlearn: 0.1435094\ttotal: 3m 29s\tremaining: 32.7s\n",
      "865:\tlearn: 0.1435013\ttotal: 3m 29s\tremaining: 32.5s\n",
      "866:\tlearn: 0.1434901\ttotal: 3m 30s\tremaining: 32.2s\n",
      "867:\tlearn: 0.1434800\ttotal: 3m 30s\tremaining: 32s\n",
      "868:\tlearn: 0.1434708\ttotal: 3m 30s\tremaining: 31.7s\n",
      "869:\tlearn: 0.1434626\ttotal: 3m 30s\tremaining: 31.5s\n",
      "870:\tlearn: 0.1434562\ttotal: 3m 30s\tremaining: 31.2s\n",
      "871:\tlearn: 0.1434506\ttotal: 3m 30s\tremaining: 30.9s\n",
      "872:\tlearn: 0.1434454\ttotal: 3m 31s\tremaining: 30.7s\n",
      "873:\tlearn: 0.1434419\ttotal: 3m 31s\tremaining: 30.4s\n",
      "874:\tlearn: 0.1434381\ttotal: 3m 31s\tremaining: 30.2s\n",
      "875:\tlearn: 0.1434287\ttotal: 3m 31s\tremaining: 29.9s\n",
      "876:\tlearn: 0.1434184\ttotal: 3m 31s\tremaining: 29.7s\n",
      "877:\tlearn: 0.1434058\ttotal: 3m 31s\tremaining: 29.4s\n",
      "878:\tlearn: 0.1434014\ttotal: 3m 31s\tremaining: 29.2s\n",
      "879:\tlearn: 0.1433894\ttotal: 3m 32s\tremaining: 28.9s\n",
      "880:\tlearn: 0.1433807\ttotal: 3m 32s\tremaining: 28.7s\n",
      "881:\tlearn: 0.1433763\ttotal: 3m 32s\tremaining: 28.4s\n",
      "882:\tlearn: 0.1433729\ttotal: 3m 32s\tremaining: 28.2s\n",
      "883:\tlearn: 0.1433634\ttotal: 3m 32s\tremaining: 27.9s\n",
      "884:\tlearn: 0.1433548\ttotal: 3m 32s\tremaining: 27.6s\n",
      "885:\tlearn: 0.1433439\ttotal: 3m 32s\tremaining: 27.4s\n",
      "886:\tlearn: 0.1433356\ttotal: 3m 33s\tremaining: 27.1s\n",
      "887:\tlearn: 0.1433277\ttotal: 3m 33s\tremaining: 26.9s\n",
      "888:\tlearn: 0.1433249\ttotal: 3m 33s\tremaining: 26.6s\n",
      "889:\tlearn: 0.1433215\ttotal: 3m 33s\tremaining: 26.4s\n",
      "890:\tlearn: 0.1433182\ttotal: 3m 33s\tremaining: 26.1s\n",
      "891:\tlearn: 0.1433097\ttotal: 3m 33s\tremaining: 25.9s\n",
      "892:\tlearn: 0.1433076\ttotal: 3m 34s\tremaining: 25.7s\n",
      "893:\tlearn: 0.1433011\ttotal: 3m 34s\tremaining: 25.4s\n",
      "894:\tlearn: 0.1432931\ttotal: 3m 34s\tremaining: 25.2s\n",
      "895:\tlearn: 0.1432817\ttotal: 3m 35s\tremaining: 25s\n",
      "896:\tlearn: 0.1432685\ttotal: 3m 35s\tremaining: 24.7s\n",
      "897:\tlearn: 0.1432576\ttotal: 3m 35s\tremaining: 24.5s\n",
      "898:\tlearn: 0.1432471\ttotal: 3m 36s\tremaining: 24.3s\n",
      "899:\tlearn: 0.1432416\ttotal: 3m 36s\tremaining: 24s\n",
      "900:\tlearn: 0.1432325\ttotal: 3m 36s\tremaining: 23.8s\n",
      "901:\tlearn: 0.1432225\ttotal: 3m 36s\tremaining: 23.6s\n",
      "902:\tlearn: 0.1432133\ttotal: 3m 37s\tremaining: 23.3s\n",
      "903:\tlearn: 0.1432007\ttotal: 3m 37s\tremaining: 23.1s\n",
      "904:\tlearn: 0.1431934\ttotal: 3m 37s\tremaining: 22.9s\n",
      "905:\tlearn: 0.1431858\ttotal: 3m 38s\tremaining: 22.6s\n",
      "906:\tlearn: 0.1431820\ttotal: 3m 38s\tremaining: 22.4s\n",
      "907:\tlearn: 0.1431800\ttotal: 3m 38s\tremaining: 22.1s\n",
      "908:\tlearn: 0.1431710\ttotal: 3m 38s\tremaining: 21.9s\n",
      "909:\tlearn: 0.1431642\ttotal: 3m 38s\tremaining: 21.6s\n",
      "910:\tlearn: 0.1431554\ttotal: 3m 38s\tremaining: 21.4s\n",
      "911:\tlearn: 0.1431478\ttotal: 3m 38s\tremaining: 21.1s\n",
      "912:\tlearn: 0.1431467\ttotal: 3m 39s\tremaining: 20.9s\n",
      "913:\tlearn: 0.1431370\ttotal: 3m 39s\tremaining: 20.6s\n",
      "914:\tlearn: 0.1431284\ttotal: 3m 39s\tremaining: 20.4s\n",
      "915:\tlearn: 0.1431216\ttotal: 3m 39s\tremaining: 20.1s\n",
      "916:\tlearn: 0.1431160\ttotal: 3m 39s\tremaining: 19.9s\n",
      "917:\tlearn: 0.1431058\ttotal: 3m 39s\tremaining: 19.6s\n",
      "918:\tlearn: 0.1430938\ttotal: 3m 39s\tremaining: 19.4s\n",
      "919:\tlearn: 0.1430860\ttotal: 3m 40s\tremaining: 19.1s\n",
      "920:\tlearn: 0.1430786\ttotal: 3m 40s\tremaining: 18.9s\n",
      "921:\tlearn: 0.1430742\ttotal: 3m 40s\tremaining: 18.6s\n",
      "922:\tlearn: 0.1430661\ttotal: 3m 40s\tremaining: 18.4s\n",
      "923:\tlearn: 0.1430547\ttotal: 3m 40s\tremaining: 18.1s\n",
      "924:\tlearn: 0.1430417\ttotal: 3m 40s\tremaining: 17.9s\n",
      "925:\tlearn: 0.1430330\ttotal: 3m 40s\tremaining: 17.7s\n",
      "926:\tlearn: 0.1430194\ttotal: 3m 41s\tremaining: 17.4s\n",
      "927:\tlearn: 0.1430102\ttotal: 3m 41s\tremaining: 17.2s\n",
      "928:\tlearn: 0.1430069\ttotal: 3m 41s\tremaining: 16.9s\n",
      "929:\tlearn: 0.1429988\ttotal: 3m 41s\tremaining: 16.7s\n",
      "930:\tlearn: 0.1429886\ttotal: 3m 41s\tremaining: 16.4s\n",
      "931:\tlearn: 0.1429760\ttotal: 3m 41s\tremaining: 16.2s\n",
      "932:\tlearn: 0.1429673\ttotal: 3m 41s\tremaining: 15.9s\n",
      "933:\tlearn: 0.1429627\ttotal: 3m 42s\tremaining: 15.7s\n",
      "934:\tlearn: 0.1429536\ttotal: 3m 42s\tremaining: 15.5s\n",
      "935:\tlearn: 0.1429459\ttotal: 3m 42s\tremaining: 15.2s\n",
      "936:\tlearn: 0.1429381\ttotal: 3m 42s\tremaining: 15s\n",
      "937:\tlearn: 0.1429290\ttotal: 3m 42s\tremaining: 14.7s\n",
      "938:\tlearn: 0.1429208\ttotal: 3m 43s\tremaining: 14.5s\n",
      "939:\tlearn: 0.1429134\ttotal: 3m 43s\tremaining: 14.3s\n",
      "940:\tlearn: 0.1429059\ttotal: 3m 43s\tremaining: 14s\n",
      "941:\tlearn: 0.1428940\ttotal: 3m 44s\tremaining: 13.8s\n",
      "942:\tlearn: 0.1428935\ttotal: 3m 44s\tremaining: 13.5s\n",
      "943:\tlearn: 0.1428867\ttotal: 3m 44s\tremaining: 13.3s\n",
      "944:\tlearn: 0.1428767\ttotal: 3m 44s\tremaining: 13.1s\n",
      "945:\tlearn: 0.1428732\ttotal: 3m 44s\tremaining: 12.8s\n",
      "946:\tlearn: 0.1428630\ttotal: 3m 44s\tremaining: 12.6s\n",
      "947:\tlearn: 0.1428544\ttotal: 3m 45s\tremaining: 12.3s\n",
      "948:\tlearn: 0.1428445\ttotal: 3m 45s\tremaining: 12.1s\n",
      "949:\tlearn: 0.1428414\ttotal: 3m 45s\tremaining: 11.9s\n",
      "950:\tlearn: 0.1428395\ttotal: 3m 45s\tremaining: 11.6s\n",
      "951:\tlearn: 0.1428301\ttotal: 3m 45s\tremaining: 11.4s\n",
      "952:\tlearn: 0.1428235\ttotal: 3m 45s\tremaining: 11.1s\n",
      "953:\tlearn: 0.1428126\ttotal: 3m 45s\tremaining: 10.9s\n",
      "954:\tlearn: 0.1428027\ttotal: 3m 46s\tremaining: 10.7s\n",
      "955:\tlearn: 0.1427850\ttotal: 3m 46s\tremaining: 10.4s\n",
      "956:\tlearn: 0.1427784\ttotal: 3m 46s\tremaining: 10.2s\n",
      "957:\tlearn: 0.1427713\ttotal: 3m 46s\tremaining: 9.93s\n",
      "958:\tlearn: 0.1427624\ttotal: 3m 46s\tremaining: 9.69s\n",
      "959:\tlearn: 0.1427500\ttotal: 3m 46s\tremaining: 9.45s\n",
      "960:\tlearn: 0.1427408\ttotal: 3m 47s\tremaining: 9.21s\n",
      "961:\tlearn: 0.1427300\ttotal: 3m 47s\tremaining: 8.97s\n",
      "962:\tlearn: 0.1427260\ttotal: 3m 47s\tremaining: 8.73s\n",
      "963:\tlearn: 0.1427171\ttotal: 3m 47s\tremaining: 8.49s\n",
      "964:\tlearn: 0.1427037\ttotal: 3m 47s\tremaining: 8.25s\n",
      "965:\tlearn: 0.1426910\ttotal: 3m 47s\tremaining: 8.01s\n",
      "966:\tlearn: 0.1426760\ttotal: 3m 47s\tremaining: 7.78s\n",
      "967:\tlearn: 0.1426700\ttotal: 3m 48s\tremaining: 7.54s\n",
      "968:\tlearn: 0.1426624\ttotal: 3m 48s\tremaining: 7.3s\n",
      "969:\tlearn: 0.1426446\ttotal: 3m 48s\tremaining: 7.07s\n",
      "970:\tlearn: 0.1426335\ttotal: 3m 48s\tremaining: 6.83s\n",
      "971:\tlearn: 0.1426298\ttotal: 3m 49s\tremaining: 6.6s\n",
      "972:\tlearn: 0.1426231\ttotal: 3m 49s\tremaining: 6.36s\n",
      "973:\tlearn: 0.1426113\ttotal: 3m 49s\tremaining: 6.13s\n",
      "974:\tlearn: 0.1426015\ttotal: 3m 49s\tremaining: 5.89s\n",
      "975:\tlearn: 0.1425916\ttotal: 3m 50s\tremaining: 5.66s\n",
      "976:\tlearn: 0.1425787\ttotal: 3m 50s\tremaining: 5.43s\n",
      "977:\tlearn: 0.1425691\ttotal: 3m 50s\tremaining: 5.19s\n",
      "978:\tlearn: 0.1425638\ttotal: 3m 51s\tremaining: 4.96s\n",
      "979:\tlearn: 0.1425550\ttotal: 3m 51s\tremaining: 4.72s\n",
      "980:\tlearn: 0.1425451\ttotal: 3m 51s\tremaining: 4.49s\n",
      "981:\tlearn: 0.1425418\ttotal: 3m 51s\tremaining: 4.25s\n",
      "982:\tlearn: 0.1425403\ttotal: 3m 52s\tremaining: 4.02s\n",
      "983:\tlearn: 0.1425358\ttotal: 3m 52s\tremaining: 3.78s\n",
      "984:\tlearn: 0.1425269\ttotal: 3m 52s\tremaining: 3.54s\n",
      "985:\tlearn: 0.1425190\ttotal: 3m 52s\tremaining: 3.31s\n",
      "986:\tlearn: 0.1425092\ttotal: 3m 53s\tremaining: 3.07s\n",
      "987:\tlearn: 0.1425040\ttotal: 3m 53s\tremaining: 2.83s\n",
      "988:\tlearn: 0.1424949\ttotal: 3m 53s\tremaining: 2.6s\n",
      "989:\tlearn: 0.1424914\ttotal: 3m 53s\tremaining: 2.36s\n",
      "990:\tlearn: 0.1424823\ttotal: 3m 53s\tremaining: 2.12s\n",
      "991:\tlearn: 0.1424698\ttotal: 3m 53s\tremaining: 1.89s\n",
      "992:\tlearn: 0.1424632\ttotal: 3m 53s\tremaining: 1.65s\n",
      "993:\tlearn: 0.1424550\ttotal: 3m 54s\tremaining: 1.41s\n",
      "994:\tlearn: 0.1424386\ttotal: 3m 54s\tremaining: 1.18s\n",
      "995:\tlearn: 0.1424291\ttotal: 3m 54s\tremaining: 941ms\n",
      "996:\tlearn: 0.1424215\ttotal: 3m 54s\tremaining: 706ms\n",
      "997:\tlearn: 0.1424162\ttotal: 3m 54s\tremaining: 470ms\n",
      "998:\tlearn: 0.1424076\ttotal: 3m 54s\tremaining: 235ms\n",
      "999:\tlearn: 0.1424014\ttotal: 3m 54s\tremaining: 0us\n"
     ]
    },
    {
     "data": {
      "text/plain": [
       "<catboost.core.CatBoostClassifier at 0x7f64605a36d0>"
      ]
     },
     "execution_count": 51,
     "metadata": {},
     "output_type": "execute_result"
    }
   ],
   "source": [
    "# fitting catboost model with selected features\n",
    "catb_model= CatBoostClassifier()\n",
    "catb_model.fit(Xtrain,y_train)"
   ]
  },
  {
   "cell_type": "code",
   "execution_count": 52,
   "id": "94ef0c46",
   "metadata": {
    "executionInfo": {
     "elapsed": 992,
     "status": "ok",
     "timestamp": 1687291718825,
     "user": {
      "displayName": "Penina Randu",
      "userId": "09001762240323440784"
     },
     "user_tz": -180
    },
    "id": "94ef0c46"
   },
   "outputs": [],
   "source": [
    "# Make predictions\n",
    "catb_probabilities =catb_model.predict_proba(Xeval)\n",
    "catb_preds = catb_model.predict(Xeval)"
   ]
  },
  {
   "cell_type": "code",
   "execution_count": 53,
   "id": "b3e073c4",
   "metadata": {
    "colab": {
     "base_uri": "https://localhost:8080/"
    },
    "executionInfo": {
     "elapsed": 391,
     "status": "ok",
     "timestamp": 1687291723578,
     "user": {
      "displayName": "Penina Randu",
      "userId": "09001762240323440784"
     },
     "user_tz": -180
    },
    "id": "b3e073c4",
    "outputId": "ae2eb42b-aad5-4206-c797-d10cd76c22cd"
   },
   "outputs": [
    {
     "name": "stdout",
     "output_type": "stream",
     "text": [
      "The models AUC_score is:  0.5514173946071372\n",
      "The models probability is:  0.15980924398143806\n"
     ]
    }
   ],
   "source": [
    "#Evaluating the models performance\n",
    "# Calculate the ROC AUC score\n",
    "Catb_auc_score = roc_auc_score(y_validation,catb_preds)\n",
    "\n",
    "# Calculate the log loss\n",
    "Catb_logloss = log_loss(y_validation,catb_probabilities)\n",
    "\n",
    "print('The models AUC_score is: ',Catb_auc_score)\n",
    "print('The models probability is: ',Catb_logloss)"
   ]
  },
  {
   "attachments": {},
   "cell_type": "markdown",
   "id": "252b557c",
   "metadata": {
    "id": "252b557c"
   },
   "source": [
    "## Simple model #8"
   ]
  },
  {
   "cell_type": "code",
   "execution_count": 54,
   "id": "2d7e583a",
   "metadata": {
    "colab": {
     "base_uri": "https://localhost:8080/",
     "height": 75
    },
    "executionInfo": {
     "elapsed": 622,
     "status": "ok",
     "timestamp": 1687291729403,
     "user": {
      "displayName": "Penina Randu",
      "userId": "09001762240323440784"
     },
     "user_tz": -180
    },
    "id": "2d7e583a",
    "outputId": "5eb0da59-316e-4e29-d3e0-bd2e1f6ae3eb"
   },
   "outputs": [
    {
     "data": {
      "text/html": [
       "<style>#sk-container-id-7 {color: black;background-color: white;}#sk-container-id-7 pre{padding: 0;}#sk-container-id-7 div.sk-toggleable {background-color: white;}#sk-container-id-7 label.sk-toggleable__label {cursor: pointer;display: block;width: 100%;margin-bottom: 0;padding: 0.3em;box-sizing: border-box;text-align: center;}#sk-container-id-7 label.sk-toggleable__label-arrow:before {content: \"▸\";float: left;margin-right: 0.25em;color: #696969;}#sk-container-id-7 label.sk-toggleable__label-arrow:hover:before {color: black;}#sk-container-id-7 div.sk-estimator:hover label.sk-toggleable__label-arrow:before {color: black;}#sk-container-id-7 div.sk-toggleable__content {max-height: 0;max-width: 0;overflow: hidden;text-align: left;background-color: #f0f8ff;}#sk-container-id-7 div.sk-toggleable__content pre {margin: 0.2em;color: black;border-radius: 0.25em;background-color: #f0f8ff;}#sk-container-id-7 input.sk-toggleable__control:checked~div.sk-toggleable__content {max-height: 200px;max-width: 100%;overflow: auto;}#sk-container-id-7 input.sk-toggleable__control:checked~label.sk-toggleable__label-arrow:before {content: \"▾\";}#sk-container-id-7 div.sk-estimator input.sk-toggleable__control:checked~label.sk-toggleable__label {background-color: #d4ebff;}#sk-container-id-7 div.sk-label input.sk-toggleable__control:checked~label.sk-toggleable__label {background-color: #d4ebff;}#sk-container-id-7 input.sk-hidden--visually {border: 0;clip: rect(1px 1px 1px 1px);clip: rect(1px, 1px, 1px, 1px);height: 1px;margin: -1px;overflow: hidden;padding: 0;position: absolute;width: 1px;}#sk-container-id-7 div.sk-estimator {font-family: monospace;background-color: #f0f8ff;border: 1px dotted black;border-radius: 0.25em;box-sizing: border-box;margin-bottom: 0.5em;}#sk-container-id-7 div.sk-estimator:hover {background-color: #d4ebff;}#sk-container-id-7 div.sk-parallel-item::after {content: \"\";width: 100%;border-bottom: 1px solid gray;flex-grow: 1;}#sk-container-id-7 div.sk-label:hover label.sk-toggleable__label {background-color: #d4ebff;}#sk-container-id-7 div.sk-serial::before {content: \"\";position: absolute;border-left: 1px solid gray;box-sizing: border-box;top: 0;bottom: 0;left: 50%;z-index: 0;}#sk-container-id-7 div.sk-serial {display: flex;flex-direction: column;align-items: center;background-color: white;padding-right: 0.2em;padding-left: 0.2em;position: relative;}#sk-container-id-7 div.sk-item {position: relative;z-index: 1;}#sk-container-id-7 div.sk-parallel {display: flex;align-items: stretch;justify-content: center;background-color: white;position: relative;}#sk-container-id-7 div.sk-item::before, #sk-container-id-7 div.sk-parallel-item::before {content: \"\";position: absolute;border-left: 1px solid gray;box-sizing: border-box;top: 0;bottom: 0;left: 50%;z-index: -1;}#sk-container-id-7 div.sk-parallel-item {display: flex;flex-direction: column;z-index: 1;position: relative;background-color: white;}#sk-container-id-7 div.sk-parallel-item:first-child::after {align-self: flex-end;width: 50%;}#sk-container-id-7 div.sk-parallel-item:last-child::after {align-self: flex-start;width: 50%;}#sk-container-id-7 div.sk-parallel-item:only-child::after {width: 0;}#sk-container-id-7 div.sk-dashed-wrapped {border: 1px dashed gray;margin: 0 0.4em 0.5em 0.4em;box-sizing: border-box;padding-bottom: 0.4em;background-color: white;}#sk-container-id-7 div.sk-label label {font-family: monospace;font-weight: bold;display: inline-block;line-height: 1.2em;}#sk-container-id-7 div.sk-label-container {text-align: center;}#sk-container-id-7 div.sk-container {/* jupyter's `normalize.less` sets `[hidden] { display: none; }` but bootstrap.min.css set `[hidden] { display: none !important; }` so we also need the `!important` here to be able to override the default hidden behavior on the sphinx rendered scikit-learn.org. See: https://github.com/scikit-learn/scikit-learn/issues/21755 */display: inline-block !important;position: relative;}#sk-container-id-7 div.sk-text-repr-fallback {display: none;}</style><div id=\"sk-container-id-7\" class=\"sk-top-container\"><div class=\"sk-text-repr-fallback\"><pre>ComplementNB()</pre><b>In a Jupyter environment, please rerun this cell to show the HTML representation or trust the notebook. <br />On GitHub, the HTML representation is unable to render, please try loading this page with nbviewer.org.</b></div><div class=\"sk-container\" hidden><div class=\"sk-item\"><div class=\"sk-estimator sk-toggleable\"><input class=\"sk-toggleable__control sk-hidden--visually\" id=\"sk-estimator-id-7\" type=\"checkbox\" checked><label for=\"sk-estimator-id-7\" class=\"sk-toggleable__label sk-toggleable__label-arrow\">ComplementNB</label><div class=\"sk-toggleable__content\"><pre>ComplementNB()</pre></div></div></div></div></div>"
      ],
      "text/plain": [
       "ComplementNB()"
      ]
     },
     "execution_count": 54,
     "metadata": {},
     "output_type": "execute_result"
    }
   ],
   "source": [
    "cnb_model = ComplementNB()\n",
    "cnb_model.fit(Xtrain,y_train)"
   ]
  },
  {
   "cell_type": "code",
   "execution_count": 55,
   "id": "3856ddf0",
   "metadata": {
    "executionInfo": {
     "elapsed": 361,
     "status": "ok",
     "timestamp": 1687291747025,
     "user": {
      "displayName": "Penina Randu",
      "userId": "09001762240323440784"
     },
     "user_tz": -180
    },
    "id": "3856ddf0"
   },
   "outputs": [],
   "source": [
    "# making prediction\n",
    "cnb_probabilities = cnb_model.predict_proba(Xeval)\n",
    "cnb_preds = cnb_model.predict(Xeval)"
   ]
  },
  {
   "cell_type": "code",
   "execution_count": 56,
   "id": "a4006d34",
   "metadata": {
    "colab": {
     "base_uri": "https://localhost:8080/"
    },
    "executionInfo": {
     "elapsed": 363,
     "status": "ok",
     "timestamp": 1687291753401,
     "user": {
      "displayName": "Penina Randu",
      "userId": "09001762240323440784"
     },
     "user_tz": -180
    },
    "id": "a4006d34",
    "outputId": "29792a17-06e4-43e1-bb20-73d26b27b566"
   },
   "outputs": [
    {
     "name": "stdout",
     "output_type": "stream",
     "text": [
      "The models AUC_score is:  0.7626310658873119\n",
      "The models probability is:  0.5149520524331647\n"
     ]
    }
   ],
   "source": [
    "#Evaluationg model performance\n",
    "# Calculate the ROC AUC score\n",
    "cnb_auc_score = roc_auc_score(y_validation,cnb_preds)\n",
    "\n",
    "# Calculate the log loss\n",
    "cnb_logloss = log_loss(y_validation,cnb_probabilities)\n",
    "\n",
    "print('The models AUC_score is: ',cnb_auc_score)\n",
    "print('The models probability is: ',cnb_logloss)"
   ]
  },
  {
   "cell_type": "code",
   "execution_count": 59,
   "id": "6ab68078",
   "metadata": {
    "executionInfo": {
     "elapsed": 657,
     "status": "ok",
     "timestamp": 1687291953060,
     "user": {
      "displayName": "Penina Randu",
      "userId": "09001762240323440784"
     },
     "user_tz": -180
    },
    "id": "6ab68078"
   },
   "outputs": [],
   "source": [
    "#comparision\n",
    "results= {'model':['Decision Tree','Random Forest','XGBoost','Logistic Regression','GaussianNB','GradientBoosting','Catboost','ComplementNB'],\n",
    "         'AUC_score':[dt_auc_score,rf_auc_score,xgb_auc_score,auc_score,gaussian_auc_score,gb_auc_score,Catb_auc_score,cnb_auc_score],\n",
    "         'log_loss':[dt_logloss,rf_logloss,xgb_logloss,logloss,gaussian_logloss,gb_logloss,Catb_logloss,cnb_logloss]}\n",
    "results_df= pd.DataFrame(results)"
   ]
  },
  {
   "cell_type": "code",
   "execution_count": 60,
   "id": "207c4fbd",
   "metadata": {
    "colab": {
     "base_uri": "https://localhost:8080/",
     "height": 300
    },
    "executionInfo": {
     "elapsed": 373,
     "status": "ok",
     "timestamp": 1687291957436,
     "user": {
      "displayName": "Penina Randu",
      "userId": "09001762240323440784"
     },
     "user_tz": -180
    },
    "id": "207c4fbd",
    "outputId": "54afa396-5977-46e1-a5b6-5e7b8f8f1ff3"
   },
   "outputs": [
    {
     "data": {
      "text/html": [
       "\n",
       "  <div id=\"df-8a980f4c-1dc7-415c-96ee-9a12680d8546\">\n",
       "    <div class=\"colab-df-container\">\n",
       "      <div>\n",
       "<style scoped>\n",
       "    .dataframe tbody tr th:only-of-type {\n",
       "        vertical-align: middle;\n",
       "    }\n",
       "\n",
       "    .dataframe tbody tr th {\n",
       "        vertical-align: top;\n",
       "    }\n",
       "\n",
       "    .dataframe thead th {\n",
       "        text-align: right;\n",
       "    }\n",
       "</style>\n",
       "<table border=\"1\" class=\"dataframe\">\n",
       "  <thead>\n",
       "    <tr style=\"text-align: right;\">\n",
       "      <th></th>\n",
       "      <th>model</th>\n",
       "      <th>AUC_score</th>\n",
       "      <th>log_loss</th>\n",
       "    </tr>\n",
       "  </thead>\n",
       "  <tbody>\n",
       "    <tr>\n",
       "      <th>7</th>\n",
       "      <td>ComplementNB</td>\n",
       "      <td>0.762631</td>\n",
       "      <td>0.514952</td>\n",
       "    </tr>\n",
       "    <tr>\n",
       "      <th>4</th>\n",
       "      <td>GaussianNB</td>\n",
       "      <td>0.746799</td>\n",
       "      <td>6.206523</td>\n",
       "    </tr>\n",
       "    <tr>\n",
       "      <th>0</th>\n",
       "      <td>Decision Tree</td>\n",
       "      <td>0.604729</td>\n",
       "      <td>3.336148</td>\n",
       "    </tr>\n",
       "    <tr>\n",
       "      <th>1</th>\n",
       "      <td>Random Forest</td>\n",
       "      <td>0.574056</td>\n",
       "      <td>0.256728</td>\n",
       "    </tr>\n",
       "    <tr>\n",
       "      <th>6</th>\n",
       "      <td>Catboost</td>\n",
       "      <td>0.551417</td>\n",
       "      <td>0.159809</td>\n",
       "    </tr>\n",
       "    <tr>\n",
       "      <th>2</th>\n",
       "      <td>XGBoost</td>\n",
       "      <td>0.546865</td>\n",
       "      <td>0.160189</td>\n",
       "    </tr>\n",
       "    <tr>\n",
       "      <th>5</th>\n",
       "      <td>GradientBoosting</td>\n",
       "      <td>0.541657</td>\n",
       "      <td>0.160956</td>\n",
       "    </tr>\n",
       "    <tr>\n",
       "      <th>3</th>\n",
       "      <td>Logistic Regression</td>\n",
       "      <td>0.501950</td>\n",
       "      <td>0.166159</td>\n",
       "    </tr>\n",
       "  </tbody>\n",
       "</table>\n",
       "</div>\n",
       "      <button class=\"colab-df-convert\" onclick=\"convertToInteractive('df-8a980f4c-1dc7-415c-96ee-9a12680d8546')\"\n",
       "              title=\"Convert this dataframe to an interactive table.\"\n",
       "              style=\"display:none;\">\n",
       "        \n",
       "  <svg xmlns=\"http://www.w3.org/2000/svg\" height=\"24px\"viewBox=\"0 0 24 24\"\n",
       "       width=\"24px\">\n",
       "    <path d=\"M0 0h24v24H0V0z\" fill=\"none\"/>\n",
       "    <path d=\"M18.56 5.44l.94 2.06.94-2.06 2.06-.94-2.06-.94-.94-2.06-.94 2.06-2.06.94zm-11 1L8.5 8.5l.94-2.06 2.06-.94-2.06-.94L8.5 2.5l-.94 2.06-2.06.94zm10 10l.94 2.06.94-2.06 2.06-.94-2.06-.94-.94-2.06-.94 2.06-2.06.94z\"/><path d=\"M17.41 7.96l-1.37-1.37c-.4-.4-.92-.59-1.43-.59-.52 0-1.04.2-1.43.59L10.3 9.45l-7.72 7.72c-.78.78-.78 2.05 0 2.83L4 21.41c.39.39.9.59 1.41.59.51 0 1.02-.2 1.41-.59l7.78-7.78 2.81-2.81c.8-.78.8-2.07 0-2.86zM5.41 20L4 18.59l7.72-7.72 1.47 1.35L5.41 20z\"/>\n",
       "  </svg>\n",
       "      </button>\n",
       "      \n",
       "  <style>\n",
       "    .colab-df-container {\n",
       "      display:flex;\n",
       "      flex-wrap:wrap;\n",
       "      gap: 12px;\n",
       "    }\n",
       "\n",
       "    .colab-df-convert {\n",
       "      background-color: #E8F0FE;\n",
       "      border: none;\n",
       "      border-radius: 50%;\n",
       "      cursor: pointer;\n",
       "      display: none;\n",
       "      fill: #1967D2;\n",
       "      height: 32px;\n",
       "      padding: 0 0 0 0;\n",
       "      width: 32px;\n",
       "    }\n",
       "\n",
       "    .colab-df-convert:hover {\n",
       "      background-color: #E2EBFA;\n",
       "      box-shadow: 0px 1px 2px rgba(60, 64, 67, 0.3), 0px 1px 3px 1px rgba(60, 64, 67, 0.15);\n",
       "      fill: #174EA6;\n",
       "    }\n",
       "\n",
       "    [theme=dark] .colab-df-convert {\n",
       "      background-color: #3B4455;\n",
       "      fill: #D2E3FC;\n",
       "    }\n",
       "\n",
       "    [theme=dark] .colab-df-convert:hover {\n",
       "      background-color: #434B5C;\n",
       "      box-shadow: 0px 1px 3px 1px rgba(0, 0, 0, 0.15);\n",
       "      filter: drop-shadow(0px 1px 2px rgba(0, 0, 0, 0.3));\n",
       "      fill: #FFFFFF;\n",
       "    }\n",
       "  </style>\n",
       "\n",
       "      <script>\n",
       "        const buttonEl =\n",
       "          document.querySelector('#df-8a980f4c-1dc7-415c-96ee-9a12680d8546 button.colab-df-convert');\n",
       "        buttonEl.style.display =\n",
       "          google.colab.kernel.accessAllowed ? 'block' : 'none';\n",
       "\n",
       "        async function convertToInteractive(key) {\n",
       "          const element = document.querySelector('#df-8a980f4c-1dc7-415c-96ee-9a12680d8546');\n",
       "          const dataTable =\n",
       "            await google.colab.kernel.invokeFunction('convertToInteractive',\n",
       "                                                     [key], {});\n",
       "          if (!dataTable) return;\n",
       "\n",
       "          const docLinkHtml = 'Like what you see? Visit the ' +\n",
       "            '<a target=\"_blank\" href=https://colab.research.google.com/notebooks/data_table.ipynb>data table notebook</a>'\n",
       "            + ' to learn more about interactive tables.';\n",
       "          element.innerHTML = '';\n",
       "          dataTable['output_type'] = 'display_data';\n",
       "          await google.colab.output.renderOutput(dataTable, element);\n",
       "          const docLink = document.createElement('div');\n",
       "          docLink.innerHTML = docLinkHtml;\n",
       "          element.appendChild(docLink);\n",
       "        }\n",
       "      </script>\n",
       "    </div>\n",
       "  </div>\n",
       "  "
      ],
      "text/plain": [
       "                 model  AUC_score  log_loss\n",
       "7         ComplementNB   0.762631  0.514952\n",
       "4           GaussianNB   0.746799  6.206523\n",
       "0        Decision Tree   0.604729  3.336148\n",
       "1        Random Forest   0.574056  0.256728\n",
       "6             Catboost   0.551417  0.159809\n",
       "2              XGBoost   0.546865  0.160189\n",
       "5     GradientBoosting   0.541657  0.160956\n",
       "3  Logistic Regression   0.501950  0.166159"
      ]
     },
     "execution_count": 60,
     "metadata": {},
     "output_type": "execute_result"
    }
   ],
   "source": [
    "results_df.sort_values(by= 'AUC_score', ascending = False)"
   ]
  },
  {
   "attachments": {},
   "cell_type": "markdown",
   "id": "ikofqVwFIAvQ",
   "metadata": {
    "id": "ikofqVwFIAvQ"
   },
   "source": [
    "## Optional: Training with balanced Dataset\n"
   ]
  },
  {
   "cell_type": "code",
   "execution_count": 61,
   "id": "fec85729",
   "metadata": {
    "colab": {
     "base_uri": "https://localhost:8080/"
    },
    "executionInfo": {
     "elapsed": 15685,
     "status": "ok",
     "timestamp": 1687292029105,
     "user": {
      "displayName": "Penina Randu",
      "userId": "09001762240323440784"
     },
     "user_tz": -180
    },
    "id": "fec85729",
    "outputId": "96a085b1-8744-4d20-a516-98c24e1a8bf9"
   },
   "outputs": [
    {
     "name": "stdout",
     "output_type": "stream",
     "text": [
      "Class distribution after applying SMOTE:\n",
      "CHURN\n",
      "0        573485\n",
      "1        573485\n",
      "dtype: int64\n"
     ]
    }
   ],
   "source": [
    "# Instantiate SMOTE object\n",
    "smote = SMOTE(random_state=42)\n",
    "\n",
    "# Apply SMOTE to the training data\n",
    "X_train_smote, y_train_smote = smote.fit_resample(Xtrain, y_train)\n",
    "\n",
    "# Verify the class distribution after applying SMOTE\n",
    "print(\"Class distribution after applying SMOTE:\")\n",
    "print(y_train_smote.value_counts())\n"
   ]
  },
  {
   "attachments": {},
   "cell_type": "markdown",
   "id": "0879065e",
   "metadata": {
    "id": "0879065e"
   },
   "source": [
    "## Sample model #1"
   ]
  },
  {
   "cell_type": "code",
   "execution_count": 62,
   "id": "b780964b",
   "metadata": {
    "colab": {
     "base_uri": "https://localhost:8080/",
     "height": 52
    },
    "executionInfo": {
     "elapsed": 23899,
     "status": "ok",
     "timestamp": 1687292095393,
     "user": {
      "displayName": "Penina Randu",
      "userId": "09001762240323440784"
     },
     "user_tz": -180
    },
    "id": "b780964b",
    "outputId": "a491e14c-6da6-4fde-cea5-c6296ea45495"
   },
   "outputs": [
    {
     "data": {
      "text/html": [
       "<style>#sk-container-id-8 {color: black;background-color: white;}#sk-container-id-8 pre{padding: 0;}#sk-container-id-8 div.sk-toggleable {background-color: white;}#sk-container-id-8 label.sk-toggleable__label {cursor: pointer;display: block;width: 100%;margin-bottom: 0;padding: 0.3em;box-sizing: border-box;text-align: center;}#sk-container-id-8 label.sk-toggleable__label-arrow:before {content: \"▸\";float: left;margin-right: 0.25em;color: #696969;}#sk-container-id-8 label.sk-toggleable__label-arrow:hover:before {color: black;}#sk-container-id-8 div.sk-estimator:hover label.sk-toggleable__label-arrow:before {color: black;}#sk-container-id-8 div.sk-toggleable__content {max-height: 0;max-width: 0;overflow: hidden;text-align: left;background-color: #f0f8ff;}#sk-container-id-8 div.sk-toggleable__content pre {margin: 0.2em;color: black;border-radius: 0.25em;background-color: #f0f8ff;}#sk-container-id-8 input.sk-toggleable__control:checked~div.sk-toggleable__content {max-height: 200px;max-width: 100%;overflow: auto;}#sk-container-id-8 input.sk-toggleable__control:checked~label.sk-toggleable__label-arrow:before {content: \"▾\";}#sk-container-id-8 div.sk-estimator input.sk-toggleable__control:checked~label.sk-toggleable__label {background-color: #d4ebff;}#sk-container-id-8 div.sk-label input.sk-toggleable__control:checked~label.sk-toggleable__label {background-color: #d4ebff;}#sk-container-id-8 input.sk-hidden--visually {border: 0;clip: rect(1px 1px 1px 1px);clip: rect(1px, 1px, 1px, 1px);height: 1px;margin: -1px;overflow: hidden;padding: 0;position: absolute;width: 1px;}#sk-container-id-8 div.sk-estimator {font-family: monospace;background-color: #f0f8ff;border: 1px dotted black;border-radius: 0.25em;box-sizing: border-box;margin-bottom: 0.5em;}#sk-container-id-8 div.sk-estimator:hover {background-color: #d4ebff;}#sk-container-id-8 div.sk-parallel-item::after {content: \"\";width: 100%;border-bottom: 1px solid gray;flex-grow: 1;}#sk-container-id-8 div.sk-label:hover label.sk-toggleable__label {background-color: #d4ebff;}#sk-container-id-8 div.sk-serial::before {content: \"\";position: absolute;border-left: 1px solid gray;box-sizing: border-box;top: 0;bottom: 0;left: 50%;z-index: 0;}#sk-container-id-8 div.sk-serial {display: flex;flex-direction: column;align-items: center;background-color: white;padding-right: 0.2em;padding-left: 0.2em;position: relative;}#sk-container-id-8 div.sk-item {position: relative;z-index: 1;}#sk-container-id-8 div.sk-parallel {display: flex;align-items: stretch;justify-content: center;background-color: white;position: relative;}#sk-container-id-8 div.sk-item::before, #sk-container-id-8 div.sk-parallel-item::before {content: \"\";position: absolute;border-left: 1px solid gray;box-sizing: border-box;top: 0;bottom: 0;left: 50%;z-index: -1;}#sk-container-id-8 div.sk-parallel-item {display: flex;flex-direction: column;z-index: 1;position: relative;background-color: white;}#sk-container-id-8 div.sk-parallel-item:first-child::after {align-self: flex-end;width: 50%;}#sk-container-id-8 div.sk-parallel-item:last-child::after {align-self: flex-start;width: 50%;}#sk-container-id-8 div.sk-parallel-item:only-child::after {width: 0;}#sk-container-id-8 div.sk-dashed-wrapped {border: 1px dashed gray;margin: 0 0.4em 0.5em 0.4em;box-sizing: border-box;padding-bottom: 0.4em;background-color: white;}#sk-container-id-8 div.sk-label label {font-family: monospace;font-weight: bold;display: inline-block;line-height: 1.2em;}#sk-container-id-8 div.sk-label-container {text-align: center;}#sk-container-id-8 div.sk-container {/* jupyter's `normalize.less` sets `[hidden] { display: none; }` but bootstrap.min.css set `[hidden] { display: none !important; }` so we also need the `!important` here to be able to override the default hidden behavior on the sphinx rendered scikit-learn.org. See: https://github.com/scikit-learn/scikit-learn/issues/21755 */display: inline-block !important;position: relative;}#sk-container-id-8 div.sk-text-repr-fallback {display: none;}</style><div id=\"sk-container-id-8\" class=\"sk-top-container\"><div class=\"sk-text-repr-fallback\"><pre>LogisticRegression()</pre><b>In a Jupyter environment, please rerun this cell to show the HTML representation or trust the notebook. <br />On GitHub, the HTML representation is unable to render, please try loading this page with nbviewer.org.</b></div><div class=\"sk-container\" hidden><div class=\"sk-item\"><div class=\"sk-estimator sk-toggleable\"><input class=\"sk-toggleable__control sk-hidden--visually\" id=\"sk-estimator-id-8\" type=\"checkbox\" checked><label for=\"sk-estimator-id-8\" class=\"sk-toggleable__label sk-toggleable__label-arrow\">LogisticRegression</label><div class=\"sk-toggleable__content\"><pre>LogisticRegression()</pre></div></div></div></div></div>"
      ],
      "text/plain": [
       "LogisticRegression()"
      ]
     },
     "execution_count": 62,
     "metadata": {},
     "output_type": "execute_result"
    }
   ],
   "source": [
    "#fitting logistic regression model with balanced data.\n",
    "lr_smote_model = LogisticRegression()\n",
    "lr_smote_model.fit(X_train_smote,y_train_smote)"
   ]
  },
  {
   "cell_type": "code",
   "execution_count": 63,
   "id": "737f6a42",
   "metadata": {
    "executionInfo": {
     "elapsed": 441,
     "status": "ok",
     "timestamp": 1687292113943,
     "user": {
      "displayName": "Penina Randu",
      "userId": "09001762240323440784"
     },
     "user_tz": -180
    },
    "id": "737f6a42"
   },
   "outputs": [],
   "source": [
    "# Make predictions\n",
    "lr_smote_proba = lr_smote_model.predict_proba(Xeval)\n",
    "lr_smote_preds = lr_smote_model.predict(Xeval)"
   ]
  },
  {
   "cell_type": "code",
   "execution_count": 64,
   "id": "1a5e20cb",
   "metadata": {
    "colab": {
     "base_uri": "https://localhost:8080/"
    },
    "executionInfo": {
     "elapsed": 473,
     "status": "ok",
     "timestamp": 1687292136947,
     "user": {
      "displayName": "Penina Randu",
      "userId": "09001762240323440784"
     },
     "user_tz": -180
    },
    "id": "1a5e20cb",
    "outputId": "9df19d65-24a4-4db0-c585-91c2af4d7abe"
   },
   "outputs": [
    {
     "name": "stdout",
     "output_type": "stream",
     "text": [
      "The model's AUC score is: 0.8060020196456827\n",
      "The model's log loss is: 0.4534433200528251\n"
     ]
    }
   ],
   "source": [
    "# Calculate the ROC AUC score\n",
    "lr_smote_auc_score = roc_auc_score(y_validation, lr_smote_preds)\n",
    "\n",
    "# Calculate the log loss\n",
    "lr_smote_logloss = log_loss(y_validation, lr_smote_proba)\n",
    "\n",
    "print('The model\\'s AUC score is:', lr_smote_auc_score)\n",
    "print('The model\\'s log loss is:', lr_smote_logloss)\n"
   ]
  },
  {
   "attachments": {},
   "cell_type": "markdown",
   "id": "d73e3947",
   "metadata": {
    "id": "d73e3947"
   },
   "source": [
    "## Simple model #2"
   ]
  },
  {
   "cell_type": "code",
   "execution_count": 65,
   "id": "4541f5be",
   "metadata": {
    "colab": {
     "base_uri": "https://localhost:8080/",
     "height": 52
    },
    "executionInfo": {
     "elapsed": 555470,
     "status": "ok",
     "timestamp": 1687292709652,
     "user": {
      "displayName": "Penina Randu",
      "userId": "09001762240323440784"
     },
     "user_tz": -180
    },
    "id": "4541f5be",
    "outputId": "804d3580-c09c-43c7-a89e-a4ee867817d4"
   },
   "outputs": [
    {
     "data": {
      "text/html": [
       "<style>#sk-container-id-9 {color: black;background-color: white;}#sk-container-id-9 pre{padding: 0;}#sk-container-id-9 div.sk-toggleable {background-color: white;}#sk-container-id-9 label.sk-toggleable__label {cursor: pointer;display: block;width: 100%;margin-bottom: 0;padding: 0.3em;box-sizing: border-box;text-align: center;}#sk-container-id-9 label.sk-toggleable__label-arrow:before {content: \"▸\";float: left;margin-right: 0.25em;color: #696969;}#sk-container-id-9 label.sk-toggleable__label-arrow:hover:before {color: black;}#sk-container-id-9 div.sk-estimator:hover label.sk-toggleable__label-arrow:before {color: black;}#sk-container-id-9 div.sk-toggleable__content {max-height: 0;max-width: 0;overflow: hidden;text-align: left;background-color: #f0f8ff;}#sk-container-id-9 div.sk-toggleable__content pre {margin: 0.2em;color: black;border-radius: 0.25em;background-color: #f0f8ff;}#sk-container-id-9 input.sk-toggleable__control:checked~div.sk-toggleable__content {max-height: 200px;max-width: 100%;overflow: auto;}#sk-container-id-9 input.sk-toggleable__control:checked~label.sk-toggleable__label-arrow:before {content: \"▾\";}#sk-container-id-9 div.sk-estimator input.sk-toggleable__control:checked~label.sk-toggleable__label {background-color: #d4ebff;}#sk-container-id-9 div.sk-label input.sk-toggleable__control:checked~label.sk-toggleable__label {background-color: #d4ebff;}#sk-container-id-9 input.sk-hidden--visually {border: 0;clip: rect(1px 1px 1px 1px);clip: rect(1px, 1px, 1px, 1px);height: 1px;margin: -1px;overflow: hidden;padding: 0;position: absolute;width: 1px;}#sk-container-id-9 div.sk-estimator {font-family: monospace;background-color: #f0f8ff;border: 1px dotted black;border-radius: 0.25em;box-sizing: border-box;margin-bottom: 0.5em;}#sk-container-id-9 div.sk-estimator:hover {background-color: #d4ebff;}#sk-container-id-9 div.sk-parallel-item::after {content: \"\";width: 100%;border-bottom: 1px solid gray;flex-grow: 1;}#sk-container-id-9 div.sk-label:hover label.sk-toggleable__label {background-color: #d4ebff;}#sk-container-id-9 div.sk-serial::before {content: \"\";position: absolute;border-left: 1px solid gray;box-sizing: border-box;top: 0;bottom: 0;left: 50%;z-index: 0;}#sk-container-id-9 div.sk-serial {display: flex;flex-direction: column;align-items: center;background-color: white;padding-right: 0.2em;padding-left: 0.2em;position: relative;}#sk-container-id-9 div.sk-item {position: relative;z-index: 1;}#sk-container-id-9 div.sk-parallel {display: flex;align-items: stretch;justify-content: center;background-color: white;position: relative;}#sk-container-id-9 div.sk-item::before, #sk-container-id-9 div.sk-parallel-item::before {content: \"\";position: absolute;border-left: 1px solid gray;box-sizing: border-box;top: 0;bottom: 0;left: 50%;z-index: -1;}#sk-container-id-9 div.sk-parallel-item {display: flex;flex-direction: column;z-index: 1;position: relative;background-color: white;}#sk-container-id-9 div.sk-parallel-item:first-child::after {align-self: flex-end;width: 50%;}#sk-container-id-9 div.sk-parallel-item:last-child::after {align-self: flex-start;width: 50%;}#sk-container-id-9 div.sk-parallel-item:only-child::after {width: 0;}#sk-container-id-9 div.sk-dashed-wrapped {border: 1px dashed gray;margin: 0 0.4em 0.5em 0.4em;box-sizing: border-box;padding-bottom: 0.4em;background-color: white;}#sk-container-id-9 div.sk-label label {font-family: monospace;font-weight: bold;display: inline-block;line-height: 1.2em;}#sk-container-id-9 div.sk-label-container {text-align: center;}#sk-container-id-9 div.sk-container {/* jupyter's `normalize.less` sets `[hidden] { display: none; }` but bootstrap.min.css set `[hidden] { display: none !important; }` so we also need the `!important` here to be able to override the default hidden behavior on the sphinx rendered scikit-learn.org. See: https://github.com/scikit-learn/scikit-learn/issues/21755 */display: inline-block !important;position: relative;}#sk-container-id-9 div.sk-text-repr-fallback {display: none;}</style><div id=\"sk-container-id-9\" class=\"sk-top-container\"><div class=\"sk-text-repr-fallback\"><pre>RandomForestClassifier()</pre><b>In a Jupyter environment, please rerun this cell to show the HTML representation or trust the notebook. <br />On GitHub, the HTML representation is unable to render, please try loading this page with nbviewer.org.</b></div><div class=\"sk-container\" hidden><div class=\"sk-item\"><div class=\"sk-estimator sk-toggleable\"><input class=\"sk-toggleable__control sk-hidden--visually\" id=\"sk-estimator-id-9\" type=\"checkbox\" checked><label for=\"sk-estimator-id-9\" class=\"sk-toggleable__label sk-toggleable__label-arrow\">RandomForestClassifier</label><div class=\"sk-toggleable__content\"><pre>RandomForestClassifier()</pre></div></div></div></div></div>"
      ],
      "text/plain": [
       "RandomForestClassifier()"
      ]
     },
     "execution_count": 65,
     "metadata": {},
     "output_type": "execute_result"
    }
   ],
   "source": [
    "#fitting random forest with balanced data\n",
    "rf_smote_model = RandomForestClassifier()\n",
    "rf_smote_model.fit(X_train_smote,y_train_smote)"
   ]
  },
  {
   "cell_type": "code",
   "execution_count": 66,
   "id": "87ddd0c0",
   "metadata": {
    "executionInfo": {
     "elapsed": 16998,
     "status": "ok",
     "timestamp": 1687292764756,
     "user": {
      "displayName": "Penina Randu",
      "userId": "09001762240323440784"
     },
     "user_tz": -180
    },
    "id": "87ddd0c0"
   },
   "outputs": [],
   "source": [
    "# Make predictions\n",
    "rf_smote_proba = rf_smote_model.predict_proba(Xeval)\n",
    "rf_smote_preds = rf_smote_model.predict(Xeval)"
   ]
  },
  {
   "cell_type": "code",
   "execution_count": 67,
   "id": "46fcf3ae",
   "metadata": {
    "colab": {
     "base_uri": "https://localhost:8080/"
    },
    "executionInfo": {
     "elapsed": 356,
     "status": "ok",
     "timestamp": 1687292770305,
     "user": {
      "displayName": "Penina Randu",
      "userId": "09001762240323440784"
     },
     "user_tz": -180
    },
    "id": "46fcf3ae",
    "outputId": "41dd999f-8751-414a-dee9-979adaf245b5"
   },
   "outputs": [
    {
     "name": "stdout",
     "output_type": "stream",
     "text": [
      "The model's AUC score is: 0.6594156596577827\n",
      "The model's log loss is: 0.2910781848328875\n"
     ]
    }
   ],
   "source": [
    "# Calculate the ROC AUC score\n",
    "rf_smote_auc_score = roc_auc_score(y_validation, rf_smote_preds)\n",
    "\n",
    "# Calculate the log loss\n",
    "rf_smote_logloss = log_loss(y_validation, rf_smote_proba)\n",
    "\n",
    "print('The model\\'s AUC score is:', rf_smote_auc_score)\n",
    "print('The model\\'s log loss is:', rf_smote_logloss)\n"
   ]
  },
  {
   "attachments": {},
   "cell_type": "markdown",
   "id": "1c37107f",
   "metadata": {
    "id": "1c37107f"
   },
   "source": [
    "## Simple model #3"
   ]
  },
  {
   "cell_type": "code",
   "execution_count": 68,
   "id": "77f85915",
   "metadata": {
    "colab": {
     "base_uri": "https://localhost:8080/",
     "height": 52
    },
    "executionInfo": {
     "elapsed": 35384,
     "status": "ok",
     "timestamp": 1687292812352,
     "user": {
      "displayName": "Penina Randu",
      "userId": "09001762240323440784"
     },
     "user_tz": -180
    },
    "id": "77f85915",
    "outputId": "ac401633-e25e-45cc-ce63-c8325807babc"
   },
   "outputs": [
    {
     "data": {
      "text/html": [
       "<style>#sk-container-id-10 {color: black;background-color: white;}#sk-container-id-10 pre{padding: 0;}#sk-container-id-10 div.sk-toggleable {background-color: white;}#sk-container-id-10 label.sk-toggleable__label {cursor: pointer;display: block;width: 100%;margin-bottom: 0;padding: 0.3em;box-sizing: border-box;text-align: center;}#sk-container-id-10 label.sk-toggleable__label-arrow:before {content: \"▸\";float: left;margin-right: 0.25em;color: #696969;}#sk-container-id-10 label.sk-toggleable__label-arrow:hover:before {color: black;}#sk-container-id-10 div.sk-estimator:hover label.sk-toggleable__label-arrow:before {color: black;}#sk-container-id-10 div.sk-toggleable__content {max-height: 0;max-width: 0;overflow: hidden;text-align: left;background-color: #f0f8ff;}#sk-container-id-10 div.sk-toggleable__content pre {margin: 0.2em;color: black;border-radius: 0.25em;background-color: #f0f8ff;}#sk-container-id-10 input.sk-toggleable__control:checked~div.sk-toggleable__content {max-height: 200px;max-width: 100%;overflow: auto;}#sk-container-id-10 input.sk-toggleable__control:checked~label.sk-toggleable__label-arrow:before {content: \"▾\";}#sk-container-id-10 div.sk-estimator input.sk-toggleable__control:checked~label.sk-toggleable__label {background-color: #d4ebff;}#sk-container-id-10 div.sk-label input.sk-toggleable__control:checked~label.sk-toggleable__label {background-color: #d4ebff;}#sk-container-id-10 input.sk-hidden--visually {border: 0;clip: rect(1px 1px 1px 1px);clip: rect(1px, 1px, 1px, 1px);height: 1px;margin: -1px;overflow: hidden;padding: 0;position: absolute;width: 1px;}#sk-container-id-10 div.sk-estimator {font-family: monospace;background-color: #f0f8ff;border: 1px dotted black;border-radius: 0.25em;box-sizing: border-box;margin-bottom: 0.5em;}#sk-container-id-10 div.sk-estimator:hover {background-color: #d4ebff;}#sk-container-id-10 div.sk-parallel-item::after {content: \"\";width: 100%;border-bottom: 1px solid gray;flex-grow: 1;}#sk-container-id-10 div.sk-label:hover label.sk-toggleable__label {background-color: #d4ebff;}#sk-container-id-10 div.sk-serial::before {content: \"\";position: absolute;border-left: 1px solid gray;box-sizing: border-box;top: 0;bottom: 0;left: 50%;z-index: 0;}#sk-container-id-10 div.sk-serial {display: flex;flex-direction: column;align-items: center;background-color: white;padding-right: 0.2em;padding-left: 0.2em;position: relative;}#sk-container-id-10 div.sk-item {position: relative;z-index: 1;}#sk-container-id-10 div.sk-parallel {display: flex;align-items: stretch;justify-content: center;background-color: white;position: relative;}#sk-container-id-10 div.sk-item::before, #sk-container-id-10 div.sk-parallel-item::before {content: \"\";position: absolute;border-left: 1px solid gray;box-sizing: border-box;top: 0;bottom: 0;left: 50%;z-index: -1;}#sk-container-id-10 div.sk-parallel-item {display: flex;flex-direction: column;z-index: 1;position: relative;background-color: white;}#sk-container-id-10 div.sk-parallel-item:first-child::after {align-self: flex-end;width: 50%;}#sk-container-id-10 div.sk-parallel-item:last-child::after {align-self: flex-start;width: 50%;}#sk-container-id-10 div.sk-parallel-item:only-child::after {width: 0;}#sk-container-id-10 div.sk-dashed-wrapped {border: 1px dashed gray;margin: 0 0.4em 0.5em 0.4em;box-sizing: border-box;padding-bottom: 0.4em;background-color: white;}#sk-container-id-10 div.sk-label label {font-family: monospace;font-weight: bold;display: inline-block;line-height: 1.2em;}#sk-container-id-10 div.sk-label-container {text-align: center;}#sk-container-id-10 div.sk-container {/* jupyter's `normalize.less` sets `[hidden] { display: none; }` but bootstrap.min.css set `[hidden] { display: none !important; }` so we also need the `!important` here to be able to override the default hidden behavior on the sphinx rendered scikit-learn.org. See: https://github.com/scikit-learn/scikit-learn/issues/21755 */display: inline-block !important;position: relative;}#sk-container-id-10 div.sk-text-repr-fallback {display: none;}</style><div id=\"sk-container-id-10\" class=\"sk-top-container\"><div class=\"sk-text-repr-fallback\"><pre>DecisionTreeClassifier()</pre><b>In a Jupyter environment, please rerun this cell to show the HTML representation or trust the notebook. <br />On GitHub, the HTML representation is unable to render, please try loading this page with nbviewer.org.</b></div><div class=\"sk-container\" hidden><div class=\"sk-item\"><div class=\"sk-estimator sk-toggleable\"><input class=\"sk-toggleable__control sk-hidden--visually\" id=\"sk-estimator-id-10\" type=\"checkbox\" checked><label for=\"sk-estimator-id-10\" class=\"sk-toggleable__label sk-toggleable__label-arrow\">DecisionTreeClassifier</label><div class=\"sk-toggleable__content\"><pre>DecisionTreeClassifier()</pre></div></div></div></div></div>"
      ],
      "text/plain": [
       "DecisionTreeClassifier()"
      ]
     },
     "execution_count": 68,
     "metadata": {},
     "output_type": "execute_result"
    }
   ],
   "source": [
    "# fitting decision tree model with balanced data\n",
    "dt_smote_model= DecisionTreeClassifier()\n",
    "dt_smote_model.fit(X_train_smote,y_train_smote)"
   ]
  },
  {
   "cell_type": "code",
   "execution_count": 69,
   "id": "e97d3ec4",
   "metadata": {
    "executionInfo": {
     "elapsed": 379,
     "status": "ok",
     "timestamp": 1687292819103,
     "user": {
      "displayName": "Penina Randu",
      "userId": "09001762240323440784"
     },
     "user_tz": -180
    },
    "id": "e97d3ec4"
   },
   "outputs": [],
   "source": [
    "# Make predictions\n",
    "dt_smote_proba = dt_smote_model.predict_proba(Xeval)\n",
    "dt_smote_preds = dt_smote_model.predict(Xeval)"
   ]
  },
  {
   "cell_type": "code",
   "execution_count": 70,
   "id": "061c6d91",
   "metadata": {
    "colab": {
     "base_uri": "https://localhost:8080/"
    },
    "executionInfo": {
     "elapsed": 387,
     "status": "ok",
     "timestamp": 1687292859594,
     "user": {
      "displayName": "Penina Randu",
      "userId": "09001762240323440784"
     },
     "user_tz": -180
    },
    "id": "061c6d91",
    "outputId": "4fd889b0-3e64-4c13-e80d-e3aefcac449d"
   },
   "outputs": [
    {
     "name": "stdout",
     "output_type": "stream",
     "text": [
      "The model's AUC score is: 0.6405730831018484\n",
      "The model's log loss is: 3.9896147036818355\n"
     ]
    }
   ],
   "source": [
    "# Calculate the ROC AUC score\n",
    "dt_smote_auc_score = roc_auc_score(y_validation, dt_smote_preds)\n",
    "\n",
    "# Calculate the log loss\n",
    "dt_smote_logloss = log_loss(y_validation, dt_smote_proba)\n",
    "\n",
    "print('The model\\'s AUC score is:', dt_smote_auc_score)\n",
    "print('The model\\'s log loss is:', dt_smote_logloss)\n"
   ]
  },
  {
   "attachments": {},
   "cell_type": "markdown",
   "id": "a28255dc",
   "metadata": {
    "id": "a28255dc"
   },
   "source": [
    "## Simple model #4"
   ]
  },
  {
   "cell_type": "code",
   "execution_count": 71,
   "id": "9a20b2d3",
   "metadata": {
    "colab": {
     "base_uri": "https://localhost:8080/",
     "height": 52
    },
    "executionInfo": {
     "elapsed": 558969,
     "status": "ok",
     "timestamp": 1687293426519,
     "user": {
      "displayName": "Penina Randu",
      "userId": "09001762240323440784"
     },
     "user_tz": -180
    },
    "id": "9a20b2d3",
    "outputId": "a2e87e31-de0f-4c41-9554-68a1b0eda5f3"
   },
   "outputs": [
    {
     "data": {
      "text/html": [
       "<style>#sk-container-id-11 {color: black;background-color: white;}#sk-container-id-11 pre{padding: 0;}#sk-container-id-11 div.sk-toggleable {background-color: white;}#sk-container-id-11 label.sk-toggleable__label {cursor: pointer;display: block;width: 100%;margin-bottom: 0;padding: 0.3em;box-sizing: border-box;text-align: center;}#sk-container-id-11 label.sk-toggleable__label-arrow:before {content: \"▸\";float: left;margin-right: 0.25em;color: #696969;}#sk-container-id-11 label.sk-toggleable__label-arrow:hover:before {color: black;}#sk-container-id-11 div.sk-estimator:hover label.sk-toggleable__label-arrow:before {color: black;}#sk-container-id-11 div.sk-toggleable__content {max-height: 0;max-width: 0;overflow: hidden;text-align: left;background-color: #f0f8ff;}#sk-container-id-11 div.sk-toggleable__content pre {margin: 0.2em;color: black;border-radius: 0.25em;background-color: #f0f8ff;}#sk-container-id-11 input.sk-toggleable__control:checked~div.sk-toggleable__content {max-height: 200px;max-width: 100%;overflow: auto;}#sk-container-id-11 input.sk-toggleable__control:checked~label.sk-toggleable__label-arrow:before {content: \"▾\";}#sk-container-id-11 div.sk-estimator input.sk-toggleable__control:checked~label.sk-toggleable__label {background-color: #d4ebff;}#sk-container-id-11 div.sk-label input.sk-toggleable__control:checked~label.sk-toggleable__label {background-color: #d4ebff;}#sk-container-id-11 input.sk-hidden--visually {border: 0;clip: rect(1px 1px 1px 1px);clip: rect(1px, 1px, 1px, 1px);height: 1px;margin: -1px;overflow: hidden;padding: 0;position: absolute;width: 1px;}#sk-container-id-11 div.sk-estimator {font-family: monospace;background-color: #f0f8ff;border: 1px dotted black;border-radius: 0.25em;box-sizing: border-box;margin-bottom: 0.5em;}#sk-container-id-11 div.sk-estimator:hover {background-color: #d4ebff;}#sk-container-id-11 div.sk-parallel-item::after {content: \"\";width: 100%;border-bottom: 1px solid gray;flex-grow: 1;}#sk-container-id-11 div.sk-label:hover label.sk-toggleable__label {background-color: #d4ebff;}#sk-container-id-11 div.sk-serial::before {content: \"\";position: absolute;border-left: 1px solid gray;box-sizing: border-box;top: 0;bottom: 0;left: 50%;z-index: 0;}#sk-container-id-11 div.sk-serial {display: flex;flex-direction: column;align-items: center;background-color: white;padding-right: 0.2em;padding-left: 0.2em;position: relative;}#sk-container-id-11 div.sk-item {position: relative;z-index: 1;}#sk-container-id-11 div.sk-parallel {display: flex;align-items: stretch;justify-content: center;background-color: white;position: relative;}#sk-container-id-11 div.sk-item::before, #sk-container-id-11 div.sk-parallel-item::before {content: \"\";position: absolute;border-left: 1px solid gray;box-sizing: border-box;top: 0;bottom: 0;left: 50%;z-index: -1;}#sk-container-id-11 div.sk-parallel-item {display: flex;flex-direction: column;z-index: 1;position: relative;background-color: white;}#sk-container-id-11 div.sk-parallel-item:first-child::after {align-self: flex-end;width: 50%;}#sk-container-id-11 div.sk-parallel-item:last-child::after {align-self: flex-start;width: 50%;}#sk-container-id-11 div.sk-parallel-item:only-child::after {width: 0;}#sk-container-id-11 div.sk-dashed-wrapped {border: 1px dashed gray;margin: 0 0.4em 0.5em 0.4em;box-sizing: border-box;padding-bottom: 0.4em;background-color: white;}#sk-container-id-11 div.sk-label label {font-family: monospace;font-weight: bold;display: inline-block;line-height: 1.2em;}#sk-container-id-11 div.sk-label-container {text-align: center;}#sk-container-id-11 div.sk-container {/* jupyter's `normalize.less` sets `[hidden] { display: none; }` but bootstrap.min.css set `[hidden] { display: none !important; }` so we also need the `!important` here to be able to override the default hidden behavior on the sphinx rendered scikit-learn.org. See: https://github.com/scikit-learn/scikit-learn/issues/21755 */display: inline-block !important;position: relative;}#sk-container-id-11 div.sk-text-repr-fallback {display: none;}</style><div id=\"sk-container-id-11\" class=\"sk-top-container\"><div class=\"sk-text-repr-fallback\"><pre>GradientBoostingClassifier()</pre><b>In a Jupyter environment, please rerun this cell to show the HTML representation or trust the notebook. <br />On GitHub, the HTML representation is unable to render, please try loading this page with nbviewer.org.</b></div><div class=\"sk-container\" hidden><div class=\"sk-item\"><div class=\"sk-estimator sk-toggleable\"><input class=\"sk-toggleable__control sk-hidden--visually\" id=\"sk-estimator-id-11\" type=\"checkbox\" checked><label for=\"sk-estimator-id-11\" class=\"sk-toggleable__label sk-toggleable__label-arrow\">GradientBoostingClassifier</label><div class=\"sk-toggleable__content\"><pre>GradientBoostingClassifier()</pre></div></div></div></div></div>"
      ],
      "text/plain": [
       "GradientBoostingClassifier()"
      ]
     },
     "execution_count": 71,
     "metadata": {},
     "output_type": "execute_result"
    }
   ],
   "source": [
    "# fitting gradient boosting model with balanced data.\n",
    "gb_smote_model = GradientBoostingClassifier()\n",
    "gb_smote_model.fit(X_train_smote,y_train_smote)"
   ]
  },
  {
   "cell_type": "code",
   "execution_count": 72,
   "id": "6a63e23f",
   "metadata": {
    "executionInfo": {
     "elapsed": 1531,
     "status": "ok",
     "timestamp": 1687293441399,
     "user": {
      "displayName": "Penina Randu",
      "userId": "09001762240323440784"
     },
     "user_tz": -180
    },
    "id": "6a63e23f"
   },
   "outputs": [],
   "source": [
    "# Make predictions\n",
    "gb_smote_proba = gb_smote_model.predict_proba(Xeval)\n",
    "gb_smote_preds = gb_smote_model.predict(Xeval)"
   ]
  },
  {
   "cell_type": "code",
   "execution_count": 73,
   "id": "4d3cfbe7",
   "metadata": {
    "colab": {
     "base_uri": "https://localhost:8080/"
    },
    "executionInfo": {
     "elapsed": 379,
     "status": "ok",
     "timestamp": 1687293465082,
     "user": {
      "displayName": "Penina Randu",
      "userId": "09001762240323440784"
     },
     "user_tz": -180
    },
    "id": "4d3cfbe7",
    "outputId": "bd953c68-c61c-4871-f807-4fd5be49d3e7"
   },
   "outputs": [
    {
     "name": "stdout",
     "output_type": "stream",
     "text": [
      "The model's AUC score is: 0.7988529984952449\n",
      "The model's log loss is: 0.3674341191721908\n"
     ]
    }
   ],
   "source": [
    "# Calculate the ROC AUC score\n",
    "gb_smote_auc_score = roc_auc_score(y_validation, gb_smote_preds)\n",
    "\n",
    "# Calculate the log loss\n",
    "gb_smote_logloss = log_loss(y_validation, gb_smote_proba)\n",
    "\n",
    "print('The model\\'s AUC score is:', gb_smote_auc_score)\n",
    "print('The model\\'s log loss is:', gb_smote_logloss)\n"
   ]
  },
  {
   "attachments": {},
   "cell_type": "markdown",
   "id": "e4ed3de9",
   "metadata": {
    "id": "e4ed3de9"
   },
   "source": [
    "## Simple model #5"
   ]
  },
  {
   "cell_type": "code",
   "execution_count": 74,
   "id": "7b55cd6a",
   "metadata": {
    "colab": {
     "base_uri": "https://localhost:8080/",
     "height": 52
    },
    "executionInfo": {
     "elapsed": 1230,
     "status": "ok",
     "timestamp": 1687293473581,
     "user": {
      "displayName": "Penina Randu",
      "userId": "09001762240323440784"
     },
     "user_tz": -180
    },
    "id": "7b55cd6a",
    "outputId": "05e23c74-ba39-4fb8-9726-28f8f59b5f85"
   },
   "outputs": [
    {
     "data": {
      "text/html": [
       "<style>#sk-container-id-12 {color: black;background-color: white;}#sk-container-id-12 pre{padding: 0;}#sk-container-id-12 div.sk-toggleable {background-color: white;}#sk-container-id-12 label.sk-toggleable__label {cursor: pointer;display: block;width: 100%;margin-bottom: 0;padding: 0.3em;box-sizing: border-box;text-align: center;}#sk-container-id-12 label.sk-toggleable__label-arrow:before {content: \"▸\";float: left;margin-right: 0.25em;color: #696969;}#sk-container-id-12 label.sk-toggleable__label-arrow:hover:before {color: black;}#sk-container-id-12 div.sk-estimator:hover label.sk-toggleable__label-arrow:before {color: black;}#sk-container-id-12 div.sk-toggleable__content {max-height: 0;max-width: 0;overflow: hidden;text-align: left;background-color: #f0f8ff;}#sk-container-id-12 div.sk-toggleable__content pre {margin: 0.2em;color: black;border-radius: 0.25em;background-color: #f0f8ff;}#sk-container-id-12 input.sk-toggleable__control:checked~div.sk-toggleable__content {max-height: 200px;max-width: 100%;overflow: auto;}#sk-container-id-12 input.sk-toggleable__control:checked~label.sk-toggleable__label-arrow:before {content: \"▾\";}#sk-container-id-12 div.sk-estimator input.sk-toggleable__control:checked~label.sk-toggleable__label {background-color: #d4ebff;}#sk-container-id-12 div.sk-label input.sk-toggleable__control:checked~label.sk-toggleable__label {background-color: #d4ebff;}#sk-container-id-12 input.sk-hidden--visually {border: 0;clip: rect(1px 1px 1px 1px);clip: rect(1px, 1px, 1px, 1px);height: 1px;margin: -1px;overflow: hidden;padding: 0;position: absolute;width: 1px;}#sk-container-id-12 div.sk-estimator {font-family: monospace;background-color: #f0f8ff;border: 1px dotted black;border-radius: 0.25em;box-sizing: border-box;margin-bottom: 0.5em;}#sk-container-id-12 div.sk-estimator:hover {background-color: #d4ebff;}#sk-container-id-12 div.sk-parallel-item::after {content: \"\";width: 100%;border-bottom: 1px solid gray;flex-grow: 1;}#sk-container-id-12 div.sk-label:hover label.sk-toggleable__label {background-color: #d4ebff;}#sk-container-id-12 div.sk-serial::before {content: \"\";position: absolute;border-left: 1px solid gray;box-sizing: border-box;top: 0;bottom: 0;left: 50%;z-index: 0;}#sk-container-id-12 div.sk-serial {display: flex;flex-direction: column;align-items: center;background-color: white;padding-right: 0.2em;padding-left: 0.2em;position: relative;}#sk-container-id-12 div.sk-item {position: relative;z-index: 1;}#sk-container-id-12 div.sk-parallel {display: flex;align-items: stretch;justify-content: center;background-color: white;position: relative;}#sk-container-id-12 div.sk-item::before, #sk-container-id-12 div.sk-parallel-item::before {content: \"\";position: absolute;border-left: 1px solid gray;box-sizing: border-box;top: 0;bottom: 0;left: 50%;z-index: -1;}#sk-container-id-12 div.sk-parallel-item {display: flex;flex-direction: column;z-index: 1;position: relative;background-color: white;}#sk-container-id-12 div.sk-parallel-item:first-child::after {align-self: flex-end;width: 50%;}#sk-container-id-12 div.sk-parallel-item:last-child::after {align-self: flex-start;width: 50%;}#sk-container-id-12 div.sk-parallel-item:only-child::after {width: 0;}#sk-container-id-12 div.sk-dashed-wrapped {border: 1px dashed gray;margin: 0 0.4em 0.5em 0.4em;box-sizing: border-box;padding-bottom: 0.4em;background-color: white;}#sk-container-id-12 div.sk-label label {font-family: monospace;font-weight: bold;display: inline-block;line-height: 1.2em;}#sk-container-id-12 div.sk-label-container {text-align: center;}#sk-container-id-12 div.sk-container {/* jupyter's `normalize.less` sets `[hidden] { display: none; }` but bootstrap.min.css set `[hidden] { display: none !important; }` so we also need the `!important` here to be able to override the default hidden behavior on the sphinx rendered scikit-learn.org. See: https://github.com/scikit-learn/scikit-learn/issues/21755 */display: inline-block !important;position: relative;}#sk-container-id-12 div.sk-text-repr-fallback {display: none;}</style><div id=\"sk-container-id-12\" class=\"sk-top-container\"><div class=\"sk-text-repr-fallback\"><pre>GaussianNB()</pre><b>In a Jupyter environment, please rerun this cell to show the HTML representation or trust the notebook. <br />On GitHub, the HTML representation is unable to render, please try loading this page with nbviewer.org.</b></div><div class=\"sk-container\" hidden><div class=\"sk-item\"><div class=\"sk-estimator sk-toggleable\"><input class=\"sk-toggleable__control sk-hidden--visually\" id=\"sk-estimator-id-12\" type=\"checkbox\" checked><label for=\"sk-estimator-id-12\" class=\"sk-toggleable__label sk-toggleable__label-arrow\">GaussianNB</label><div class=\"sk-toggleable__content\"><pre>GaussianNB()</pre></div></div></div></div></div>"
      ],
      "text/plain": [
       "GaussianNB()"
      ]
     },
     "execution_count": 74,
     "metadata": {},
     "output_type": "execute_result"
    }
   ],
   "source": [
    "#fitting gaussian model with balanced data\n",
    "gaussian_smote_model= GaussianNB()\n",
    "gaussian_smote_model.fit(X_train_smote,y_train_smote)"
   ]
  },
  {
   "cell_type": "code",
   "execution_count": 75,
   "id": "2b50e69f",
   "metadata": {
    "executionInfo": {
     "elapsed": 341,
     "status": "ok",
     "timestamp": 1687293482236,
     "user": {
      "displayName": "Penina Randu",
      "userId": "09001762240323440784"
     },
     "user_tz": -180
    },
    "id": "2b50e69f"
   },
   "outputs": [],
   "source": [
    "# Make predictions\n",
    "gaussian_smote_proba = gaussian_smote_model.predict_proba(Xeval)\n",
    "gaussian_smote_preds = gaussian_smote_model.predict(Xeval)"
   ]
  },
  {
   "cell_type": "code",
   "execution_count": 76,
   "id": "4aa37342",
   "metadata": {
    "colab": {
     "base_uri": "https://localhost:8080/"
    },
    "executionInfo": {
     "elapsed": 413,
     "status": "ok",
     "timestamp": 1687293487662,
     "user": {
      "displayName": "Penina Randu",
      "userId": "09001762240323440784"
     },
     "user_tz": -180
    },
    "id": "4aa37342",
    "outputId": "85d50322-4676-487a-fd98-1c453011c4fa"
   },
   "outputs": [
    {
     "name": "stdout",
     "output_type": "stream",
     "text": [
      "The model's AUC score is: 0.7452130902085367\n",
      "The model's log loss is: 7.93071459706189\n"
     ]
    }
   ],
   "source": [
    "# Calculate the ROC AUC score\n",
    "gnb_smote_auc_score = roc_auc_score(y_validation, gaussian_smote_preds)\n",
    "\n",
    "# Calculate the log loss\n",
    "gnb_smote_logloss = log_loss(y_validation, gaussian_smote_proba)\n",
    "\n",
    "print('The model\\'s AUC score is:', gnb_smote_auc_score)\n",
    "print('The model\\'s log loss is:', gnb_smote_logloss)\n"
   ]
  },
  {
   "attachments": {},
   "cell_type": "markdown",
   "id": "aa9795cc",
   "metadata": {
    "id": "aa9795cc"
   },
   "source": [
    "## Simple model #6"
   ]
  },
  {
   "cell_type": "code",
   "execution_count": 77,
   "id": "ed979ed6",
   "metadata": {
    "colab": {
     "base_uri": "https://localhost:8080/",
     "height": 52
    },
    "executionInfo": {
     "elapsed": 395859,
     "status": "ok",
     "timestamp": 1687293889764,
     "user": {
      "displayName": "Penina Randu",
      "userId": "09001762240323440784"
     },
     "user_tz": -180
    },
    "id": "ed979ed6",
    "outputId": "1b88fd40-d284-45b8-96be-9a114b6ca892"
   },
   "outputs": [
    {
     "data": {
      "text/html": [
       "<style>#sk-container-id-13 {color: black;background-color: white;}#sk-container-id-13 pre{padding: 0;}#sk-container-id-13 div.sk-toggleable {background-color: white;}#sk-container-id-13 label.sk-toggleable__label {cursor: pointer;display: block;width: 100%;margin-bottom: 0;padding: 0.3em;box-sizing: border-box;text-align: center;}#sk-container-id-13 label.sk-toggleable__label-arrow:before {content: \"▸\";float: left;margin-right: 0.25em;color: #696969;}#sk-container-id-13 label.sk-toggleable__label-arrow:hover:before {color: black;}#sk-container-id-13 div.sk-estimator:hover label.sk-toggleable__label-arrow:before {color: black;}#sk-container-id-13 div.sk-toggleable__content {max-height: 0;max-width: 0;overflow: hidden;text-align: left;background-color: #f0f8ff;}#sk-container-id-13 div.sk-toggleable__content pre {margin: 0.2em;color: black;border-radius: 0.25em;background-color: #f0f8ff;}#sk-container-id-13 input.sk-toggleable__control:checked~div.sk-toggleable__content {max-height: 200px;max-width: 100%;overflow: auto;}#sk-container-id-13 input.sk-toggleable__control:checked~label.sk-toggleable__label-arrow:before {content: \"▾\";}#sk-container-id-13 div.sk-estimator input.sk-toggleable__control:checked~label.sk-toggleable__label {background-color: #d4ebff;}#sk-container-id-13 div.sk-label input.sk-toggleable__control:checked~label.sk-toggleable__label {background-color: #d4ebff;}#sk-container-id-13 input.sk-hidden--visually {border: 0;clip: rect(1px 1px 1px 1px);clip: rect(1px, 1px, 1px, 1px);height: 1px;margin: -1px;overflow: hidden;padding: 0;position: absolute;width: 1px;}#sk-container-id-13 div.sk-estimator {font-family: monospace;background-color: #f0f8ff;border: 1px dotted black;border-radius: 0.25em;box-sizing: border-box;margin-bottom: 0.5em;}#sk-container-id-13 div.sk-estimator:hover {background-color: #d4ebff;}#sk-container-id-13 div.sk-parallel-item::after {content: \"\";width: 100%;border-bottom: 1px solid gray;flex-grow: 1;}#sk-container-id-13 div.sk-label:hover label.sk-toggleable__label {background-color: #d4ebff;}#sk-container-id-13 div.sk-serial::before {content: \"\";position: absolute;border-left: 1px solid gray;box-sizing: border-box;top: 0;bottom: 0;left: 50%;z-index: 0;}#sk-container-id-13 div.sk-serial {display: flex;flex-direction: column;align-items: center;background-color: white;padding-right: 0.2em;padding-left: 0.2em;position: relative;}#sk-container-id-13 div.sk-item {position: relative;z-index: 1;}#sk-container-id-13 div.sk-parallel {display: flex;align-items: stretch;justify-content: center;background-color: white;position: relative;}#sk-container-id-13 div.sk-item::before, #sk-container-id-13 div.sk-parallel-item::before {content: \"\";position: absolute;border-left: 1px solid gray;box-sizing: border-box;top: 0;bottom: 0;left: 50%;z-index: -1;}#sk-container-id-13 div.sk-parallel-item {display: flex;flex-direction: column;z-index: 1;position: relative;background-color: white;}#sk-container-id-13 div.sk-parallel-item:first-child::after {align-self: flex-end;width: 50%;}#sk-container-id-13 div.sk-parallel-item:last-child::after {align-self: flex-start;width: 50%;}#sk-container-id-13 div.sk-parallel-item:only-child::after {width: 0;}#sk-container-id-13 div.sk-dashed-wrapped {border: 1px dashed gray;margin: 0 0.4em 0.5em 0.4em;box-sizing: border-box;padding-bottom: 0.4em;background-color: white;}#sk-container-id-13 div.sk-label label {font-family: monospace;font-weight: bold;display: inline-block;line-height: 1.2em;}#sk-container-id-13 div.sk-label-container {text-align: center;}#sk-container-id-13 div.sk-container {/* jupyter's `normalize.less` sets `[hidden] { display: none; }` but bootstrap.min.css set `[hidden] { display: none !important; }` so we also need the `!important` here to be able to override the default hidden behavior on the sphinx rendered scikit-learn.org. See: https://github.com/scikit-learn/scikit-learn/issues/21755 */display: inline-block !important;position: relative;}#sk-container-id-13 div.sk-text-repr-fallback {display: none;}</style><div id=\"sk-container-id-13\" class=\"sk-top-container\"><div class=\"sk-text-repr-fallback\"><pre>XGBClassifier(base_score=None, booster=None, callbacks=None,\n",
       "              colsample_bylevel=None, colsample_bynode=None,\n",
       "              colsample_bytree=None, early_stopping_rounds=None,\n",
       "              enable_categorical=False, eval_metric=None, feature_types=None,\n",
       "              gamma=None, gpu_id=None, grow_policy=None, importance_type=None,\n",
       "              interaction_constraints=None, learning_rate=None, max_bin=None,\n",
       "              max_cat_threshold=None, max_cat_to_onehot=None,\n",
       "              max_delta_step=None, max_depth=None, max_leaves=None,\n",
       "              min_child_weight=None, missing=nan, monotone_constraints=None,\n",
       "              n_estimators=100, n_jobs=None, num_parallel_tree=None,\n",
       "              predictor=None, random_state=None, ...)</pre><b>In a Jupyter environment, please rerun this cell to show the HTML representation or trust the notebook. <br />On GitHub, the HTML representation is unable to render, please try loading this page with nbviewer.org.</b></div><div class=\"sk-container\" hidden><div class=\"sk-item\"><div class=\"sk-estimator sk-toggleable\"><input class=\"sk-toggleable__control sk-hidden--visually\" id=\"sk-estimator-id-13\" type=\"checkbox\" checked><label for=\"sk-estimator-id-13\" class=\"sk-toggleable__label sk-toggleable__label-arrow\">XGBClassifier</label><div class=\"sk-toggleable__content\"><pre>XGBClassifier(base_score=None, booster=None, callbacks=None,\n",
       "              colsample_bylevel=None, colsample_bynode=None,\n",
       "              colsample_bytree=None, early_stopping_rounds=None,\n",
       "              enable_categorical=False, eval_metric=None, feature_types=None,\n",
       "              gamma=None, gpu_id=None, grow_policy=None, importance_type=None,\n",
       "              interaction_constraints=None, learning_rate=None, max_bin=None,\n",
       "              max_cat_threshold=None, max_cat_to_onehot=None,\n",
       "              max_delta_step=None, max_depth=None, max_leaves=None,\n",
       "              min_child_weight=None, missing=nan, monotone_constraints=None,\n",
       "              n_estimators=100, n_jobs=None, num_parallel_tree=None,\n",
       "              predictor=None, random_state=None, ...)</pre></div></div></div></div></div>"
      ],
      "text/plain": [
       "XGBClassifier(base_score=None, booster=None, callbacks=None,\n",
       "              colsample_bylevel=None, colsample_bynode=None,\n",
       "              colsample_bytree=None, early_stopping_rounds=None,\n",
       "              enable_categorical=False, eval_metric=None, feature_types=None,\n",
       "              gamma=None, gpu_id=None, grow_policy=None, importance_type=None,\n",
       "              interaction_constraints=None, learning_rate=None, max_bin=None,\n",
       "              max_cat_threshold=None, max_cat_to_onehot=None,\n",
       "              max_delta_step=None, max_depth=None, max_leaves=None,\n",
       "              min_child_weight=None, missing=nan, monotone_constraints=None,\n",
       "              n_estimators=100, n_jobs=None, num_parallel_tree=None,\n",
       "              predictor=None, random_state=None, ...)"
      ]
     },
     "execution_count": 77,
     "metadata": {},
     "output_type": "execute_result"
    }
   ],
   "source": [
    "#fitting xgboost model with balanced dataset\n",
    "xgb_smote_model = xgb.XGBClassifier()\n",
    "xgb_smote_model.fit(X_train_smote,y_train_smote)"
   ]
  },
  {
   "cell_type": "code",
   "execution_count": 78,
   "id": "bc15d0c4",
   "metadata": {
    "executionInfo": {
     "elapsed": 638,
     "status": "ok",
     "timestamp": 1687293931272,
     "user": {
      "displayName": "Penina Randu",
      "userId": "09001762240323440784"
     },
     "user_tz": -180
    },
    "id": "bc15d0c4"
   },
   "outputs": [],
   "source": [
    "# Make predictions\n",
    "xgb_smote_proba = xgb_smote_model.predict_proba(Xeval)\n",
    "xgb_smote_preds = xgb_smote_model.predict(Xeval)"
   ]
  },
  {
   "cell_type": "code",
   "execution_count": 79,
   "id": "327012fd",
   "metadata": {
    "colab": {
     "base_uri": "https://localhost:8080/"
    },
    "executionInfo": {
     "elapsed": 363,
     "status": "ok",
     "timestamp": 1687293934339,
     "user": {
      "displayName": "Penina Randu",
      "userId": "09001762240323440784"
     },
     "user_tz": -180
    },
    "id": "327012fd",
    "outputId": "3c998b65-38ab-4bf5-9283-635088775c08"
   },
   "outputs": [
    {
     "name": "stdout",
     "output_type": "stream",
     "text": [
      "The model's AUC score is: 0.6886884001789987\n",
      "The model's log loss is: 0.20837397012766298\n"
     ]
    }
   ],
   "source": [
    "# Calculate the ROC AUC score\n",
    "xgb_smote_auc_score = roc_auc_score(y_validation, xgb_smote_preds)\n",
    "# Calculate the log loss\n",
    "xgb_smote_logloss = log_loss(y_validation, xgb_smote_proba)\n",
    "\n",
    "print('The model\\'s AUC score is:', xgb_smote_auc_score)\n",
    "print('The model\\'s log loss is:', xgb_smote_logloss)\n"
   ]
  },
  {
   "attachments": {},
   "cell_type": "markdown",
   "id": "ec3fe496",
   "metadata": {
    "id": "ec3fe496"
   },
   "source": [
    "## Simple model #7"
   ]
  },
  {
   "cell_type": "code",
   "execution_count": 80,
   "id": "53138d97",
   "metadata": {
    "colab": {
     "base_uri": "https://localhost:8080/"
    },
    "executionInfo": {
     "elapsed": 367960,
     "status": "ok",
     "timestamp": 1687294309478,
     "user": {
      "displayName": "Penina Randu",
      "userId": "09001762240323440784"
     },
     "user_tz": -180
    },
    "id": "53138d97",
    "outputId": "ff92213a-6c30-4855-8574-00acc999e5f7",
    "scrolled": true
   },
   "outputs": [
    {
     "name": "stdout",
     "output_type": "stream",
     "text": [
      "Learning rate set to 0.208623\n",
      "0:\tlearn: 0.5580262\ttotal: 372ms\tremaining: 6m 11s\n",
      "1:\tlearn: 0.4852314\ttotal: 702ms\tremaining: 5m 50s\n",
      "2:\tlearn: 0.4363112\ttotal: 1.02s\tremaining: 5m 40s\n",
      "3:\tlearn: 0.4035047\ttotal: 1.37s\tremaining: 5m 41s\n",
      "4:\tlearn: 0.3857938\ttotal: 1.68s\tremaining: 5m 34s\n",
      "5:\tlearn: 0.3679444\ttotal: 1.98s\tremaining: 5m 28s\n",
      "6:\tlearn: 0.3532826\ttotal: 2.31s\tremaining: 5m 27s\n",
      "7:\tlearn: 0.3388127\ttotal: 2.66s\tremaining: 5m 30s\n",
      "8:\tlearn: 0.3290851\ttotal: 2.97s\tremaining: 5m 27s\n",
      "9:\tlearn: 0.3197749\ttotal: 3.31s\tremaining: 5m 27s\n",
      "10:\tlearn: 0.3112791\ttotal: 3.59s\tremaining: 5m 22s\n",
      "11:\tlearn: 0.3068927\ttotal: 3.9s\tremaining: 5m 21s\n",
      "12:\tlearn: 0.2984627\ttotal: 4.22s\tremaining: 5m 20s\n",
      "13:\tlearn: 0.2931704\ttotal: 4.58s\tremaining: 5m 22s\n",
      "14:\tlearn: 0.2847520\ttotal: 4.88s\tremaining: 5m 20s\n",
      "15:\tlearn: 0.2787513\ttotal: 5.16s\tremaining: 5m 17s\n",
      "16:\tlearn: 0.2741438\ttotal: 5.48s\tremaining: 5m 17s\n",
      "17:\tlearn: 0.2702333\ttotal: 5.81s\tremaining: 5m 16s\n",
      "18:\tlearn: 0.2650069\ttotal: 6.12s\tremaining: 5m 16s\n",
      "19:\tlearn: 0.2617844\ttotal: 6.45s\tremaining: 5m 16s\n",
      "20:\tlearn: 0.2578206\ttotal: 6.8s\tremaining: 5m 16s\n",
      "21:\tlearn: 0.2517249\ttotal: 7.13s\tremaining: 5m 17s\n",
      "22:\tlearn: 0.2437581\ttotal: 7.48s\tremaining: 5m 17s\n",
      "23:\tlearn: 0.2405817\ttotal: 7.82s\tremaining: 5m 17s\n",
      "24:\tlearn: 0.2373164\ttotal: 8.16s\tremaining: 5m 18s\n",
      "25:\tlearn: 0.2349876\ttotal: 8.54s\tremaining: 5m 19s\n",
      "26:\tlearn: 0.2320517\ttotal: 8.88s\tremaining: 5m 20s\n",
      "27:\tlearn: 0.2240695\ttotal: 9.21s\tremaining: 5m 19s\n",
      "28:\tlearn: 0.2227664\ttotal: 9.84s\tremaining: 5m 29s\n",
      "29:\tlearn: 0.2205281\ttotal: 10.5s\tremaining: 5m 38s\n",
      "30:\tlearn: 0.2168134\ttotal: 11.1s\tremaining: 5m 47s\n",
      "31:\tlearn: 0.2125992\ttotal: 11.7s\tremaining: 5m 54s\n",
      "32:\tlearn: 0.2095220\ttotal: 12.4s\tremaining: 6m 2s\n",
      "33:\tlearn: 0.2070296\ttotal: 13s\tremaining: 6m 8s\n",
      "34:\tlearn: 0.2057243\ttotal: 13.5s\tremaining: 6m 13s\n",
      "35:\tlearn: 0.2044302\ttotal: 14s\tremaining: 6m 15s\n",
      "36:\tlearn: 0.2028541\ttotal: 14.3s\tremaining: 6m 12s\n",
      "37:\tlearn: 0.1988327\ttotal: 14.6s\tremaining: 6m 9s\n",
      "38:\tlearn: 0.1980791\ttotal: 14.9s\tremaining: 6m 6s\n",
      "39:\tlearn: 0.1973628\ttotal: 15.2s\tremaining: 6m 5s\n",
      "40:\tlearn: 0.1964035\ttotal: 15.5s\tremaining: 6m 2s\n",
      "41:\tlearn: 0.1954423\ttotal: 15.8s\tremaining: 6m\n",
      "42:\tlearn: 0.1942264\ttotal: 16.1s\tremaining: 5m 58s\n",
      "43:\tlearn: 0.1924478\ttotal: 16.4s\tremaining: 5m 57s\n",
      "44:\tlearn: 0.1906428\ttotal: 16.7s\tremaining: 5m 55s\n",
      "45:\tlearn: 0.1899173\ttotal: 17s\tremaining: 5m 53s\n",
      "46:\tlearn: 0.1891417\ttotal: 17.4s\tremaining: 5m 52s\n",
      "47:\tlearn: 0.1887583\ttotal: 17.7s\tremaining: 5m 50s\n",
      "48:\tlearn: 0.1882407\ttotal: 18s\tremaining: 5m 48s\n",
      "49:\tlearn: 0.1855271\ttotal: 18.3s\tremaining: 5m 47s\n",
      "50:\tlearn: 0.1847974\ttotal: 18.6s\tremaining: 5m 46s\n",
      "51:\tlearn: 0.1802038\ttotal: 18.9s\tremaining: 5m 45s\n",
      "52:\tlearn: 0.1799740\ttotal: 19.2s\tremaining: 5m 43s\n",
      "53:\tlearn: 0.1777504\ttotal: 19.5s\tremaining: 5m 42s\n",
      "54:\tlearn: 0.1773005\ttotal: 19.9s\tremaining: 5m 42s\n",
      "55:\tlearn: 0.1763352\ttotal: 20.2s\tremaining: 5m 41s\n",
      "56:\tlearn: 0.1741470\ttotal: 20.5s\tremaining: 5m 39s\n",
      "57:\tlearn: 0.1732213\ttotal: 20.9s\tremaining: 5m 38s\n",
      "58:\tlearn: 0.1726302\ttotal: 21.2s\tremaining: 5m 37s\n",
      "59:\tlearn: 0.1718845\ttotal: 21.5s\tremaining: 5m 37s\n",
      "60:\tlearn: 0.1712881\ttotal: 21.8s\tremaining: 5m 36s\n",
      "61:\tlearn: 0.1701310\ttotal: 22.1s\tremaining: 5m 34s\n",
      "62:\tlearn: 0.1690053\ttotal: 22.5s\tremaining: 5m 34s\n",
      "63:\tlearn: 0.1674297\ttotal: 22.8s\tremaining: 5m 33s\n",
      "64:\tlearn: 0.1664768\ttotal: 23.1s\tremaining: 5m 32s\n",
      "65:\tlearn: 0.1661343\ttotal: 23.4s\tremaining: 5m 30s\n",
      "66:\tlearn: 0.1658229\ttotal: 23.7s\tremaining: 5m 30s\n",
      "67:\tlearn: 0.1650600\ttotal: 24.2s\tremaining: 5m 31s\n",
      "68:\tlearn: 0.1634334\ttotal: 24.8s\tremaining: 5m 34s\n",
      "69:\tlearn: 0.1624599\ttotal: 25.5s\tremaining: 5m 38s\n",
      "70:\tlearn: 0.1614490\ttotal: 26.1s\tremaining: 5m 41s\n",
      "71:\tlearn: 0.1611498\ttotal: 26.7s\tremaining: 5m 44s\n",
      "72:\tlearn: 0.1600485\ttotal: 27.3s\tremaining: 5m 47s\n",
      "73:\tlearn: 0.1596575\ttotal: 27.9s\tremaining: 5m 48s\n",
      "74:\tlearn: 0.1587436\ttotal: 28.5s\tremaining: 5m 51s\n",
      "75:\tlearn: 0.1580442\ttotal: 28.9s\tremaining: 5m 51s\n",
      "76:\tlearn: 0.1573458\ttotal: 29.3s\tremaining: 5m 51s\n",
      "77:\tlearn: 0.1568791\ttotal: 29.6s\tremaining: 5m 50s\n",
      "78:\tlearn: 0.1558702\ttotal: 29.9s\tremaining: 5m 49s\n",
      "79:\tlearn: 0.1550181\ttotal: 30.3s\tremaining: 5m 48s\n",
      "80:\tlearn: 0.1540177\ttotal: 30.6s\tremaining: 5m 47s\n",
      "81:\tlearn: 0.1536698\ttotal: 30.9s\tremaining: 5m 45s\n",
      "82:\tlearn: 0.1535254\ttotal: 31.2s\tremaining: 5m 44s\n",
      "83:\tlearn: 0.1529309\ttotal: 31.5s\tremaining: 5m 43s\n",
      "84:\tlearn: 0.1524927\ttotal: 31.8s\tremaining: 5m 42s\n",
      "85:\tlearn: 0.1518194\ttotal: 32.1s\tremaining: 5m 41s\n",
      "86:\tlearn: 0.1512938\ttotal: 32.5s\tremaining: 5m 40s\n",
      "87:\tlearn: 0.1506132\ttotal: 32.8s\tremaining: 5m 40s\n",
      "88:\tlearn: 0.1496950\ttotal: 33.1s\tremaining: 5m 39s\n",
      "89:\tlearn: 0.1488589\ttotal: 33.5s\tremaining: 5m 38s\n",
      "90:\tlearn: 0.1481638\ttotal: 33.9s\tremaining: 5m 38s\n",
      "91:\tlearn: 0.1478686\ttotal: 34.2s\tremaining: 5m 37s\n",
      "92:\tlearn: 0.1474933\ttotal: 34.5s\tremaining: 5m 36s\n",
      "93:\tlearn: 0.1472002\ttotal: 34.9s\tremaining: 5m 35s\n",
      "94:\tlearn: 0.1470301\ttotal: 35.1s\tremaining: 5m 34s\n",
      "95:\tlearn: 0.1468917\ttotal: 35.4s\tremaining: 5m 33s\n",
      "96:\tlearn: 0.1467473\ttotal: 35.8s\tremaining: 5m 33s\n",
      "97:\tlearn: 0.1464919\ttotal: 36.1s\tremaining: 5m 32s\n",
      "98:\tlearn: 0.1462063\ttotal: 36.4s\tremaining: 5m 31s\n",
      "99:\tlearn: 0.1460356\ttotal: 36.7s\tremaining: 5m 30s\n",
      "100:\tlearn: 0.1457279\ttotal: 37.1s\tremaining: 5m 29s\n",
      "101:\tlearn: 0.1453697\ttotal: 37.3s\tremaining: 5m 28s\n",
      "102:\tlearn: 0.1449902\ttotal: 37.6s\tremaining: 5m 27s\n",
      "103:\tlearn: 0.1443932\ttotal: 38s\tremaining: 5m 27s\n",
      "104:\tlearn: 0.1441489\ttotal: 38.3s\tremaining: 5m 26s\n",
      "105:\tlearn: 0.1435792\ttotal: 38.6s\tremaining: 5m 25s\n",
      "106:\tlearn: 0.1428480\ttotal: 39.2s\tremaining: 5m 26s\n",
      "107:\tlearn: 0.1424853\ttotal: 39.7s\tremaining: 5m 27s\n",
      "108:\tlearn: 0.1421811\ttotal: 40.3s\tremaining: 5m 29s\n",
      "109:\tlearn: 0.1415614\ttotal: 40.9s\tremaining: 5m 31s\n",
      "110:\tlearn: 0.1409468\ttotal: 41.6s\tremaining: 5m 33s\n",
      "111:\tlearn: 0.1408610\ttotal: 42.1s\tremaining: 5m 33s\n",
      "112:\tlearn: 0.1405351\ttotal: 42.7s\tremaining: 5m 35s\n",
      "113:\tlearn: 0.1403054\ttotal: 43.3s\tremaining: 5m 36s\n",
      "114:\tlearn: 0.1399948\ttotal: 43.6s\tremaining: 5m 35s\n",
      "115:\tlearn: 0.1398753\ttotal: 44s\tremaining: 5m 34s\n",
      "116:\tlearn: 0.1396212\ttotal: 44.2s\tremaining: 5m 33s\n",
      "117:\tlearn: 0.1395025\ttotal: 44.6s\tremaining: 5m 33s\n",
      "118:\tlearn: 0.1391946\ttotal: 44.9s\tremaining: 5m 32s\n",
      "119:\tlearn: 0.1391214\ttotal: 45.1s\tremaining: 5m 30s\n",
      "120:\tlearn: 0.1390479\ttotal: 45.4s\tremaining: 5m 29s\n",
      "121:\tlearn: 0.1387609\ttotal: 45.7s\tremaining: 5m 28s\n",
      "122:\tlearn: 0.1386068\ttotal: 46s\tremaining: 5m 28s\n",
      "123:\tlearn: 0.1383118\ttotal: 46.3s\tremaining: 5m 27s\n",
      "124:\tlearn: 0.1377776\ttotal: 46.6s\tremaining: 5m 26s\n",
      "125:\tlearn: 0.1374885\ttotal: 47s\tremaining: 5m 25s\n",
      "126:\tlearn: 0.1374065\ttotal: 47.3s\tremaining: 5m 24s\n",
      "127:\tlearn: 0.1372335\ttotal: 47.6s\tremaining: 5m 24s\n",
      "128:\tlearn: 0.1369300\ttotal: 47.9s\tremaining: 5m 23s\n",
      "129:\tlearn: 0.1367172\ttotal: 48.2s\tremaining: 5m 22s\n",
      "130:\tlearn: 0.1366188\ttotal: 48.6s\tremaining: 5m 22s\n",
      "131:\tlearn: 0.1363069\ttotal: 48.9s\tremaining: 5m 21s\n",
      "132:\tlearn: 0.1360810\ttotal: 49.2s\tremaining: 5m 20s\n",
      "133:\tlearn: 0.1360059\ttotal: 49.5s\tremaining: 5m 19s\n",
      "134:\tlearn: 0.1356131\ttotal: 49.8s\tremaining: 5m 19s\n",
      "135:\tlearn: 0.1354891\ttotal: 50.1s\tremaining: 5m 18s\n",
      "136:\tlearn: 0.1354336\ttotal: 50.4s\tremaining: 5m 17s\n",
      "137:\tlearn: 0.1353752\ttotal: 50.7s\tremaining: 5m 16s\n",
      "138:\tlearn: 0.1352308\ttotal: 51s\tremaining: 5m 16s\n",
      "139:\tlearn: 0.1351843\ttotal: 51.3s\tremaining: 5m 15s\n",
      "140:\tlearn: 0.1349098\ttotal: 51.7s\tremaining: 5m 14s\n",
      "141:\tlearn: 0.1347938\ttotal: 52s\tremaining: 5m 14s\n",
      "142:\tlearn: 0.1346926\ttotal: 52.4s\tremaining: 5m 13s\n",
      "143:\tlearn: 0.1344839\ttotal: 52.6s\tremaining: 5m 12s\n",
      "144:\tlearn: 0.1343941\ttotal: 53s\tremaining: 5m 12s\n",
      "145:\tlearn: 0.1343143\ttotal: 53.3s\tremaining: 5m 11s\n",
      "146:\tlearn: 0.1341427\ttotal: 53.9s\tremaining: 5m 12s\n",
      "147:\tlearn: 0.1340844\ttotal: 54.4s\tremaining: 5m 13s\n",
      "148:\tlearn: 0.1339470\ttotal: 55s\tremaining: 5m 14s\n",
      "149:\tlearn: 0.1338531\ttotal: 55.6s\tremaining: 5m 15s\n",
      "150:\tlearn: 0.1337967\ttotal: 56.2s\tremaining: 5m 16s\n",
      "151:\tlearn: 0.1336560\ttotal: 56.7s\tremaining: 5m 16s\n",
      "152:\tlearn: 0.1335588\ttotal: 57.3s\tremaining: 5m 17s\n",
      "153:\tlearn: 0.1333575\ttotal: 57.8s\tremaining: 5m 17s\n",
      "154:\tlearn: 0.1332107\ttotal: 58.2s\tremaining: 5m 17s\n",
      "155:\tlearn: 0.1330836\ttotal: 58.4s\tremaining: 5m 16s\n",
      "156:\tlearn: 0.1329998\ttotal: 58.8s\tremaining: 5m 15s\n",
      "157:\tlearn: 0.1328926\ttotal: 59.1s\tremaining: 5m 14s\n",
      "158:\tlearn: 0.1327932\ttotal: 59.4s\tremaining: 5m 14s\n",
      "159:\tlearn: 0.1327319\ttotal: 59.8s\tremaining: 5m 13s\n",
      "160:\tlearn: 0.1325913\ttotal: 1m\tremaining: 5m 12s\n",
      "161:\tlearn: 0.1325454\ttotal: 1m\tremaining: 5m 12s\n",
      "162:\tlearn: 0.1323895\ttotal: 1m\tremaining: 5m 11s\n",
      "163:\tlearn: 0.1322640\ttotal: 1m 1s\tremaining: 5m 10s\n",
      "164:\tlearn: 0.1322158\ttotal: 1m 1s\tremaining: 5m 10s\n",
      "165:\tlearn: 0.1321175\ttotal: 1m 1s\tremaining: 5m 9s\n",
      "166:\tlearn: 0.1319186\ttotal: 1m 1s\tremaining: 5m 8s\n",
      "167:\tlearn: 0.1318286\ttotal: 1m 2s\tremaining: 5m 8s\n",
      "168:\tlearn: 0.1316221\ttotal: 1m 2s\tremaining: 5m 7s\n",
      "169:\tlearn: 0.1314669\ttotal: 1m 2s\tremaining: 5m 6s\n",
      "170:\tlearn: 0.1313376\ttotal: 1m 3s\tremaining: 5m 6s\n",
      "171:\tlearn: 0.1312594\ttotal: 1m 3s\tremaining: 5m 5s\n",
      "172:\tlearn: 0.1312271\ttotal: 1m 3s\tremaining: 5m 4s\n",
      "173:\tlearn: 0.1311521\ttotal: 1m 4s\tremaining: 5m 4s\n",
      "174:\tlearn: 0.1310056\ttotal: 1m 4s\tremaining: 5m 3s\n",
      "175:\tlearn: 0.1307900\ttotal: 1m 4s\tremaining: 5m 2s\n",
      "176:\tlearn: 0.1306693\ttotal: 1m 4s\tremaining: 5m 2s\n",
      "177:\tlearn: 0.1304559\ttotal: 1m 5s\tremaining: 5m 1s\n",
      "178:\tlearn: 0.1303094\ttotal: 1m 5s\tremaining: 5m\n",
      "179:\tlearn: 0.1301688\ttotal: 1m 5s\tremaining: 5m\n",
      "180:\tlearn: 0.1298354\ttotal: 1m 6s\tremaining: 4m 59s\n",
      "181:\tlearn: 0.1297428\ttotal: 1m 6s\tremaining: 4m 59s\n",
      "182:\tlearn: 0.1296971\ttotal: 1m 6s\tremaining: 4m 58s\n",
      "183:\tlearn: 0.1295580\ttotal: 1m 7s\tremaining: 4m 57s\n",
      "184:\tlearn: 0.1294793\ttotal: 1m 7s\tremaining: 4m 57s\n",
      "185:\tlearn: 0.1293234\ttotal: 1m 7s\tremaining: 4m 56s\n",
      "186:\tlearn: 0.1292665\ttotal: 1m 8s\tremaining: 4m 57s\n",
      "187:\tlearn: 0.1291813\ttotal: 1m 8s\tremaining: 4m 57s\n",
      "188:\tlearn: 0.1291218\ttotal: 1m 9s\tremaining: 4m 58s\n",
      "189:\tlearn: 0.1290705\ttotal: 1m 10s\tremaining: 4m 58s\n",
      "190:\tlearn: 0.1289769\ttotal: 1m 10s\tremaining: 4m 58s\n",
      "191:\tlearn: 0.1289403\ttotal: 1m 11s\tremaining: 4m 59s\n",
      "192:\tlearn: 0.1288548\ttotal: 1m 11s\tremaining: 5m\n",
      "193:\tlearn: 0.1287705\ttotal: 1m 12s\tremaining: 5m\n",
      "194:\tlearn: 0.1286875\ttotal: 1m 12s\tremaining: 5m\n",
      "195:\tlearn: 0.1283831\ttotal: 1m 13s\tremaining: 4m 59s\n",
      "196:\tlearn: 0.1282320\ttotal: 1m 13s\tremaining: 4m 58s\n",
      "197:\tlearn: 0.1281860\ttotal: 1m 13s\tremaining: 4m 58s\n",
      "198:\tlearn: 0.1281250\ttotal: 1m 13s\tremaining: 4m 57s\n",
      "199:\tlearn: 0.1280489\ttotal: 1m 14s\tremaining: 4m 57s\n",
      "200:\tlearn: 0.1279446\ttotal: 1m 14s\tremaining: 4m 56s\n",
      "201:\tlearn: 0.1279073\ttotal: 1m 14s\tremaining: 4m 55s\n",
      "202:\tlearn: 0.1276800\ttotal: 1m 15s\tremaining: 4m 55s\n",
      "203:\tlearn: 0.1276033\ttotal: 1m 15s\tremaining: 4m 54s\n",
      "204:\tlearn: 0.1273750\ttotal: 1m 15s\tremaining: 4m 53s\n",
      "205:\tlearn: 0.1272084\ttotal: 1m 16s\tremaining: 4m 53s\n",
      "206:\tlearn: 0.1271711\ttotal: 1m 16s\tremaining: 4m 52s\n",
      "207:\tlearn: 0.1270369\ttotal: 1m 16s\tremaining: 4m 52s\n",
      "208:\tlearn: 0.1269646\ttotal: 1m 17s\tremaining: 4m 51s\n",
      "209:\tlearn: 0.1268562\ttotal: 1m 17s\tremaining: 4m 50s\n",
      "210:\tlearn: 0.1268070\ttotal: 1m 17s\tremaining: 4m 50s\n",
      "211:\tlearn: 0.1267804\ttotal: 1m 17s\tremaining: 4m 49s\n",
      "212:\tlearn: 0.1265813\ttotal: 1m 18s\tremaining: 4m 48s\n",
      "213:\tlearn: 0.1265311\ttotal: 1m 18s\tremaining: 4m 48s\n",
      "214:\tlearn: 0.1263745\ttotal: 1m 18s\tremaining: 4m 47s\n",
      "215:\tlearn: 0.1262216\ttotal: 1m 19s\tremaining: 4m 47s\n",
      "216:\tlearn: 0.1261197\ttotal: 1m 19s\tremaining: 4m 46s\n",
      "217:\tlearn: 0.1260741\ttotal: 1m 19s\tremaining: 4m 46s\n",
      "218:\tlearn: 0.1260049\ttotal: 1m 20s\tremaining: 4m 45s\n",
      "219:\tlearn: 0.1259404\ttotal: 1m 20s\tremaining: 4m 45s\n",
      "220:\tlearn: 0.1257200\ttotal: 1m 20s\tremaining: 4m 44s\n",
      "221:\tlearn: 0.1256827\ttotal: 1m 21s\tremaining: 4m 43s\n",
      "222:\tlearn: 0.1255576\ttotal: 1m 21s\tremaining: 4m 43s\n",
      "223:\tlearn: 0.1255282\ttotal: 1m 21s\tremaining: 4m 42s\n",
      "224:\tlearn: 0.1255025\ttotal: 1m 21s\tremaining: 4m 42s\n",
      "225:\tlearn: 0.1254580\ttotal: 1m 22s\tremaining: 4m 41s\n",
      "226:\tlearn: 0.1253240\ttotal: 1m 22s\tremaining: 4m 41s\n",
      "227:\tlearn: 0.1252231\ttotal: 1m 23s\tremaining: 4m 42s\n",
      "228:\tlearn: 0.1251757\ttotal: 1m 23s\tremaining: 4m 42s\n",
      "229:\tlearn: 0.1251395\ttotal: 1m 24s\tremaining: 4m 43s\n",
      "230:\tlearn: 0.1250556\ttotal: 1m 25s\tremaining: 4m 43s\n",
      "231:\tlearn: 0.1250200\ttotal: 1m 25s\tremaining: 4m 43s\n",
      "232:\tlearn: 0.1249396\ttotal: 1m 26s\tremaining: 4m 44s\n",
      "233:\tlearn: 0.1248636\ttotal: 1m 26s\tremaining: 4m 44s\n",
      "234:\tlearn: 0.1248365\ttotal: 1m 27s\tremaining: 4m 43s\n",
      "235:\tlearn: 0.1248164\ttotal: 1m 27s\tremaining: 4m 43s\n",
      "236:\tlearn: 0.1247725\ttotal: 1m 27s\tremaining: 4m 42s\n",
      "237:\tlearn: 0.1247135\ttotal: 1m 28s\tremaining: 4m 42s\n",
      "238:\tlearn: 0.1246280\ttotal: 1m 28s\tremaining: 4m 41s\n",
      "239:\tlearn: 0.1245888\ttotal: 1m 28s\tremaining: 4m 41s\n",
      "240:\tlearn: 0.1245598\ttotal: 1m 29s\tremaining: 4m 40s\n",
      "241:\tlearn: 0.1244803\ttotal: 1m 29s\tremaining: 4m 40s\n",
      "242:\tlearn: 0.1243876\ttotal: 1m 29s\tremaining: 4m 39s\n",
      "243:\tlearn: 0.1242393\ttotal: 1m 30s\tremaining: 4m 39s\n",
      "244:\tlearn: 0.1241593\ttotal: 1m 30s\tremaining: 4m 38s\n",
      "245:\tlearn: 0.1241305\ttotal: 1m 30s\tremaining: 4m 37s\n",
      "246:\tlearn: 0.1240881\ttotal: 1m 30s\tremaining: 4m 37s\n",
      "247:\tlearn: 0.1240395\ttotal: 1m 31s\tremaining: 4m 36s\n",
      "248:\tlearn: 0.1239790\ttotal: 1m 31s\tremaining: 4m 35s\n",
      "249:\tlearn: 0.1239567\ttotal: 1m 31s\tremaining: 4m 35s\n",
      "250:\tlearn: 0.1238272\ttotal: 1m 32s\tremaining: 4m 34s\n",
      "251:\tlearn: 0.1237340\ttotal: 1m 32s\tremaining: 4m 34s\n",
      "252:\tlearn: 0.1236887\ttotal: 1m 32s\tremaining: 4m 33s\n",
      "253:\tlearn: 0.1236451\ttotal: 1m 33s\tremaining: 4m 33s\n",
      "254:\tlearn: 0.1234959\ttotal: 1m 33s\tremaining: 4m 32s\n",
      "255:\tlearn: 0.1233766\ttotal: 1m 33s\tremaining: 4m 32s\n",
      "256:\tlearn: 0.1233463\ttotal: 1m 34s\tremaining: 4m 31s\n",
      "257:\tlearn: 0.1233114\ttotal: 1m 34s\tremaining: 4m 31s\n",
      "258:\tlearn: 0.1232655\ttotal: 1m 34s\tremaining: 4m 30s\n",
      "259:\tlearn: 0.1232205\ttotal: 1m 35s\tremaining: 4m 30s\n",
      "260:\tlearn: 0.1231612\ttotal: 1m 35s\tremaining: 4m 29s\n",
      "261:\tlearn: 0.1231162\ttotal: 1m 35s\tremaining: 4m 29s\n",
      "262:\tlearn: 0.1229829\ttotal: 1m 35s\tremaining: 4m 28s\n",
      "263:\tlearn: 0.1229580\ttotal: 1m 36s\tremaining: 4m 28s\n",
      "264:\tlearn: 0.1229304\ttotal: 1m 36s\tremaining: 4m 27s\n",
      "265:\tlearn: 0.1228729\ttotal: 1m 36s\tremaining: 4m 27s\n",
      "266:\tlearn: 0.1228540\ttotal: 1m 37s\tremaining: 4m 27s\n",
      "267:\tlearn: 0.1227358\ttotal: 1m 37s\tremaining: 4m 27s\n",
      "268:\tlearn: 0.1226882\ttotal: 1m 38s\tremaining: 4m 27s\n",
      "269:\tlearn: 0.1226614\ttotal: 1m 38s\tremaining: 4m 27s\n",
      "270:\tlearn: 0.1225426\ttotal: 1m 39s\tremaining: 4m 27s\n",
      "271:\tlearn: 0.1224755\ttotal: 1m 40s\tremaining: 4m 28s\n",
      "272:\tlearn: 0.1223212\ttotal: 1m 40s\tremaining: 4m 28s\n",
      "273:\tlearn: 0.1222440\ttotal: 1m 41s\tremaining: 4m 28s\n",
      "274:\tlearn: 0.1221515\ttotal: 1m 41s\tremaining: 4m 28s\n",
      "275:\tlearn: 0.1221261\ttotal: 1m 42s\tremaining: 4m 27s\n",
      "276:\tlearn: 0.1220962\ttotal: 1m 42s\tremaining: 4m 27s\n",
      "277:\tlearn: 0.1220684\ttotal: 1m 42s\tremaining: 4m 26s\n",
      "278:\tlearn: 0.1220472\ttotal: 1m 43s\tremaining: 4m 26s\n",
      "279:\tlearn: 0.1219979\ttotal: 1m 43s\tremaining: 4m 25s\n",
      "280:\tlearn: 0.1219772\ttotal: 1m 43s\tremaining: 4m 25s\n",
      "281:\tlearn: 0.1219154\ttotal: 1m 43s\tremaining: 4m 24s\n",
      "282:\tlearn: 0.1217889\ttotal: 1m 44s\tremaining: 4m 24s\n",
      "283:\tlearn: 0.1216963\ttotal: 1m 44s\tremaining: 4m 23s\n",
      "284:\tlearn: 0.1216193\ttotal: 1m 44s\tremaining: 4m 23s\n",
      "285:\tlearn: 0.1215654\ttotal: 1m 45s\tremaining: 4m 22s\n",
      "286:\tlearn: 0.1214921\ttotal: 1m 45s\tremaining: 4m 22s\n",
      "287:\tlearn: 0.1213785\ttotal: 1m 45s\tremaining: 4m 21s\n",
      "288:\tlearn: 0.1213250\ttotal: 1m 46s\tremaining: 4m 21s\n",
      "289:\tlearn: 0.1211763\ttotal: 1m 46s\tremaining: 4m 20s\n",
      "290:\tlearn: 0.1210344\ttotal: 1m 46s\tremaining: 4m 20s\n",
      "291:\tlearn: 0.1210107\ttotal: 1m 47s\tremaining: 4m 20s\n",
      "292:\tlearn: 0.1209818\ttotal: 1m 47s\tremaining: 4m 19s\n",
      "293:\tlearn: 0.1209385\ttotal: 1m 47s\tremaining: 4m 18s\n",
      "294:\tlearn: 0.1209122\ttotal: 1m 48s\tremaining: 4m 18s\n",
      "295:\tlearn: 0.1208891\ttotal: 1m 48s\tremaining: 4m 17s\n",
      "296:\tlearn: 0.1208599\ttotal: 1m 48s\tremaining: 4m 17s\n",
      "297:\tlearn: 0.1208119\ttotal: 1m 49s\tremaining: 4m 16s\n",
      "298:\tlearn: 0.1207904\ttotal: 1m 49s\tremaining: 4m 16s\n",
      "299:\tlearn: 0.1207462\ttotal: 1m 49s\tremaining: 4m 15s\n",
      "300:\tlearn: 0.1207329\ttotal: 1m 49s\tremaining: 4m 15s\n",
      "301:\tlearn: 0.1207112\ttotal: 1m 50s\tremaining: 4m 14s\n",
      "302:\tlearn: 0.1206424\ttotal: 1m 50s\tremaining: 4m 14s\n",
      "303:\tlearn: 0.1205925\ttotal: 1m 50s\tremaining: 4m 14s\n",
      "304:\tlearn: 0.1203977\ttotal: 1m 51s\tremaining: 4m 13s\n",
      "305:\tlearn: 0.1203624\ttotal: 1m 51s\tremaining: 4m 13s\n",
      "306:\tlearn: 0.1203387\ttotal: 1m 52s\tremaining: 4m 13s\n",
      "307:\tlearn: 0.1203037\ttotal: 1m 52s\tremaining: 4m 13s\n",
      "308:\tlearn: 0.1202881\ttotal: 1m 53s\tremaining: 4m 13s\n",
      "309:\tlearn: 0.1202363\ttotal: 1m 53s\tremaining: 4m 13s\n",
      "310:\tlearn: 0.1202187\ttotal: 1m 54s\tremaining: 4m 13s\n",
      "311:\tlearn: 0.1201711\ttotal: 1m 54s\tremaining: 4m 13s\n",
      "312:\tlearn: 0.1201190\ttotal: 1m 55s\tremaining: 4m 13s\n",
      "313:\tlearn: 0.1200809\ttotal: 1m 56s\tremaining: 4m 13s\n",
      "314:\tlearn: 0.1200574\ttotal: 1m 56s\tremaining: 4m 13s\n",
      "315:\tlearn: 0.1200354\ttotal: 1m 56s\tremaining: 4m 12s\n",
      "316:\tlearn: 0.1200013\ttotal: 1m 57s\tremaining: 4m 12s\n",
      "317:\tlearn: 0.1199793\ttotal: 1m 57s\tremaining: 4m 11s\n",
      "318:\tlearn: 0.1198829\ttotal: 1m 57s\tremaining: 4m 11s\n",
      "319:\tlearn: 0.1198577\ttotal: 1m 58s\tremaining: 4m 10s\n",
      "320:\tlearn: 0.1197814\ttotal: 1m 58s\tremaining: 4m 10s\n",
      "321:\tlearn: 0.1197506\ttotal: 1m 58s\tremaining: 4m 9s\n",
      "322:\tlearn: 0.1197332\ttotal: 1m 59s\tremaining: 4m 9s\n",
      "323:\tlearn: 0.1197071\ttotal: 1m 59s\tremaining: 4m 9s\n",
      "324:\tlearn: 0.1196582\ttotal: 1m 59s\tremaining: 4m 8s\n",
      "325:\tlearn: 0.1196001\ttotal: 2m\tremaining: 4m 8s\n",
      "326:\tlearn: 0.1194174\ttotal: 2m\tremaining: 4m 7s\n",
      "327:\tlearn: 0.1193933\ttotal: 2m\tremaining: 4m 7s\n",
      "328:\tlearn: 0.1192813\ttotal: 2m 1s\tremaining: 4m 6s\n",
      "329:\tlearn: 0.1192408\ttotal: 2m 1s\tremaining: 4m 6s\n",
      "330:\tlearn: 0.1192146\ttotal: 2m 1s\tremaining: 4m 5s\n",
      "331:\tlearn: 0.1191959\ttotal: 2m 1s\tremaining: 4m 5s\n",
      "332:\tlearn: 0.1191863\ttotal: 2m 2s\tremaining: 4m 4s\n",
      "333:\tlearn: 0.1191535\ttotal: 2m 2s\tremaining: 4m 4s\n",
      "334:\tlearn: 0.1191304\ttotal: 2m 2s\tremaining: 4m 3s\n",
      "335:\tlearn: 0.1190280\ttotal: 2m 3s\tremaining: 4m 3s\n",
      "336:\tlearn: 0.1189957\ttotal: 2m 3s\tremaining: 4m 3s\n",
      "337:\tlearn: 0.1189633\ttotal: 2m 3s\tremaining: 4m 2s\n",
      "338:\tlearn: 0.1189476\ttotal: 2m 4s\tremaining: 4m 1s\n",
      "339:\tlearn: 0.1188014\ttotal: 2m 4s\tremaining: 4m 1s\n",
      "340:\tlearn: 0.1187400\ttotal: 2m 4s\tremaining: 4m 1s\n",
      "341:\tlearn: 0.1187220\ttotal: 2m 5s\tremaining: 4m\n",
      "342:\tlearn: 0.1186244\ttotal: 2m 5s\tremaining: 4m\n",
      "343:\tlearn: 0.1185955\ttotal: 2m 5s\tremaining: 3m 59s\n",
      "344:\tlearn: 0.1185531\ttotal: 2m 5s\tremaining: 3m 59s\n",
      "345:\tlearn: 0.1185397\ttotal: 2m 6s\tremaining: 3m 58s\n",
      "346:\tlearn: 0.1185199\ttotal: 2m 6s\tremaining: 3m 58s\n",
      "347:\tlearn: 0.1184895\ttotal: 2m 7s\tremaining: 3m 58s\n",
      "348:\tlearn: 0.1184609\ttotal: 2m 8s\tremaining: 3m 58s\n",
      "349:\tlearn: 0.1184459\ttotal: 2m 8s\tremaining: 3m 58s\n",
      "350:\tlearn: 0.1184030\ttotal: 2m 9s\tremaining: 3m 58s\n",
      "351:\tlearn: 0.1183865\ttotal: 2m 9s\tremaining: 3m 58s\n",
      "352:\tlearn: 0.1183123\ttotal: 2m 10s\tremaining: 3m 58s\n",
      "353:\tlearn: 0.1182907\ttotal: 2m 10s\tremaining: 3m 58s\n",
      "354:\tlearn: 0.1182652\ttotal: 2m 11s\tremaining: 3m 58s\n",
      "355:\tlearn: 0.1182422\ttotal: 2m 11s\tremaining: 3m 57s\n",
      "356:\tlearn: 0.1181987\ttotal: 2m 11s\tremaining: 3m 57s\n",
      "357:\tlearn: 0.1181859\ttotal: 2m 12s\tremaining: 3m 56s\n",
      "358:\tlearn: 0.1181564\ttotal: 2m 12s\tremaining: 3m 56s\n",
      "359:\tlearn: 0.1181115\ttotal: 2m 12s\tremaining: 3m 55s\n",
      "360:\tlearn: 0.1180632\ttotal: 2m 13s\tremaining: 3m 55s\n",
      "361:\tlearn: 0.1179920\ttotal: 2m 13s\tremaining: 3m 55s\n",
      "362:\tlearn: 0.1179140\ttotal: 2m 13s\tremaining: 3m 54s\n",
      "363:\tlearn: 0.1178788\ttotal: 2m 14s\tremaining: 3m 54s\n",
      "364:\tlearn: 0.1178195\ttotal: 2m 14s\tremaining: 3m 53s\n",
      "365:\tlearn: 0.1177808\ttotal: 2m 14s\tremaining: 3m 53s\n",
      "366:\tlearn: 0.1177426\ttotal: 2m 15s\tremaining: 3m 52s\n",
      "367:\tlearn: 0.1176774\ttotal: 2m 15s\tremaining: 3m 52s\n",
      "368:\tlearn: 0.1176254\ttotal: 2m 15s\tremaining: 3m 51s\n",
      "369:\tlearn: 0.1175984\ttotal: 2m 15s\tremaining: 3m 51s\n",
      "370:\tlearn: 0.1175571\ttotal: 2m 16s\tremaining: 3m 51s\n",
      "371:\tlearn: 0.1175335\ttotal: 2m 16s\tremaining: 3m 50s\n",
      "372:\tlearn: 0.1174994\ttotal: 2m 16s\tremaining: 3m 50s\n",
      "373:\tlearn: 0.1174677\ttotal: 2m 17s\tremaining: 3m 49s\n",
      "374:\tlearn: 0.1174123\ttotal: 2m 17s\tremaining: 3m 49s\n",
      "375:\tlearn: 0.1173964\ttotal: 2m 17s\tremaining: 3m 48s\n",
      "376:\tlearn: 0.1173852\ttotal: 2m 18s\tremaining: 3m 48s\n",
      "377:\tlearn: 0.1173398\ttotal: 2m 18s\tremaining: 3m 47s\n",
      "378:\tlearn: 0.1173230\ttotal: 2m 18s\tremaining: 3m 47s\n",
      "379:\tlearn: 0.1173076\ttotal: 2m 19s\tremaining: 3m 46s\n",
      "380:\tlearn: 0.1172905\ttotal: 2m 19s\tremaining: 3m 46s\n",
      "381:\tlearn: 0.1172715\ttotal: 2m 19s\tremaining: 3m 45s\n",
      "382:\tlearn: 0.1172228\ttotal: 2m 19s\tremaining: 3m 45s\n",
      "383:\tlearn: 0.1172005\ttotal: 2m 20s\tremaining: 3m 45s\n",
      "384:\tlearn: 0.1171604\ttotal: 2m 20s\tremaining: 3m 44s\n",
      "385:\tlearn: 0.1171382\ttotal: 2m 20s\tremaining: 3m 44s\n",
      "386:\tlearn: 0.1170865\ttotal: 2m 21s\tremaining: 3m 44s\n",
      "387:\tlearn: 0.1170697\ttotal: 2m 22s\tremaining: 3m 44s\n",
      "388:\tlearn: 0.1170496\ttotal: 2m 22s\tremaining: 3m 44s\n",
      "389:\tlearn: 0.1170322\ttotal: 2m 23s\tremaining: 3m 44s\n",
      "390:\tlearn: 0.1170156\ttotal: 2m 23s\tremaining: 3m 44s\n",
      "391:\tlearn: 0.1169890\ttotal: 2m 24s\tremaining: 3m 43s\n",
      "392:\tlearn: 0.1169738\ttotal: 2m 24s\tremaining: 3m 43s\n",
      "393:\tlearn: 0.1169546\ttotal: 2m 25s\tremaining: 3m 43s\n",
      "394:\tlearn: 0.1169185\ttotal: 2m 25s\tremaining: 3m 43s\n",
      "395:\tlearn: 0.1168934\ttotal: 2m 26s\tremaining: 3m 42s\n",
      "396:\tlearn: 0.1168619\ttotal: 2m 26s\tremaining: 3m 42s\n",
      "397:\tlearn: 0.1168430\ttotal: 2m 26s\tremaining: 3m 41s\n",
      "398:\tlearn: 0.1168253\ttotal: 2m 27s\tremaining: 3m 41s\n",
      "399:\tlearn: 0.1168062\ttotal: 2m 27s\tremaining: 3m 40s\n",
      "400:\tlearn: 0.1167704\ttotal: 2m 27s\tremaining: 3m 40s\n",
      "401:\tlearn: 0.1167529\ttotal: 2m 27s\tremaining: 3m 40s\n",
      "402:\tlearn: 0.1167255\ttotal: 2m 28s\tremaining: 3m 39s\n",
      "403:\tlearn: 0.1166743\ttotal: 2m 28s\tremaining: 3m 39s\n",
      "404:\tlearn: 0.1166470\ttotal: 2m 28s\tremaining: 3m 38s\n",
      "405:\tlearn: 0.1165663\ttotal: 2m 29s\tremaining: 3m 38s\n",
      "406:\tlearn: 0.1164998\ttotal: 2m 29s\tremaining: 3m 37s\n",
      "407:\tlearn: 0.1164817\ttotal: 2m 29s\tremaining: 3m 37s\n",
      "408:\tlearn: 0.1164611\ttotal: 2m 30s\tremaining: 3m 36s\n",
      "409:\tlearn: 0.1164454\ttotal: 2m 30s\tremaining: 3m 36s\n",
      "410:\tlearn: 0.1163946\ttotal: 2m 30s\tremaining: 3m 36s\n",
      "411:\tlearn: 0.1163726\ttotal: 2m 31s\tremaining: 3m 35s\n",
      "412:\tlearn: 0.1163420\ttotal: 2m 31s\tremaining: 3m 35s\n",
      "413:\tlearn: 0.1163283\ttotal: 2m 31s\tremaining: 3m 34s\n",
      "414:\tlearn: 0.1163002\ttotal: 2m 31s\tremaining: 3m 34s\n",
      "415:\tlearn: 0.1162257\ttotal: 2m 32s\tremaining: 3m 33s\n",
      "416:\tlearn: 0.1162148\ttotal: 2m 32s\tremaining: 3m 33s\n",
      "417:\tlearn: 0.1161701\ttotal: 2m 32s\tremaining: 3m 32s\n",
      "418:\tlearn: 0.1161487\ttotal: 2m 33s\tremaining: 3m 32s\n",
      "419:\tlearn: 0.1160841\ttotal: 2m 33s\tremaining: 3m 32s\n",
      "420:\tlearn: 0.1160726\ttotal: 2m 33s\tremaining: 3m 31s\n",
      "421:\tlearn: 0.1160415\ttotal: 2m 34s\tremaining: 3m 31s\n",
      "422:\tlearn: 0.1160246\ttotal: 2m 34s\tremaining: 3m 30s\n",
      "423:\tlearn: 0.1160024\ttotal: 2m 34s\tremaining: 3m 30s\n",
      "424:\tlearn: 0.1159891\ttotal: 2m 35s\tremaining: 3m 29s\n",
      "425:\tlearn: 0.1159495\ttotal: 2m 35s\tremaining: 3m 29s\n",
      "426:\tlearn: 0.1158903\ttotal: 2m 35s\tremaining: 3m 29s\n",
      "427:\tlearn: 0.1157845\ttotal: 2m 36s\tremaining: 3m 29s\n",
      "428:\tlearn: 0.1157658\ttotal: 2m 37s\tremaining: 3m 29s\n",
      "429:\tlearn: 0.1157153\ttotal: 2m 37s\tremaining: 3m 28s\n",
      "430:\tlearn: 0.1156935\ttotal: 2m 38s\tremaining: 3m 29s\n",
      "431:\tlearn: 0.1156781\ttotal: 2m 38s\tremaining: 3m 28s\n",
      "432:\tlearn: 0.1156299\ttotal: 2m 39s\tremaining: 3m 28s\n",
      "433:\tlearn: 0.1156224\ttotal: 2m 39s\tremaining: 3m 28s\n",
      "434:\tlearn: 0.1155890\ttotal: 2m 40s\tremaining: 3m 28s\n",
      "435:\tlearn: 0.1155547\ttotal: 2m 40s\tremaining: 3m 27s\n",
      "436:\tlearn: 0.1154930\ttotal: 2m 40s\tremaining: 3m 27s\n",
      "437:\tlearn: 0.1154661\ttotal: 2m 41s\tremaining: 3m 26s\n",
      "438:\tlearn: 0.1153983\ttotal: 2m 41s\tremaining: 3m 26s\n",
      "439:\tlearn: 0.1153886\ttotal: 2m 41s\tremaining: 3m 26s\n",
      "440:\tlearn: 0.1153655\ttotal: 2m 42s\tremaining: 3m 25s\n",
      "441:\tlearn: 0.1153467\ttotal: 2m 42s\tremaining: 3m 25s\n",
      "442:\tlearn: 0.1153296\ttotal: 2m 42s\tremaining: 3m 24s\n",
      "443:\tlearn: 0.1153086\ttotal: 2m 43s\tremaining: 3m 24s\n",
      "444:\tlearn: 0.1152822\ttotal: 2m 43s\tremaining: 3m 23s\n",
      "445:\tlearn: 0.1152572\ttotal: 2m 43s\tremaining: 3m 23s\n",
      "446:\tlearn: 0.1152307\ttotal: 2m 44s\tremaining: 3m 22s\n",
      "447:\tlearn: 0.1152230\ttotal: 2m 44s\tremaining: 3m 22s\n",
      "448:\tlearn: 0.1152018\ttotal: 2m 44s\tremaining: 3m 22s\n",
      "449:\tlearn: 0.1151914\ttotal: 2m 44s\tremaining: 3m 21s\n",
      "450:\tlearn: 0.1151710\ttotal: 2m 45s\tremaining: 3m 21s\n",
      "451:\tlearn: 0.1151491\ttotal: 2m 45s\tremaining: 3m 20s\n",
      "452:\tlearn: 0.1151329\ttotal: 2m 45s\tremaining: 3m 20s\n",
      "453:\tlearn: 0.1151237\ttotal: 2m 46s\tremaining: 3m 19s\n",
      "454:\tlearn: 0.1150891\ttotal: 2m 46s\tremaining: 3m 19s\n",
      "455:\tlearn: 0.1150758\ttotal: 2m 46s\tremaining: 3m 18s\n",
      "456:\tlearn: 0.1150560\ttotal: 2m 47s\tremaining: 3m 18s\n",
      "457:\tlearn: 0.1150427\ttotal: 2m 47s\tremaining: 3m 18s\n",
      "458:\tlearn: 0.1150305\ttotal: 2m 47s\tremaining: 3m 17s\n",
      "459:\tlearn: 0.1150187\ttotal: 2m 48s\tremaining: 3m 17s\n",
      "460:\tlearn: 0.1150010\ttotal: 2m 48s\tremaining: 3m 16s\n",
      "461:\tlearn: 0.1149902\ttotal: 2m 48s\tremaining: 3m 16s\n",
      "462:\tlearn: 0.1149731\ttotal: 2m 48s\tremaining: 3m 15s\n",
      "463:\tlearn: 0.1149567\ttotal: 2m 49s\tremaining: 3m 15s\n",
      "464:\tlearn: 0.1149268\ttotal: 2m 49s\tremaining: 3m 15s\n",
      "465:\tlearn: 0.1148767\ttotal: 2m 49s\tremaining: 3m 14s\n",
      "466:\tlearn: 0.1148635\ttotal: 2m 50s\tremaining: 3m 14s\n",
      "467:\tlearn: 0.1148207\ttotal: 2m 50s\tremaining: 3m 14s\n",
      "468:\tlearn: 0.1147956\ttotal: 2m 51s\tremaining: 3m 14s\n",
      "469:\tlearn: 0.1147712\ttotal: 2m 52s\tremaining: 3m 14s\n",
      "470:\tlearn: 0.1147489\ttotal: 2m 52s\tremaining: 3m 14s\n",
      "471:\tlearn: 0.1147263\ttotal: 2m 53s\tremaining: 3m 13s\n",
      "472:\tlearn: 0.1146865\ttotal: 2m 54s\tremaining: 3m 13s\n",
      "473:\tlearn: 0.1146690\ttotal: 2m 54s\tremaining: 3m 13s\n",
      "474:\tlearn: 0.1146576\ttotal: 2m 54s\tremaining: 3m 13s\n",
      "475:\tlearn: 0.1146318\ttotal: 2m 55s\tremaining: 3m 12s\n",
      "476:\tlearn: 0.1145940\ttotal: 2m 55s\tremaining: 3m 12s\n",
      "477:\tlearn: 0.1145563\ttotal: 2m 55s\tremaining: 3m 11s\n",
      "478:\tlearn: 0.1145387\ttotal: 2m 56s\tremaining: 3m 11s\n",
      "479:\tlearn: 0.1145201\ttotal: 2m 56s\tremaining: 3m 11s\n",
      "480:\tlearn: 0.1145096\ttotal: 2m 56s\tremaining: 3m 10s\n",
      "481:\tlearn: 0.1144787\ttotal: 2m 56s\tremaining: 3m 10s\n",
      "482:\tlearn: 0.1144371\ttotal: 2m 57s\tremaining: 3m 9s\n",
      "483:\tlearn: 0.1144127\ttotal: 2m 57s\tremaining: 3m 9s\n",
      "484:\tlearn: 0.1144006\ttotal: 2m 57s\tremaining: 3m 8s\n",
      "485:\tlearn: 0.1143858\ttotal: 2m 58s\tremaining: 3m 8s\n",
      "486:\tlearn: 0.1143700\ttotal: 2m 58s\tremaining: 3m 8s\n",
      "487:\tlearn: 0.1143575\ttotal: 2m 58s\tremaining: 3m 7s\n",
      "488:\tlearn: 0.1143461\ttotal: 2m 59s\tremaining: 3m 7s\n",
      "489:\tlearn: 0.1143148\ttotal: 2m 59s\tremaining: 3m 6s\n",
      "490:\tlearn: 0.1142998\ttotal: 2m 59s\tremaining: 3m 6s\n",
      "491:\tlearn: 0.1142759\ttotal: 3m\tremaining: 3m 5s\n",
      "492:\tlearn: 0.1142670\ttotal: 3m\tremaining: 3m 5s\n",
      "493:\tlearn: 0.1142423\ttotal: 3m\tremaining: 3m 5s\n",
      "494:\tlearn: 0.1142213\ttotal: 3m 1s\tremaining: 3m 4s\n",
      "495:\tlearn: 0.1142043\ttotal: 3m 1s\tremaining: 3m 4s\n",
      "496:\tlearn: 0.1141937\ttotal: 3m 1s\tremaining: 3m 3s\n",
      "497:\tlearn: 0.1141338\ttotal: 3m 2s\tremaining: 3m 3s\n",
      "498:\tlearn: 0.1141272\ttotal: 3m 2s\tremaining: 3m 3s\n",
      "499:\tlearn: 0.1141072\ttotal: 3m 2s\tremaining: 3m 2s\n",
      "500:\tlearn: 0.1140863\ttotal: 3m 2s\tremaining: 3m 2s\n",
      "501:\tlearn: 0.1140743\ttotal: 3m 3s\tremaining: 3m 1s\n",
      "502:\tlearn: 0.1140659\ttotal: 3m 3s\tremaining: 3m 1s\n",
      "503:\tlearn: 0.1140282\ttotal: 3m 3s\tremaining: 3m\n",
      "504:\tlearn: 0.1139802\ttotal: 3m 4s\tremaining: 3m\n",
      "505:\tlearn: 0.1139694\ttotal: 3m 4s\tremaining: 3m\n",
      "506:\tlearn: 0.1139173\ttotal: 3m 4s\tremaining: 2m 59s\n",
      "507:\tlearn: 0.1138909\ttotal: 3m 5s\tremaining: 2m 59s\n",
      "508:\tlearn: 0.1138860\ttotal: 3m 5s\tremaining: 2m 59s\n",
      "509:\tlearn: 0.1138766\ttotal: 3m 6s\tremaining: 2m 59s\n",
      "510:\tlearn: 0.1138575\ttotal: 3m 7s\tremaining: 2m 59s\n",
      "511:\tlearn: 0.1138135\ttotal: 3m 7s\tremaining: 2m 59s\n",
      "512:\tlearn: 0.1137710\ttotal: 3m 8s\tremaining: 2m 58s\n",
      "513:\tlearn: 0.1137636\ttotal: 3m 8s\tremaining: 2m 58s\n",
      "514:\tlearn: 0.1137486\ttotal: 3m 9s\tremaining: 2m 58s\n",
      "515:\tlearn: 0.1137371\ttotal: 3m 9s\tremaining: 2m 57s\n",
      "516:\tlearn: 0.1137189\ttotal: 3m 10s\tremaining: 2m 57s\n",
      "517:\tlearn: 0.1136996\ttotal: 3m 10s\tremaining: 2m 57s\n",
      "518:\tlearn: 0.1136867\ttotal: 3m 10s\tremaining: 2m 56s\n",
      "519:\tlearn: 0.1136689\ttotal: 3m 10s\tremaining: 2m 56s\n",
      "520:\tlearn: 0.1136548\ttotal: 3m 11s\tremaining: 2m 55s\n",
      "521:\tlearn: 0.1136357\ttotal: 3m 11s\tremaining: 2m 55s\n",
      "522:\tlearn: 0.1136167\ttotal: 3m 11s\tremaining: 2m 55s\n",
      "523:\tlearn: 0.1135910\ttotal: 3m 12s\tremaining: 2m 54s\n",
      "524:\tlearn: 0.1135341\ttotal: 3m 12s\tremaining: 2m 54s\n",
      "525:\tlearn: 0.1135125\ttotal: 3m 12s\tremaining: 2m 53s\n",
      "526:\tlearn: 0.1134946\ttotal: 3m 13s\tremaining: 2m 53s\n",
      "527:\tlearn: 0.1134835\ttotal: 3m 13s\tremaining: 2m 53s\n",
      "528:\tlearn: 0.1134479\ttotal: 3m 13s\tremaining: 2m 52s\n",
      "529:\tlearn: 0.1134296\ttotal: 3m 14s\tremaining: 2m 52s\n",
      "530:\tlearn: 0.1133901\ttotal: 3m 14s\tremaining: 2m 51s\n",
      "531:\tlearn: 0.1133783\ttotal: 3m 14s\tremaining: 2m 51s\n",
      "532:\tlearn: 0.1133664\ttotal: 3m 15s\tremaining: 2m 51s\n",
      "533:\tlearn: 0.1133353\ttotal: 3m 15s\tremaining: 2m 50s\n",
      "534:\tlearn: 0.1133196\ttotal: 3m 15s\tremaining: 2m 50s\n",
      "535:\tlearn: 0.1133105\ttotal: 3m 16s\tremaining: 2m 49s\n",
      "536:\tlearn: 0.1133057\ttotal: 3m 16s\tremaining: 2m 49s\n",
      "537:\tlearn: 0.1132784\ttotal: 3m 16s\tremaining: 2m 48s\n",
      "538:\tlearn: 0.1132702\ttotal: 3m 17s\tremaining: 2m 48s\n",
      "539:\tlearn: 0.1132530\ttotal: 3m 17s\tremaining: 2m 48s\n",
      "540:\tlearn: 0.1132376\ttotal: 3m 17s\tremaining: 2m 47s\n",
      "541:\tlearn: 0.1132154\ttotal: 3m 18s\tremaining: 2m 47s\n",
      "542:\tlearn: 0.1132006\ttotal: 3m 18s\tremaining: 2m 46s\n",
      "543:\tlearn: 0.1131825\ttotal: 3m 18s\tremaining: 2m 46s\n",
      "544:\tlearn: 0.1131680\ttotal: 3m 19s\tremaining: 2m 46s\n",
      "545:\tlearn: 0.1131597\ttotal: 3m 19s\tremaining: 2m 46s\n",
      "546:\tlearn: 0.1131499\ttotal: 3m 20s\tremaining: 2m 45s\n",
      "547:\tlearn: 0.1131371\ttotal: 3m 20s\tremaining: 2m 45s\n",
      "548:\tlearn: 0.1131263\ttotal: 3m 21s\tremaining: 2m 45s\n",
      "549:\tlearn: 0.1131103\ttotal: 3m 21s\tremaining: 2m 45s\n",
      "550:\tlearn: 0.1130857\ttotal: 3m 22s\tremaining: 2m 44s\n",
      "551:\tlearn: 0.1130699\ttotal: 3m 22s\tremaining: 2m 44s\n",
      "552:\tlearn: 0.1130574\ttotal: 3m 23s\tremaining: 2m 44s\n",
      "553:\tlearn: 0.1130415\ttotal: 3m 23s\tremaining: 2m 44s\n",
      "554:\tlearn: 0.1129908\ttotal: 3m 24s\tremaining: 2m 43s\n",
      "555:\tlearn: 0.1129748\ttotal: 3m 24s\tremaining: 2m 43s\n",
      "556:\tlearn: 0.1129398\ttotal: 3m 24s\tremaining: 2m 42s\n",
      "557:\tlearn: 0.1129124\ttotal: 3m 25s\tremaining: 2m 42s\n",
      "558:\tlearn: 0.1128891\ttotal: 3m 25s\tremaining: 2m 42s\n",
      "559:\tlearn: 0.1128486\ttotal: 3m 25s\tremaining: 2m 41s\n",
      "560:\tlearn: 0.1128099\ttotal: 3m 26s\tremaining: 2m 41s\n",
      "561:\tlearn: 0.1127388\ttotal: 3m 26s\tremaining: 2m 40s\n",
      "562:\tlearn: 0.1127286\ttotal: 3m 26s\tremaining: 2m 40s\n",
      "563:\tlearn: 0.1127180\ttotal: 3m 27s\tremaining: 2m 40s\n",
      "564:\tlearn: 0.1126953\ttotal: 3m 27s\tremaining: 2m 39s\n",
      "565:\tlearn: 0.1126883\ttotal: 3m 27s\tremaining: 2m 39s\n",
      "566:\tlearn: 0.1126553\ttotal: 3m 28s\tremaining: 2m 38s\n",
      "567:\tlearn: 0.1126477\ttotal: 3m 28s\tremaining: 2m 38s\n",
      "568:\tlearn: 0.1125739\ttotal: 3m 28s\tremaining: 2m 38s\n",
      "569:\tlearn: 0.1125466\ttotal: 3m 28s\tremaining: 2m 37s\n",
      "570:\tlearn: 0.1125360\ttotal: 3m 29s\tremaining: 2m 37s\n",
      "571:\tlearn: 0.1124495\ttotal: 3m 29s\tremaining: 2m 36s\n",
      "572:\tlearn: 0.1124307\ttotal: 3m 29s\tremaining: 2m 36s\n",
      "573:\tlearn: 0.1124076\ttotal: 3m 30s\tremaining: 2m 36s\n",
      "574:\tlearn: 0.1123994\ttotal: 3m 30s\tremaining: 2m 35s\n",
      "575:\tlearn: 0.1123908\ttotal: 3m 30s\tremaining: 2m 35s\n",
      "576:\tlearn: 0.1123416\ttotal: 3m 31s\tremaining: 2m 34s\n",
      "577:\tlearn: 0.1123199\ttotal: 3m 31s\tremaining: 2m 34s\n",
      "578:\tlearn: 0.1123034\ttotal: 3m 31s\tremaining: 2m 33s\n",
      "579:\tlearn: 0.1122887\ttotal: 3m 32s\tremaining: 2m 33s\n",
      "580:\tlearn: 0.1122778\ttotal: 3m 32s\tremaining: 2m 33s\n",
      "581:\tlearn: 0.1122657\ttotal: 3m 32s\tremaining: 2m 32s\n",
      "582:\tlearn: 0.1122559\ttotal: 3m 32s\tremaining: 2m 32s\n",
      "583:\tlearn: 0.1121960\ttotal: 3m 33s\tremaining: 2m 31s\n",
      "584:\tlearn: 0.1121848\ttotal: 3m 33s\tremaining: 2m 31s\n",
      "585:\tlearn: 0.1121712\ttotal: 3m 34s\tremaining: 2m 31s\n",
      "586:\tlearn: 0.1121478\ttotal: 3m 34s\tremaining: 2m 31s\n",
      "587:\tlearn: 0.1121278\ttotal: 3m 35s\tremaining: 2m 30s\n",
      "588:\tlearn: 0.1121105\ttotal: 3m 36s\tremaining: 2m 30s\n",
      "589:\tlearn: 0.1120943\ttotal: 3m 36s\tremaining: 2m 30s\n",
      "590:\tlearn: 0.1120832\ttotal: 3m 37s\tremaining: 2m 30s\n",
      "591:\tlearn: 0.1120632\ttotal: 3m 37s\tremaining: 2m 30s\n",
      "592:\tlearn: 0.1120439\ttotal: 3m 38s\tremaining: 2m 29s\n",
      "593:\tlearn: 0.1119927\ttotal: 3m 38s\tremaining: 2m 29s\n",
      "594:\tlearn: 0.1119631\ttotal: 3m 38s\tremaining: 2m 29s\n",
      "595:\tlearn: 0.1119540\ttotal: 3m 39s\tremaining: 2m 28s\n",
      "596:\tlearn: 0.1119438\ttotal: 3m 39s\tremaining: 2m 28s\n",
      "597:\tlearn: 0.1119328\ttotal: 3m 39s\tremaining: 2m 27s\n",
      "598:\tlearn: 0.1119159\ttotal: 3m 40s\tremaining: 2m 27s\n",
      "599:\tlearn: 0.1118904\ttotal: 3m 40s\tremaining: 2m 26s\n",
      "600:\tlearn: 0.1118804\ttotal: 3m 40s\tremaining: 2m 26s\n",
      "601:\tlearn: 0.1118699\ttotal: 3m 41s\tremaining: 2m 26s\n",
      "602:\tlearn: 0.1118533\ttotal: 3m 41s\tremaining: 2m 25s\n",
      "603:\tlearn: 0.1118413\ttotal: 3m 41s\tremaining: 2m 25s\n",
      "604:\tlearn: 0.1118214\ttotal: 3m 42s\tremaining: 2m 25s\n",
      "605:\tlearn: 0.1118070\ttotal: 3m 42s\tremaining: 2m 24s\n",
      "606:\tlearn: 0.1117927\ttotal: 3m 42s\tremaining: 2m 24s\n",
      "607:\tlearn: 0.1117820\ttotal: 3m 43s\tremaining: 2m 23s\n",
      "608:\tlearn: 0.1117673\ttotal: 3m 43s\tremaining: 2m 23s\n",
      "609:\tlearn: 0.1117597\ttotal: 3m 43s\tremaining: 2m 23s\n",
      "610:\tlearn: 0.1117447\ttotal: 3m 44s\tremaining: 2m 22s\n",
      "611:\tlearn: 0.1117265\ttotal: 3m 44s\tremaining: 2m 22s\n",
      "612:\tlearn: 0.1117238\ttotal: 3m 44s\tremaining: 2m 21s\n",
      "613:\tlearn: 0.1117126\ttotal: 3m 44s\tremaining: 2m 21s\n",
      "614:\tlearn: 0.1117057\ttotal: 3m 45s\tremaining: 2m 20s\n",
      "615:\tlearn: 0.1116808\ttotal: 3m 45s\tremaining: 2m 20s\n",
      "616:\tlearn: 0.1116702\ttotal: 3m 45s\tremaining: 2m 20s\n",
      "617:\tlearn: 0.1116380\ttotal: 3m 46s\tremaining: 2m 19s\n",
      "618:\tlearn: 0.1116159\ttotal: 3m 46s\tremaining: 2m 19s\n",
      "619:\tlearn: 0.1116033\ttotal: 3m 46s\tremaining: 2m 18s\n",
      "620:\tlearn: 0.1115929\ttotal: 3m 46s\tremaining: 2m 18s\n",
      "621:\tlearn: 0.1115759\ttotal: 3m 47s\tremaining: 2m 18s\n",
      "622:\tlearn: 0.1115174\ttotal: 3m 47s\tremaining: 2m 17s\n",
      "623:\tlearn: 0.1115052\ttotal: 3m 47s\tremaining: 2m 17s\n",
      "624:\tlearn: 0.1114923\ttotal: 3m 48s\tremaining: 2m 17s\n",
      "625:\tlearn: 0.1114839\ttotal: 3m 48s\tremaining: 2m 16s\n",
      "626:\tlearn: 0.1114758\ttotal: 3m 49s\tremaining: 2m 16s\n",
      "627:\tlearn: 0.1114640\ttotal: 3m 49s\tremaining: 2m 16s\n",
      "628:\tlearn: 0.1114609\ttotal: 3m 50s\tremaining: 2m 15s\n",
      "629:\tlearn: 0.1114564\ttotal: 3m 51s\tremaining: 2m 15s\n",
      "630:\tlearn: 0.1114451\ttotal: 3m 51s\tremaining: 2m 15s\n",
      "631:\tlearn: 0.1114147\ttotal: 3m 52s\tremaining: 2m 15s\n",
      "632:\tlearn: 0.1114029\ttotal: 3m 52s\tremaining: 2m 14s\n",
      "633:\tlearn: 0.1113836\ttotal: 3m 52s\tremaining: 2m 14s\n",
      "634:\tlearn: 0.1113746\ttotal: 3m 53s\tremaining: 2m 14s\n",
      "635:\tlearn: 0.1113619\ttotal: 3m 53s\tremaining: 2m 13s\n",
      "636:\tlearn: 0.1113465\ttotal: 3m 53s\tremaining: 2m 13s\n",
      "637:\tlearn: 0.1113253\ttotal: 3m 54s\tremaining: 2m 12s\n",
      "638:\tlearn: 0.1113122\ttotal: 3m 54s\tremaining: 2m 12s\n",
      "639:\tlearn: 0.1112975\ttotal: 3m 54s\tremaining: 2m 12s\n",
      "640:\tlearn: 0.1112811\ttotal: 3m 55s\tremaining: 2m 11s\n",
      "641:\tlearn: 0.1112668\ttotal: 3m 55s\tremaining: 2m 11s\n",
      "642:\tlearn: 0.1112488\ttotal: 3m 55s\tremaining: 2m 10s\n",
      "643:\tlearn: 0.1112382\ttotal: 3m 56s\tremaining: 2m 10s\n",
      "644:\tlearn: 0.1112076\ttotal: 3m 56s\tremaining: 2m 10s\n",
      "645:\tlearn: 0.1111958\ttotal: 3m 56s\tremaining: 2m 9s\n",
      "646:\tlearn: 0.1111839\ttotal: 3m 57s\tremaining: 2m 9s\n",
      "647:\tlearn: 0.1111724\ttotal: 3m 57s\tremaining: 2m 9s\n",
      "648:\tlearn: 0.1111631\ttotal: 3m 57s\tremaining: 2m 8s\n",
      "649:\tlearn: 0.1111479\ttotal: 3m 58s\tremaining: 2m 8s\n",
      "650:\tlearn: 0.1111344\ttotal: 3m 58s\tremaining: 2m 7s\n",
      "651:\tlearn: 0.1110956\ttotal: 3m 58s\tremaining: 2m 7s\n",
      "652:\tlearn: 0.1110834\ttotal: 3m 59s\tremaining: 2m 7s\n",
      "653:\tlearn: 0.1110703\ttotal: 3m 59s\tremaining: 2m 6s\n",
      "654:\tlearn: 0.1110602\ttotal: 3m 59s\tremaining: 2m 6s\n",
      "655:\tlearn: 0.1110449\ttotal: 4m\tremaining: 2m 5s\n",
      "656:\tlearn: 0.1110407\ttotal: 4m\tremaining: 2m 5s\n",
      "657:\tlearn: 0.1110329\ttotal: 4m\tremaining: 2m 5s\n",
      "658:\tlearn: 0.1110178\ttotal: 4m\tremaining: 2m 4s\n",
      "659:\tlearn: 0.1110083\ttotal: 4m 1s\tremaining: 2m 4s\n",
      "660:\tlearn: 0.1109916\ttotal: 4m 1s\tremaining: 2m 3s\n",
      "661:\tlearn: 0.1109783\ttotal: 4m 1s\tremaining: 2m 3s\n",
      "662:\tlearn: 0.1109619\ttotal: 4m 2s\tremaining: 2m 3s\n",
      "663:\tlearn: 0.1109510\ttotal: 4m 2s\tremaining: 2m 2s\n",
      "664:\tlearn: 0.1108680\ttotal: 4m 2s\tremaining: 2m 2s\n",
      "665:\tlearn: 0.1108493\ttotal: 4m 3s\tremaining: 2m 2s\n",
      "666:\tlearn: 0.1108089\ttotal: 4m 3s\tremaining: 2m 1s\n",
      "667:\tlearn: 0.1107950\ttotal: 4m 4s\tremaining: 2m 1s\n",
      "668:\tlearn: 0.1107844\ttotal: 4m 5s\tremaining: 2m 1s\n",
      "669:\tlearn: 0.1107765\ttotal: 4m 5s\tremaining: 2m\n",
      "670:\tlearn: 0.1107609\ttotal: 4m 6s\tremaining: 2m\n",
      "671:\tlearn: 0.1107502\ttotal: 4m 6s\tremaining: 2m\n",
      "672:\tlearn: 0.1107426\ttotal: 4m 7s\tremaining: 2m\n",
      "673:\tlearn: 0.1107302\ttotal: 4m 7s\tremaining: 1m 59s\n",
      "674:\tlearn: 0.1107206\ttotal: 4m 8s\tremaining: 1m 59s\n",
      "675:\tlearn: 0.1107014\ttotal: 4m 8s\tremaining: 1m 59s\n",
      "676:\tlearn: 0.1106868\ttotal: 4m 8s\tremaining: 1m 58s\n",
      "677:\tlearn: 0.1106744\ttotal: 4m 8s\tremaining: 1m 58s\n",
      "678:\tlearn: 0.1106567\ttotal: 4m 9s\tremaining: 1m 57s\n",
      "679:\tlearn: 0.1106302\ttotal: 4m 9s\tremaining: 1m 57s\n",
      "680:\tlearn: 0.1106183\ttotal: 4m 9s\tremaining: 1m 57s\n",
      "681:\tlearn: 0.1106097\ttotal: 4m 10s\tremaining: 1m 56s\n",
      "682:\tlearn: 0.1105908\ttotal: 4m 10s\tremaining: 1m 56s\n",
      "683:\tlearn: 0.1105841\ttotal: 4m 10s\tremaining: 1m 55s\n",
      "684:\tlearn: 0.1105403\ttotal: 4m 11s\tremaining: 1m 55s\n",
      "685:\tlearn: 0.1105294\ttotal: 4m 11s\tremaining: 1m 55s\n",
      "686:\tlearn: 0.1104894\ttotal: 4m 11s\tremaining: 1m 54s\n",
      "687:\tlearn: 0.1104602\ttotal: 4m 12s\tremaining: 1m 54s\n",
      "688:\tlearn: 0.1104534\ttotal: 4m 12s\tremaining: 1m 53s\n",
      "689:\tlearn: 0.1104411\ttotal: 4m 12s\tremaining: 1m 53s\n",
      "690:\tlearn: 0.1104323\ttotal: 4m 13s\tremaining: 1m 53s\n",
      "691:\tlearn: 0.1104213\ttotal: 4m 13s\tremaining: 1m 52s\n",
      "692:\tlearn: 0.1104091\ttotal: 4m 13s\tremaining: 1m 52s\n",
      "693:\tlearn: 0.1104020\ttotal: 4m 13s\tremaining: 1m 51s\n",
      "694:\tlearn: 0.1103771\ttotal: 4m 14s\tremaining: 1m 51s\n",
      "695:\tlearn: 0.1103681\ttotal: 4m 14s\tremaining: 1m 51s\n",
      "696:\tlearn: 0.1103553\ttotal: 4m 14s\tremaining: 1m 50s\n",
      "697:\tlearn: 0.1103434\ttotal: 4m 15s\tremaining: 1m 50s\n",
      "698:\tlearn: 0.1103350\ttotal: 4m 15s\tremaining: 1m 50s\n",
      "699:\tlearn: 0.1103163\ttotal: 4m 15s\tremaining: 1m 49s\n",
      "700:\tlearn: 0.1103050\ttotal: 4m 16s\tremaining: 1m 49s\n",
      "701:\tlearn: 0.1102767\ttotal: 4m 16s\tremaining: 1m 48s\n",
      "702:\tlearn: 0.1102609\ttotal: 4m 16s\tremaining: 1m 48s\n",
      "703:\tlearn: 0.1102427\ttotal: 4m 16s\tremaining: 1m 48s\n",
      "704:\tlearn: 0.1102257\ttotal: 4m 17s\tremaining: 1m 47s\n",
      "705:\tlearn: 0.1102149\ttotal: 4m 17s\tremaining: 1m 47s\n",
      "706:\tlearn: 0.1101883\ttotal: 4m 18s\tremaining: 1m 47s\n",
      "707:\tlearn: 0.1101712\ttotal: 4m 18s\tremaining: 1m 46s\n",
      "708:\tlearn: 0.1101623\ttotal: 4m 19s\tremaining: 1m 46s\n",
      "709:\tlearn: 0.1101466\ttotal: 4m 20s\tremaining: 1m 46s\n",
      "710:\tlearn: 0.1101306\ttotal: 4m 20s\tremaining: 1m 45s\n",
      "711:\tlearn: 0.1101174\ttotal: 4m 21s\tremaining: 1m 45s\n",
      "712:\tlearn: 0.1101093\ttotal: 4m 21s\tremaining: 1m 45s\n",
      "713:\tlearn: 0.1100928\ttotal: 4m 22s\tremaining: 1m 44s\n",
      "714:\tlearn: 0.1100819\ttotal: 4m 22s\tremaining: 1m 44s\n",
      "715:\tlearn: 0.1100693\ttotal: 4m 22s\tremaining: 1m 44s\n",
      "716:\tlearn: 0.1100344\ttotal: 4m 23s\tremaining: 1m 43s\n",
      "717:\tlearn: 0.1100214\ttotal: 4m 23s\tremaining: 1m 43s\n",
      "718:\tlearn: 0.1100064\ttotal: 4m 23s\tremaining: 1m 43s\n",
      "719:\tlearn: 0.1099949\ttotal: 4m 24s\tremaining: 1m 42s\n",
      "720:\tlearn: 0.1099864\ttotal: 4m 24s\tremaining: 1m 42s\n",
      "721:\tlearn: 0.1099500\ttotal: 4m 24s\tremaining: 1m 41s\n",
      "722:\tlearn: 0.1098956\ttotal: 4m 24s\tremaining: 1m 41s\n",
      "723:\tlearn: 0.1098887\ttotal: 4m 25s\tremaining: 1m 41s\n",
      "724:\tlearn: 0.1098799\ttotal: 4m 25s\tremaining: 1m 40s\n",
      "725:\tlearn: 0.1098445\ttotal: 4m 25s\tremaining: 1m 40s\n",
      "726:\tlearn: 0.1098096\ttotal: 4m 26s\tremaining: 1m 39s\n",
      "727:\tlearn: 0.1097865\ttotal: 4m 26s\tremaining: 1m 39s\n",
      "728:\tlearn: 0.1097753\ttotal: 4m 26s\tremaining: 1m 39s\n",
      "729:\tlearn: 0.1097637\ttotal: 4m 27s\tremaining: 1m 38s\n",
      "730:\tlearn: 0.1097520\ttotal: 4m 27s\tremaining: 1m 38s\n",
      "731:\tlearn: 0.1097355\ttotal: 4m 27s\tremaining: 1m 38s\n",
      "732:\tlearn: 0.1097012\ttotal: 4m 28s\tremaining: 1m 37s\n",
      "733:\tlearn: 0.1096926\ttotal: 4m 28s\tremaining: 1m 37s\n",
      "734:\tlearn: 0.1096784\ttotal: 4m 28s\tremaining: 1m 36s\n",
      "735:\tlearn: 0.1096694\ttotal: 4m 28s\tremaining: 1m 36s\n",
      "736:\tlearn: 0.1096626\ttotal: 4m 29s\tremaining: 1m 36s\n",
      "737:\tlearn: 0.1096303\ttotal: 4m 29s\tremaining: 1m 35s\n",
      "738:\tlearn: 0.1095969\ttotal: 4m 29s\tremaining: 1m 35s\n",
      "739:\tlearn: 0.1095850\ttotal: 4m 30s\tremaining: 1m 34s\n",
      "740:\tlearn: 0.1095703\ttotal: 4m 30s\tremaining: 1m 34s\n",
      "741:\tlearn: 0.1095614\ttotal: 4m 30s\tremaining: 1m 34s\n",
      "742:\tlearn: 0.1095508\ttotal: 4m 31s\tremaining: 1m 33s\n",
      "743:\tlearn: 0.1095404\ttotal: 4m 31s\tremaining: 1m 33s\n",
      "744:\tlearn: 0.1095192\ttotal: 4m 31s\tremaining: 1m 32s\n",
      "745:\tlearn: 0.1095080\ttotal: 4m 32s\tremaining: 1m 32s\n",
      "746:\tlearn: 0.1094710\ttotal: 4m 32s\tremaining: 1m 32s\n",
      "747:\tlearn: 0.1094637\ttotal: 4m 33s\tremaining: 1m 31s\n",
      "748:\tlearn: 0.1094563\ttotal: 4m 33s\tremaining: 1m 31s\n",
      "749:\tlearn: 0.1094491\ttotal: 4m 34s\tremaining: 1m 31s\n",
      "750:\tlearn: 0.1094365\ttotal: 4m 34s\tremaining: 1m 31s\n",
      "751:\tlearn: 0.1094177\ttotal: 4m 35s\tremaining: 1m 30s\n",
      "752:\tlearn: 0.1094035\ttotal: 4m 35s\tremaining: 1m 30s\n",
      "753:\tlearn: 0.1093974\ttotal: 4m 36s\tremaining: 1m 30s\n",
      "754:\tlearn: 0.1093886\ttotal: 4m 36s\tremaining: 1m 29s\n",
      "755:\tlearn: 0.1093585\ttotal: 4m 37s\tremaining: 1m 29s\n",
      "756:\tlearn: 0.1093467\ttotal: 4m 37s\tremaining: 1m 29s\n",
      "757:\tlearn: 0.1093353\ttotal: 4m 37s\tremaining: 1m 28s\n",
      "758:\tlearn: 0.1093123\ttotal: 4m 37s\tremaining: 1m 28s\n",
      "759:\tlearn: 0.1092944\ttotal: 4m 38s\tremaining: 1m 27s\n",
      "760:\tlearn: 0.1092883\ttotal: 4m 38s\tremaining: 1m 27s\n",
      "761:\tlearn: 0.1092745\ttotal: 4m 38s\tremaining: 1m 27s\n",
      "762:\tlearn: 0.1092728\ttotal: 4m 39s\tremaining: 1m 26s\n",
      "763:\tlearn: 0.1092608\ttotal: 4m 39s\tremaining: 1m 26s\n",
      "764:\tlearn: 0.1092462\ttotal: 4m 39s\tremaining: 1m 25s\n",
      "765:\tlearn: 0.1092310\ttotal: 4m 40s\tremaining: 1m 25s\n",
      "766:\tlearn: 0.1092215\ttotal: 4m 40s\tremaining: 1m 25s\n",
      "767:\tlearn: 0.1091967\ttotal: 4m 40s\tremaining: 1m 24s\n",
      "768:\tlearn: 0.1091919\ttotal: 4m 41s\tremaining: 1m 24s\n",
      "769:\tlearn: 0.1091637\ttotal: 4m 41s\tremaining: 1m 24s\n",
      "770:\tlearn: 0.1091539\ttotal: 4m 41s\tremaining: 1m 23s\n",
      "771:\tlearn: 0.1091490\ttotal: 4m 41s\tremaining: 1m 23s\n",
      "772:\tlearn: 0.1091365\ttotal: 4m 42s\tremaining: 1m 22s\n",
      "773:\tlearn: 0.1091254\ttotal: 4m 42s\tremaining: 1m 22s\n",
      "774:\tlearn: 0.1091172\ttotal: 4m 42s\tremaining: 1m 22s\n",
      "775:\tlearn: 0.1090876\ttotal: 4m 43s\tremaining: 1m 21s\n",
      "776:\tlearn: 0.1090762\ttotal: 4m 43s\tremaining: 1m 21s\n",
      "777:\tlearn: 0.1090348\ttotal: 4m 43s\tremaining: 1m 20s\n",
      "778:\tlearn: 0.1089650\ttotal: 4m 44s\tremaining: 1m 20s\n",
      "779:\tlearn: 0.1089135\ttotal: 4m 44s\tremaining: 1m 20s\n",
      "780:\tlearn: 0.1089009\ttotal: 4m 44s\tremaining: 1m 19s\n",
      "781:\tlearn: 0.1088893\ttotal: 4m 45s\tremaining: 1m 19s\n",
      "782:\tlearn: 0.1088501\ttotal: 4m 45s\tremaining: 1m 19s\n",
      "783:\tlearn: 0.1088421\ttotal: 4m 45s\tremaining: 1m 18s\n",
      "784:\tlearn: 0.1088334\ttotal: 4m 45s\tremaining: 1m 18s\n",
      "785:\tlearn: 0.1088213\ttotal: 4m 46s\tremaining: 1m 17s\n",
      "786:\tlearn: 0.1088113\ttotal: 4m 46s\tremaining: 1m 17s\n",
      "787:\tlearn: 0.1087993\ttotal: 4m 47s\tremaining: 1m 17s\n",
      "788:\tlearn: 0.1087922\ttotal: 4m 47s\tremaining: 1m 16s\n",
      "789:\tlearn: 0.1087881\ttotal: 4m 48s\tremaining: 1m 16s\n",
      "790:\tlearn: 0.1087711\ttotal: 4m 48s\tremaining: 1m 16s\n",
      "791:\tlearn: 0.1087333\ttotal: 4m 49s\tremaining: 1m 15s\n",
      "792:\tlearn: 0.1087110\ttotal: 4m 49s\tremaining: 1m 15s\n",
      "793:\tlearn: 0.1086794\ttotal: 4m 50s\tremaining: 1m 15s\n",
      "794:\tlearn: 0.1086616\ttotal: 4m 51s\tremaining: 1m 15s\n",
      "795:\tlearn: 0.1086509\ttotal: 4m 51s\tremaining: 1m 14s\n",
      "796:\tlearn: 0.1086438\ttotal: 4m 51s\tremaining: 1m 14s\n",
      "797:\tlearn: 0.1086375\ttotal: 4m 52s\tremaining: 1m 13s\n",
      "798:\tlearn: 0.1086139\ttotal: 4m 52s\tremaining: 1m 13s\n",
      "799:\tlearn: 0.1086067\ttotal: 4m 52s\tremaining: 1m 13s\n",
      "800:\tlearn: 0.1085979\ttotal: 4m 52s\tremaining: 1m 12s\n",
      "801:\tlearn: 0.1085909\ttotal: 4m 53s\tremaining: 1m 12s\n",
      "802:\tlearn: 0.1085816\ttotal: 4m 53s\tremaining: 1m 12s\n",
      "803:\tlearn: 0.1085686\ttotal: 4m 53s\tremaining: 1m 11s\n",
      "804:\tlearn: 0.1085605\ttotal: 4m 54s\tremaining: 1m 11s\n",
      "805:\tlearn: 0.1085385\ttotal: 4m 54s\tremaining: 1m 10s\n",
      "806:\tlearn: 0.1085111\ttotal: 4m 54s\tremaining: 1m 10s\n",
      "807:\tlearn: 0.1085013\ttotal: 4m 55s\tremaining: 1m 10s\n",
      "808:\tlearn: 0.1084934\ttotal: 4m 55s\tremaining: 1m 9s\n",
      "809:\tlearn: 0.1084865\ttotal: 4m 55s\tremaining: 1m 9s\n",
      "810:\tlearn: 0.1084797\ttotal: 4m 55s\tremaining: 1m 8s\n",
      "811:\tlearn: 0.1084752\ttotal: 4m 56s\tremaining: 1m 8s\n",
      "812:\tlearn: 0.1084636\ttotal: 4m 56s\tremaining: 1m 8s\n",
      "813:\tlearn: 0.1084519\ttotal: 4m 56s\tremaining: 1m 7s\n",
      "814:\tlearn: 0.1084435\ttotal: 4m 57s\tremaining: 1m 7s\n",
      "815:\tlearn: 0.1084369\ttotal: 4m 57s\tremaining: 1m 7s\n",
      "816:\tlearn: 0.1084207\ttotal: 4m 57s\tremaining: 1m 6s\n",
      "817:\tlearn: 0.1084136\ttotal: 4m 57s\tremaining: 1m 6s\n",
      "818:\tlearn: 0.1084049\ttotal: 4m 58s\tremaining: 1m 5s\n",
      "819:\tlearn: 0.1083954\ttotal: 4m 58s\tremaining: 1m 5s\n",
      "820:\tlearn: 0.1083507\ttotal: 4m 58s\tremaining: 1m 5s\n",
      "821:\tlearn: 0.1083451\ttotal: 4m 59s\tremaining: 1m 4s\n",
      "822:\tlearn: 0.1083326\ttotal: 4m 59s\tremaining: 1m 4s\n",
      "823:\tlearn: 0.1083159\ttotal: 4m 59s\tremaining: 1m 4s\n",
      "824:\tlearn: 0.1083027\ttotal: 5m\tremaining: 1m 3s\n",
      "825:\tlearn: 0.1082947\ttotal: 5m\tremaining: 1m 3s\n",
      "826:\tlearn: 0.1082844\ttotal: 5m\tremaining: 1m 2s\n",
      "827:\tlearn: 0.1082701\ttotal: 5m\tremaining: 1m 2s\n",
      "828:\tlearn: 0.1082606\ttotal: 5m 1s\tremaining: 1m 2s\n",
      "829:\tlearn: 0.1082477\ttotal: 5m 1s\tremaining: 1m 1s\n",
      "830:\tlearn: 0.1082386\ttotal: 5m 2s\tremaining: 1m 1s\n",
      "831:\tlearn: 0.1082323\ttotal: 5m 2s\tremaining: 1m 1s\n",
      "832:\tlearn: 0.1082224\ttotal: 5m 3s\tremaining: 1m\n",
      "833:\tlearn: 0.1081991\ttotal: 5m 4s\tremaining: 1m\n",
      "834:\tlearn: 0.1081932\ttotal: 5m 4s\tremaining: 1m\n",
      "835:\tlearn: 0.1081798\ttotal: 5m 5s\tremaining: 59.9s\n",
      "836:\tlearn: 0.1081694\ttotal: 5m 5s\tremaining: 59.5s\n",
      "837:\tlearn: 0.1081515\ttotal: 5m 6s\tremaining: 59.2s\n",
      "838:\tlearn: 0.1081383\ttotal: 5m 6s\tremaining: 58.8s\n",
      "839:\tlearn: 0.1081272\ttotal: 5m 6s\tremaining: 58.4s\n",
      "840:\tlearn: 0.1080965\ttotal: 5m 7s\tremaining: 58.1s\n",
      "841:\tlearn: 0.1080866\ttotal: 5m 7s\tremaining: 57.7s\n",
      "842:\tlearn: 0.1080687\ttotal: 5m 7s\tremaining: 57.3s\n",
      "843:\tlearn: 0.1080539\ttotal: 5m 7s\tremaining: 56.9s\n",
      "844:\tlearn: 0.1080447\ttotal: 5m 8s\tremaining: 56.6s\n",
      "845:\tlearn: 0.1080309\ttotal: 5m 8s\tremaining: 56.2s\n",
      "846:\tlearn: 0.1080205\ttotal: 5m 8s\tremaining: 55.8s\n",
      "847:\tlearn: 0.1080130\ttotal: 5m 9s\tremaining: 55.4s\n",
      "848:\tlearn: 0.1079995\ttotal: 5m 9s\tremaining: 55.1s\n",
      "849:\tlearn: 0.1079802\ttotal: 5m 9s\tremaining: 54.7s\n",
      "850:\tlearn: 0.1079741\ttotal: 5m 10s\tremaining: 54.3s\n",
      "851:\tlearn: 0.1079654\ttotal: 5m 10s\tremaining: 53.9s\n",
      "852:\tlearn: 0.1079351\ttotal: 5m 10s\tremaining: 53.6s\n",
      "853:\tlearn: 0.1079247\ttotal: 5m 11s\tremaining: 53.2s\n",
      "854:\tlearn: 0.1079167\ttotal: 5m 11s\tremaining: 52.8s\n",
      "855:\tlearn: 0.1079115\ttotal: 5m 11s\tremaining: 52.4s\n",
      "856:\tlearn: 0.1079050\ttotal: 5m 11s\tremaining: 52.1s\n",
      "857:\tlearn: 0.1078985\ttotal: 5m 12s\tremaining: 51.7s\n",
      "858:\tlearn: 0.1078889\ttotal: 5m 12s\tremaining: 51.3s\n",
      "859:\tlearn: 0.1078792\ttotal: 5m 12s\tremaining: 50.9s\n",
      "860:\tlearn: 0.1078699\ttotal: 5m 13s\tremaining: 50.6s\n",
      "861:\tlearn: 0.1078619\ttotal: 5m 13s\tremaining: 50.2s\n",
      "862:\tlearn: 0.1078482\ttotal: 5m 13s\tremaining: 49.8s\n",
      "863:\tlearn: 0.1078402\ttotal: 5m 14s\tremaining: 49.4s\n",
      "864:\tlearn: 0.1078348\ttotal: 5m 14s\tremaining: 49.1s\n",
      "865:\tlearn: 0.1078226\ttotal: 5m 14s\tremaining: 48.7s\n",
      "866:\tlearn: 0.1078208\ttotal: 5m 15s\tremaining: 48.3s\n",
      "867:\tlearn: 0.1077949\ttotal: 5m 15s\tremaining: 48s\n",
      "868:\tlearn: 0.1077859\ttotal: 5m 15s\tremaining: 47.6s\n",
      "869:\tlearn: 0.1077727\ttotal: 5m 16s\tremaining: 47.2s\n",
      "870:\tlearn: 0.1077630\ttotal: 5m 16s\tremaining: 46.9s\n",
      "871:\tlearn: 0.1077543\ttotal: 5m 17s\tremaining: 46.6s\n",
      "872:\tlearn: 0.1077501\ttotal: 5m 17s\tremaining: 46.2s\n",
      "873:\tlearn: 0.1077427\ttotal: 5m 18s\tremaining: 45.9s\n",
      "874:\tlearn: 0.1077310\ttotal: 5m 18s\tremaining: 45.5s\n",
      "875:\tlearn: 0.1077225\ttotal: 5m 19s\tremaining: 45.2s\n",
      "876:\tlearn: 0.1077131\ttotal: 5m 19s\tremaining: 44.9s\n",
      "877:\tlearn: 0.1077023\ttotal: 5m 20s\tremaining: 44.5s\n",
      "878:\tlearn: 0.1076907\ttotal: 5m 20s\tremaining: 44.1s\n",
      "879:\tlearn: 0.1076820\ttotal: 5m 21s\tremaining: 43.8s\n",
      "880:\tlearn: 0.1076719\ttotal: 5m 21s\tremaining: 43.4s\n",
      "881:\tlearn: 0.1076641\ttotal: 5m 21s\tremaining: 43s\n",
      "882:\tlearn: 0.1076542\ttotal: 5m 21s\tremaining: 42.6s\n",
      "883:\tlearn: 0.1076406\ttotal: 5m 22s\tremaining: 42.3s\n",
      "884:\tlearn: 0.1076289\ttotal: 5m 22s\tremaining: 41.9s\n",
      "885:\tlearn: 0.1076251\ttotal: 5m 22s\tremaining: 41.5s\n",
      "886:\tlearn: 0.1076040\ttotal: 5m 23s\tremaining: 41.2s\n",
      "887:\tlearn: 0.1075915\ttotal: 5m 23s\tremaining: 40.8s\n",
      "888:\tlearn: 0.1075819\ttotal: 5m 23s\tremaining: 40.4s\n",
      "889:\tlearn: 0.1075700\ttotal: 5m 24s\tremaining: 40.1s\n",
      "890:\tlearn: 0.1075665\ttotal: 5m 24s\tremaining: 39.7s\n",
      "891:\tlearn: 0.1075559\ttotal: 5m 24s\tremaining: 39.3s\n",
      "892:\tlearn: 0.1075409\ttotal: 5m 25s\tremaining: 38.9s\n",
      "893:\tlearn: 0.1075363\ttotal: 5m 25s\tremaining: 38.6s\n",
      "894:\tlearn: 0.1075294\ttotal: 5m 25s\tremaining: 38.2s\n",
      "895:\tlearn: 0.1075089\ttotal: 5m 25s\tremaining: 37.8s\n",
      "896:\tlearn: 0.1075003\ttotal: 5m 26s\tremaining: 37.5s\n",
      "897:\tlearn: 0.1074880\ttotal: 5m 26s\tremaining: 37.1s\n",
      "898:\tlearn: 0.1074765\ttotal: 5m 26s\tremaining: 36.7s\n",
      "899:\tlearn: 0.1074711\ttotal: 5m 27s\tremaining: 36.3s\n",
      "900:\tlearn: 0.1074618\ttotal: 5m 27s\tremaining: 36s\n",
      "901:\tlearn: 0.1074252\ttotal: 5m 27s\tremaining: 35.6s\n",
      "902:\tlearn: 0.1074168\ttotal: 5m 28s\tremaining: 35.2s\n",
      "903:\tlearn: 0.1074107\ttotal: 5m 28s\tremaining: 34.9s\n",
      "904:\tlearn: 0.1073968\ttotal: 5m 28s\tremaining: 34.5s\n",
      "905:\tlearn: 0.1073882\ttotal: 5m 29s\tremaining: 34.1s\n",
      "906:\tlearn: 0.1073780\ttotal: 5m 29s\tremaining: 33.8s\n",
      "907:\tlearn: 0.1073741\ttotal: 5m 29s\tremaining: 33.4s\n",
      "908:\tlearn: 0.1073642\ttotal: 5m 29s\tremaining: 33s\n",
      "909:\tlearn: 0.1073133\ttotal: 5m 30s\tremaining: 32.7s\n",
      "910:\tlearn: 0.1073029\ttotal: 5m 30s\tremaining: 32.3s\n",
      "911:\tlearn: 0.1072968\ttotal: 5m 31s\tremaining: 32s\n",
      "912:\tlearn: 0.1072829\ttotal: 5m 31s\tremaining: 31.6s\n",
      "913:\tlearn: 0.1072548\ttotal: 5m 32s\tremaining: 31.3s\n",
      "914:\tlearn: 0.1072315\ttotal: 5m 33s\tremaining: 30.9s\n",
      "915:\tlearn: 0.1072145\ttotal: 5m 33s\tremaining: 30.6s\n",
      "916:\tlearn: 0.1072071\ttotal: 5m 34s\tremaining: 30.2s\n",
      "917:\tlearn: 0.1071968\ttotal: 5m 34s\tremaining: 29.9s\n",
      "918:\tlearn: 0.1071874\ttotal: 5m 34s\tremaining: 29.5s\n",
      "919:\tlearn: 0.1071683\ttotal: 5m 35s\tremaining: 29.2s\n",
      "920:\tlearn: 0.1071603\ttotal: 5m 35s\tremaining: 28.8s\n",
      "921:\tlearn: 0.1071490\ttotal: 5m 35s\tremaining: 28.4s\n",
      "922:\tlearn: 0.1071338\ttotal: 5m 36s\tremaining: 28.1s\n",
      "923:\tlearn: 0.1071275\ttotal: 5m 36s\tremaining: 27.7s\n",
      "924:\tlearn: 0.1071205\ttotal: 5m 36s\tremaining: 27.3s\n",
      "925:\tlearn: 0.1071102\ttotal: 5m 37s\tremaining: 26.9s\n",
      "926:\tlearn: 0.1071002\ttotal: 5m 37s\tremaining: 26.6s\n",
      "927:\tlearn: 0.1070666\ttotal: 5m 37s\tremaining: 26.2s\n",
      "928:\tlearn: 0.1070536\ttotal: 5m 38s\tremaining: 25.8s\n",
      "929:\tlearn: 0.1070482\ttotal: 5m 38s\tremaining: 25.5s\n",
      "930:\tlearn: 0.1070357\ttotal: 5m 38s\tremaining: 25.1s\n",
      "931:\tlearn: 0.1070257\ttotal: 5m 39s\tremaining: 24.7s\n",
      "932:\tlearn: 0.1070130\ttotal: 5m 39s\tremaining: 24.4s\n",
      "933:\tlearn: 0.1070041\ttotal: 5m 39s\tremaining: 24s\n",
      "934:\tlearn: 0.1069636\ttotal: 5m 40s\tremaining: 23.6s\n",
      "935:\tlearn: 0.1069605\ttotal: 5m 40s\tremaining: 23.3s\n",
      "936:\tlearn: 0.1069511\ttotal: 5m 40s\tremaining: 22.9s\n",
      "937:\tlearn: 0.1069299\ttotal: 5m 40s\tremaining: 22.5s\n",
      "938:\tlearn: 0.1069127\ttotal: 5m 41s\tremaining: 22.2s\n",
      "939:\tlearn: 0.1069010\ttotal: 5m 41s\tremaining: 21.8s\n",
      "940:\tlearn: 0.1068917\ttotal: 5m 41s\tremaining: 21.4s\n",
      "941:\tlearn: 0.1068827\ttotal: 5m 42s\tremaining: 21.1s\n",
      "942:\tlearn: 0.1068736\ttotal: 5m 42s\tremaining: 20.7s\n",
      "943:\tlearn: 0.1068670\ttotal: 5m 42s\tremaining: 20.3s\n",
      "944:\tlearn: 0.1068578\ttotal: 5m 43s\tremaining: 20s\n",
      "945:\tlearn: 0.1068514\ttotal: 5m 43s\tremaining: 19.6s\n",
      "946:\tlearn: 0.1068466\ttotal: 5m 43s\tremaining: 19.2s\n",
      "947:\tlearn: 0.1068403\ttotal: 5m 44s\tremaining: 18.9s\n",
      "948:\tlearn: 0.1068331\ttotal: 5m 44s\tremaining: 18.5s\n",
      "949:\tlearn: 0.1068186\ttotal: 5m 44s\tremaining: 18.1s\n",
      "950:\tlearn: 0.1068043\ttotal: 5m 45s\tremaining: 17.8s\n",
      "951:\tlearn: 0.1067901\ttotal: 5m 45s\tremaining: 17.4s\n",
      "952:\tlearn: 0.1067791\ttotal: 5m 46s\tremaining: 17.1s\n",
      "953:\tlearn: 0.1067703\ttotal: 5m 47s\tremaining: 16.7s\n",
      "954:\tlearn: 0.1067576\ttotal: 5m 47s\tremaining: 16.4s\n",
      "955:\tlearn: 0.1067524\ttotal: 5m 48s\tremaining: 16s\n",
      "956:\tlearn: 0.1067388\ttotal: 5m 48s\tremaining: 15.7s\n",
      "957:\tlearn: 0.1067329\ttotal: 5m 49s\tremaining: 15.3s\n",
      "958:\tlearn: 0.1067212\ttotal: 5m 49s\tremaining: 14.9s\n",
      "959:\tlearn: 0.1067160\ttotal: 5m 49s\tremaining: 14.6s\n",
      "960:\tlearn: 0.1067079\ttotal: 5m 50s\tremaining: 14.2s\n",
      "961:\tlearn: 0.1066962\ttotal: 5m 50s\tremaining: 13.8s\n",
      "962:\tlearn: 0.1066897\ttotal: 5m 50s\tremaining: 13.5s\n",
      "963:\tlearn: 0.1066794\ttotal: 5m 51s\tremaining: 13.1s\n",
      "964:\tlearn: 0.1066648\ttotal: 5m 51s\tremaining: 12.7s\n",
      "965:\tlearn: 0.1066531\ttotal: 5m 51s\tremaining: 12.4s\n",
      "966:\tlearn: 0.1066408\ttotal: 5m 52s\tremaining: 12s\n",
      "967:\tlearn: 0.1066243\ttotal: 5m 52s\tremaining: 11.6s\n",
      "968:\tlearn: 0.1066066\ttotal: 5m 52s\tremaining: 11.3s\n",
      "969:\tlearn: 0.1065933\ttotal: 5m 52s\tremaining: 10.9s\n",
      "970:\tlearn: 0.1065859\ttotal: 5m 53s\tremaining: 10.6s\n",
      "971:\tlearn: 0.1065788\ttotal: 5m 53s\tremaining: 10.2s\n",
      "972:\tlearn: 0.1065680\ttotal: 5m 53s\tremaining: 9.82s\n",
      "973:\tlearn: 0.1065629\ttotal: 5m 54s\tremaining: 9.46s\n",
      "974:\tlearn: 0.1065456\ttotal: 5m 54s\tremaining: 9.09s\n",
      "975:\tlearn: 0.1065381\ttotal: 5m 54s\tremaining: 8.72s\n",
      "976:\tlearn: 0.1065246\ttotal: 5m 55s\tremaining: 8.36s\n",
      "977:\tlearn: 0.1065164\ttotal: 5m 55s\tremaining: 8s\n",
      "978:\tlearn: 0.1065086\ttotal: 5m 55s\tremaining: 7.63s\n",
      "979:\tlearn: 0.1064965\ttotal: 5m 56s\tremaining: 7.27s\n",
      "980:\tlearn: 0.1064885\ttotal: 5m 56s\tremaining: 6.9s\n",
      "981:\tlearn: 0.1064619\ttotal: 5m 56s\tremaining: 6.54s\n",
      "982:\tlearn: 0.1064562\ttotal: 5m 57s\tremaining: 6.17s\n",
      "983:\tlearn: 0.1064436\ttotal: 5m 57s\tremaining: 5.81s\n",
      "984:\tlearn: 0.1064362\ttotal: 5m 57s\tremaining: 5.45s\n",
      "985:\tlearn: 0.1064275\ttotal: 5m 57s\tremaining: 5.08s\n",
      "986:\tlearn: 0.1064127\ttotal: 5m 58s\tremaining: 4.72s\n",
      "987:\tlearn: 0.1064081\ttotal: 5m 58s\tremaining: 4.36s\n",
      "988:\tlearn: 0.1063933\ttotal: 5m 58s\tremaining: 3.99s\n",
      "989:\tlearn: 0.1063795\ttotal: 5m 59s\tremaining: 3.63s\n",
      "990:\tlearn: 0.1063733\ttotal: 5m 59s\tremaining: 3.27s\n",
      "991:\tlearn: 0.1063647\ttotal: 6m\tremaining: 2.91s\n",
      "992:\tlearn: 0.1063547\ttotal: 6m 1s\tremaining: 2.54s\n",
      "993:\tlearn: 0.1063432\ttotal: 6m 1s\tremaining: 2.18s\n",
      "994:\tlearn: 0.1063375\ttotal: 6m 2s\tremaining: 1.82s\n",
      "995:\tlearn: 0.1063246\ttotal: 6m 2s\tremaining: 1.46s\n",
      "996:\tlearn: 0.1063187\ttotal: 6m 3s\tremaining: 1.09s\n",
      "997:\tlearn: 0.1062818\ttotal: 6m 3s\tremaining: 729ms\n",
      "998:\tlearn: 0.1062714\ttotal: 6m 4s\tremaining: 364ms\n",
      "999:\tlearn: 0.1062581\ttotal: 6m 4s\tremaining: 0us\n"
     ]
    },
    {
     "data": {
      "text/plain": [
       "<catboost.core.CatBoostClassifier at 0x7f644f48c8e0>"
      ]
     },
     "execution_count": 80,
     "metadata": {},
     "output_type": "execute_result"
    }
   ],
   "source": [
    "#fitting catboost model on balanced dataset\n",
    "catb_smote_model = CatBoostClassifier()\n",
    "catb_smote_model.fit(X_train_smote,y_train_smote)"
   ]
  },
  {
   "cell_type": "code",
   "execution_count": 81,
   "id": "5cdd9848",
   "metadata": {
    "executionInfo": {
     "elapsed": 902,
     "status": "ok",
     "timestamp": 1687294327500,
     "user": {
      "displayName": "Penina Randu",
      "userId": "09001762240323440784"
     },
     "user_tz": -180
    },
    "id": "5cdd9848"
   },
   "outputs": [],
   "source": [
    "# Make predictions\n",
    "catb_smote_proba = catb_smote_model.predict_proba(Xeval)\n",
    "catb_smote_preds = catb_smote_model.predict(Xeval)"
   ]
  },
  {
   "cell_type": "code",
   "execution_count": 82,
   "id": "059ddd43",
   "metadata": {
    "colab": {
     "base_uri": "https://localhost:8080/"
    },
    "executionInfo": {
     "elapsed": 410,
     "status": "ok",
     "timestamp": 1687294330558,
     "user": {
      "displayName": "Penina Randu",
      "userId": "09001762240323440784"
     },
     "user_tz": -180
    },
    "id": "059ddd43",
    "outputId": "3e4562ab-db77-4274-91d1-5ea1567abb95"
   },
   "outputs": [
    {
     "name": "stdout",
     "output_type": "stream",
     "text": [
      "The models AUC_score is:  0.6576021141438756\n",
      "The models probability is:  0.18718801438891147\n"
     ]
    }
   ],
   "source": [
    "# Calculate the ROC AUC score\n",
    "catb_smote_auc_score = roc_auc_score(y_validation, catb_smote_preds)\n",
    "\n",
    "# Calculate the log loss\n",
    "catb_smote_logloss = log_loss(y_validation, catb_smote_proba)\n",
    "\n",
    "print('The models AUC_score is: ',catb_smote_auc_score)\n",
    "print('The models probability is: ',catb_smote_logloss)"
   ]
  },
  {
   "attachments": {},
   "cell_type": "markdown",
   "id": "3608cb5d",
   "metadata": {
    "id": "3608cb5d"
   },
   "source": [
    "## simple model #8"
   ]
  },
  {
   "cell_type": "code",
   "execution_count": 83,
   "id": "8a2b787d",
   "metadata": {
    "colab": {
     "base_uri": "https://localhost:8080/",
     "height": 52
    },
    "executionInfo": {
     "elapsed": 415,
     "status": "ok",
     "timestamp": 1687294335971,
     "user": {
      "displayName": "Penina Randu",
      "userId": "09001762240323440784"
     },
     "user_tz": -180
    },
    "id": "8a2b787d",
    "outputId": "fe90de8f-12f3-4878-e423-502d7091d1f8"
   },
   "outputs": [
    {
     "data": {
      "text/html": [
       "<style>#sk-container-id-14 {color: black;background-color: white;}#sk-container-id-14 pre{padding: 0;}#sk-container-id-14 div.sk-toggleable {background-color: white;}#sk-container-id-14 label.sk-toggleable__label {cursor: pointer;display: block;width: 100%;margin-bottom: 0;padding: 0.3em;box-sizing: border-box;text-align: center;}#sk-container-id-14 label.sk-toggleable__label-arrow:before {content: \"▸\";float: left;margin-right: 0.25em;color: #696969;}#sk-container-id-14 label.sk-toggleable__label-arrow:hover:before {color: black;}#sk-container-id-14 div.sk-estimator:hover label.sk-toggleable__label-arrow:before {color: black;}#sk-container-id-14 div.sk-toggleable__content {max-height: 0;max-width: 0;overflow: hidden;text-align: left;background-color: #f0f8ff;}#sk-container-id-14 div.sk-toggleable__content pre {margin: 0.2em;color: black;border-radius: 0.25em;background-color: #f0f8ff;}#sk-container-id-14 input.sk-toggleable__control:checked~div.sk-toggleable__content {max-height: 200px;max-width: 100%;overflow: auto;}#sk-container-id-14 input.sk-toggleable__control:checked~label.sk-toggleable__label-arrow:before {content: \"▾\";}#sk-container-id-14 div.sk-estimator input.sk-toggleable__control:checked~label.sk-toggleable__label {background-color: #d4ebff;}#sk-container-id-14 div.sk-label input.sk-toggleable__control:checked~label.sk-toggleable__label {background-color: #d4ebff;}#sk-container-id-14 input.sk-hidden--visually {border: 0;clip: rect(1px 1px 1px 1px);clip: rect(1px, 1px, 1px, 1px);height: 1px;margin: -1px;overflow: hidden;padding: 0;position: absolute;width: 1px;}#sk-container-id-14 div.sk-estimator {font-family: monospace;background-color: #f0f8ff;border: 1px dotted black;border-radius: 0.25em;box-sizing: border-box;margin-bottom: 0.5em;}#sk-container-id-14 div.sk-estimator:hover {background-color: #d4ebff;}#sk-container-id-14 div.sk-parallel-item::after {content: \"\";width: 100%;border-bottom: 1px solid gray;flex-grow: 1;}#sk-container-id-14 div.sk-label:hover label.sk-toggleable__label {background-color: #d4ebff;}#sk-container-id-14 div.sk-serial::before {content: \"\";position: absolute;border-left: 1px solid gray;box-sizing: border-box;top: 0;bottom: 0;left: 50%;z-index: 0;}#sk-container-id-14 div.sk-serial {display: flex;flex-direction: column;align-items: center;background-color: white;padding-right: 0.2em;padding-left: 0.2em;position: relative;}#sk-container-id-14 div.sk-item {position: relative;z-index: 1;}#sk-container-id-14 div.sk-parallel {display: flex;align-items: stretch;justify-content: center;background-color: white;position: relative;}#sk-container-id-14 div.sk-item::before, #sk-container-id-14 div.sk-parallel-item::before {content: \"\";position: absolute;border-left: 1px solid gray;box-sizing: border-box;top: 0;bottom: 0;left: 50%;z-index: -1;}#sk-container-id-14 div.sk-parallel-item {display: flex;flex-direction: column;z-index: 1;position: relative;background-color: white;}#sk-container-id-14 div.sk-parallel-item:first-child::after {align-self: flex-end;width: 50%;}#sk-container-id-14 div.sk-parallel-item:last-child::after {align-self: flex-start;width: 50%;}#sk-container-id-14 div.sk-parallel-item:only-child::after {width: 0;}#sk-container-id-14 div.sk-dashed-wrapped {border: 1px dashed gray;margin: 0 0.4em 0.5em 0.4em;box-sizing: border-box;padding-bottom: 0.4em;background-color: white;}#sk-container-id-14 div.sk-label label {font-family: monospace;font-weight: bold;display: inline-block;line-height: 1.2em;}#sk-container-id-14 div.sk-label-container {text-align: center;}#sk-container-id-14 div.sk-container {/* jupyter's `normalize.less` sets `[hidden] { display: none; }` but bootstrap.min.css set `[hidden] { display: none !important; }` so we also need the `!important` here to be able to override the default hidden behavior on the sphinx rendered scikit-learn.org. See: https://github.com/scikit-learn/scikit-learn/issues/21755 */display: inline-block !important;position: relative;}#sk-container-id-14 div.sk-text-repr-fallback {display: none;}</style><div id=\"sk-container-id-14\" class=\"sk-top-container\"><div class=\"sk-text-repr-fallback\"><pre>ComplementNB()</pre><b>In a Jupyter environment, please rerun this cell to show the HTML representation or trust the notebook. <br />On GitHub, the HTML representation is unable to render, please try loading this page with nbviewer.org.</b></div><div class=\"sk-container\" hidden><div class=\"sk-item\"><div class=\"sk-estimator sk-toggleable\"><input class=\"sk-toggleable__control sk-hidden--visually\" id=\"sk-estimator-id-14\" type=\"checkbox\" checked><label for=\"sk-estimator-id-14\" class=\"sk-toggleable__label sk-toggleable__label-arrow\">ComplementNB</label><div class=\"sk-toggleable__content\"><pre>ComplementNB()</pre></div></div></div></div></div>"
      ],
      "text/plain": [
       "ComplementNB()"
      ]
     },
     "execution_count": 83,
     "metadata": {},
     "output_type": "execute_result"
    }
   ],
   "source": [
    "#fitting complementNB with balanced dataset\n",
    "cnb_smote_model = ComplementNB()\n",
    "cnb_smote_model.fit(X_train_smote,y_train_smote)"
   ]
  },
  {
   "cell_type": "code",
   "execution_count": 84,
   "id": "7ff5fc22",
   "metadata": {
    "executionInfo": {
     "elapsed": 389,
     "status": "ok",
     "timestamp": 1687294341230,
     "user": {
      "displayName": "Penina Randu",
      "userId": "09001762240323440784"
     },
     "user_tz": -180
    },
    "id": "7ff5fc22"
   },
   "outputs": [],
   "source": [
    "# Make predictions\n",
    "cnb_smote_proba = cnb_smote_model.predict_proba(Xeval)\n",
    "cnb_smote_preds = cnb_smote_model.predict(Xeval)"
   ]
  },
  {
   "cell_type": "code",
   "execution_count": 85,
   "id": "9a63f274",
   "metadata": {
    "colab": {
     "base_uri": "https://localhost:8080/"
    },
    "executionInfo": {
     "elapsed": 400,
     "status": "ok",
     "timestamp": 1687294344716,
     "user": {
      "displayName": "Penina Randu",
      "userId": "09001762240323440784"
     },
     "user_tz": -180
    },
    "id": "9a63f274",
    "outputId": "dd1ce5fd-1a41-46d5-f542-e28fdc7a5990"
   },
   "outputs": [
    {
     "name": "stdout",
     "output_type": "stream",
     "text": [
      "The models AUC_score is:  0.7629451409188994\n",
      "The models probability is:  0.514024333672623\n"
     ]
    }
   ],
   "source": [
    "# Calculate the ROC AUC score\n",
    "cnb_smote_auc_score = roc_auc_score(y_validation, cnb_smote_preds)\n",
    "\n",
    "# Calculate the log loss\n",
    "cnb_smote_logloss = log_loss(y_validation, cnb_smote_proba)\n",
    "\n",
    "print('The models AUC_score is: ',cnb_smote_auc_score)\n",
    "print('The models probability is: ',cnb_smote_logloss)"
   ]
  },
  {
   "cell_type": "code",
   "execution_count": 86,
   "id": "d0cb6477",
   "metadata": {
    "executionInfo": {
     "elapsed": 391,
     "status": "ok",
     "timestamp": 1687294432958,
     "user": {
      "displayName": "Penina Randu",
      "userId": "09001762240323440784"
     },
     "user_tz": -180
    },
    "id": "d0cb6477"
   },
   "outputs": [],
   "source": [
    "# comparision\n",
    "results_smote= {'model':['Decision Tree','Random Forest','XGBoost','Logistic Regression','GaussianNB','GradientBoosting','CatBoost','ComplementNB'],\n",
    "         'AUC_score':[dt_smote_auc_score,rf_smote_auc_score,xgb_smote_auc_score,lr_smote_auc_score,gnb_smote_auc_score,gb_smote_auc_score,catb_smote_auc_score,cnb_smote_auc_score],\n",
    "         'log_loss':[dt_smote_logloss,rf_smote_logloss,xgb_smote_logloss,lr_smote_logloss,gnb_smote_logloss,gb_smote_logloss,catb_smote_logloss,cnb_smote_logloss]}\n",
    "\n",
    "results_smote_df= pd.DataFrame(results_smote)\n"
   ]
  },
  {
   "cell_type": "code",
   "execution_count": 87,
   "id": "9f52d222",
   "metadata": {
    "colab": {
     "base_uri": "https://localhost:8080/",
     "height": 300
    },
    "executionInfo": {
     "elapsed": 412,
     "status": "ok",
     "timestamp": 1687294436879,
     "user": {
      "displayName": "Penina Randu",
      "userId": "09001762240323440784"
     },
     "user_tz": -180
    },
    "id": "9f52d222",
    "outputId": "aeb36b55-ca4a-4eae-96c5-bc6e808897bc"
   },
   "outputs": [
    {
     "data": {
      "text/html": [
       "\n",
       "  <div id=\"df-c630e22c-e4e2-4780-9e79-04a5886d4600\">\n",
       "    <div class=\"colab-df-container\">\n",
       "      <div>\n",
       "<style scoped>\n",
       "    .dataframe tbody tr th:only-of-type {\n",
       "        vertical-align: middle;\n",
       "    }\n",
       "\n",
       "    .dataframe tbody tr th {\n",
       "        vertical-align: top;\n",
       "    }\n",
       "\n",
       "    .dataframe thead th {\n",
       "        text-align: right;\n",
       "    }\n",
       "</style>\n",
       "<table border=\"1\" class=\"dataframe\">\n",
       "  <thead>\n",
       "    <tr style=\"text-align: right;\">\n",
       "      <th></th>\n",
       "      <th>model</th>\n",
       "      <th>AUC_score</th>\n",
       "      <th>log_loss</th>\n",
       "    </tr>\n",
       "  </thead>\n",
       "  <tbody>\n",
       "    <tr>\n",
       "      <th>3</th>\n",
       "      <td>Logistic Regression</td>\n",
       "      <td>0.806002</td>\n",
       "      <td>0.453443</td>\n",
       "    </tr>\n",
       "    <tr>\n",
       "      <th>5</th>\n",
       "      <td>GradientBoosting</td>\n",
       "      <td>0.798853</td>\n",
       "      <td>0.367434</td>\n",
       "    </tr>\n",
       "    <tr>\n",
       "      <th>7</th>\n",
       "      <td>ComplementNB</td>\n",
       "      <td>0.762945</td>\n",
       "      <td>0.514024</td>\n",
       "    </tr>\n",
       "    <tr>\n",
       "      <th>4</th>\n",
       "      <td>GaussianNB</td>\n",
       "      <td>0.745213</td>\n",
       "      <td>7.930715</td>\n",
       "    </tr>\n",
       "    <tr>\n",
       "      <th>2</th>\n",
       "      <td>XGBoost</td>\n",
       "      <td>0.688688</td>\n",
       "      <td>0.208374</td>\n",
       "    </tr>\n",
       "    <tr>\n",
       "      <th>1</th>\n",
       "      <td>Random Forest</td>\n",
       "      <td>0.659416</td>\n",
       "      <td>0.291078</td>\n",
       "    </tr>\n",
       "    <tr>\n",
       "      <th>6</th>\n",
       "      <td>CatBoost</td>\n",
       "      <td>0.657602</td>\n",
       "      <td>0.187188</td>\n",
       "    </tr>\n",
       "    <tr>\n",
       "      <th>0</th>\n",
       "      <td>Decision Tree</td>\n",
       "      <td>0.640573</td>\n",
       "      <td>3.989615</td>\n",
       "    </tr>\n",
       "  </tbody>\n",
       "</table>\n",
       "</div>\n",
       "      <button class=\"colab-df-convert\" onclick=\"convertToInteractive('df-c630e22c-e4e2-4780-9e79-04a5886d4600')\"\n",
       "              title=\"Convert this dataframe to an interactive table.\"\n",
       "              style=\"display:none;\">\n",
       "        \n",
       "  <svg xmlns=\"http://www.w3.org/2000/svg\" height=\"24px\"viewBox=\"0 0 24 24\"\n",
       "       width=\"24px\">\n",
       "    <path d=\"M0 0h24v24H0V0z\" fill=\"none\"/>\n",
       "    <path d=\"M18.56 5.44l.94 2.06.94-2.06 2.06-.94-2.06-.94-.94-2.06-.94 2.06-2.06.94zm-11 1L8.5 8.5l.94-2.06 2.06-.94-2.06-.94L8.5 2.5l-.94 2.06-2.06.94zm10 10l.94 2.06.94-2.06 2.06-.94-2.06-.94-.94-2.06-.94 2.06-2.06.94z\"/><path d=\"M17.41 7.96l-1.37-1.37c-.4-.4-.92-.59-1.43-.59-.52 0-1.04.2-1.43.59L10.3 9.45l-7.72 7.72c-.78.78-.78 2.05 0 2.83L4 21.41c.39.39.9.59 1.41.59.51 0 1.02-.2 1.41-.59l7.78-7.78 2.81-2.81c.8-.78.8-2.07 0-2.86zM5.41 20L4 18.59l7.72-7.72 1.47 1.35L5.41 20z\"/>\n",
       "  </svg>\n",
       "      </button>\n",
       "      \n",
       "  <style>\n",
       "    .colab-df-container {\n",
       "      display:flex;\n",
       "      flex-wrap:wrap;\n",
       "      gap: 12px;\n",
       "    }\n",
       "\n",
       "    .colab-df-convert {\n",
       "      background-color: #E8F0FE;\n",
       "      border: none;\n",
       "      border-radius: 50%;\n",
       "      cursor: pointer;\n",
       "      display: none;\n",
       "      fill: #1967D2;\n",
       "      height: 32px;\n",
       "      padding: 0 0 0 0;\n",
       "      width: 32px;\n",
       "    }\n",
       "\n",
       "    .colab-df-convert:hover {\n",
       "      background-color: #E2EBFA;\n",
       "      box-shadow: 0px 1px 2px rgba(60, 64, 67, 0.3), 0px 1px 3px 1px rgba(60, 64, 67, 0.15);\n",
       "      fill: #174EA6;\n",
       "    }\n",
       "\n",
       "    [theme=dark] .colab-df-convert {\n",
       "      background-color: #3B4455;\n",
       "      fill: #D2E3FC;\n",
       "    }\n",
       "\n",
       "    [theme=dark] .colab-df-convert:hover {\n",
       "      background-color: #434B5C;\n",
       "      box-shadow: 0px 1px 3px 1px rgba(0, 0, 0, 0.15);\n",
       "      filter: drop-shadow(0px 1px 2px rgba(0, 0, 0, 0.3));\n",
       "      fill: #FFFFFF;\n",
       "    }\n",
       "  </style>\n",
       "\n",
       "      <script>\n",
       "        const buttonEl =\n",
       "          document.querySelector('#df-c630e22c-e4e2-4780-9e79-04a5886d4600 button.colab-df-convert');\n",
       "        buttonEl.style.display =\n",
       "          google.colab.kernel.accessAllowed ? 'block' : 'none';\n",
       "\n",
       "        async function convertToInteractive(key) {\n",
       "          const element = document.querySelector('#df-c630e22c-e4e2-4780-9e79-04a5886d4600');\n",
       "          const dataTable =\n",
       "            await google.colab.kernel.invokeFunction('convertToInteractive',\n",
       "                                                     [key], {});\n",
       "          if (!dataTable) return;\n",
       "\n",
       "          const docLinkHtml = 'Like what you see? Visit the ' +\n",
       "            '<a target=\"_blank\" href=https://colab.research.google.com/notebooks/data_table.ipynb>data table notebook</a>'\n",
       "            + ' to learn more about interactive tables.';\n",
       "          element.innerHTML = '';\n",
       "          dataTable['output_type'] = 'display_data';\n",
       "          await google.colab.output.renderOutput(dataTable, element);\n",
       "          const docLink = document.createElement('div');\n",
       "          docLink.innerHTML = docLinkHtml;\n",
       "          element.appendChild(docLink);\n",
       "        }\n",
       "      </script>\n",
       "    </div>\n",
       "  </div>\n",
       "  "
      ],
      "text/plain": [
       "                 model  AUC_score  log_loss\n",
       "3  Logistic Regression   0.806002  0.453443\n",
       "5     GradientBoosting   0.798853  0.367434\n",
       "7         ComplementNB   0.762945  0.514024\n",
       "4           GaussianNB   0.745213  7.930715\n",
       "2              XGBoost   0.688688  0.208374\n",
       "1        Random Forest   0.659416  0.291078\n",
       "6             CatBoost   0.657602  0.187188\n",
       "0        Decision Tree   0.640573  3.989615"
      ]
     },
     "execution_count": 87,
     "metadata": {},
     "output_type": "execute_result"
    }
   ],
   "source": [
    "results_smote_df.sort_values(by= 'AUC_score', ascending = False)"
   ]
  },
  {
   "attachments": {},
   "cell_type": "markdown",
   "id": "c41bd22b",
   "metadata": {
    "id": "c41bd22b"
   },
   "source": [
    "## Conclusion\n",
    "During the model training process under different conditions, we observed that most models showed improvement when trained on balanced data compared to imbalanced data. The following are the 2 conditions that were considered:\n",
    "\n",
    "1.`Imbalanced data`: In this condition, the training data had imbalanced class distribution across all features.Among the models trained on imbalanced data, ComplementNB showed the highest AUC score and relatively low log loss, indicating better overall performance. GaussianNB had a slightly lower AUC score but significantly higher log loss. Decision Tree and Random Forest performed moderately, while CatBoost, XGBoost, and GradientBoosting had lower AUC scores but good log loss values. Logistic Regression showed the lowest AUC score but a relatively low log loss.\n",
    "\n",
    "2.`Balanced data`: The training data was balanced by adjusting the class distribution,this condition resulted in the most significant improvement across all models.Logistic Regression and GradientBoosting emerged as the top-performing models with the highest AUC scores. ComplementNB showed consistent high performance, while GaussianNB had a lower AUC score and higher log loss. XGBoost, CatBoost, and Random Forest achieved improved performance compared to previous conditions, and Decision Tree performed relatively poorer.\n",
    "\n",
    "Overall, the general trend we observed was that balanced data led to improved model performance across the 2 metrics.These findings highlighted the importance of data balancing in optimizing model performance.\n"
   ]
  },
  {
   "cell_type": "code",
   "execution_count": 90,
   "id": "1c8b3b7c",
   "metadata": {
    "colab": {
     "base_uri": "https://localhost:8080/",
     "height": 300
    },
    "executionInfo": {
     "elapsed": 439,
     "status": "ok",
     "timestamp": 1687295398123,
     "user": {
      "displayName": "Penina Randu",
      "userId": "09001762240323440784"
     },
     "user_tz": -180
    },
    "id": "1c8b3b7c",
    "outputId": "275ddacf-5e60-43e7-9986-3fb07316f763",
    "scrolled": true
   },
   "outputs": [
    {
     "data": {
      "text/html": [
       "\n",
       "  <div id=\"df-1e2d0487-5e37-4585-95ac-8d44be40d543\">\n",
       "    <div class=\"colab-df-container\">\n",
       "      <div>\n",
       "<style scoped>\n",
       "    .dataframe tbody tr th:only-of-type {\n",
       "        vertical-align: middle;\n",
       "    }\n",
       "\n",
       "    .dataframe tbody tr th {\n",
       "        vertical-align: top;\n",
       "    }\n",
       "\n",
       "    .dataframe thead th {\n",
       "        text-align: right;\n",
       "    }\n",
       "</style>\n",
       "<table border=\"1\" class=\"dataframe\">\n",
       "  <thead>\n",
       "    <tr style=\"text-align: right;\">\n",
       "      <th></th>\n",
       "      <th>Model</th>\n",
       "      <th>AUC Score (Imbalanced)</th>\n",
       "      <th>Log Loss (Imbalanced)</th>\n",
       "      <th>AUC Score (Balanced)</th>\n",
       "      <th>Log Loss (Balanced)</th>\n",
       "    </tr>\n",
       "  </thead>\n",
       "  <tbody>\n",
       "    <tr>\n",
       "      <th>0</th>\n",
       "      <td>Decision Tree</td>\n",
       "      <td>0.604729</td>\n",
       "      <td>3.336148</td>\n",
       "      <td>0.640573</td>\n",
       "      <td>3.989615</td>\n",
       "    </tr>\n",
       "    <tr>\n",
       "      <th>1</th>\n",
       "      <td>Random Forest</td>\n",
       "      <td>0.574056</td>\n",
       "      <td>0.256728</td>\n",
       "      <td>0.659416</td>\n",
       "      <td>0.291078</td>\n",
       "    </tr>\n",
       "    <tr>\n",
       "      <th>2</th>\n",
       "      <td>XGBoost</td>\n",
       "      <td>0.546865</td>\n",
       "      <td>0.160189</td>\n",
       "      <td>0.688688</td>\n",
       "      <td>0.208374</td>\n",
       "    </tr>\n",
       "    <tr>\n",
       "      <th>3</th>\n",
       "      <td>Logistic Regression</td>\n",
       "      <td>0.501950</td>\n",
       "      <td>0.166159</td>\n",
       "      <td>0.806002</td>\n",
       "      <td>0.453443</td>\n",
       "    </tr>\n",
       "    <tr>\n",
       "      <th>4</th>\n",
       "      <td>GaussianNB</td>\n",
       "      <td>0.746799</td>\n",
       "      <td>6.206523</td>\n",
       "      <td>0.745213</td>\n",
       "      <td>7.930715</td>\n",
       "    </tr>\n",
       "    <tr>\n",
       "      <th>5</th>\n",
       "      <td>GradientBoosting</td>\n",
       "      <td>0.541657</td>\n",
       "      <td>0.160956</td>\n",
       "      <td>0.798853</td>\n",
       "      <td>0.367434</td>\n",
       "    </tr>\n",
       "    <tr>\n",
       "      <th>6</th>\n",
       "      <td>CatBoost</td>\n",
       "      <td>0.551417</td>\n",
       "      <td>0.159809</td>\n",
       "      <td>0.657602</td>\n",
       "      <td>0.187188</td>\n",
       "    </tr>\n",
       "    <tr>\n",
       "      <th>7</th>\n",
       "      <td>ComplementNB</td>\n",
       "      <td>0.762631</td>\n",
       "      <td>0.514952</td>\n",
       "      <td>0.762945</td>\n",
       "      <td>0.514024</td>\n",
       "    </tr>\n",
       "  </tbody>\n",
       "</table>\n",
       "</div>\n",
       "      <button class=\"colab-df-convert\" onclick=\"convertToInteractive('df-1e2d0487-5e37-4585-95ac-8d44be40d543')\"\n",
       "              title=\"Convert this dataframe to an interactive table.\"\n",
       "              style=\"display:none;\">\n",
       "        \n",
       "  <svg xmlns=\"http://www.w3.org/2000/svg\" height=\"24px\"viewBox=\"0 0 24 24\"\n",
       "       width=\"24px\">\n",
       "    <path d=\"M0 0h24v24H0V0z\" fill=\"none\"/>\n",
       "    <path d=\"M18.56 5.44l.94 2.06.94-2.06 2.06-.94-2.06-.94-.94-2.06-.94 2.06-2.06.94zm-11 1L8.5 8.5l.94-2.06 2.06-.94-2.06-.94L8.5 2.5l-.94 2.06-2.06.94zm10 10l.94 2.06.94-2.06 2.06-.94-2.06-.94-.94-2.06-.94 2.06-2.06.94z\"/><path d=\"M17.41 7.96l-1.37-1.37c-.4-.4-.92-.59-1.43-.59-.52 0-1.04.2-1.43.59L10.3 9.45l-7.72 7.72c-.78.78-.78 2.05 0 2.83L4 21.41c.39.39.9.59 1.41.59.51 0 1.02-.2 1.41-.59l7.78-7.78 2.81-2.81c.8-.78.8-2.07 0-2.86zM5.41 20L4 18.59l7.72-7.72 1.47 1.35L5.41 20z\"/>\n",
       "  </svg>\n",
       "      </button>\n",
       "      \n",
       "  <style>\n",
       "    .colab-df-container {\n",
       "      display:flex;\n",
       "      flex-wrap:wrap;\n",
       "      gap: 12px;\n",
       "    }\n",
       "\n",
       "    .colab-df-convert {\n",
       "      background-color: #E8F0FE;\n",
       "      border: none;\n",
       "      border-radius: 50%;\n",
       "      cursor: pointer;\n",
       "      display: none;\n",
       "      fill: #1967D2;\n",
       "      height: 32px;\n",
       "      padding: 0 0 0 0;\n",
       "      width: 32px;\n",
       "    }\n",
       "\n",
       "    .colab-df-convert:hover {\n",
       "      background-color: #E2EBFA;\n",
       "      box-shadow: 0px 1px 2px rgba(60, 64, 67, 0.3), 0px 1px 3px 1px rgba(60, 64, 67, 0.15);\n",
       "      fill: #174EA6;\n",
       "    }\n",
       "\n",
       "    [theme=dark] .colab-df-convert {\n",
       "      background-color: #3B4455;\n",
       "      fill: #D2E3FC;\n",
       "    }\n",
       "\n",
       "    [theme=dark] .colab-df-convert:hover {\n",
       "      background-color: #434B5C;\n",
       "      box-shadow: 0px 1px 3px 1px rgba(0, 0, 0, 0.15);\n",
       "      filter: drop-shadow(0px 1px 2px rgba(0, 0, 0, 0.3));\n",
       "      fill: #FFFFFF;\n",
       "    }\n",
       "  </style>\n",
       "\n",
       "      <script>\n",
       "        const buttonEl =\n",
       "          document.querySelector('#df-1e2d0487-5e37-4585-95ac-8d44be40d543 button.colab-df-convert');\n",
       "        buttonEl.style.display =\n",
       "          google.colab.kernel.accessAllowed ? 'block' : 'none';\n",
       "\n",
       "        async function convertToInteractive(key) {\n",
       "          const element = document.querySelector('#df-1e2d0487-5e37-4585-95ac-8d44be40d543');\n",
       "          const dataTable =\n",
       "            await google.colab.kernel.invokeFunction('convertToInteractive',\n",
       "                                                     [key], {});\n",
       "          if (!dataTable) return;\n",
       "\n",
       "          const docLinkHtml = 'Like what you see? Visit the ' +\n",
       "            '<a target=\"_blank\" href=https://colab.research.google.com/notebooks/data_table.ipynb>data table notebook</a>'\n",
       "            + ' to learn more about interactive tables.';\n",
       "          element.innerHTML = '';\n",
       "          dataTable['output_type'] = 'display_data';\n",
       "          await google.colab.output.renderOutput(dataTable, element);\n",
       "          const docLink = document.createElement('div');\n",
       "          docLink.innerHTML = docLinkHtml;\n",
       "          element.appendChild(docLink);\n",
       "        }\n",
       "      </script>\n",
       "    </div>\n",
       "  </div>\n",
       "  "
      ],
      "text/plain": [
       "                 Model  AUC Score (Imbalanced)  Log Loss (Imbalanced)  \\\n",
       "0        Decision Tree                0.604729               3.336148   \n",
       "1        Random Forest                0.574056               0.256728   \n",
       "2              XGBoost                0.546865               0.160189   \n",
       "3  Logistic Regression                0.501950               0.166159   \n",
       "4           GaussianNB                0.746799               6.206523   \n",
       "5     GradientBoosting                0.541657               0.160956   \n",
       "6             CatBoost                0.551417               0.159809   \n",
       "7         ComplementNB                0.762631               0.514952   \n",
       "\n",
       "   AUC Score (Balanced)  Log Loss (Balanced)  \n",
       "0              0.640573             3.989615  \n",
       "1              0.659416             0.291078  \n",
       "2              0.688688             0.208374  \n",
       "3              0.806002             0.453443  \n",
       "4              0.745213             7.930715  \n",
       "5              0.798853             0.367434  \n",
       "6              0.657602             0.187188  \n",
       "7              0.762945             0.514024  "
      ]
     },
     "execution_count": 90,
     "metadata": {},
     "output_type": "execute_result"
    }
   ],
   "source": [
    "final_comparision= {\n",
    "    'Model': ['Decision Tree','Random Forest', 'XGBoost','Logistic Regression','GaussianNB','GradientBoosting','CatBoost','ComplementNB'],\n",
    "    'AUC Score (Imbalanced)': [dt_auc_score,rf_auc_score,xgb_auc_score,auc_score,gaussian_auc_score,gb_auc_score,Catb_auc_score,cnb_auc_score],\n",
    "    'Log Loss (Imbalanced)': [dt_logloss,rf_logloss,xgb_logloss,logloss,gaussian_logloss,gb_logloss,Catb_logloss,cnb_logloss],\n",
    "    'AUC Score (Balanced)':[dt_smote_auc_score,rf_smote_auc_score,xgb_smote_auc_score,lr_smote_auc_score,gnb_smote_auc_score,gb_smote_auc_score,catb_smote_auc_score,cnb_smote_auc_score],\n",
    "    'Log Loss (Balanced)': [dt_smote_logloss,rf_smote_logloss,xgb_smote_logloss,lr_smote_logloss,gnb_smote_logloss,gb_smote_logloss,catb_smote_logloss,cnb_smote_logloss]\n",
    "}\n",
    "\n",
    "final_comparision_df = pd.DataFrame(final_comparision)\n",
    "final_comparision_df"
   ]
  },
  {
   "cell_type": "code",
   "execution_count": 91,
   "id": "ttlQRo4VoZyH",
   "metadata": {
    "colab": {
     "base_uri": "https://localhost:8080/",
     "height": 601
    },
    "executionInfo": {
     "elapsed": 1750,
     "status": "ok",
     "timestamp": 1687295405822,
     "user": {
      "displayName": "Penina Randu",
      "userId": "09001762240323440784"
     },
     "user_tz": -180
    },
    "id": "ttlQRo4VoZyH",
    "outputId": "5fc1636e-5e64-48a7-d542-ee492abc638b",
    "scrolled": false
   },
   "outputs": [
    {
     "data": {
      "image/png": "[encoded data removed]",
      "text/plain": [
       "<Figure size 1200x600 with 1 Axes>"
      ]
     },
     "metadata": {},
     "output_type": "display_data"
    }
   ],
   "source": [
    "#plotting the AUC score comparision of all the models\n",
    "\n",
    "# Set the style of seaborn\n",
    "sns.set(style=\"whitegrid\")\n",
    "\n",
    "# Melt the dataframe to combine the three AUC score columns into one\n",
    "melted_data = final_comparision_df.melt(id_vars='Model', value_vars=['AUC Score (Balanced)', 'AUC Score (Imbalanced)'], var_name='Condition', value_name='AUC Score')\n",
    "\n",
    "# Plot the bar graph\n",
    "plt.figure(figsize=(12, 6))\n",
    "ax = sns.barplot(x='Model', y='AUC Score', hue='Condition', data=melted_data)\n",
    "\n",
    "# Add the AUC values on top of the bars\n",
    "for p in ax.patches:\n",
    "    ax.annotate(f\"{p.get_height():.3f}\", (p.get_x() + p.get_width() / 2, p.get_height()), ha='center', va='bottom')\n",
    "\n",
    "# Customize the plot\n",
    "ax.set_title('AUC Scores Comparison')\n",
    "ax.set_xlabel('Model')\n",
    "ax.set_ylabel('AUC Score')\n",
    "ax.set_ylim([0, 1])  # Set the y-axis limit to [0, 1] for AUC score\n",
    "\n",
    "# Rotate the x-axis labels for better visibility\n",
    "plt.xticks(rotation=45, ha='right')\n",
    "\n",
    "# Add a legend\n",
    "plt.legend(title='Condition')\n",
    "\n",
    "# Display the plot\n",
    "plt.tight_layout()\n",
    "plt.show()"
   ]
  },
  {
   "cell_type": "code",
   "execution_count": 92,
   "id": "6a2d0dda",
   "metadata": {
    "colab": {
     "base_uri": "https://localhost:8080/",
     "height": 672
    },
    "executionInfo": {
     "elapsed": 1373,
     "status": "ok",
     "timestamp": 1687295517307,
     "user": {
      "displayName": "Penina Randu",
      "userId": "09001762240323440784"
     },
     "user_tz": -180
    },
    "id": "6a2d0dda",
    "outputId": "366b40e5-0f8c-4431-99b2-3a55a5ec8fd4"
   },
   "outputs": [
    {
     "data": {
      "image/png": "[encoded data removed]",
      "text/plain": [
       "<Figure size 1200x600 with 1 Axes>"
      ]
     },
     "metadata": {},
     "output_type": "display_data"
    }
   ],
   "source": [
    "#plotting the comparision of the logloss for all the models\n",
    "\n",
    "# Set the style of seaborn\n",
    "sns.set(style=\"whitegrid\")\n",
    "\n",
    "#Melt the dataframe to combine the three log loss columns into one\n",
    "plot_data = final_comparision_df.melt(id_vars='Model', value_vars=['Log Loss (Imbalanced)','Log Loss (Balanced)'], var_name='Condition', value_name='Log Loss')\n",
    "\n",
    "# Plot the bar graph\n",
    "plt.figure(figsize=(12, 6))\n",
    "ax = sns.barplot(x='Model', y='Log Loss', hue='Condition', data=plot_data)\n",
    "\n",
    "# Add the log loss values on top of the bars\n",
    "for p in ax.patches:\n",
    "    ax.annotate(f\"{p.get_height():.3f}\", (p.get_x() + p.get_width() / 2, p.get_height()), ha='center', va='bottom')\n",
    "\n",
    "# Customize the plot\n",
    "ax.set_title('logloss Comparison')\n",
    "ax.set_xlabel('Model')\n",
    "ax.set_ylabel('log_loss')\n",
    "ax.set_ylim([0, 1])  # Set the y-axis limit to [0, 1] for AUC score\n",
    "\n",
    "# Rotate the x-axis labels for better visibility\n",
    "plt.xticks(rotation=45, ha='right')\n",
    "\n",
    "# Display the plot\n",
    "plt.legend(title='Condition')\n",
    "plt.show()"
   ]
  },
  {
   "attachments": {},
   "cell_type": "markdown",
   "id": "1b1ec5a4",
   "metadata": {
    "id": "1b1ec5a4"
   },
   "source": [
    "## Hyperparameter tuning"
   ]
  },
  {
   "attachments": {},
   "cell_type": "markdown",
   "id": "d4e3048e",
   "metadata": {
    "id": "d4e3048e"
   },
   "source": [
    "## Exporting key components"
   ]
  },
  {
   "cell_type": "code",
   "execution_count": 93,
   "id": "52495862",
   "metadata": {
    "colab": {
     "base_uri": "https://localhost:8080/"
    },
    "executionInfo": {
     "elapsed": 15892,
     "status": "ok",
     "timestamp": 1687295573038,
     "user": {
      "displayName": "Penina Randu",
      "userId": "09001762240323440784"
     },
     "user_tz": -180
    },
    "id": "52495862",
    "outputId": "0a07e838-f821-4890-9e3b-c3716d051a9f"
   },
   "outputs": [
    {
     "name": "stdout",
     "output_type": "stream",
     "text": [
      "Numerical Imputer exported to: /content/key_comp/numerical_imputer.joblib\n",
      "Categorical Imputer exported to: /content/key_comp/cat_imputer.joblib\n",
      "Encoder exported to: /content/key_comp/encoder.joblib\n",
      "Scaler exported to: /content/key_comp/scaler.joblib\n",
      "Logistic Regression Model exported to: /content/key_comp/lr_smote_model.joblib\n",
      "Random Forest Model exported to: /content/key_comp/rf_smote_model.joblib\n",
      "Gradient Boosting Model exported to: /content/key_comp/gb_smote_model.joblib\n"
     ]
    }
   ],
   "source": [
    "import os\n",
    "from joblib import dump\n",
    "\n",
    "# Get the current working directory\n",
    "cwd = os.getcwd()\n",
    "\n",
    "# Specify the relative path to the destination directory\n",
    "destination = os.path.join(cwd, \"key_comp\")\n",
    "\n",
    "# Create the \"key_comp\" directory if it doesn't exist\n",
    "os.makedirs(destination, exist_ok=True)\n",
    "\n",
    "# Export the imputer\n",
    "num_imputer_filepath = os.path.join(destination, \"numerical_imputer.joblib\")\n",
    "try:\n",
    "    dump(numerical_imputer, num_imputer_filepath)\n",
    "    print(f\"Numerical Imputer exported to: {num_imputer_filepath}\")\n",
    "except Exception as e:\n",
    "    print(f\"Failed to export Numerical Imputer: {str(e)}\")\n",
    "\n",
    "cat_imputer_filepath = os.path.join(destination, \"cat_imputer.joblib\")\n",
    "try:\n",
    "    dump(cat_imputer, cat_imputer_filepath)\n",
    "    print(f\"Categorical Imputer exported to: {cat_imputer_filepath}\")\n",
    "except Exception as e:\n",
    "    print(f\"Failed to export Categorical Imputer: {str(e)}\")\n",
    "\n",
    "# Export the Encoder\n",
    "encoder_filepath = os.path.join(destination, \"encoder.joblib\")\n",
    "try:\n",
    "    dump(encoder, encoder_filepath)\n",
    "    print(f\"Encoder exported to: {encoder_filepath}\")\n",
    "except Exception as e:\n",
    "    print(f\"Failed to export Encoder: {str(e)}\")\n",
    "\n",
    "# Export the scaler\n",
    "scaler_filepath = os.path.join(destination, \"scaler.joblib\")\n",
    "try:\n",
    "    dump(scaler, scaler_filepath)\n",
    "    print(f\"Scaler exported to: {scaler_filepath}\")\n",
    "except Exception as e:\n",
    "    print(f\"Failed to export Scaler: {str(e)}\")\n",
    "\n",
    "# Export the models\n",
    "lr_model_filepath = os.path.join(destination, \"lr_smote_model.joblib\")\n",
    "try:\n",
    "    dump(lr_smote_model, lr_model_filepath)\n",
    "    print(f\"Logistic Regression Model exported to: {lr_model_filepath}\")\n",
    "except Exception as e:\n",
    "    print(f\"Failed to export Logistic Regression Model: {str(e)}\")\n",
    "\n",
    "rf_model_filepath = os.path.join(destination, \"rf_smote_model.joblib\")\n",
    "try:\n",
    "    dump(rf_smote_model, rf_model_filepath)\n",
    "    print(f\"Random Forest Model exported to: {rf_model_filepath}\")\n",
    "except Exception as e:\n",
    "    print(f\"Failed to export Random Forest Model: {str(e)}\")\n",
    "\n",
    "gb_model_filepath = os.path.join(destination, \"gb_smote_model.joblib\")\n",
    "try:\n",
    "    dump(gb_smote_model, gb_model_filepath)\n",
    "    print(f\"Gradient Boosting Model exported to: {gb_model_filepath}\")\n",
    "except Exception as e:\n",
    "    print(f\"Failed to export Gradient Boosting Model: {str(e)}\")\n"
   ]
  },
  {
   "cell_type": "code",
   "execution_count": 95,
   "id": "eab126d8",
   "metadata": {
    "executionInfo": {
     "elapsed": 3255,
     "status": "ok",
     "timestamp": 1687295731270,
     "user": {
      "displayName": "Penina Randu",
      "userId": "09001762240323440784"
     },
     "user_tz": -180
    },
    "id": "eab126d8"
   },
   "outputs": [],
   "source": [
    "!pip list --format=freeze >key_comp/requirements.txt"
   ]
  }
 ],
 "metadata": {
  "colab": {
   "provenance": []
  },
  "kernelspec": {
   "display_name": "Python 3 (ipykernel)",
   "language": "python",
   "name": "python3"
  },
  "language_info": {
   "codemirror_mode": {
    "name": "ipython",
    "version": 3
   },
   "file_extension": ".py",
   "mimetype": "text/x-python",
   "name": "python",
   "nbconvert_exporter": "python",
   "pygments_lexer": "ipython3",
   "version": "3.9.13"
  }
 },
 "nbformat": 4,
 "nbformat_minor": 5
}
